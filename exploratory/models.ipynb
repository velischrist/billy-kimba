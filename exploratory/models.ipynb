{
 "cells": [
  {
   "cell_type": "markdown",
   "metadata": {},
   "source": [
    "# COVID-19 Epidemiology Models"
   ]
  },
  {
   "cell_type": "markdown",
   "metadata": {},
   "source": [
    "First, some preliminary imports. You may need to pip install `holoviews` and `GitPython`. For `holoviews`, some extras might be needed (see https://holoviews.org/install.html)."
   ]
  },
  {
   "cell_type": "code",
   "execution_count": 1,
   "metadata": {},
   "outputs": [
    {
     "ename": "ModuleNotFoundError",
     "evalue": "No module named 'holoviews'",
     "output_type": "error",
     "traceback": [
      "\u001b[1;31m---------------------------------------------------------------------------\u001b[0m",
      "\u001b[1;31mModuleNotFoundError\u001b[0m                       Traceback (most recent call last)",
      "\u001b[1;32m<ipython-input-1-ea241f6a4267>\u001b[0m in \u001b[0;36m<module>\u001b[1;34m\u001b[0m\n\u001b[0;32m      9\u001b[0m \u001b[1;33m\u001b[0m\u001b[0m\n\u001b[0;32m     10\u001b[0m \u001b[1;33m\u001b[0m\u001b[0m\n\u001b[1;32m---> 11\u001b[1;33m \u001b[1;32mimport\u001b[0m \u001b[0mholoviews\u001b[0m \u001b[1;32mas\u001b[0m \u001b[0mhv\u001b[0m\u001b[1;33m\u001b[0m\u001b[1;33m\u001b[0m\u001b[0m\n\u001b[0m\u001b[0;32m     12\u001b[0m \u001b[1;33m\u001b[0m\u001b[0m\n\u001b[0;32m     13\u001b[0m \u001b[0mbokeh\u001b[0m\u001b[1;33m.\u001b[0m\u001b[0mio\u001b[0m\u001b[1;33m.\u001b[0m\u001b[0moutput_notebook\u001b[0m\u001b[1;33m(\u001b[0m\u001b[1;33m)\u001b[0m\u001b[1;33m\u001b[0m\u001b[1;33m\u001b[0m\u001b[0m\n",
      "\u001b[1;31mModuleNotFoundError\u001b[0m: No module named 'holoviews'"
     ]
    }
   ],
   "source": [
    "import pandas as pd\n",
    "import numpy as np\n",
    "import scipy.integrate\n",
    "\n",
    "import bokeh.io\n",
    "import bokeh.application\n",
    "import bokeh.application.handlers\n",
    "import bokeh.models\n",
    "\n",
    "\n",
    "import holoviews as hv\n",
    "\n",
    "bokeh.io.output_notebook()\n",
    "hv.extension('bokeh')"
   ]
  },
  {
   "cell_type": "code",
   "execution_count": 2,
   "metadata": {},
   "outputs": [],
   "source": [
    "import matplotlib.pyplot as plt"
   ]
  },
  {
   "cell_type": "markdown",
   "metadata": {},
   "source": [
    "Let's load the data from the relevant folder. If this data doesn't exist for you, you'll need to run the `processing/raw_data_processing/daily_refresh.sh` script (which may require `pip install us`)."
   ]
  },
  {
   "cell_type": "code",
   "execution_count": 3,
   "metadata": {},
   "outputs": [],
   "source": [
    "import git\n",
    "\n",
    "repo = git.Repo(\"./\", search_parent_directories=True)\n",
    "homedir = repo.working_dir\n",
    "datadir = f\"{homedir}/data/international/italy/\""
   ]
  },
  {
   "cell_type": "markdown",
   "metadata": {},
   "source": [
    "Load the Italian data by region (20 regions, but one of them is divided into 2, so we have 21 territories)."
   ]
  },
  {
   "cell_type": "code",
   "execution_count": 4,
   "metadata": {},
   "outputs": [],
   "source": [
    "df = pd.read_csv(datadir + 'covid/dpc-covid19-ita-regioni.csv')"
   ]
  },
  {
   "cell_type": "code",
   "execution_count": 5,
   "metadata": {},
   "outputs": [],
   "source": [
    "df['date_processed'] = pd.to_datetime(df['Date'].values)\n",
    "df['date_processed'] = (df['date_processed'] - df['date_processed'].min()) / np.timedelta64(1, 'D')"
   ]
  },
  {
   "cell_type": "markdown",
   "metadata": {},
   "source": [
    "Just checking to make sure the data is here..."
   ]
  },
  {
   "cell_type": "code",
   "execution_count": 6,
   "metadata": {},
   "outputs": [
    {
     "data": {
      "text/html": [
       "<div>\n",
       "<style scoped>\n",
       "    .dataframe tbody tr th:only-of-type {\n",
       "        vertical-align: middle;\n",
       "    }\n",
       "\n",
       "    .dataframe tbody tr th {\n",
       "        vertical-align: top;\n",
       "    }\n",
       "\n",
       "    .dataframe thead th {\n",
       "        text-align: right;\n",
       "    }\n",
       "</style>\n",
       "<table border=\"1\" class=\"dataframe\">\n",
       "  <thead>\n",
       "    <tr style=\"text-align: right;\">\n",
       "      <th></th>\n",
       "      <th>Date</th>\n",
       "      <th>County</th>\n",
       "      <th>Regional Code</th>\n",
       "      <th>Region</th>\n",
       "      <th>Latitude</th>\n",
       "      <th>Longitude</th>\n",
       "      <th>HospitalizedWithSymptoms</th>\n",
       "      <th>IntensiveCare</th>\n",
       "      <th>TotalHospitalized</th>\n",
       "      <th>HomeIsolation</th>\n",
       "      <th>TotalCurrentlyPositive</th>\n",
       "      <th>NewCurrentlyPositive</th>\n",
       "      <th>DischargedHealed</th>\n",
       "      <th>Deaths</th>\n",
       "      <th>TotalCases</th>\n",
       "      <th>Tested</th>\n",
       "      <th>Note_IT</th>\n",
       "      <th>Note_ENG</th>\n",
       "      <th>date_processed</th>\n",
       "    </tr>\n",
       "  </thead>\n",
       "  <tbody>\n",
       "    <tr>\n",
       "      <th>0</th>\n",
       "      <td>2020-02-24T18:00:00</td>\n",
       "      <td>ITA</td>\n",
       "      <td>13</td>\n",
       "      <td>Abruzzo</td>\n",
       "      <td>42.351222</td>\n",
       "      <td>13.398438</td>\n",
       "      <td>0</td>\n",
       "      <td>0</td>\n",
       "      <td>0</td>\n",
       "      <td>0</td>\n",
       "      <td>0</td>\n",
       "      <td>0</td>\n",
       "      <td>0</td>\n",
       "      <td>0</td>\n",
       "      <td>0</td>\n",
       "      <td>5</td>\n",
       "      <td>NaN</td>\n",
       "      <td>NaN</td>\n",
       "      <td>0.0</td>\n",
       "    </tr>\n",
       "    <tr>\n",
       "      <th>1</th>\n",
       "      <td>2020-02-24T18:00:00</td>\n",
       "      <td>ITA</td>\n",
       "      <td>17</td>\n",
       "      <td>Basilicata</td>\n",
       "      <td>40.639471</td>\n",
       "      <td>15.805148</td>\n",
       "      <td>0</td>\n",
       "      <td>0</td>\n",
       "      <td>0</td>\n",
       "      <td>0</td>\n",
       "      <td>0</td>\n",
       "      <td>0</td>\n",
       "      <td>0</td>\n",
       "      <td>0</td>\n",
       "      <td>0</td>\n",
       "      <td>0</td>\n",
       "      <td>NaN</td>\n",
       "      <td>NaN</td>\n",
       "      <td>0.0</td>\n",
       "    </tr>\n",
       "    <tr>\n",
       "      <th>2</th>\n",
       "      <td>2020-02-24T18:00:00</td>\n",
       "      <td>ITA</td>\n",
       "      <td>4</td>\n",
       "      <td>P.A. Bolzano</td>\n",
       "      <td>46.499335</td>\n",
       "      <td>11.356624</td>\n",
       "      <td>0</td>\n",
       "      <td>0</td>\n",
       "      <td>0</td>\n",
       "      <td>0</td>\n",
       "      <td>0</td>\n",
       "      <td>0</td>\n",
       "      <td>0</td>\n",
       "      <td>0</td>\n",
       "      <td>0</td>\n",
       "      <td>1</td>\n",
       "      <td>NaN</td>\n",
       "      <td>NaN</td>\n",
       "      <td>0.0</td>\n",
       "    </tr>\n",
       "    <tr>\n",
       "      <th>3</th>\n",
       "      <td>2020-02-24T18:00:00</td>\n",
       "      <td>ITA</td>\n",
       "      <td>18</td>\n",
       "      <td>Calabria</td>\n",
       "      <td>38.905976</td>\n",
       "      <td>16.594402</td>\n",
       "      <td>0</td>\n",
       "      <td>0</td>\n",
       "      <td>0</td>\n",
       "      <td>0</td>\n",
       "      <td>0</td>\n",
       "      <td>0</td>\n",
       "      <td>0</td>\n",
       "      <td>0</td>\n",
       "      <td>0</td>\n",
       "      <td>1</td>\n",
       "      <td>NaN</td>\n",
       "      <td>NaN</td>\n",
       "      <td>0.0</td>\n",
       "    </tr>\n",
       "    <tr>\n",
       "      <th>4</th>\n",
       "      <td>2020-02-24T18:00:00</td>\n",
       "      <td>ITA</td>\n",
       "      <td>15</td>\n",
       "      <td>Campania</td>\n",
       "      <td>40.839566</td>\n",
       "      <td>14.250850</td>\n",
       "      <td>0</td>\n",
       "      <td>0</td>\n",
       "      <td>0</td>\n",
       "      <td>0</td>\n",
       "      <td>0</td>\n",
       "      <td>0</td>\n",
       "      <td>0</td>\n",
       "      <td>0</td>\n",
       "      <td>0</td>\n",
       "      <td>10</td>\n",
       "      <td>NaN</td>\n",
       "      <td>NaN</td>\n",
       "      <td>0.0</td>\n",
       "    </tr>\n",
       "  </tbody>\n",
       "</table>\n",
       "</div>"
      ],
      "text/plain": [
       "                  Date County  Regional Code        Region   Latitude  \\\n",
       "0  2020-02-24T18:00:00    ITA             13       Abruzzo  42.351222   \n",
       "1  2020-02-24T18:00:00    ITA             17    Basilicata  40.639471   \n",
       "2  2020-02-24T18:00:00    ITA              4  P.A. Bolzano  46.499335   \n",
       "3  2020-02-24T18:00:00    ITA             18      Calabria  38.905976   \n",
       "4  2020-02-24T18:00:00    ITA             15      Campania  40.839566   \n",
       "\n",
       "   Longitude  HospitalizedWithSymptoms  IntensiveCare  TotalHospitalized  \\\n",
       "0  13.398438                         0              0                  0   \n",
       "1  15.805148                         0              0                  0   \n",
       "2  11.356624                         0              0                  0   \n",
       "3  16.594402                         0              0                  0   \n",
       "4  14.250850                         0              0                  0   \n",
       "\n",
       "   HomeIsolation  TotalCurrentlyPositive  NewCurrentlyPositive  \\\n",
       "0              0                       0                     0   \n",
       "1              0                       0                     0   \n",
       "2              0                       0                     0   \n",
       "3              0                       0                     0   \n",
       "4              0                       0                     0   \n",
       "\n",
       "   DischargedHealed  Deaths  TotalCases  Tested Note_IT Note_ENG  \\\n",
       "0                 0       0           0       5     NaN      NaN   \n",
       "1                 0       0           0       0     NaN      NaN   \n",
       "2                 0       0           0       1     NaN      NaN   \n",
       "3                 0       0           0       1     NaN      NaN   \n",
       "4                 0       0           0      10     NaN      NaN   \n",
       "\n",
       "   date_processed  \n",
       "0             0.0  \n",
       "1             0.0  \n",
       "2             0.0  \n",
       "3             0.0  \n",
       "4             0.0  "
      ]
     },
     "execution_count": 6,
     "metadata": {},
     "output_type": "execute_result"
    }
   ],
   "source": [
    "df.head()"
   ]
  },
  {
   "cell_type": "markdown",
   "metadata": {},
   "source": [
    "Add on the total population data, used to estimate the number of susceptible people later."
   ]
  },
  {
   "cell_type": "code",
   "execution_count": 7,
   "metadata": {},
   "outputs": [],
   "source": [
    "populations = pd.read_csv(datadir + 'demographics/region-populations.csv')\n",
    "def get_population(region):\n",
    "    if region == 'Emilia-Romagna':\n",
    "        region = 'Emilia Romagna'\n",
    "    return populations[populations['Region'] == region]['Population'].values[0]"
   ]
  },
  {
   "cell_type": "code",
   "execution_count": 8,
   "metadata": {},
   "outputs": [],
   "source": [
    "df['Population'] = df.apply(lambda row: get_population(row.Region), axis=1)"
   ]
  },
  {
   "cell_type": "markdown",
   "metadata": {},
   "source": [
    "Great! Let's also make a helper function to select data from a region, starting when the pandemic hit to be able to fit models."
   ]
  },
  {
   "cell_type": "code",
   "execution_count": 9,
   "metadata": {},
   "outputs": [],
   "source": [
    "# return data ever since first min_cases cases\n",
    "def select_region(df, region, min_deaths=50):\n",
    "    d = df.loc[df['Region'] == region]\n",
    "    start = np.where(d['Deaths'].values > min_deaths)[0][0]\n",
    "    d = d[start:]\n",
    "    return d"
   ]
  },
  {
   "cell_type": "markdown",
   "metadata": {},
   "source": [
    "## erf model"
   ]
  },
  {
   "cell_type": "markdown",
   "metadata": {},
   "source": [
    "Let's start with a simple model used in this major paper by IHME: https://www.medrxiv.org/content/10.1101/2020.03.27.20043752v1. Just fit an erf function, nothing else."
   ]
  },
  {
   "cell_type": "code",
   "execution_count": 11,
   "metadata": {},
   "outputs": [],
   "source": [
    "from scipy.special import erf\n",
    "from scipy.optimize import curve_fit\n",
    "\n",
    "def erf_curve(t, logp, a, b):\n",
    "    p = 10**logp\n",
    "    deaths = p/2*(1+erf(a*(t-b)))\n",
    "    return deaths\n",
    "\n",
    "def erf_model(params, data, future=0):\n",
    "    # initial conditions\n",
    "    p = 10**params[0]\n",
    "    a = params[1]\n",
    "    b = params[2]\n",
    "    \n",
    "    t = data['date_processed'].values\n",
    "    if future > 0:\n",
    "        extrapolation = np.arange(future)\n",
    "        t = np.concatenate((t, extrapolation + t[-1] + 1))\n",
    "    deaths = p/2*(1+erf(a*(t-b)))\n",
    "    \n",
    "    return t, deaths\n",
    "\n",
    "def erf_fit(params, data):\n",
    "    Draw = data['Deaths'].values\n",
    "    Draw[np.where(Draw < 1)] = 1\n",
    "    Ddata = Draw\n",
    "    t, Draw = erf_model(params, data)\n",
    "    Draw[np.where(Draw < 1)] = 1\n",
    "    D = Draw\n",
    "    \n",
    "    error = mse(D, Ddata)\n",
    "    \n",
    "    return error"
   ]
  },
  {
   "cell_type": "markdown",
   "metadata": {},
   "source": [
    "Now let's try to have something to run the fit and plot the results, including a prediction. To estimate errors, we'll use `curve_fit` and the covariance matrix it returns. Sampling parameters from a Gaussian distribution around the fit, we then bootstrap errors corresponding to 25th and 75th percentile predictions."
   ]
  },
  {
   "cell_type": "code",
   "execution_count": 38,
   "metadata": {},
   "outputs": [],
   "source": [
    "from bokeh.models import Span\n",
    "\n",
    "def plot_erf_with_errors_sample(df, region, extrapolate=1, boundary=None):\n",
    "    '''\n",
    "    df: main italy data frame\n",
    "    region: string (region name)\n",
    "    extrapolate: run model on this * length of data (ex. extrapolate=1 does no prediction, extrapolate=2 predicts a time interval equal in length to the data length)\n",
    "    boundary: train model on data until the day demarcated by boundary; if boundary is None, train on all available data\n",
    "    '''\n",
    "    data = select_region(df, region)\n",
    "    keys = ['Deaths', 'TotalCurrentlyPositive']\n",
    "    all_out = []\n",
    "    proper = []\n",
    "    for k in keys:\n",
    "        erf_params0 = [np.log10(np.max(data[k])), 0.1, 30]\n",
    "        y = data[k].values[:boundary]\n",
    "        popt, pcov = curve_fit(erf_curve, data['date_processed'].values[:boundary], y, p0=erf_params0)\n",
    "        errors = np.sqrt(np.diag(pcov))\n",
    "\n",
    "        all_s = []\n",
    "        samples = 100\n",
    "        for i in range(samples):\n",
    "            sample = np.random.normal(loc=popt, scale=errors)\n",
    "            t, y = erf_model(sample, data, future=len(data)*(extrapolate-1))\n",
    "            all_s.append(y)\n",
    "        \n",
    "        all_s = np.array(all_s)\n",
    "        all_out.append(all_s)\n",
    "        \n",
    "        t, y = erf_model(popt, data, future=len(data)*(extrapolate-1))\n",
    "        proper.append(y)\n",
    "    \n",
    "    t = np.arange(0, len(data))\n",
    "    tp = np.arange(0, len(data)*extrapolate)\n",
    "\n",
    "    p = bokeh.plotting.figure(plot_width=600,\n",
    "                              plot_height=400,\n",
    "                             title = region + ' erf Model',\n",
    "                             x_axis_label = 't (days)',\n",
    "                             y_axis_label = '# people')\n",
    "\n",
    "    p1 = 25\n",
    "    p2 = 75\n",
    "    p.varea(x=tp, y1=np.percentile(all_out[1], p1, axis=0), y2=np.percentile(all_out[1], p2, axis=0), color='purple', fill_alpha=0.2)\n",
    "    p.varea(x=tp, y1=np.percentile(all_out[0], p1, axis=0), y2=np.percentile(all_out[0], p2, axis=0), color='black', fill_alpha=0.2)\n",
    "    \n",
    "#     s1 = np.percentile(all_s, 40, axis=0)\n",
    "#     s2 = np.percentile(all_s, 60, axis=0)\n",
    "#     p.varea(x=tp, y1=s1[:, 2], y2=s2[:, 2], color='red', fill_alpha=0.2)\n",
    "#     p.varea(x=tp, y1=s1[:, 3], y2=s2[:, 3], color='purple', fill_alpha=0.2)\n",
    "#     p.varea(x=tp, y1=s1[:, 5], y2=s2[:, 5], color='black', fill_alpha=0.2)\n",
    "    \n",
    "    p.line(tp, proper[0], color = 'black', line_width = 1, legend_label = 'Deceased')\n",
    "    p.line(tp, proper[1] , color = 'purple', line_width = 1, legend_label = 'Symptomatic infected')\n",
    "\n",
    "    # death\n",
    "    p.circle(t, data['Deaths'], color ='black')\n",
    "\n",
    "    # quarantined\n",
    "    p.circle(t, data['TotalCurrentlyPositive'], color ='purple')\n",
    "    \n",
    "    if boundary is not None and boundary < len(data):\n",
    "        vline = Span(location=boundary, dimension='height', line_color='black', line_width=3)\n",
    "        p.renderers.extend([vline])\n",
    "\n",
    "    p.legend.location = 'top_left'\n",
    "    bokeh.io.show(p)"
   ]
  },
  {
   "cell_type": "markdown",
   "metadata": {},
   "source": [
    "And how well does this model do at prediction? We train it on days 0-16 (left of the vertical line), and we try to predict days afterwards."
   ]
  },
  {
   "cell_type": "code",
   "execution_count": 17,
   "metadata": {},
   "outputs": [
    {
     "data": {
      "text/html": [
       "\n",
       "\n",
       "\n",
       "\n",
       "\n",
       "\n",
       "  <div class=\"bk-root\" id=\"8c4aad64-ede5-4f7c-8324-5fa99145d174\" data-root-id=\"1090\"></div>\n"
      ]
     },
     "metadata": {},
     "output_type": "display_data"
    },
    {
     "data": {
      "application/javascript": [
       "(function(root) {\n",
       "  function embed_document(root) {\n",
       "    \n",
       "  var docs_json = {\"6afd245d-9388-41a3-b931-7a24943a4916\":{\"roots\":{\"references\":[{\"attributes\":{\"below\":[{\"id\":\"1101\"}],\"center\":[{\"id\":\"1104\"},{\"id\":\"1108\"},{\"id\":\"1148\"}],\"left\":[{\"id\":\"1105\"}],\"plot_height\":400,\"renderers\":[{\"id\":\"1126\"},{\"id\":\"1131\"},{\"id\":\"1136\"},{\"id\":\"1153\"},{\"id\":\"1171\"},{\"id\":\"1176\"},{\"id\":\"1178\"}],\"title\":{\"id\":\"1091\"},\"toolbar\":{\"id\":\"1116\"},\"x_range\":{\"id\":\"1093\"},\"x_scale\":{\"id\":\"1097\"},\"y_range\":{\"id\":\"1095\"},\"y_scale\":{\"id\":\"1099\"}},\"id\":\"1090\",\"subtype\":\"Figure\",\"type\":\"Plot\"},{\"attributes\":{},\"id\":\"1192\",\"type\":\"Selection\"},{\"attributes\":{\"data_source\":{\"id\":\"1123\"},\"glyph\":{\"id\":\"1124\"},\"hover_glyph\":null,\"muted_glyph\":null,\"nonselection_glyph\":{\"id\":\"1125\"},\"selection_glyph\":null,\"view\":{\"id\":\"1127\"}},\"id\":\"1126\",\"type\":\"GlyphRenderer\"},{\"attributes\":{\"source\":{\"id\":\"1150\"}},\"id\":\"1154\",\"type\":\"CDSView\"},{\"attributes\":{\"items\":[{\"id\":\"1149\"},{\"id\":\"1167\"}],\"location\":\"top_left\"},\"id\":\"1148\",\"type\":\"Legend\"},{\"attributes\":{},\"id\":\"1144\",\"type\":\"UnionRenderers\"},{\"attributes\":{\"line_color\":\"purple\",\"x\":{\"field\":\"x\"},\"y\":{\"field\":\"y\"}},\"id\":\"1151\",\"type\":\"Line\"},{\"attributes\":{},\"id\":\"1193\",\"type\":\"UnionRenderers\"},{\"attributes\":{},\"id\":\"1164\",\"type\":\"Selection\"},{\"attributes\":{},\"id\":\"1194\",\"type\":\"Selection\"},{\"attributes\":{\"line_alpha\":0.1,\"line_color\":\"purple\",\"x\":{\"field\":\"x\"},\"y\":{\"field\":\"y\"}},\"id\":\"1152\",\"type\":\"Line\"},{\"attributes\":{\"data_source\":{\"id\":\"1150\"},\"glyph\":{\"id\":\"1151\"},\"hover_glyph\":null,\"muted_glyph\":null,\"nonselection_glyph\":{\"id\":\"1152\"},\"selection_glyph\":null,\"view\":{\"id\":\"1154\"}},\"id\":\"1153\",\"type\":\"GlyphRenderer\"},{\"attributes\":{},\"id\":\"1146\",\"type\":\"UnionRenderers\"},{\"attributes\":{},\"id\":\"1165\",\"type\":\"UnionRenderers\"},{\"attributes\":{},\"id\":\"1195\",\"type\":\"UnionRenderers\"},{\"attributes\":{\"data\":{\"x\":[0,1,2,3,4,5,6,7,8,9,10,11,12,13,14,15,16,17,18,19,20,21,22,23,24,25,26,27,28,29,30,31,32,33,34,35,36,37,38,39,40,41,42,43,44,45,46,47,48,49,50,51,52,53],\"y\":{\"__ndarray__\":\"DI0kcGHhjkC+HFII1EuUQE1+mHn8hZpAm167hSEGoUDGxq6ln6ylQD/KdR7P2qpAuO04dBtcsEAuO7BM/JuzQPAc9Rl2+7ZAI/18V2y3ukAQCiJEt5m+QO1pxRn7RsFA4MNg3lI/w0AZojwyPivFQPVdvJfgAMdA7nHIPLy3yEAdzY68JEnKQHmY9nWEsMtAs2B623DrzECDhKpTkPnNQEIa44JZ3M5AQ07Ha7eWz0D3wRKxTxbQQI8OOa9SUdBAARUQnMx+0ECj1sogGqHQQFKKDKxtutBAhJXLJLvM0EDf4kpyrdnQQAO3sSmk4tBAmBpcSLfo0ECL2AXZvuzQQC67zp5c79BAyRYQRgbx0EBwoVgND/LQQPS+i0Sw8tBAGwHUWBDz0EBp+cVkSPPQQAEwHGVo89BAHIWdR3rz0EDXujUQhPPQQJ2rRU2J89BAFG8dDIzz0EBNLap0jfPQQMbtsymO89BAdMKtgo7z0EDOSHutjvPQQLLQosGO89BA58fsyo7z0EDqhx3PjvPQQB4399CO89BAefHD0Y7z0EBcjRrSjvPQQEVqPtKO89BA\",\"dtype\":\"float64\",\"shape\":[54]}},\"selected\":{\"id\":\"1190\"},\"selection_policy\":{\"id\":\"1191\"}},\"id\":\"1150\",\"type\":\"ColumnDataSource\"},{\"attributes\":{\"label\":{\"value\":\"Symptomatic infected\"},\"renderers\":[{\"id\":\"1153\"}]},\"id\":\"1167\",\"type\":\"LegendItem\"},{\"attributes\":{\"fill_alpha\":0.1,\"fill_color\":\"purple\",\"x\":{\"field\":\"x\"},\"y1\":{\"field\":\"y1\"},\"y2\":{\"field\":\"y2\"}},\"id\":\"1125\",\"type\":\"VArea\"},{\"attributes\":{\"fill_alpha\":0.2,\"fill_color\":\"purple\",\"x\":{\"field\":\"x\"},\"y1\":{\"field\":\"y1\"},\"y2\":{\"field\":\"y2\"}},\"id\":\"1124\",\"type\":\"VArea\"},{\"attributes\":{\"data\":{\"x\":[0,1,2,3,4,5,6,7,8,9,10,11,12,13,14,15,16,17,18,19,20,21,22,23,24,25,26],\"y\":[55,73,98,135,154,267,333,468,617,744,890,966,1218,1420,1640,1959,2168,2549,3095,3456,3776,4178,4474,4861,5402,5944,6360]},\"selected\":{\"id\":\"1192\"},\"selection_policy\":{\"id\":\"1193\"}},\"id\":\"1168\",\"type\":\"ColumnDataSource\"},{\"attributes\":{\"source\":{\"id\":\"1123\"}},\"id\":\"1127\",\"type\":\"CDSView\"},{\"attributes\":{\"overlay\":{\"id\":\"1115\"}},\"id\":\"1111\",\"type\":\"BoxZoomTool\"},{\"attributes\":{},\"id\":\"1109\",\"type\":\"PanTool\"},{\"attributes\":{},\"id\":\"1102\",\"type\":\"BasicTicker\"},{\"attributes\":{\"fill_alpha\":0.2,\"fill_color\":\"black\",\"x\":{\"field\":\"x\"},\"y1\":{\"field\":\"y1\"},\"y2\":{\"field\":\"y2\"}},\"id\":\"1129\",\"type\":\"VArea\"},{\"attributes\":{\"axis_label\":\"t (days)\",\"formatter\":{\"id\":\"1142\"},\"ticker\":{\"id\":\"1102\"}},\"id\":\"1101\",\"type\":\"LinearAxis\"},{\"attributes\":{\"fill_alpha\":{\"value\":0.1},\"fill_color\":{\"value\":\"black\"},\"line_alpha\":{\"value\":0.1},\"x\":{\"field\":\"x\"},\"y\":{\"field\":\"y\"}},\"id\":\"1170\",\"type\":\"Circle\"},{\"attributes\":{\"data\":{\"x\":[0,1,2,3,4,5,6,7,8,9,10,11,12,13,14,15,16,17,18,19,20,21,22,23,24,25,26,27,28,29,30,31,32,33,34,35,36,37,38,39,40,41,42,43,44,45,46,47,48,49,50,51,52,53],\"y1\":{\"__ndarray__\":\"lrEm7sYsikAt/5rTl2aRQNPVc/pp7pZARYARWm2qnUDbgIlnkBOjQHSJ5z2gz6dAq3BmqfM0rUDQs7BbroixQLZe/7oAvbRArbWTpFY6uEDAfLprmui7QEpcUugqbL9AeYIC2NaewUD3ey/YMVXDQFPJcKZuEcVAiuyoea+xxkB+3ujDdDjIQIRd3o11mclAjEfCIdO4ykDkRBcLr6bLQDQlPIH7isxALEJo0JRCzUBNKQFnEM/NQK7LGkbXT85ANs4oP82wzkCmGbBnPuXOQPIs1KP0Hc9ANKqDEndKz0A1c70zSmzPQBHKlBWQhM9AagRvUKOVz0AfXpQ5VJ3PQMKGFu8Dos9AyLiCOwClz0BYEGhY3abPQPzQ8DkBqM9AWj3KPbCoz0CyXZ8cF6nPQBAahmRSqc9AxSDg43Opz0AGZAN0hqnPQNvdD4uQqc9APsZt7JWpz0ClhAy9mKnPQDYYBS+aqc9ARANx6Zqpz0ArT6VFm6nPQPNzanKbqc9A/kjCh5upz0Ah9L+Rm6nPQOKuV5abqc9A63dqmJupz0AK0FWZm6nPQFJNvJmbqc9A\",\"dtype\":\"float64\",\"shape\":[54]},\"y2\":{\"__ndarray__\":\"PqLxaUxGkkDIexm0uNiXQEL/4uQn1J5AWOKgGI2No0Cgrz8s0JaoQNTMinQ37a1ADGSA+pPasUCc/0ytZxS1QJnS1ymIoLhAvgy0qHIovEASDexMlQbAQL2F5e07HMJAoh7+ZrtNxEDOi7AjLGXGQNSw+zCZVchAqQlNuTsdykAAwS6Jir3LQKYY1WdtOc1Ady+nRt15zkAWnx1iAFTPQOm8C9n+IdBAqmiDZJBn0EB8C7GY263QQAyErf5C4tBAeskdv4oL0UAAZH/bNzHRQAD5/spcVdFA8xhFEltt0UDgRNYfk3nRQPrHFhQKgtFA/qdyM8mH0UCZ0mMLnIvRQMr33G4ajtFASRkIkrKP0UAoe5NhspDRQOrfwZVPkdFAbY0tUK6R0UDigCdK5pHRQD9yvboGktFAKk8NKxmS0UDTKr5yI5LRQBgtABIpktFAkNYoFiyS0UACxJCsLZLRQC9Aa34uktFAv3u76C6S0UD2NpMdL5LRQMpMWDcvktFAotWsQy+S0UB0qXZJL5LRQDcrIUwvktFAS5RVTS+S0UAmTt5NL5LRQA7FGU4vktFA\",\"dtype\":\"float64\",\"shape\":[54]}},\"selected\":{\"id\":\"1143\"},\"selection_policy\":{\"id\":\"1144\"}},\"id\":\"1123\",\"type\":\"ColumnDataSource\"},{\"attributes\":{\"data\":{\"x\":[0,1,2,3,4,5,6,7,8,9,10,11,12,13,14,15,16,17,18,19,20,21,22,23,24,25,26],\"y\":[1326,1497,1777,2008,2742,3372,4490,4427,5763,6896,7732,9059,10043,10861,12095,12266,13938,15420,17370,17885,18910,19868,20591,22189,23895,24509,25392]},\"selected\":{\"id\":\"1194\"},\"selection_policy\":{\"id\":\"1195\"}},\"id\":\"1173\",\"type\":\"ColumnDataSource\"},{\"attributes\":{\"data_source\":{\"id\":\"1168\"},\"glyph\":{\"id\":\"1169\"},\"hover_glyph\":null,\"muted_glyph\":null,\"nonselection_glyph\":{\"id\":\"1170\"},\"selection_glyph\":null,\"view\":{\"id\":\"1172\"}},\"id\":\"1171\",\"type\":\"GlyphRenderer\"},{\"attributes\":{},\"id\":\"1110\",\"type\":\"WheelZoomTool\"},{\"attributes\":{\"fill_color\":{\"value\":\"black\"},\"x\":{\"field\":\"x\"},\"y\":{\"field\":\"y\"}},\"id\":\"1169\",\"type\":\"Circle\"},{\"attributes\":{\"data_source\":{\"id\":\"1128\"},\"glyph\":{\"id\":\"1129\"},\"hover_glyph\":null,\"muted_glyph\":null,\"nonselection_glyph\":{\"id\":\"1130\"},\"selection_glyph\":null,\"view\":{\"id\":\"1132\"}},\"id\":\"1131\",\"type\":\"GlyphRenderer\"},{\"attributes\":{\"fill_alpha\":0.1,\"fill_color\":\"black\",\"x\":{\"field\":\"x\"},\"y1\":{\"field\":\"y1\"},\"y2\":{\"field\":\"y2\"}},\"id\":\"1130\",\"type\":\"VArea\"},{\"attributes\":{\"source\":{\"id\":\"1168\"}},\"id\":\"1172\",\"type\":\"CDSView\"},{\"attributes\":{\"data\":{\"x\":[0,1,2,3,4,5,6,7,8,9,10,11,12,13,14,15,16,17,18,19,20,21,22,23,24,25,26,27,28,29,30,31,32,33,34,35,36,37,38,39,40,41,42,43,44,45,46,47,48,49,50,51,52,53],\"y1\":{\"__ndarray__\":\"eiKfatkXQEB87ScTz6pHQJV0I/MSClFAzAApV4AeWEBR6JGhm9lgQPmBLWAe1WZAlU1jv1+ebUCGXHA3GHVyQHIXoGfmQXdA9EB591VufUDcfwmXslqCQORCCqPJkYZA1Z7ATPV/i0DUSi/P8A+RQCA/moONBJRAQK0tyjxal0Bh0ubeSXSaQP4EwXcJA55Aofftsk+doEDzrocSjXiiQHRTQrdaOqRAitm6vg+spUDkiZKuDDGnQEh0MRvSnahAmnhvMxICqkAbtrENRxmrQMRMKenuiKxAoT56P14rrUBEF8DMS9KtQD8cZhgiXq5AhObhJwvWrkAEn2PfPV2vQHZYNDtx0K9AbxkjmJ4XsEBbuCwEgyiwQLWSDmfONLBAfGOC2pk9sEBysls/yUOwQHyjumAQSLBARltthvlKsEAnhy6A7EywQD4xWXc1TrBAE3ComI5PsEDqNCj0k1CwQN3AE0dAUbBAeeApW7BRsEDG9Q4/4VKwQFvQTQRKVLBAdnV4xllVsEDASj2aJFawQI5zLYq6VrBA0SucSihXsEBLTXbSd1ewQNMmjN2wV7BA\",\"dtype\":\"float64\",\"shape\":[54]},\"y2\":{\"__ndarray__\":\"/Btk9ACbXUDDD1dEnQ5kQJ0ZwH27tmpAgLCC4eyIcUAFKKPdDpx2QEYyFVafznxAsHyHFkfNgUD996+7euuFQPg2ZfCVUYpAqKEdArUMkED55NkPw7aTQNY5D2fY3pdAKdqBDExQm0BSRyWcIZqeQFSxRcGbcqFAas0jLVPro0DWJvtIrT+mQK41VVwpdahAxjPn9WDCqkAwN+AVDEatQDH1q3pRCLBAMOedWQpnsUDUle+8p3yyQE05sixyabNAMqwxch9JtECYiPUCky61QAr0D1yI27VAgpLpJe6otkAwVz5om0+3QJoXbbhQkbdAWBnM3I3dt0B9QYBKuBq4QIB6tVWJN7hAXDQWTnBLuEAua3cDx4K4QMJAv1Mjt7hAmiJMUDnGuECTbqwGsNC4QBHpBzzN17hAwlzZ8YrcuEBRT/nNo9+4QCq/sIGf4bhADRBjMN7iuEC2IdtGouO4QCxqSY0Y5LhA1GuofF7kuEBY2GsGh+S4QEqdrQ+e5LhAJp8M5arkuEADZnLnseS4QNCeUai15LhAkvjKoLfkuEDzV3ukuOS4QPH8jie55LhA\",\"dtype\":\"float64\",\"shape\":[54]}},\"selected\":{\"id\":\"1145\"},\"selection_policy\":{\"id\":\"1146\"}},\"id\":\"1128\",\"type\":\"ColumnDataSource\"},{\"attributes\":{},\"id\":\"1112\",\"type\":\"SaveTool\"},{\"attributes\":{\"source\":{\"id\":\"1128\"}},\"id\":\"1132\",\"type\":\"CDSView\"},{\"attributes\":{},\"id\":\"1114\",\"type\":\"HelpTool\"},{\"attributes\":{},\"id\":\"1145\",\"type\":\"Selection\"},{\"attributes\":{},\"id\":\"1097\",\"type\":\"LinearScale\"},{\"attributes\":{\"axis\":{\"id\":\"1105\"},\"dimension\":1,\"ticker\":null},\"id\":\"1108\",\"type\":\"Grid\"},{\"attributes\":{},\"id\":\"1099\",\"type\":\"LinearScale\"},{\"attributes\":{},\"id\":\"1142\",\"type\":\"BasicTickFormatter\"},{\"attributes\":{\"fill_alpha\":{\"value\":0.1},\"fill_color\":{\"value\":\"purple\"},\"line_alpha\":{\"value\":0.1},\"line_color\":{\"value\":\"purple\"},\"x\":{\"field\":\"x\"},\"y\":{\"field\":\"y\"}},\"id\":\"1175\",\"type\":\"Circle\"},{\"attributes\":{},\"id\":\"1113\",\"type\":\"ResetTool\"},{\"attributes\":{\"data_source\":{\"id\":\"1173\"},\"glyph\":{\"id\":\"1174\"},\"hover_glyph\":null,\"muted_glyph\":null,\"nonselection_glyph\":{\"id\":\"1175\"},\"selection_glyph\":null,\"view\":{\"id\":\"1177\"}},\"id\":\"1176\",\"type\":\"GlyphRenderer\"},{\"attributes\":{},\"id\":\"1140\",\"type\":\"BasicTickFormatter\"},{\"attributes\":{\"active_drag\":\"auto\",\"active_inspect\":\"auto\",\"active_multi\":null,\"active_scroll\":\"auto\",\"active_tap\":\"auto\",\"tools\":[{\"id\":\"1109\"},{\"id\":\"1110\"},{\"id\":\"1111\"},{\"id\":\"1112\"},{\"id\":\"1113\"},{\"id\":\"1114\"}]},\"id\":\"1116\",\"type\":\"Toolbar\"},{\"attributes\":{\"data\":{\"x\":[0,1,2,3,4,5,6,7,8,9,10,11,12,13,14,15,16,17,18,19,20,21,22,23,24,25,26,27,28,29,30,31,32,33,34,35,36,37,38,39,40,41,42,43,44,45,46,47,48,49,50,51,52,53],\"y\":{\"__ndarray__\":\"wC8TZgkyTUC9Fi6NjC9UQD+skLQv4FtA3hjbpwnzYkAM2MsJO6tpQG2hztjQ6HBA2vBYDZbxdUDzAAJf8A18QOAF6pTPgYFANpqsdCPAhUAlQPtP0aOKQA6uxX1rFpBAinXtRYUqk0AsKQkU2YeWQGTFc7fFJJpAtRNbjqb0nUCSHmxXKPSgQDHSq4hi96JAjncVLgX7pEDNg2giDvamQKwjJfLt36hAaug5H/awqkAKWLZOtGKsQGfW83Ez8K1AAWbv9h5Wr0ClWeOnY0mwQIDwuh0F07BAzpF74pFIsUB/V21RN6uxQPwlFrCN/LFAjV2vw3I+skAgcMqI5nKyQO7lT2/sm7JAVwvgnXK7skDOcQ7iP9OyQHjP6jHo5LJA6IIxEMfxskCTKJrG/vqyQOYZaT97AbNA0tmESPcFs0B0xxArAwmzQOjzOLYLC7NAh/biFmEMs0BXV1APPQ2zQD+IZFPIDbNA4KQb9R4Os0CFDCDoUw6zQJU+UbRzDrNAO8hnd4YOs0ALCPlXkQ6zQMM/IYqXDrNA0MTeAZsOs0B7+QvqnA6zQGoh0PGdDrNA\",\"dtype\":\"float64\",\"shape\":[54]}},\"selected\":{\"id\":\"1164\"},\"selection_policy\":{\"id\":\"1165\"}},\"id\":\"1133\",\"type\":\"ColumnDataSource\"},{\"attributes\":{\"fill_color\":{\"value\":\"purple\"},\"line_color\":{\"value\":\"purple\"},\"x\":{\"field\":\"x\"},\"y\":{\"field\":\"y\"}},\"id\":\"1174\",\"type\":\"Circle\"},{\"attributes\":{\"source\":{\"id\":\"1173\"}},\"id\":\"1177\",\"type\":\"CDSView\"},{\"attributes\":{\"axis\":{\"id\":\"1101\"},\"ticker\":null},\"id\":\"1104\",\"type\":\"Grid\"},{\"attributes\":{\"line_alpha\":0.1,\"x\":{\"field\":\"x\"},\"y\":{\"field\":\"y\"}},\"id\":\"1135\",\"type\":\"Line\"},{\"attributes\":{\"label\":{\"value\":\"Deceased\"},\"renderers\":[{\"id\":\"1136\"}]},\"id\":\"1149\",\"type\":\"LegendItem\"},{\"attributes\":{},\"id\":\"1106\",\"type\":\"BasicTicker\"},{\"attributes\":{\"text\":\"Lombardia erf Model\"},\"id\":\"1091\",\"type\":\"Title\"},{\"attributes\":{\"data_source\":{\"id\":\"1133\"},\"glyph\":{\"id\":\"1134\"},\"hover_glyph\":null,\"muted_glyph\":null,\"nonselection_glyph\":{\"id\":\"1135\"},\"selection_glyph\":null,\"view\":{\"id\":\"1137\"}},\"id\":\"1136\",\"type\":\"GlyphRenderer\"},{\"attributes\":{\"dimension\":\"height\",\"line_width\":3,\"location\":16},\"id\":\"1178\",\"type\":\"Span\"},{\"attributes\":{},\"id\":\"1143\",\"type\":\"Selection\"},{\"attributes\":{\"axis_label\":\"# people\",\"formatter\":{\"id\":\"1140\"},\"ticker\":{\"id\":\"1106\"}},\"id\":\"1105\",\"type\":\"LinearAxis\"},{\"attributes\":{},\"id\":\"1093\",\"type\":\"DataRange1d\"},{\"attributes\":{\"source\":{\"id\":\"1133\"}},\"id\":\"1137\",\"type\":\"CDSView\"},{\"attributes\":{},\"id\":\"1190\",\"type\":\"Selection\"},{\"attributes\":{\"x\":{\"field\":\"x\"},\"y\":{\"field\":\"y\"}},\"id\":\"1134\",\"type\":\"Line\"},{\"attributes\":{},\"id\":\"1095\",\"type\":\"DataRange1d\"},{\"attributes\":{},\"id\":\"1191\",\"type\":\"UnionRenderers\"},{\"attributes\":{\"bottom_units\":\"screen\",\"fill_alpha\":0.5,\"fill_color\":\"lightgrey\",\"left_units\":\"screen\",\"level\":\"overlay\",\"line_alpha\":1.0,\"line_color\":\"black\",\"line_dash\":[4,4],\"line_width\":2,\"render_mode\":\"css\",\"right_units\":\"screen\",\"top_units\":\"screen\"},\"id\":\"1115\",\"type\":\"BoxAnnotation\"}],\"root_ids\":[\"1090\"]},\"title\":\"Bokeh Application\",\"version\":\"2.0.1\"}};\n",
       "  var render_items = [{\"docid\":\"6afd245d-9388-41a3-b931-7a24943a4916\",\"root_ids\":[\"1090\"],\"roots\":{\"1090\":\"8c4aad64-ede5-4f7c-8324-5fa99145d174\"}}];\n",
       "  root.Bokeh.embed.embed_items_notebook(docs_json, render_items);\n",
       "\n",
       "  }\n",
       "  if (root.Bokeh !== undefined) {\n",
       "    embed_document(root);\n",
       "  } else {\n",
       "    var attempts = 0;\n",
       "    var timer = setInterval(function(root) {\n",
       "      if (root.Bokeh !== undefined) {\n",
       "        clearInterval(timer);\n",
       "        embed_document(root);\n",
       "      } else {\n",
       "        attempts++;\n",
       "        if (attempts > 100) {\n",
       "          clearInterval(timer);\n",
       "          console.log(\"Bokeh: ERROR: Unable to run BokehJS code because BokehJS library is missing\");\n",
       "        }\n",
       "      }\n",
       "    }, 10, root)\n",
       "  }\n",
       "})(window);"
      ],
      "application/vnd.bokehjs_exec.v0+json": ""
     },
     "metadata": {
      "application/vnd.bokehjs_exec.v0+json": {
       "id": "1090"
      }
     },
     "output_type": "display_data"
    }
   ],
   "source": [
    "plot_erf_with_errors_sample(df, 'Lombardia', 2, 16)"
   ]
  },
  {
   "cell_type": "markdown",
   "metadata": {},
   "source": [
    "Hm. Let's check how it performs more systematically. Let's try adjusting how long we train and predict for."
   ]
  },
  {
   "cell_type": "code",
   "execution_count": 39,
   "metadata": {},
   "outputs": [
    {
     "data": {
      "text/html": [
       "\n",
       "\n",
       "\n",
       "\n",
       "\n",
       "\n",
       "  <div class=\"bk-root\" id=\"346eacbb-a4cc-48e5-93b5-8c0635e2c74e\" data-root-id=\"61779\"></div>\n"
      ]
     },
     "metadata": {},
     "output_type": "display_data"
    },
    {
     "data": {
      "application/javascript": [
       "(function(root) {\n",
       "  function embed_document(root) {\n",
       "    \n",
       "  var docs_json = {\"a8925f27-6140-4c51-bf43-5e7402aa1619\":{\"roots\":{\"references\":[{\"attributes\":{\"below\":[{\"id\":\"61790\"}],\"center\":[{\"id\":\"61793\"},{\"id\":\"61797\"},{\"id\":\"61837\"}],\"left\":[{\"id\":\"61794\"}],\"plot_height\":400,\"renderers\":[{\"id\":\"61815\"},{\"id\":\"61820\"},{\"id\":\"61825\"},{\"id\":\"61842\"},{\"id\":\"61860\"},{\"id\":\"61865\"},{\"id\":\"61867\"}],\"title\":{\"id\":\"61780\"},\"toolbar\":{\"id\":\"61805\"},\"x_range\":{\"id\":\"61782\"},\"x_scale\":{\"id\":\"61786\"},\"y_range\":{\"id\":\"61784\"},\"y_scale\":{\"id\":\"61788\"}},\"id\":\"61779\",\"subtype\":\"Figure\",\"type\":\"Plot\"},{\"attributes\":{},\"id\":\"61801\",\"type\":\"SaveTool\"},{\"attributes\":{\"label\":{\"value\":\"Deceased\"},\"renderers\":[{\"id\":\"61825\"}]},\"id\":\"61838\",\"type\":\"LegendItem\"},{\"attributes\":{\"source\":{\"id\":\"61862\"}},\"id\":\"61866\",\"type\":\"CDSView\"},{\"attributes\":{},\"id\":\"61835\",\"type\":\"UnionRenderers\"},{\"attributes\":{\"data\":{\"x\":[0,1,2,3,4,5,6,7,8,9,10,11,12,13,14,15,16,17,18,19,20,21,22,23,24,25,26,27,28,29,30,31,32,33,34,35,36,37,38,39,40,41,42,43,44,45,46,47,48,49,50,51,52,53],\"y\":{\"__ndarray__\":\"7cO5SsdMkkDWxIPI0cmWQD8wX8xMaJxAiREU8+WNoUBvU70bmLClQKmBX4toWKpANWo1PrO7r0A+DAkyJPSyQL0gGAVSTbZAX3LijSY4ukApUWj+QpS+QDMiwPcfscFADnGw1zVQxEAnLqaRTyXHQHRUr0EULcpA2toLcudizUCo9r4OfGDQQASlqIMuINJAvFRq2p7s00BvfZdEg8HVQLf3xOVSmtdA7UbsY2dy2UD7O3voH0XbQE7XTtwDDt1Anh6QrePI3kAGeUcI+zjgQBf/pzT4AuFAE1urrgzB4UDxeKt2KnLiQFKcge6UFeNALXMBSuCq40AhjFz/7THkQN5w06DmquRAMXMrpTEW5UA6oDe1a3TlQJE3MRpcxuVA1alo4+kM5kAqCpdLEUnmQEYj7NDZe+ZANo1OWU2m5kABypqgcMnmQLe0TRM95uZAh6zYHpz95kAX3VLrYxDnQGv0OmFVH+dAtW3qURsr50CsPCSSSjTnQIyyWtNiO+dAoYUwCdBA50D0gn4s7ETnQG2g5zIBSOdAJS3oGEtK50AIOJbj+UvnQORUYYYzTedA\",\"dtype\":\"float64\",\"shape\":[54]}},\"selected\":{\"id\":\"63175\"},\"selection_policy\":{\"id\":\"63176\"}},\"id\":\"61839\",\"type\":\"ColumnDataSource\"},{\"attributes\":{\"dimension\":\"height\",\"line_width\":3,\"location\":12},\"id\":\"61867\",\"type\":\"Span\"},{\"attributes\":{\"bottom_units\":\"screen\",\"fill_alpha\":0.5,\"fill_color\":\"lightgrey\",\"left_units\":\"screen\",\"level\":\"overlay\",\"line_alpha\":1.0,\"line_color\":\"black\",\"line_dash\":[4,4],\"line_width\":2,\"render_mode\":\"css\",\"right_units\":\"screen\",\"top_units\":\"screen\"},\"id\":\"61804\",\"type\":\"BoxAnnotation\"},{\"attributes\":{\"line_color\":\"purple\",\"x\":{\"field\":\"x\"},\"y\":{\"field\":\"y\"}},\"id\":\"61840\",\"type\":\"Line\"},{\"attributes\":{},\"id\":\"63175\",\"type\":\"Selection\"},{\"attributes\":{\"line_alpha\":0.1,\"line_color\":\"purple\",\"x\":{\"field\":\"x\"},\"y\":{\"field\":\"y\"}},\"id\":\"61841\",\"type\":\"Line\"},{\"attributes\":{\"data_source\":{\"id\":\"61812\"},\"glyph\":{\"id\":\"61813\"},\"hover_glyph\":null,\"muted_glyph\":null,\"nonselection_glyph\":{\"id\":\"61814\"},\"selection_glyph\":null,\"view\":{\"id\":\"61816\"}},\"id\":\"61815\",\"type\":\"GlyphRenderer\"},{\"attributes\":{\"source\":{\"id\":\"61812\"}},\"id\":\"61816\",\"type\":\"CDSView\"},{\"attributes\":{},\"id\":\"61798\",\"type\":\"PanTool\"},{\"attributes\":{},\"id\":\"63176\",\"type\":\"UnionRenderers\"},{\"attributes\":{\"source\":{\"id\":\"61839\"}},\"id\":\"61843\",\"type\":\"CDSView\"},{\"attributes\":{\"data\":{\"x\":[0,1,2,3,4,5,6,7,8,9,10,11,12,13,14,15,16,17,18,19,20,21,22,23,24,25,26,27,28,29,30,31,32,33,34,35,36,37,38,39,40,41,42,43,44,45,46,47,48,49,50,51,52,53],\"y1\":{\"__ndarray__\":\"o3sl/MBaLkCggab1LF08QEKEg5w/zklA5Ml4VMKPVUAUY+qJRbJhQF7+XdgyOmtASmOU42/rckAVoZLIusZ5QE4KtxQ9i4BA1DPv4B9XhED7Q1J5vlqIQBxf3AzAP4xAaIzvBjbCj0BeeuTBPVuRQOUH1vZfhZJAH/lRhwpQk0BxQC2+jvGTQBp3JwzqU5RAWNRm/ROjlEAe1nYe98iUQGU62mSO3JRAar5X54fplECyWriyHvaUQCjaVla1/ZRA1BDsssIFlUD2VYGzDQiVQFeM7ms6CZVA+Hv+zc4JlUDXqEdJFQqVQP4laH81CpVA44Svp0MKlUAEsPiiSQqVQFBauBBMCpVAcsVDA00KlUDcPydeTQqVQN6n3X5NCpVAt2Qsik0KlUBhUu2NTQqVQOylH49NCpVA7Gt9j00KlUDK/JiPTQqVQNPEoI9NCpVAzeCij00KlUBbbaOPTQqVQH2Qo49NCpVA65ijj00KlUDdmqOPTQqVQEubo49NCpVAYpujj00KlUBnm6OPTQqVQGibo49NCpVAaJujj00KlUBom6OPTQqVQGibo49NCpVA\",\"dtype\":\"float64\",\"shape\":[54]},\"y2\":{\"__ndarray__\":\"9nMuh8aqRkA8AEYGocRRQEygM8/dZltA2pXUqMtfZECBjFw9TlxtQIFMOvSvEXRAuSqgvqt7ekDqKuXsi/6AQDzX47JyZIVADHGIL44QikDdUh0uL2mOQAzFmPqVWZFAcpknMfggk0BQCuTrONGUQNH9rMUTxZVA304zlooel0CuFmw3mc2XQH+zy9lwRZhAvARtZ8GBmECUrw3IUqGYQEJkJ2ucw5hAKKNMQ3/emECOu57P9/CYQLSgtACs+5hAyoLAlp8BmUAbpL0sfAOZQJ4hsgQXBJlAUqDcVEYEmUBbsDTUWgSZQPLB91hjBJlAlKoBvmYEmUC4UvkJaASZQMD+gINoBJlADu4irmgEmUCoR3e8aASZQA2aFMFoBJlACBKBwmgEmUAMzezCaASZQNpOC8NoBJlAnJUTw2gEmUBMvBXDaASZQGtFFsNoBJlAIGYWw2gEmUCabRbDaASZQD1vFsNoBJlAlW8Ww2gEmUCnbxbDaASZQKlvFsNoBJlAq28Ww2gEmUCrbxbDaASZQKtvFsNoBJlAq28Ww2gEmUCrbxbDaASZQKtvFsNoBJlA\",\"dtype\":\"float64\",\"shape\":[54]}},\"selected\":{\"id\":\"61834\"},\"selection_policy\":{\"id\":\"61835\"}},\"id\":\"61817\",\"type\":\"ColumnDataSource\"},{\"attributes\":{\"data_source\":{\"id\":\"61839\"},\"glyph\":{\"id\":\"61840\"},\"hover_glyph\":null,\"muted_glyph\":null,\"nonselection_glyph\":{\"id\":\"61841\"},\"selection_glyph\":null,\"view\":{\"id\":\"61843\"}},\"id\":\"61842\",\"type\":\"GlyphRenderer\"},{\"attributes\":{\"fill_alpha\":0.1,\"fill_color\":\"purple\",\"x\":{\"field\":\"x\"},\"y1\":{\"field\":\"y1\"},\"y2\":{\"field\":\"y2\"}},\"id\":\"61814\",\"type\":\"VArea\"},{\"attributes\":{},\"id\":\"63177\",\"type\":\"Selection\"},{\"attributes\":{},\"id\":\"63178\",\"type\":\"UnionRenderers\"},{\"attributes\":{},\"id\":\"61853\",\"type\":\"Selection\"},{\"attributes\":{\"data_source\":{\"id\":\"61817\"},\"glyph\":{\"id\":\"61818\"},\"hover_glyph\":null,\"muted_glyph\":null,\"nonselection_glyph\":{\"id\":\"61819\"},\"selection_glyph\":null,\"view\":{\"id\":\"61821\"}},\"id\":\"61820\",\"type\":\"GlyphRenderer\"},{\"attributes\":{},\"id\":\"61854\",\"type\":\"UnionRenderers\"},{\"attributes\":{},\"id\":\"63179\",\"type\":\"Selection\"},{\"attributes\":{},\"id\":\"61795\",\"type\":\"BasicTicker\"},{\"attributes\":{\"fill_alpha\":0.1,\"fill_color\":\"black\",\"x\":{\"field\":\"x\"},\"y1\":{\"field\":\"y1\"},\"y2\":{\"field\":\"y2\"}},\"id\":\"61819\",\"type\":\"VArea\"},{\"attributes\":{\"data\":{\"x\":[0,1,2,3,4,5,6,7,8,9,10,11,12,13,14,15,16,17,18,19,20,21,22,23,24,25,26,27,28,29,30,31,32,33,34,35,36,37,38,39,40,41,42,43,44,45,46,47,48,49,50,51,52,53],\"y1\":{\"__ndarray__\":\"36ridIWYZEAKRFgLG7hoQB7XSxoBDW5ANdnys7f+dEAid+dRyJp9QFWPetjcgIJAwEP3MJWZhUC4dCevDT2LQO1h2+qkApJAA/XDK3zNlkBvX6RAvUWcQHmKsuaKDqFA7k1EZYtopEA/Mcwb0oGoQB/marDxdaxA22UC8H4rsEBhUea5E5SyQB+QM7+4brVAYO+ybPKOuEDp3vW/+6O8QCYF51Y4MsBA4EuqCZFdwkBb4wCeFUvEQDyVhdJUlsVAmxcmdOhqx0D00pJ6fI3JQKknVs4lZM1ASzEYcVJVz0C1+Ifn3EDRQAmhU7/9K9JA/dzGi+Un00Dk9prc9qbTQDrVjAGYmtRAAN6AK+r51UB1vqZb9VTWQPS6vtb+3NdA9ZS1LxVA2EAr5kRgFAPZQMabcJkzY9lAiKiuljDH2UBXgos5yjvaQHXyAB7jo9pAZxNfXBMA20A3PRJTD1HbQGos23agl9tAJCoeMGqj20DyKVzPDKvbQI76HMx7uNtAFKGOHsXe20C/QyZ6JgPcQGQpu5TLJdxAojCWNXJh3EBnWRq/lXbcQDYXtJX2dtxA\",\"dtype\":\"float64\",\"shape\":[54]},\"y2\":{\"__ndarray__\":\"zvfQMVUNtUAY+8RB+vm3QPa9tNkLWrtAtajRFn0Tv0BXL7mtnfXBQLLCW+W7bMRART0KoFnaxkAVuK3GWz7KQLQ0+qvPoc1AzntOPzGL0EBxgKMoZWfSQPLN84LSZdRAVZl0qoKG1kDeb2y6WCnaQGzNFgQXd9tAvC1LS6f83EDdIwAPnGveQPBoBo6zd+BALX8qlsnQ4UCEIjrSKU7jQLZsYtz0TuVAp+qJ3V+f5kBCrzho1SPoQPnvftAxg+lAeicZu2aC6kDlo0hGBFzrQPK4TOSuQuxAuXITHNm+7UDwNXeoHi7wQAi+py6AZvBAPrMhtYmU8EC+wIFxJLjwQIGUdubG/vBANHjEFqRD8UDWVqd4q4DxQHyigfsntvFAkHm6eqMM8kC6i3kiXnbyQKXjBg7l0/JArPU7ptZO80DAfjc4hd3zQEvdfODvX/RA5qIgvELW9EDH7Tg/4Rn1QJtSCE4Q1PVA7QEI4EdE9kB8+ZGdNnT2QJV9+SM1ifZAAwHik0GX9kCJuT8yQ5f2QB1OMi1El/ZASPqOw0SX9kAuebQcRZf2QD1MAlFFl/ZA\",\"dtype\":\"float64\",\"shape\":[54]}},\"selected\":{\"id\":\"61832\"},\"selection_policy\":{\"id\":\"61833\"}},\"id\":\"61812\",\"type\":\"ColumnDataSource\"},{\"attributes\":{},\"id\":\"61784\",\"type\":\"DataRange1d\"},{\"attributes\":{\"label\":{\"value\":\"Symptomatic infected\"},\"renderers\":[{\"id\":\"61842\"}]},\"id\":\"61856\",\"type\":\"LegendItem\"},{\"attributes\":{\"fill_alpha\":0.2,\"fill_color\":\"black\",\"x\":{\"field\":\"x\"},\"y1\":{\"field\":\"y1\"},\"y2\":{\"field\":\"y2\"}},\"id\":\"61818\",\"type\":\"VArea\"},{\"attributes\":{},\"id\":\"63180\",\"type\":\"UnionRenderers\"},{\"attributes\":{\"active_drag\":\"auto\",\"active_inspect\":\"auto\",\"active_multi\":null,\"active_scroll\":\"auto\",\"active_tap\":\"auto\",\"tools\":[{\"id\":\"61798\"},{\"id\":\"61799\"},{\"id\":\"61800\"},{\"id\":\"61801\"},{\"id\":\"61802\"},{\"id\":\"61803\"}]},\"id\":\"61805\",\"type\":\"Toolbar\"},{\"attributes\":{\"source\":{\"id\":\"61817\"}},\"id\":\"61821\",\"type\":\"CDSView\"},{\"attributes\":{\"text\":\"Lombardia erf Model\"},\"id\":\"61780\",\"type\":\"Title\"},{\"attributes\":{\"data\":{\"x\":[0,1,2,3,4,5,6,7,8,9,10,11,12,13,14,15,16,17,18,19,20,21,22,23,24,25,26],\"y\":[55,73,98,135,154,267,333,468,617,744,890,966,1218,1420,1640,1959,2168,2549,3095,3456,3776,4178,4474,4861,5402,5944,6360]},\"selected\":{\"id\":\"63177\"},\"selection_policy\":{\"id\":\"63178\"}},\"id\":\"61857\",\"type\":\"ColumnDataSource\"},{\"attributes\":{\"data\":{\"x\":[0,1,2,3,4,5,6,7,8,9,10,11,12,13,14,15,16,17,18,19,20,21,22,23,24,25,26,27,28,29,30,31,32,33,34,35,36,37,38,39,40,41,42,43,44,45,46,47,48,49,50,51,52,53],\"y\":{\"__ndarray__\":\"eG+CpTeTPEA9EVfvLu9HQK/SC+melVNAdjIQeeOcXkDcojHfiT1nQKIgqrSEmHBAK7mOGjG5dkCl3n+jAeF9QO2IBSEEu4JABaMgj77ihkDC9JSzDgiLQDxZiV8c9I5ARyQOPmU8kUC26knhcbuSQAiXwp9h8JNAeDYgTqPclECI3PBE9IeVQFml+Na+/ZVA5q0jHIpKlkChmL0KA3qWQJaCzIzWlZZA9j/Tu02llkBJ2NQ4dK2WQC6YltaGsZZAnxO713SzlkApO0LIUrSWQO9cnVOxtJZAP+jhg9e0lkDADiYk5rSWQHWX43PrtJZABkUZSO20lkCbuvfg7bSWQGb6ShDutJZAFUgvHu60lkAcGw0i7rSWQO1TEiPutJZAqLFTI+60lkD9M2Mj7rSWQDGxZiPutJZAuW9nI+60lkBDlmcj7rSWQKedZyPutJZA/p5nI+60lkA6n2cj7rSWQESfZyPutJZARZ9nI+60lkBFn2cj7rSWQEWfZyPutJZARZ9nI+60lkBFn2cj7rSWQEWfZyPutJZARZ9nI+60lkBFn2cj7rSWQEWfZyPutJZA\",\"dtype\":\"float64\",\"shape\":[54]}},\"selected\":{\"id\":\"61853\"},\"selection_policy\":{\"id\":\"61854\"}},\"id\":\"61822\",\"type\":\"ColumnDataSource\"},{\"attributes\":{\"axis_label\":\"t (days)\",\"formatter\":{\"id\":\"61831\"},\"ticker\":{\"id\":\"61791\"}},\"id\":\"61790\",\"type\":\"LinearAxis\"},{\"attributes\":{\"fill_color\":{\"value\":\"purple\"},\"line_color\":{\"value\":\"purple\"},\"x\":{\"field\":\"x\"},\"y\":{\"field\":\"y\"}},\"id\":\"61863\",\"type\":\"Circle\"},{\"attributes\":{\"fill_alpha\":{\"value\":0.1},\"fill_color\":{\"value\":\"black\"},\"line_alpha\":{\"value\":0.1},\"x\":{\"field\":\"x\"},\"y\":{\"field\":\"y\"}},\"id\":\"61859\",\"type\":\"Circle\"},{\"attributes\":{\"x\":{\"field\":\"x\"},\"y\":{\"field\":\"y\"}},\"id\":\"61823\",\"type\":\"Line\"},{\"attributes\":{\"fill_alpha\":0.2,\"fill_color\":\"purple\",\"x\":{\"field\":\"x\"},\"y1\":{\"field\":\"y1\"},\"y2\":{\"field\":\"y2\"}},\"id\":\"61813\",\"type\":\"VArea\"},{\"attributes\":{\"data\":{\"x\":[0,1,2,3,4,5,6,7,8,9,10,11,12,13,14,15,16,17,18,19,20,21,22,23,24,25,26],\"y\":[1326,1497,1777,2008,2742,3372,4490,4427,5763,6896,7732,9059,10043,10861,12095,12266,13938,15420,17370,17885,18910,19868,20591,22189,23895,24509,25392]},\"selected\":{\"id\":\"63179\"},\"selection_policy\":{\"id\":\"63180\"}},\"id\":\"61862\",\"type\":\"ColumnDataSource\"},{\"attributes\":{},\"id\":\"61791\",\"type\":\"BasicTicker\"},{\"attributes\":{\"data_source\":{\"id\":\"61857\"},\"glyph\":{\"id\":\"61858\"},\"hover_glyph\":null,\"muted_glyph\":null,\"nonselection_glyph\":{\"id\":\"61859\"},\"selection_glyph\":null,\"view\":{\"id\":\"61861\"}},\"id\":\"61860\",\"type\":\"GlyphRenderer\"},{\"attributes\":{\"axis\":{\"id\":\"61794\"},\"dimension\":1,\"ticker\":null},\"id\":\"61797\",\"type\":\"Grid\"},{\"attributes\":{\"line_alpha\":0.1,\"x\":{\"field\":\"x\"},\"y\":{\"field\":\"y\"}},\"id\":\"61824\",\"type\":\"Line\"},{\"attributes\":{\"fill_color\":{\"value\":\"black\"},\"x\":{\"field\":\"x\"},\"y\":{\"field\":\"y\"}},\"id\":\"61858\",\"type\":\"Circle\"},{\"attributes\":{},\"id\":\"61834\",\"type\":\"Selection\"},{\"attributes\":{},\"id\":\"61803\",\"type\":\"HelpTool\"},{\"attributes\":{},\"id\":\"61833\",\"type\":\"UnionRenderers\"},{\"attributes\":{},\"id\":\"61782\",\"type\":\"DataRange1d\"},{\"attributes\":{\"source\":{\"id\":\"61857\"}},\"id\":\"61861\",\"type\":\"CDSView\"},{\"attributes\":{\"source\":{\"id\":\"61822\"}},\"id\":\"61826\",\"type\":\"CDSView\"},{\"attributes\":{\"data_source\":{\"id\":\"61822\"},\"glyph\":{\"id\":\"61823\"},\"hover_glyph\":null,\"muted_glyph\":null,\"nonselection_glyph\":{\"id\":\"61824\"},\"selection_glyph\":null,\"view\":{\"id\":\"61826\"}},\"id\":\"61825\",\"type\":\"GlyphRenderer\"},{\"attributes\":{},\"id\":\"61786\",\"type\":\"LinearScale\"},{\"attributes\":{},\"id\":\"61832\",\"type\":\"Selection\"},{\"attributes\":{},\"id\":\"61829\",\"type\":\"BasicTickFormatter\"},{\"attributes\":{},\"id\":\"61802\",\"type\":\"ResetTool\"},{\"attributes\":{\"axis\":{\"id\":\"61790\"},\"ticker\":null},\"id\":\"61793\",\"type\":\"Grid\"},{\"attributes\":{},\"id\":\"61831\",\"type\":\"BasicTickFormatter\"},{\"attributes\":{\"overlay\":{\"id\":\"61804\"}},\"id\":\"61800\",\"type\":\"BoxZoomTool\"},{\"attributes\":{\"axis_label\":\"# people\",\"formatter\":{\"id\":\"61829\"},\"ticker\":{\"id\":\"61795\"}},\"id\":\"61794\",\"type\":\"LinearAxis\"},{\"attributes\":{\"fill_alpha\":{\"value\":0.1},\"fill_color\":{\"value\":\"purple\"},\"line_alpha\":{\"value\":0.1},\"line_color\":{\"value\":\"purple\"},\"x\":{\"field\":\"x\"},\"y\":{\"field\":\"y\"}},\"id\":\"61864\",\"type\":\"Circle\"},{\"attributes\":{},\"id\":\"61788\",\"type\":\"LinearScale\"},{\"attributes\":{\"items\":[{\"id\":\"61838\"},{\"id\":\"61856\"}],\"location\":\"top_left\"},\"id\":\"61837\",\"type\":\"Legend\"},{\"attributes\":{\"data_source\":{\"id\":\"61862\"},\"glyph\":{\"id\":\"61863\"},\"hover_glyph\":null,\"muted_glyph\":null,\"nonselection_glyph\":{\"id\":\"61864\"},\"selection_glyph\":null,\"view\":{\"id\":\"61866\"}},\"id\":\"61865\",\"type\":\"GlyphRenderer\"},{\"attributes\":{},\"id\":\"61799\",\"type\":\"WheelZoomTool\"}],\"root_ids\":[\"61779\"]},\"title\":\"Bokeh Application\",\"version\":\"2.0.1\"}};\n",
       "  var render_items = [{\"docid\":\"a8925f27-6140-4c51-bf43-5e7402aa1619\",\"root_ids\":[\"61779\"],\"roots\":{\"61779\":\"346eacbb-a4cc-48e5-93b5-8c0635e2c74e\"}}];\n",
       "  root.Bokeh.embed.embed_items_notebook(docs_json, render_items);\n",
       "\n",
       "  }\n",
       "  if (root.Bokeh !== undefined) {\n",
       "    embed_document(root);\n",
       "  } else {\n",
       "    var attempts = 0;\n",
       "    var timer = setInterval(function(root) {\n",
       "      if (root.Bokeh !== undefined) {\n",
       "        clearInterval(timer);\n",
       "        embed_document(root);\n",
       "      } else {\n",
       "        attempts++;\n",
       "        if (attempts > 100) {\n",
       "          clearInterval(timer);\n",
       "          console.log(\"Bokeh: ERROR: Unable to run BokehJS code because BokehJS library is missing\");\n",
       "        }\n",
       "      }\n",
       "    }, 10, root)\n",
       "  }\n",
       "})(window);"
      ],
      "application/vnd.bokehjs_exec.v0+json": ""
     },
     "metadata": {
      "application/vnd.bokehjs_exec.v0+json": {
       "id": "61779"
      }
     },
     "output_type": "display_data"
    },
    {
     "data": {
      "text/html": [
       "\n",
       "\n",
       "\n",
       "\n",
       "\n",
       "\n",
       "  <div class=\"bk-root\" id=\"68da53e7-b850-429c-95b9-0a99ccde426f\" data-root-id=\"63290\"></div>\n"
      ]
     },
     "metadata": {},
     "output_type": "display_data"
    },
    {
     "data": {
      "application/javascript": [
       "(function(root) {\n",
       "  function embed_document(root) {\n",
       "    \n",
       "  var docs_json = {\"ec03e99b-bfdf-4406-b70d-4c96687f8d85\":{\"roots\":{\"references\":[{\"attributes\":{\"below\":[{\"id\":\"63301\"}],\"center\":[{\"id\":\"63304\"},{\"id\":\"63308\"},{\"id\":\"63348\"}],\"left\":[{\"id\":\"63305\"}],\"plot_height\":400,\"renderers\":[{\"id\":\"63326\"},{\"id\":\"63331\"},{\"id\":\"63336\"},{\"id\":\"63353\"},{\"id\":\"63371\"},{\"id\":\"63376\"},{\"id\":\"63378\"}],\"title\":{\"id\":\"63291\"},\"toolbar\":{\"id\":\"63316\"},\"x_range\":{\"id\":\"63293\"},\"x_scale\":{\"id\":\"63297\"},\"y_range\":{\"id\":\"63295\"},\"y_scale\":{\"id\":\"63299\"}},\"id\":\"63290\",\"subtype\":\"Figure\",\"type\":\"Plot\"},{\"attributes\":{\"axis\":{\"id\":\"63301\"},\"ticker\":null},\"id\":\"63304\",\"type\":\"Grid\"},{\"attributes\":{\"dimension\":\"height\",\"line_width\":3,\"location\":16},\"id\":\"63378\",\"type\":\"Span\"},{\"attributes\":{\"bottom_units\":\"screen\",\"fill_alpha\":0.5,\"fill_color\":\"lightgrey\",\"left_units\":\"screen\",\"level\":\"overlay\",\"line_alpha\":1.0,\"line_color\":\"black\",\"line_dash\":[4,4],\"line_width\":2,\"render_mode\":\"css\",\"right_units\":\"screen\",\"top_units\":\"screen\"},\"id\":\"63315\",\"type\":\"BoxAnnotation\"},{\"attributes\":{},\"id\":\"63346\",\"type\":\"UnionRenderers\"},{\"attributes\":{\"axis_label\":\"# people\",\"formatter\":{\"id\":\"63340\"},\"ticker\":{\"id\":\"63306\"}},\"id\":\"63305\",\"type\":\"LinearAxis\"},{\"attributes\":{\"items\":[{\"id\":\"63349\"},{\"id\":\"63367\"}],\"location\":\"top_left\"},\"id\":\"63348\",\"type\":\"Legend\"},{\"attributes\":{},\"id\":\"64704\",\"type\":\"Selection\"},{\"attributes\":{},\"id\":\"63306\",\"type\":\"BasicTicker\"},{\"attributes\":{\"data_source\":{\"id\":\"63323\"},\"glyph\":{\"id\":\"63324\"},\"hover_glyph\":null,\"muted_glyph\":null,\"nonselection_glyph\":{\"id\":\"63325\"},\"selection_glyph\":null,\"view\":{\"id\":\"63327\"}},\"id\":\"63326\",\"type\":\"GlyphRenderer\"},{\"attributes\":{\"label\":{\"value\":\"Deceased\"},\"renderers\":[{\"id\":\"63336\"}]},\"id\":\"63349\",\"type\":\"LegendItem\"},{\"attributes\":{\"source\":{\"id\":\"63323\"}},\"id\":\"63327\",\"type\":\"CDSView\"},{\"attributes\":{},\"id\":\"64705\",\"type\":\"UnionRenderers\"},{\"attributes\":{\"axis_label\":\"t (days)\",\"formatter\":{\"id\":\"63342\"},\"ticker\":{\"id\":\"63302\"}},\"id\":\"63301\",\"type\":\"LinearAxis\"},{\"attributes\":{\"data\":{\"x\":[0,1,2,3,4,5,6,7,8,9,10,11,12,13,14,15,16,17,18,19,20,21,22,23,24,25,26,27,28,29,30,31,32,33,34,35,36,37,38,39,40,41,42,43,44,45,46,47,48,49,50,51,52,53],\"y\":{\"__ndarray__\":\"DI0kcGHhjkC+HFII1EuUQE1+mHn8hZpAm167hSEGoUDGxq6ln6ylQD/KdR7P2qpAuO04dBtcsEAuO7BM/JuzQPAc9Rl2+7ZAI/18V2y3ukAQCiJEt5m+QO1pxRn7RsFA4MNg3lI/w0AZojwyPivFQPVdvJfgAMdA7nHIPLy3yEAdzY68JEnKQHmY9nWEsMtAs2B623DrzECDhKpTkPnNQEIa44JZ3M5AQ07Ha7eWz0D3wRKxTxbQQI8OOa9SUdBAARUQnMx+0ECj1sogGqHQQFKKDKxtutBAhJXLJLvM0EDf4kpyrdnQQAO3sSmk4tBAmBpcSLfo0ECL2AXZvuzQQC67zp5c79BAyRYQRgbx0EBwoVgND/LQQPS+i0Sw8tBAGwHUWBDz0EBp+cVkSPPQQAEwHGVo89BAHIWdR3rz0EDXujUQhPPQQJ2rRU2J89BAFG8dDIzz0EBNLap0jfPQQMbtsymO89BAdMKtgo7z0EDOSHutjvPQQLLQosGO89BA58fsyo7z0EDqhx3PjvPQQB4399CO89BAefHD0Y7z0EBcjRrSjvPQQEVqPtKO89BA\",\"dtype\":\"float64\",\"shape\":[54]}},\"selected\":{\"id\":\"64704\"},\"selection_policy\":{\"id\":\"64705\"}},\"id\":\"63350\",\"type\":\"ColumnDataSource\"},{\"attributes\":{\"data\":{\"x\":[0,1,2,3,4,5,6,7,8,9,10,11,12,13,14,15,16,17,18,19,20,21,22,23,24,25,26,27,28,29,30,31,32,33,34,35,36,37,38,39,40,41,42,43,44,45,46,47,48,49,50,51,52,53],\"y1\":{\"__ndarray__\":\"6r6UlMdmQ0D6qLLNnFFLQBkNk29j1FJAsNRaIPsjWUAz97WYSJZhQPyjHb+4jGdAaJEjgH7bbkBCLuCwSRF1QMwZkc6edHpAwVFI6367gEC0L3a5xXmEQBCqxWZIc4hA3GD5MxVajUAXwOpl0V+RQPWxj/AN8pNAEpCNpwb2lkCOtaEnNPqZQOI7vdsW9J1AKrYSpWW/oECiAOjgO02iQDHZK/zhFaRAFJOoSXmApUAkEZsqwACnQOf0eJpDX6hA3JOy0A+6qUB++kzN8OiqQFtLU6bis6tAMMQ61KKSrECs/Ga0a26tQHrKbi8FDK5AiuqFP3Z9rkCX8AQCc+CuQPJznLSZMa9Au+zQ3kxzr0C4zHS+86GvQL0IsRxntK9AjM0m9AXPr0AjByoWmvqvQDlL/ob9CbBAHrXlGpwLsEAJVXYZpwywQEH07dlPDbBA3qH9hrgNsEB9xT5A+A2wQOdVzVIeDrBAuFzfpTQOsEB8Bc1+QQ6wQIcAZ8BIDrBABjgfxkwOsECG8lb2Tg6wQNPgeSFQDrBA77c+vlAOsECpr+EOUQ6wQHQslzdRDrBA\",\"dtype\":\"float64\",\"shape\":[54]},\"y2\":{\"__ndarray__\":\"votigm1NW0Cc3AnIN9RhQBgPoiOSwGdAr3QIZAAvb0A/sm0q1fFzQMTN+UyqT3lA/MabFvDHf0C646waXPSDQHDPmJphtIhAIm/aNrDPjUCX98sizLWRQPmwt0vkuJRA5gDdAwNfmEC+nYWZUpabQJTjEcTN6p9A4/UGkOUgokAt9V5v0kWkQHcvKGYol6ZA3+3F/l/uqEDQ/jB2l9SqQEZZV9BaD61AABd7/Qkhr0Dfep0kGn2wQMIt/m65UbFA1ZxRa6YQskBYonS+h6ayQPtXApJbXLNAa+sdvuG8s0CG6fBNRSa0QAwo/+E7fLRAnHEWo/aytEBXTdGfnfO0QIG8K4R2FLVAjOoQ9RsotUA0DhbtI021QH2yYB7ueLVA1SBKbCyZtUBv5LbOcbG1QARr+MenxLVAiX1IIPnRtUATzFhX49O1QItMupKK1LVAhd57X/HUtUBZxa5zL9W1QEkVEEdU1bVAXmhHvGnVtUAZKiEEdtW1QLtJQOt81bVAwUy2uoDVtUA2IXrLgtW1QCiI7OSD1bVANrcDeITVtUA+VX3DhNW1QHXegumE1bVA\",\"dtype\":\"float64\",\"shape\":[54]}},\"selected\":{\"id\":\"63345\"},\"selection_policy\":{\"id\":\"63346\"}},\"id\":\"63328\",\"type\":\"ColumnDataSource\"},{\"attributes\":{\"line_alpha\":0.1,\"line_color\":\"purple\",\"x\":{\"field\":\"x\"},\"y\":{\"field\":\"y\"}},\"id\":\"63352\",\"type\":\"Line\"},{\"attributes\":{\"overlay\":{\"id\":\"63315\"}},\"id\":\"63311\",\"type\":\"BoxZoomTool\"},{\"attributes\":{},\"id\":\"64706\",\"type\":\"Selection\"},{\"attributes\":{},\"id\":\"63299\",\"type\":\"LinearScale\"},{\"attributes\":{\"line_color\":\"purple\",\"x\":{\"field\":\"x\"},\"y\":{\"field\":\"y\"}},\"id\":\"63351\",\"type\":\"Line\"},{\"attributes\":{},\"id\":\"64707\",\"type\":\"UnionRenderers\"},{\"attributes\":{},\"id\":\"63297\",\"type\":\"LinearScale\"},{\"attributes\":{\"data_source\":{\"id\":\"63328\"},\"glyph\":{\"id\":\"63329\"},\"hover_glyph\":null,\"muted_glyph\":null,\"nonselection_glyph\":{\"id\":\"63330\"},\"selection_glyph\":null,\"view\":{\"id\":\"63332\"}},\"id\":\"63331\",\"type\":\"GlyphRenderer\"},{\"attributes\":{},\"id\":\"63365\",\"type\":\"UnionRenderers\"},{\"attributes\":{\"fill_color\":{\"value\":\"purple\"},\"line_color\":{\"value\":\"purple\"},\"x\":{\"field\":\"x\"},\"y\":{\"field\":\"y\"}},\"id\":\"63374\",\"type\":\"Circle\"},{\"attributes\":{\"fill_alpha\":0.1,\"fill_color\":\"black\",\"x\":{\"field\":\"x\"},\"y1\":{\"field\":\"y1\"},\"y2\":{\"field\":\"y2\"}},\"id\":\"63330\",\"type\":\"VArea\"},{\"attributes\":{},\"id\":\"64708\",\"type\":\"Selection\"},{\"attributes\":{},\"id\":\"63295\",\"type\":\"DataRange1d\"},{\"attributes\":{\"label\":{\"value\":\"Symptomatic infected\"},\"renderers\":[{\"id\":\"63353\"}]},\"id\":\"63367\",\"type\":\"LegendItem\"},{\"attributes\":{},\"id\":\"64709\",\"type\":\"UnionRenderers\"},{\"attributes\":{\"fill_alpha\":0.2,\"fill_color\":\"black\",\"x\":{\"field\":\"x\"},\"y1\":{\"field\":\"y1\"},\"y2\":{\"field\":\"y2\"}},\"id\":\"63329\",\"type\":\"VArea\"},{\"attributes\":{\"source\":{\"id\":\"63328\"}},\"id\":\"63332\",\"type\":\"CDSView\"},{\"attributes\":{\"data\":{\"x\":[0,1,2,3,4,5,6,7,8,9,10,11,12,13,14,15,16,17,18,19,20,21,22,23,24,25,26],\"y\":[55,73,98,135,154,267,333,468,617,744,890,966,1218,1420,1640,1959,2168,2549,3095,3456,3776,4178,4474,4861,5402,5944,6360]},\"selected\":{\"id\":\"64706\"},\"selection_policy\":{\"id\":\"64707\"}},\"id\":\"63368\",\"type\":\"ColumnDataSource\"},{\"attributes\":{},\"id\":\"63293\",\"type\":\"DataRange1d\"},{\"attributes\":{\"data\":{\"x\":[0,1,2,3,4,5,6,7,8,9,10,11,12,13,14,15,16,17,18,19,20,21,22,23,24,25,26,27,28,29,30,31,32,33,34,35,36,37,38,39,40,41,42,43,44,45,46,47,48,49,50,51,52,53],\"y\":{\"__ndarray__\":\"wC8TZgkyTUC9Fi6NjC9UQD+skLQv4FtA3hjbpwnzYkAM2MsJO6tpQG2hztjQ6HBA2vBYDZbxdUDzAAJf8A18QOAF6pTPgYFANpqsdCPAhUAlQPtP0aOKQA6uxX1rFpBAinXtRYUqk0AsKQkU2YeWQGTFc7fFJJpAtRNbjqb0nUCSHmxXKPSgQDHSq4hi96JAjncVLgX7pEDNg2giDvamQKwjJfLt36hAaug5H/awqkAKWLZOtGKsQGfW83Ez8K1AAWbv9h5Wr0ClWeOnY0mwQIDwuh0F07BAzpF74pFIsUB/V21RN6uxQPwlFrCN/LFAjV2vw3I+skAgcMqI5nKyQO7lT2/sm7JAVwvgnXK7skDOcQ7iP9OyQHjP6jHo5LJA6IIxEMfxskCTKJrG/vqyQOYZaT97AbNA0tmESPcFs0B0xxArAwmzQOjzOLYLC7NAh/biFmEMs0BXV1APPQ2zQD+IZFPIDbNA4KQb9R4Os0CFDCDoUw6zQJU+UbRzDrNAO8hnd4YOs0ALCPlXkQ6zQMM/IYqXDrNA0MTeAZsOs0B7+QvqnA6zQGoh0PGdDrNA\",\"dtype\":\"float64\",\"shape\":[54]}},\"selected\":{\"id\":\"63364\"},\"selection_policy\":{\"id\":\"63365\"}},\"id\":\"63333\",\"type\":\"ColumnDataSource\"},{\"attributes\":{\"fill_alpha\":{\"value\":0.1},\"fill_color\":{\"value\":\"black\"},\"line_alpha\":{\"value\":0.1},\"x\":{\"field\":\"x\"},\"y\":{\"field\":\"y\"}},\"id\":\"63370\",\"type\":\"Circle\"},{\"attributes\":{\"x\":{\"field\":\"x\"},\"y\":{\"field\":\"y\"}},\"id\":\"63334\",\"type\":\"Line\"},{\"attributes\":{\"data\":{\"x\":[0,1,2,3,4,5,6,7,8,9,10,11,12,13,14,15,16,17,18,19,20,21,22,23,24,25,26],\"y\":[1326,1497,1777,2008,2742,3372,4490,4427,5763,6896,7732,9059,10043,10861,12095,12266,13938,15420,17370,17885,18910,19868,20591,22189,23895,24509,25392]},\"selected\":{\"id\":\"64708\"},\"selection_policy\":{\"id\":\"64709\"}},\"id\":\"63373\",\"type\":\"ColumnDataSource\"},{\"attributes\":{\"data_source\":{\"id\":\"63368\"},\"glyph\":{\"id\":\"63369\"},\"hover_glyph\":null,\"muted_glyph\":null,\"nonselection_glyph\":{\"id\":\"63370\"},\"selection_glyph\":null,\"view\":{\"id\":\"63372\"}},\"id\":\"63371\",\"type\":\"GlyphRenderer\"},{\"attributes\":{\"text\":\"Lombardia erf Model\"},\"id\":\"63291\",\"type\":\"Title\"},{\"attributes\":{\"line_alpha\":0.1,\"x\":{\"field\":\"x\"},\"y\":{\"field\":\"y\"}},\"id\":\"63335\",\"type\":\"Line\"},{\"attributes\":{\"fill_color\":{\"value\":\"black\"},\"x\":{\"field\":\"x\"},\"y\":{\"field\":\"y\"}},\"id\":\"63369\",\"type\":\"Circle\"},{\"attributes\":{},\"id\":\"63309\",\"type\":\"PanTool\"},{\"attributes\":{\"data\":{\"x\":[0,1,2,3,4,5,6,7,8,9,10,11,12,13,14,15,16,17,18,19,20,21,22,23,24,25,26,27,28,29,30,31,32,33,34,35,36,37,38,39,40,41,42,43,44,45,46,47,48,49,50,51,52,53],\"y1\":{\"__ndarray__\":\"4oULXzZoiEDD8w9m4paQQKo48Q6ZFZZAQybKwFkQnUA+LNPTEqWiQMx2HCJdP6dAFmv7jkl2rEC9s2v0/j2xQHA5cZVcfLRAZEOhaE7Xt0BwmTq4T5K7QEQK27slW79AbMXpBmaEwUDBOEUslVHDQHRC12zKGMVAVFlPWYi1xkC20hh8cUDIQCabZairkMlAwsriJtvzykAckO0gLerLQNKAaxiYvcxAfzDAEN9vzUA5iit3lAPOQI66MDnqas5A5UOCS4a0zkBUCOcoo/POQF80DhL9N89ArZAoNm1oz0CY+HBU2YjPQEo7YJ8AoM9APGr0Njiwz0AxXpxZx8DPQKLlDtXYzM9As+hReDLVz0DhnXva4NrPQOaVCwyu3s9Avg4aoS7hz0BNpFd5zeLPQFjsqNfV489AMZY9qHvkz0Bxu40I4uTPQGJao0Mg5c9Auv90A23lz0DEKFx2nOXPQFwo3cu45c9ARgGwcMnlz0B47bwO0+XPQOQ7K4bY5c9AAUyblNvlz0ASWutC3eXPQJ8jsyve5c9AyBaPp97lz0DDdmHo3uXPQG5lvwnf5c9A\",\"dtype\":\"float64\",\"shape\":[54]},\"y2\":{\"__ndarray__\":\"1u33XCuKkUCvn3bEPrWWQCKSVaxYWZ1AAOKj5I7BokBwY8QN0keoQKDw4+7qJq5AIKgluqYrskA5rDgCRLy1QBMcnSjuRblAtZ43HeJhvUCOicjZ7rrAQAz4Pxx3sMJAxw5Ea2CuxEA52fomgazGQNNgR6gnpMhAei3NrHB6ykDwWCgzZvLLQFKlCfMOds1ATKcav4HdzkBOeUnC+BnQQOWnWX+FrtBAWP1N6wAW0UDwp8ZlD2LRQMFpBWPBotFABF66Ip/F0UCicpcND/TRQMH16+WcAdJAIE0HNLgJ0kBE8Bg7rA7SQH5f4ae1EdJAfX9+cOwW0kBfrjI0kBrSQNJiSEj1HNJA+1dZ4oIe0kAkupBAFyDSQC8l6t7YIdJAQdUf4vwi0kDTqFUstyPSQNIC2eorJNJAW0V8ynMk0kAfeqhDnyTSQIDouxm5JNJAmT0uMMgk0kC6wLvY0CTSQGaE2rrVJNJAqvDUb9gk0kAlS2vp2STSQPxWqrPaJNJAY/IpHtsk0kCn4UxV2yTSQHwTXnHbJNJADaxqf9sk0kACDFWG2yTSQHANronbJNJA\",\"dtype\":\"float64\",\"shape\":[54]}},\"selected\":{\"id\":\"63343\"},\"selection_policy\":{\"id\":\"63344\"}},\"id\":\"63323\",\"type\":\"ColumnDataSource\"},{\"attributes\":{\"source\":{\"id\":\"63368\"}},\"id\":\"63372\",\"type\":\"CDSView\"},{\"attributes\":{\"source\":{\"id\":\"63333\"}},\"id\":\"63337\",\"type\":\"CDSView\"},{\"attributes\":{},\"id\":\"63310\",\"type\":\"WheelZoomTool\"},{\"attributes\":{\"data_source\":{\"id\":\"63333\"},\"glyph\":{\"id\":\"63334\"},\"hover_glyph\":null,\"muted_glyph\":null,\"nonselection_glyph\":{\"id\":\"63335\"},\"selection_glyph\":null,\"view\":{\"id\":\"63337\"}},\"id\":\"63336\",\"type\":\"GlyphRenderer\"},{\"attributes\":{},\"id\":\"63313\",\"type\":\"ResetTool\"},{\"attributes\":{},\"id\":\"63340\",\"type\":\"BasicTickFormatter\"},{\"attributes\":{\"data_source\":{\"id\":\"63350\"},\"glyph\":{\"id\":\"63351\"},\"hover_glyph\":null,\"muted_glyph\":null,\"nonselection_glyph\":{\"id\":\"63352\"},\"selection_glyph\":null,\"view\":{\"id\":\"63354\"}},\"id\":\"63353\",\"type\":\"GlyphRenderer\"},{\"attributes\":{\"fill_alpha\":{\"value\":0.1},\"fill_color\":{\"value\":\"purple\"},\"line_alpha\":{\"value\":0.1},\"line_color\":{\"value\":\"purple\"},\"x\":{\"field\":\"x\"},\"y\":{\"field\":\"y\"}},\"id\":\"63375\",\"type\":\"Circle\"},{\"attributes\":{},\"id\":\"63312\",\"type\":\"SaveTool\"},{\"attributes\":{},\"id\":\"63342\",\"type\":\"BasicTickFormatter\"},{\"attributes\":{},\"id\":\"63314\",\"type\":\"HelpTool\"},{\"attributes\":{},\"id\":\"63364\",\"type\":\"Selection\"},{\"attributes\":{\"data_source\":{\"id\":\"63373\"},\"glyph\":{\"id\":\"63374\"},\"hover_glyph\":null,\"muted_glyph\":null,\"nonselection_glyph\":{\"id\":\"63375\"},\"selection_glyph\":null,\"view\":{\"id\":\"63377\"}},\"id\":\"63376\",\"type\":\"GlyphRenderer\"},{\"attributes\":{\"axis\":{\"id\":\"63305\"},\"dimension\":1,\"ticker\":null},\"id\":\"63308\",\"type\":\"Grid\"},{\"attributes\":{},\"id\":\"63343\",\"type\":\"Selection\"},{\"attributes\":{\"fill_alpha\":0.2,\"fill_color\":\"purple\",\"x\":{\"field\":\"x\"},\"y1\":{\"field\":\"y1\"},\"y2\":{\"field\":\"y2\"}},\"id\":\"63324\",\"type\":\"VArea\"},{\"attributes\":{\"source\":{\"id\":\"63350\"}},\"id\":\"63354\",\"type\":\"CDSView\"},{\"attributes\":{\"source\":{\"id\":\"63373\"}},\"id\":\"63377\",\"type\":\"CDSView\"},{\"attributes\":{},\"id\":\"63344\",\"type\":\"UnionRenderers\"},{\"attributes\":{\"active_drag\":\"auto\",\"active_inspect\":\"auto\",\"active_multi\":null,\"active_scroll\":\"auto\",\"active_tap\":\"auto\",\"tools\":[{\"id\":\"63309\"},{\"id\":\"63310\"},{\"id\":\"63311\"},{\"id\":\"63312\"},{\"id\":\"63313\"},{\"id\":\"63314\"}]},\"id\":\"63316\",\"type\":\"Toolbar\"},{\"attributes\":{},\"id\":\"63302\",\"type\":\"BasicTicker\"},{\"attributes\":{\"fill_alpha\":0.1,\"fill_color\":\"purple\",\"x\":{\"field\":\"x\"},\"y1\":{\"field\":\"y1\"},\"y2\":{\"field\":\"y2\"}},\"id\":\"63325\",\"type\":\"VArea\"},{\"attributes\":{},\"id\":\"63345\",\"type\":\"Selection\"}],\"root_ids\":[\"63290\"]},\"title\":\"Bokeh Application\",\"version\":\"2.0.1\"}};\n",
       "  var render_items = [{\"docid\":\"ec03e99b-bfdf-4406-b70d-4c96687f8d85\",\"root_ids\":[\"63290\"],\"roots\":{\"63290\":\"68da53e7-b850-429c-95b9-0a99ccde426f\"}}];\n",
       "  root.Bokeh.embed.embed_items_notebook(docs_json, render_items);\n",
       "\n",
       "  }\n",
       "  if (root.Bokeh !== undefined) {\n",
       "    embed_document(root);\n",
       "  } else {\n",
       "    var attempts = 0;\n",
       "    var timer = setInterval(function(root) {\n",
       "      if (root.Bokeh !== undefined) {\n",
       "        clearInterval(timer);\n",
       "        embed_document(root);\n",
       "      } else {\n",
       "        attempts++;\n",
       "        if (attempts > 100) {\n",
       "          clearInterval(timer);\n",
       "          console.log(\"Bokeh: ERROR: Unable to run BokehJS code because BokehJS library is missing\");\n",
       "        }\n",
       "      }\n",
       "    }, 10, root)\n",
       "  }\n",
       "})(window);"
      ],
      "application/vnd.bokehjs_exec.v0+json": ""
     },
     "metadata": {
      "application/vnd.bokehjs_exec.v0+json": {
       "id": "63290"
      }
     },
     "output_type": "display_data"
    },
    {
     "data": {
      "text/html": [
       "\n",
       "\n",
       "\n",
       "\n",
       "\n",
       "\n",
       "  <div class=\"bk-root\" id=\"dc690342-8ad7-48c6-a8e7-6213f48f2334\" data-root-id=\"64819\"></div>\n"
      ]
     },
     "metadata": {},
     "output_type": "display_data"
    },
    {
     "data": {
      "application/javascript": [
       "(function(root) {\n",
       "  function embed_document(root) {\n",
       "    \n",
       "  var docs_json = {\"9448dbeb-1041-42e0-849b-3bab258bdc5f\":{\"roots\":{\"references\":[{\"attributes\":{\"below\":[{\"id\":\"64830\"}],\"center\":[{\"id\":\"64833\"},{\"id\":\"64837\"},{\"id\":\"64877\"}],\"left\":[{\"id\":\"64834\"}],\"plot_height\":400,\"renderers\":[{\"id\":\"64855\"},{\"id\":\"64860\"},{\"id\":\"64865\"},{\"id\":\"64882\"},{\"id\":\"64900\"},{\"id\":\"64905\"},{\"id\":\"64907\"}],\"title\":{\"id\":\"64820\"},\"toolbar\":{\"id\":\"64845\"},\"x_range\":{\"id\":\"64822\"},\"x_scale\":{\"id\":\"64826\"},\"y_range\":{\"id\":\"64824\"},\"y_scale\":{\"id\":\"64828\"}},\"id\":\"64819\",\"subtype\":\"Figure\",\"type\":\"Plot\"},{\"attributes\":{\"axis\":{\"id\":\"64830\"},\"ticker\":null},\"id\":\"64833\",\"type\":\"Grid\"},{\"attributes\":{},\"id\":\"64875\",\"type\":\"UnionRenderers\"},{\"attributes\":{\"axis_label\":\"# people\",\"formatter\":{\"id\":\"64869\"},\"ticker\":{\"id\":\"64835\"}},\"id\":\"64834\",\"type\":\"LinearAxis\"},{\"attributes\":{\"items\":[{\"id\":\"64878\"},{\"id\":\"64896\"}],\"location\":\"top_left\"},\"id\":\"64877\",\"type\":\"Legend\"},{\"attributes\":{},\"id\":\"64874\",\"type\":\"Selection\"},{\"attributes\":{},\"id\":\"66251\",\"type\":\"Selection\"},{\"attributes\":{\"data_source\":{\"id\":\"64852\"},\"glyph\":{\"id\":\"64853\"},\"hover_glyph\":null,\"muted_glyph\":null,\"nonselection_glyph\":{\"id\":\"64854\"},\"selection_glyph\":null,\"view\":{\"id\":\"64856\"}},\"id\":\"64855\",\"type\":\"GlyphRenderer\"},{\"attributes\":{\"label\":{\"value\":\"Deceased\"},\"renderers\":[{\"id\":\"64865\"}]},\"id\":\"64878\",\"type\":\"LegendItem\"},{\"attributes\":{\"source\":{\"id\":\"64852\"}},\"id\":\"64856\",\"type\":\"CDSView\"},{\"attributes\":{},\"id\":\"66252\",\"type\":\"UnionRenderers\"},{\"attributes\":{},\"id\":\"64828\",\"type\":\"LinearScale\"},{\"attributes\":{\"bottom_units\":\"screen\",\"fill_alpha\":0.5,\"fill_color\":\"lightgrey\",\"left_units\":\"screen\",\"level\":\"overlay\",\"line_alpha\":1.0,\"line_color\":\"black\",\"line_dash\":[4,4],\"line_width\":2,\"render_mode\":\"css\",\"right_units\":\"screen\",\"top_units\":\"screen\"},\"id\":\"64844\",\"type\":\"BoxAnnotation\"},{\"attributes\":{\"data\":{\"x\":[0,1,2,3,4,5,6,7,8,9,10,11,12,13,14,15,16,17,18,19,20,21,22,23,24,25,26,27,28,29,30,31,32,33,34,35,36,37,38,39,40,41,42,43,44,45,46,47,48,49,50,51,52,53],\"y\":{\"__ndarray__\":\"4tFacVdTk0ARjn9nWAqYQHaFNEFf4Z1AC/0ArmVgokB6xyGu3oymQBRMvIWNKatAX1cqef4xsEAHcwvuWB+zQKeVNr8TOLZAA/q1rni+uUDByVDzy4y9QLC42az1zcBAhLr9+EvxwkC9P0WJ1yrFQGf6pk0/dMdACgZWQJjGyUBOw6ngoxrMQJYrobsTac5Adcd+9mZV0EDbrWo3l2zRQO5KYakgd9JACTn3S3ly00Cgy++VmFzUQHTJC9UBNNVA9Fu7Qsf31UA7v3AphqfWQNoCL+tcQ9dAxEjwE9zL10CrnsDb80HYQB2U/5LfpthAtnX5aBD82EDHA+vWGEPZQGGAsb6ZfdlA0NUmBTKt2UCE3LskcdPZQIhAp+zM8dlAJo/CYZoJ2kD88M6DCRzaQGbDN5YjKtpAMDCTdss02kCaQLaDvzzaQDu605ucQtpASlrow+FG2kCwr7Eb9EnaQEGL29QiTNpAFniv96pN2kCws7PRuk7aQNjSNvp0T9pAa/Q45fJP2kDJr2IGR1DaQOCz/ot+UNpAPZeivaJQ2kB2UOMLulDaQGQGo97IUNpA\",\"dtype\":\"float64\",\"shape\":[54]}},\"selected\":{\"id\":\"66251\"},\"selection_policy\":{\"id\":\"66252\"}},\"id\":\"64879\",\"type\":\"ColumnDataSource\"},{\"attributes\":{\"data\":{\"x\":[0,1,2,3,4,5,6,7,8,9,10,11,12,13,14,15,16,17,18,19,20,21,22,23,24,25,26,27,28,29,30,31,32,33,34,35,36,37,38,39,40,41,42,43,44,45,46,47,48,49,50,51,52,53],\"y1\":{\"__ndarray__\":\"EVoqKqwCQkDtd4Wrs8pHQMxcyGKKwE5ALqsdbbKVU0CILBKbcmBZQMiqiKJizF9Ah9HpUjQaZED65+5nsTppQGQKcZWVRG9Ar+C99HondEBc6Pz+JX95QDoaJWwOVYBAGLp4sVVBhEAear2YkmeIQIdpuZduzIxA4HWVYTgfkUB2K2jhRBWUQCYLdS/zf5dA2iJGhEVBnEBw4FRpYQugQPsxCC5hQaJAtP95QbwmpUBtFZfMUmSoQMDM3ryVqatAjJOjjkUsr0BXWYPTlDexQCxWY+izk7JAHVuBEOkJtEDaDWQ75uy1QKzrJFnGQrhASmhtoPNpukB8MJwdD268QJMhlxV6Fb5AeEaazcDHv0DHKNSLCQjBQJ7UDnyx7sFAWlyJX2D+wkBEUAysqhzEQC3hjiGLyMRA9GQ1ecRkxUBolPjnxfPFQD4MtQ+YdcZAbZcpLHjqxkDhZTIA7kbHQKQkbCmjlcdApQx87VcAyEDuYdkZ60vIQMCAE9GvwchAXESXotH4yEBSf5cb1x/JQCId9tWCQMlA+BCQCAZdyUAd82dGz3fJQDq5sdMTlslA\",\"dtype\":\"float64\",\"shape\":[54]},\"y2\":{\"__ndarray__\":\"ngaw3nuBbUCfk+6dOYpyQKhwlmxzEHdAQDHTLk/XfEBDfUr/qw2CQC5/6zDXOYZAEq311igoi0AW/sc0V3eQQEBernrVopNAGyfXEgFsl0B4NQJUcBqbQNI+F5cc+Z5AKmigxcaDokCld5xzhuWlQFzJJ9scUKlAKAr7s2HnrECPEYNVYmOwQOOxh0A6dbJAjwXbwaCVtEBVl6lOXcm2QAI3ydVbE7lAQKDaGed+u0Cne8qTI4K+QJQC/tYlksBAFWNj9crJwUCG7+WaSQXDQPOPR9QdIsRAUNQlgWxixUBqvGrpyqzGQNb19AhDKshALJCeV6iWyUC2wrmjvUHLQFcQ2djzzsxAFjOQEPhLzkAoX6pKQuLPQDX7oX3vn9BAygb6jc8/0UA9p/oUgcnRQN+6SyTgNNJA+3NVaI7a0kC1MuSe5knTQBR5VgqPu9NAx/Z9O0sS1ECysC5xFnvUQLTh07je7dRAtAvoMno01UCg/VC+9pbVQE0FXUCO8tVApqdX+oIt1kAHqLgOaHzWQJb/csVFq9ZAnIhFagjM1kCeRmETb+LWQKj+QSty8dZA\",\"dtype\":\"float64\",\"shape\":[54]}},\"selected\":{\"id\":\"64874\"},\"selection_policy\":{\"id\":\"64875\"}},\"id\":\"64857\",\"type\":\"ColumnDataSource\"},{\"attributes\":{},\"id\":\"66253\",\"type\":\"Selection\"},{\"attributes\":{},\"id\":\"64826\",\"type\":\"LinearScale\"},{\"attributes\":{\"line_color\":\"purple\",\"x\":{\"field\":\"x\"},\"y\":{\"field\":\"y\"}},\"id\":\"64880\",\"type\":\"Line\"},{\"attributes\":{},\"id\":\"66254\",\"type\":\"UnionRenderers\"},{\"attributes\":{},\"id\":\"64824\",\"type\":\"DataRange1d\"},{\"attributes\":{\"data_source\":{\"id\":\"64857\"},\"glyph\":{\"id\":\"64858\"},\"hover_glyph\":null,\"muted_glyph\":null,\"nonselection_glyph\":{\"id\":\"64859\"},\"selection_glyph\":null,\"view\":{\"id\":\"64861\"}},\"id\":\"64860\",\"type\":\"GlyphRenderer\"},{\"attributes\":{},\"id\":\"66255\",\"type\":\"Selection\"},{\"attributes\":{},\"id\":\"64894\",\"type\":\"UnionRenderers\"},{\"attributes\":{\"fill_alpha\":0.1,\"fill_color\":\"black\",\"x\":{\"field\":\"x\"},\"y1\":{\"field\":\"y1\"},\"y2\":{\"field\":\"y2\"}},\"id\":\"64859\",\"type\":\"VArea\"},{\"attributes\":{\"label\":{\"value\":\"Symptomatic infected\"},\"renderers\":[{\"id\":\"64882\"}]},\"id\":\"64896\",\"type\":\"LegendItem\"},{\"attributes\":{},\"id\":\"66256\",\"type\":\"UnionRenderers\"},{\"attributes\":{\"fill_alpha\":0.2,\"fill_color\":\"black\",\"x\":{\"field\":\"x\"},\"y1\":{\"field\":\"y1\"},\"y2\":{\"field\":\"y2\"}},\"id\":\"64858\",\"type\":\"VArea\"},{\"attributes\":{\"source\":{\"id\":\"64857\"}},\"id\":\"64861\",\"type\":\"CDSView\"},{\"attributes\":{\"data\":{\"x\":[0,1,2,3,4,5,6,7,8,9,10,11,12,13,14,15,16,17,18,19,20,21,22,23,24,25,26],\"y\":[55,73,98,135,154,267,333,468,617,744,890,966,1218,1420,1640,1959,2168,2549,3095,3456,3776,4178,4474,4861,5402,5944,6360]},\"selected\":{\"id\":\"66253\"},\"selection_policy\":{\"id\":\"66254\"}},\"id\":\"64897\",\"type\":\"ColumnDataSource\"},{\"attributes\":{\"data\":{\"x\":[0,1,2,3,4,5,6,7,8,9,10,11,12,13,14,15,16,17,18,19,20,21,22,23,24,25,26,27,28,29,30,31,32,33,34,35,36,37,38,39,40,41,42,43,44,45,46,47,48,49,50,51,52,53],\"y\":{\"__ndarray__\":\"iB3k+uIxVUDBKBRkWzpbQO+qwYjEjGFAXFKq5hZ0ZkCr5jqQ6cpsQBbmWzOYI3JA8V5nRHuvdkDTq8ovlil8QJJbIYZ6NIFAraBhx/kNhUBxLECgUZSJQMkpe12L2o5AX0PcI7N5kkDaNyafZfiVQOdsbg6Z8ZlATeX00H5snkDriTjvdLehQNjrOkp+fqRAHDlN+22Mp0CTDaArNuGqQJA0naeNe65AoIs+p24ssUDcltS9mzqzQAGMIEatZbVAb0gvk1+qt0CdNFQs2QS6QKGN+Ie9cLxA9T7m40TpvkCdYyAzrLTAQGjtm7rY9cFAa/5pgn01w0AjA7m++XDEQMnEWurGpcVAftpIP4jRxkBBZtJ9GPLHQEOimH2VBclAR8L4ImkKykD1PK53T//KQE5J1stZ48tAzZx76u61zEBLqQaQyHbNQAxqR2/uJc5A0SyyKa/DzkCAvNOvl1DPQJF5iodpzc9AMjg0O4gd0ECo1D0ETE3QQNrl2q+QdtBAau/Z0+yZ0EBdPyS7+LfQQKMOO6ZK0dBABFZ3q3Pm0EC+2vc8/ffQQGx1slFnBtFA\",\"dtype\":\"float64\",\"shape\":[54]}},\"selected\":{\"id\":\"64893\"},\"selection_policy\":{\"id\":\"64894\"}},\"id\":\"64862\",\"type\":\"ColumnDataSource\"},{\"attributes\":{\"data_source\":{\"id\":\"64879\"},\"glyph\":{\"id\":\"64880\"},\"hover_glyph\":null,\"muted_glyph\":null,\"nonselection_glyph\":{\"id\":\"64881\"},\"selection_glyph\":null,\"view\":{\"id\":\"64883\"}},\"id\":\"64882\",\"type\":\"GlyphRenderer\"},{\"attributes\":{\"fill_alpha\":0.2,\"fill_color\":\"purple\",\"x\":{\"field\":\"x\"},\"y1\":{\"field\":\"y1\"},\"y2\":{\"field\":\"y2\"}},\"id\":\"64853\",\"type\":\"VArea\"},{\"attributes\":{\"fill_alpha\":{\"value\":0.1},\"fill_color\":{\"value\":\"black\"},\"line_alpha\":{\"value\":0.1},\"x\":{\"field\":\"x\"},\"y\":{\"field\":\"y\"}},\"id\":\"64899\",\"type\":\"Circle\"},{\"attributes\":{},\"id\":\"64822\",\"type\":\"DataRange1d\"},{\"attributes\":{\"x\":{\"field\":\"x\"},\"y\":{\"field\":\"y\"}},\"id\":\"64863\",\"type\":\"Line\"},{\"attributes\":{\"data\":{\"x\":[0,1,2,3,4,5,6,7,8,9,10,11,12,13,14,15,16,17,18,19,20,21,22,23,24,25,26],\"y\":[1326,1497,1777,2008,2742,3372,4490,4427,5763,6896,7732,9059,10043,10861,12095,12266,13938,15420,17370,17885,18910,19868,20591,22189,23895,24509,25392]},\"selected\":{\"id\":\"66255\"},\"selection_policy\":{\"id\":\"66256\"}},\"id\":\"64902\",\"type\":\"ColumnDataSource\"},{\"attributes\":{\"data_source\":{\"id\":\"64897\"},\"glyph\":{\"id\":\"64898\"},\"hover_glyph\":null,\"muted_glyph\":null,\"nonselection_glyph\":{\"id\":\"64899\"},\"selection_glyph\":null,\"view\":{\"id\":\"64901\"}},\"id\":\"64900\",\"type\":\"GlyphRenderer\"},{\"attributes\":{\"line_alpha\":0.1,\"line_color\":\"purple\",\"x\":{\"field\":\"x\"},\"y\":{\"field\":\"y\"}},\"id\":\"64881\",\"type\":\"Line\"},{\"attributes\":{\"line_alpha\":0.1,\"x\":{\"field\":\"x\"},\"y\":{\"field\":\"y\"}},\"id\":\"64864\",\"type\":\"Line\"},{\"attributes\":{},\"id\":\"64839\",\"type\":\"WheelZoomTool\"},{\"attributes\":{\"fill_color\":{\"value\":\"black\"},\"x\":{\"field\":\"x\"},\"y\":{\"field\":\"y\"}},\"id\":\"64898\",\"type\":\"Circle\"},{\"attributes\":{},\"id\":\"64838\",\"type\":\"PanTool\"},{\"attributes\":{\"source\":{\"id\":\"64897\"}},\"id\":\"64901\",\"type\":\"CDSView\"},{\"attributes\":{\"axis\":{\"id\":\"64834\"},\"dimension\":1,\"ticker\":null},\"id\":\"64837\",\"type\":\"Grid\"},{\"attributes\":{\"data\":{\"x\":[0,1,2,3,4,5,6,7,8,9,10,11,12,13,14,15,16,17,18,19,20,21,22,23,24,25,26,27,28,29,30,31,32,33,34,35,36,37,38,39,40,41,42,43,44,45,46,47,48,49,50,51,52,53],\"y1\":{\"__ndarray__\":\"uDfdvRwfjEDO/VdF1wWSQKf1FN+zuJZAHgikjicxnEAwY9DULLahQGdh05GG6aVAXgr0yiWFqkC679R359GvQCzq/8+tv7JAALcgGofrtUANbKyf2ma5QCHtwOPFFL1AuNuPJMxxwEA49qW0m2jCQIs7UAaYncRA7JkPfXrCxkDbC+ZnWA7JQCjF/9OFIMtAkBQOW8U7zUDKhjJVOxzPQD5v3l7XndBAW/qOLgOL0UB10pOs9GHSQNm0EKLfG9NAQFNH9WT100BTpQXwL8jUQMZ0iXcPZ9VAAwJX5V3u1UC6c1XO+1PWQNmed5JLrdZAVBjCOT0G10D+3qFiD0DXQArh/kG3X9dAEjy8gMuI10BGTsDGCqrXQE9YD2aMxtdAktc2bLDi10CuT9GR+vjXQPIBV+L1DdhAgJ9EUyQV2EDYS46rIhzYQKipNjrNIdhANJRuRs0l2EArCqvgcibYQKaqzzvgJthAzfBvlCcn2EDUpUWTVSfYQIJFOeFyJ9hAntJeVYUn2EBYv2pNoifYQEiPBxgFKNhA1VpJVU4o2EC3tHA8hCjYQERHjpyrKNhA\",\"dtype\":\"float64\",\"shape\":[54]},\"y2\":{\"__ndarray__\":\"zzZXnX0ql0BAZFpUwK+cQIBj1kEIuKFAQ8pd3l2RpUDoVQYiFAGqQJ6SphLPFq9ATPjH1thvskAl9X1XXYq1QCD7bL6n3rhA3ZstSBybvEBFKdvla1HAQJnnNm0jhcJAFK/T8Lq/xEAQE/YPCw7HQOE2YnxaaclA03grbyYlzECqEvnJkmzOQKYFAt1tWNBAfFXHccR50UAdamEBn5LSQLMOut/uwNNAxGYaJfTT1EBo0H4jQ8LVQBaqhFPKrtZAHH16P3do10BE2V1TkgvYQLobLOeJoNhA5e4wutAw2UB5FuVXgaLZQIaVFIoB/9lAe5zdsHNC2kCXSTkpU3PaQIRnyOKVo9pActhtzNzH2kD1mCVACfDaQBF80n0/GdtAuow/jKdL20A8vUPoo2TbQByoMkMgcdtAFar87Uh620AkXwXd8IDbQCGGS5m8hdtAw3XRUSqJ20AylSlVmYvbQPL7haVQjdtAoz9th4SO20CJUiQoI4/bQD62stF1j9tAeMvxcKuP20Ds6X31zY/bQElh/QPkj9tAX41AAvKP20Coz9TS+o/bQAhENVYAkNtA\",\"dtype\":\"float64\",\"shape\":[54]}},\"selected\":{\"id\":\"64872\"},\"selection_policy\":{\"id\":\"64873\"}},\"id\":\"64852\",\"type\":\"ColumnDataSource\"},{\"attributes\":{\"source\":{\"id\":\"64862\"}},\"id\":\"64866\",\"type\":\"CDSView\"},{\"attributes\":{\"data_source\":{\"id\":\"64862\"},\"glyph\":{\"id\":\"64863\"},\"hover_glyph\":null,\"muted_glyph\":null,\"nonselection_glyph\":{\"id\":\"64864\"},\"selection_glyph\":null,\"view\":{\"id\":\"64866\"}},\"id\":\"64865\",\"type\":\"GlyphRenderer\"},{\"attributes\":{\"overlay\":{\"id\":\"64844\"}},\"id\":\"64840\",\"type\":\"BoxZoomTool\"},{\"attributes\":{},\"id\":\"64869\",\"type\":\"BasicTickFormatter\"},{\"attributes\":{\"active_drag\":\"auto\",\"active_inspect\":\"auto\",\"active_multi\":null,\"active_scroll\":\"auto\",\"active_tap\":\"auto\",\"tools\":[{\"id\":\"64838\"},{\"id\":\"64839\"},{\"id\":\"64840\"},{\"id\":\"64841\"},{\"id\":\"64842\"},{\"id\":\"64843\"}]},\"id\":\"64845\",\"type\":\"Toolbar\"},{\"attributes\":{\"fill_alpha\":{\"value\":0.1},\"fill_color\":{\"value\":\"purple\"},\"line_alpha\":{\"value\":0.1},\"line_color\":{\"value\":\"purple\"},\"x\":{\"field\":\"x\"},\"y\":{\"field\":\"y\"}},\"id\":\"64904\",\"type\":\"Circle\"},{\"attributes\":{},\"id\":\"64871\",\"type\":\"BasicTickFormatter\"},{\"attributes\":{},\"id\":\"64842\",\"type\":\"ResetTool\"},{\"attributes\":{\"dimension\":\"height\",\"line_width\":3,\"location\":20},\"id\":\"64907\",\"type\":\"Span\"},{\"attributes\":{\"fill_alpha\":0.1,\"fill_color\":\"purple\",\"x\":{\"field\":\"x\"},\"y1\":{\"field\":\"y1\"},\"y2\":{\"field\":\"y2\"}},\"id\":\"64854\",\"type\":\"VArea\"},{\"attributes\":{},\"id\":\"64835\",\"type\":\"BasicTicker\"},{\"attributes\":{\"data_source\":{\"id\":\"64902\"},\"glyph\":{\"id\":\"64903\"},\"hover_glyph\":null,\"muted_glyph\":null,\"nonselection_glyph\":{\"id\":\"64904\"},\"selection_glyph\":null,\"view\":{\"id\":\"64906\"}},\"id\":\"64905\",\"type\":\"GlyphRenderer\"},{\"attributes\":{},\"id\":\"64893\",\"type\":\"Selection\"},{\"attributes\":{\"text\":\"Lombardia erf Model\"},\"id\":\"64820\",\"type\":\"Title\"},{\"attributes\":{},\"id\":\"64872\",\"type\":\"Selection\"},{\"attributes\":{\"fill_color\":{\"value\":\"purple\"},\"line_color\":{\"value\":\"purple\"},\"x\":{\"field\":\"x\"},\"y\":{\"field\":\"y\"}},\"id\":\"64903\",\"type\":\"Circle\"},{\"attributes\":{},\"id\":\"64843\",\"type\":\"HelpTool\"},{\"attributes\":{\"axis_label\":\"t (days)\",\"formatter\":{\"id\":\"64871\"},\"ticker\":{\"id\":\"64831\"}},\"id\":\"64830\",\"type\":\"LinearAxis\"},{\"attributes\":{},\"id\":\"64873\",\"type\":\"UnionRenderers\"},{\"attributes\":{\"source\":{\"id\":\"64902\"}},\"id\":\"64906\",\"type\":\"CDSView\"},{\"attributes\":{},\"id\":\"64841\",\"type\":\"SaveTool\"},{\"attributes\":{},\"id\":\"64831\",\"type\":\"BasicTicker\"},{\"attributes\":{\"source\":{\"id\":\"64879\"}},\"id\":\"64883\",\"type\":\"CDSView\"}],\"root_ids\":[\"64819\"]},\"title\":\"Bokeh Application\",\"version\":\"2.0.1\"}};\n",
       "  var render_items = [{\"docid\":\"9448dbeb-1041-42e0-849b-3bab258bdc5f\",\"root_ids\":[\"64819\"],\"roots\":{\"64819\":\"dc690342-8ad7-48c6-a8e7-6213f48f2334\"}}];\n",
       "  root.Bokeh.embed.embed_items_notebook(docs_json, render_items);\n",
       "\n",
       "  }\n",
       "  if (root.Bokeh !== undefined) {\n",
       "    embed_document(root);\n",
       "  } else {\n",
       "    var attempts = 0;\n",
       "    var timer = setInterval(function(root) {\n",
       "      if (root.Bokeh !== undefined) {\n",
       "        clearInterval(timer);\n",
       "        embed_document(root);\n",
       "      } else {\n",
       "        attempts++;\n",
       "        if (attempts > 100) {\n",
       "          clearInterval(timer);\n",
       "          console.log(\"Bokeh: ERROR: Unable to run BokehJS code because BokehJS library is missing\");\n",
       "        }\n",
       "      }\n",
       "    }, 10, root)\n",
       "  }\n",
       "})(window);"
      ],
      "application/vnd.bokehjs_exec.v0+json": ""
     },
     "metadata": {
      "application/vnd.bokehjs_exec.v0+json": {
       "id": "64819"
      }
     },
     "output_type": "display_data"
    },
    {
     "data": {
      "text/html": [
       "\n",
       "\n",
       "\n",
       "\n",
       "\n",
       "\n",
       "  <div class=\"bk-root\" id=\"526b53b7-efc0-4767-8142-1150d43a0c39\" data-root-id=\"66366\"></div>\n"
      ]
     },
     "metadata": {},
     "output_type": "display_data"
    },
    {
     "data": {
      "application/javascript": [
       "(function(root) {\n",
       "  function embed_document(root) {\n",
       "    \n",
       "  var docs_json = {\"488d07ec-e6b0-443b-8dbd-664dc391fead\":{\"roots\":{\"references\":[{\"attributes\":{\"below\":[{\"id\":\"66377\"}],\"center\":[{\"id\":\"66380\"},{\"id\":\"66384\"},{\"id\":\"66424\"}],\"left\":[{\"id\":\"66381\"}],\"plot_height\":400,\"renderers\":[{\"id\":\"66402\"},{\"id\":\"66407\"},{\"id\":\"66412\"},{\"id\":\"66429\"},{\"id\":\"66447\"},{\"id\":\"66452\"},{\"id\":\"66454\"}],\"title\":{\"id\":\"66367\"},\"toolbar\":{\"id\":\"66392\"},\"x_range\":{\"id\":\"66369\"},\"x_scale\":{\"id\":\"66373\"},\"y_range\":{\"id\":\"66371\"},\"y_scale\":{\"id\":\"66375\"}},\"id\":\"66366\",\"subtype\":\"Figure\",\"type\":\"Plot\"},{\"attributes\":{\"axis\":{\"id\":\"66377\"},\"ticker\":null},\"id\":\"66380\",\"type\":\"Grid\"},{\"attributes\":{\"items\":[{\"id\":\"66425\"},{\"id\":\"66443\"}],\"location\":\"top_left\"},\"id\":\"66424\",\"type\":\"Legend\"},{\"attributes\":{},\"id\":\"67820\",\"type\":\"Selection\"},{\"attributes\":{},\"id\":\"66373\",\"type\":\"LinearScale\"},{\"attributes\":{\"data_source\":{\"id\":\"66399\"},\"glyph\":{\"id\":\"66400\"},\"hover_glyph\":null,\"muted_glyph\":null,\"nonselection_glyph\":{\"id\":\"66401\"},\"selection_glyph\":null,\"view\":{\"id\":\"66403\"}},\"id\":\"66402\",\"type\":\"GlyphRenderer\"},{\"attributes\":{},\"id\":\"66375\",\"type\":\"LinearScale\"},{\"attributes\":{\"label\":{\"value\":\"Deceased\"},\"renderers\":[{\"id\":\"66412\"}]},\"id\":\"66425\",\"type\":\"LegendItem\"},{\"attributes\":{\"source\":{\"id\":\"66399\"}},\"id\":\"66403\",\"type\":\"CDSView\"},{\"attributes\":{},\"id\":\"67821\",\"type\":\"UnionRenderers\"},{\"attributes\":{\"data\":{\"x\":[0,1,2,3,4,5,6,7,8,9,10,11,12,13,14,15,16,17,18,19,20,21,22,23,24,25,26,27,28,29,30,31,32,33,34,35,36,37,38,39,40,41,42,43,44,45,46,47,48,49,50,51,52,53],\"y\":{\"__ndarray__\":\"UuLdemWok0BcjGloTmGYQAleK+NWN55AZLxAmhaJokDpAe5cC7GmQEl502BAR6tAy4i4LpU8sEBEZzmNwySzQC6tbOTeN7ZAaBxfH/63uUBlbzjxBIC9QNTPSf+kxMBAO91CP4vlwkBi+9sQbB3FQIpgbWw2ZsdAoOZikUK5yUDCaNfiiw/MQM0n0TfwYc5AR7Z5dbhU0EB3L0jouG/RQMSgLTP5ftJAFDdwBN9/00BRMdpZSHDUQPame1uXTtVA3JUqZLcZ1kCpKnJnG9HWQIQ20VS2dNdA+yyvcu4E2EDNIgTqjILYQCmoa9uq7thASim3V51K2UBzQoZ84ZfZQLt6o8YJ2NlA6Gjobq0M2kCpyKViWjfaQIpJ6SSKWdpAjFZFqJl02kCzrS39w4naQE2gB4ofmtpAqnqCaJ2m2kCRKwp3CrDaQH20eKsRt9pA0fQ1Oz+82kCdMBg6BMDaQAUbAmK6wtpApq0sx6fE2kC6YHlOAsbaQFrBz8ryxtpAyICls5fH2kDa6BBxB8jaQA4ZM0FSyNpAcmWnv4PI2kB+vWEapMjaQOzRdwC5yNpA\",\"dtype\":\"float64\",\"shape\":[54]}},\"selected\":{\"id\":\"67816\"},\"selection_policy\":{\"id\":\"67817\"}},\"id\":\"66426\",\"type\":\"ColumnDataSource\"},{\"attributes\":{},\"id\":\"66385\",\"type\":\"PanTool\"},{\"attributes\":{\"data\":{\"x\":[0,1,2,3,4,5,6,7,8,9,10,11,12,13,14,15,16,17,18,19,20,21,22,23,24,25,26,27,28,29,30,31,32,33,34,35,36,37,38,39,40,41,42,43,44,45,46,47,48,49,50,51,52,53],\"y1\":{\"__ndarray__\":\"RtLgElFWSEDjx3cPNH1QQNQARQDPYVZAbrZaSf9OXkCkfQPOssZkQFxUqm2PNWtA5+RUmmarcUCo52K/vrd2QIoGop95TXxAVSLJ5vKOgUAMOGSKGRiGQFji1nfOT4tAs7C/tMCmkECnyA6OMxGUQL32FDjBGphAdnKWd1dunEDFixZ+CZegQBIcmujRA6NASsy+wbOUpUDmZsAwFlKoQKioXxfcOqtA9NQIn0UbrkAjJv5HQY2wQNmcwaz9CrJAaqlPKLZxs0BP7Q+53+O0QENPYlA7NLZAsyr8H0tut0BO69NhNIu4QJICo/1akLlAsIf/VW53ukB+kjBQfV67QF+WwLCwMrxAwyJKaO7VvECog7Fi5n+9QFqKnPuqA75A9OzYmdpqvkAMet/2bsW+QFlMWCiZDb9AYevWsKo+v0DigQ1xGIS/QMo7HXSCub9AAzZPDXvQv0Bd3SJ9d+O/QKjz2QXY9r9AesGPmt0CwED8+OcRYgfAQGMtzldOCsBArJffWZEMwEDPmfrtKw7AQPc7IE1LD8BAvvVx1BEQwECOJbIzmRDAQBdgaE/0EMBA\",\"dtype\":\"float64\",\"shape\":[54]},\"y2\":{\"__ndarray__\":\"i8kDhva9VECkrYZSvnNbQMl8KkVxHmJAfsTJXHx9Z0Dzx80DnyZvQO2aH57REnRAsIfNaOlXeUA0EanpbYt/QBs2/SlpSYNAihDt+S3Dh0DD9i2VVv+MQHTu96zNl5FArJC8u0IVlUCzzmpbDACZQChYul23YZ1ADPgPAjgyoUAaSSYvAcejQBuRCEJsd6ZATm5sBshuqUB+JT+0UnisQLnYTSnbdK9AvkKs/UVHsUBerNs9K9uyQHEGIPWCWLRAPK3oeyXStUDYjrn7Hk63QM23hptiuLhAEkCnD9sXukB6Mi+yPU67QFSedkBhVLxAV8157FBavUDtI9GzkVK+QF7ncX2DGb9AJ0x8vc2uv0A/5A9kYiDAQLbugBRpacBAxoMwaZKpwEAfSl+gY+bAQHrfg22gFsFADHAXFE87wUDCGCd2hlbBQMXxtl8Ba8FAAjHVOZ55wUBeHXoHLIfBQFLZKbNBkcFAevQkBzKYwUC2jCEu35vBQBwnudPpncFAkMtA/FSfwUDM3lzKTaDBQLoIudz1oMFACoVQzmWhwUCDlQ1Sr6HBQEhd7eveocFA\",\"dtype\":\"float64\",\"shape\":[54]}},\"selected\":{\"id\":\"66421\"},\"selection_policy\":{\"id\":\"66422\"}},\"id\":\"66404\",\"type\":\"ColumnDataSource\"},{\"attributes\":{},\"id\":\"66371\",\"type\":\"DataRange1d\"},{\"attributes\":{\"line_color\":\"purple\",\"x\":{\"field\":\"x\"},\"y\":{\"field\":\"y\"}},\"id\":\"66427\",\"type\":\"Line\"},{\"attributes\":{\"data\":{\"x\":[0,1,2,3,4,5,6,7,8,9,10,11,12,13,14,15,16,17,18,19,20,21,22,23,24,25,26],\"y\":[1326,1497,1777,2008,2742,3372,4490,4427,5763,6896,7732,9059,10043,10861,12095,12266,13938,15420,17370,17885,18910,19868,20591,22189,23895,24509,25392]},\"selected\":{\"id\":\"67820\"},\"selection_policy\":{\"id\":\"67821\"}},\"id\":\"66449\",\"type\":\"ColumnDataSource\"},{\"attributes\":{\"data_source\":{\"id\":\"66404\"},\"glyph\":{\"id\":\"66405\"},\"hover_glyph\":null,\"muted_glyph\":null,\"nonselection_glyph\":{\"id\":\"66406\"},\"selection_glyph\":null,\"view\":{\"id\":\"66408\"}},\"id\":\"66407\",\"type\":\"GlyphRenderer\"},{\"attributes\":{\"fill_alpha\":0.1,\"fill_color\":\"black\",\"x\":{\"field\":\"x\"},\"y1\":{\"field\":\"y1\"},\"y2\":{\"field\":\"y2\"}},\"id\":\"66406\",\"type\":\"VArea\"},{\"attributes\":{},\"id\":\"66369\",\"type\":\"DataRange1d\"},{\"attributes\":{\"text\":\"Lombardia erf Model\"},\"id\":\"66367\",\"type\":\"Title\"},{\"attributes\":{\"fill_alpha\":{\"value\":0.1},\"fill_color\":{\"value\":\"black\"},\"line_alpha\":{\"value\":0.1},\"x\":{\"field\":\"x\"},\"y\":{\"field\":\"y\"}},\"id\":\"66446\",\"type\":\"Circle\"},{\"attributes\":{\"fill_alpha\":0.2,\"fill_color\":\"black\",\"x\":{\"field\":\"x\"},\"y1\":{\"field\":\"y1\"},\"y2\":{\"field\":\"y2\"}},\"id\":\"66405\",\"type\":\"VArea\"},{\"attributes\":{\"fill_color\":{\"value\":\"black\"},\"x\":{\"field\":\"x\"},\"y\":{\"field\":\"y\"}},\"id\":\"66445\",\"type\":\"Circle\"},{\"attributes\":{\"source\":{\"id\":\"66404\"}},\"id\":\"66408\",\"type\":\"CDSView\"},{\"attributes\":{\"fill_alpha\":0.2,\"fill_color\":\"purple\",\"x\":{\"field\":\"x\"},\"y1\":{\"field\":\"y1\"},\"y2\":{\"field\":\"y2\"}},\"id\":\"66400\",\"type\":\"VArea\"},{\"attributes\":{\"source\":{\"id\":\"66444\"}},\"id\":\"66448\",\"type\":\"CDSView\"},{\"attributes\":{},\"id\":\"66441\",\"type\":\"UnionRenderers\"},{\"attributes\":{\"data\":{\"x\":[0,1,2,3,4,5,6,7,8,9,10,11,12,13,14,15,16,17,18,19,20,21,22,23,24,25,26,27,28,29,30,31,32,33,34,35,36,37,38,39,40,41,42,43,44,45,46,47,48,49,50,51,52,53],\"y\":{\"__ndarray__\":\"FxeNnVhwT0DSR49vGSpVQH52+5kwiVxA0a3nr4kDY0At0kzAIlRpQIRRMZ2ie3BAX6hizo41dUDOStcgtvt6QGsgUvW00IBA6YcEJDDuhEC4mgZ5osSJQFvTLy61YY9AkO9/Y9vnkkDngCI9VYqWQKrfOLi4mJpANnoLDpAQn0DstCItJPahQMJfIDaQkaRA8WuW7aBUp0D1kN8HAziqQGxGTMoyM61AdRX7ImMesEAiB0MAY6WxQLhHxFGHKbNA2tbFvtqltECb1MivtBW2QHNRa9rkdLdAQ7BySNe/uEBpG6bfrvO5QAZkxT1VDrtAKp1ImX8OvEC3w9MtqfO8QDzhxnUEvr1AmS8KAWVuvkBCyVMSJAa/QMQ0pUwCh79AAWMUpgjzv0COI+5JNSbAQN4LQYG1SsBAonnGnCJowEAUxEopjX/AQLpLnb3xkcBAEAXqbDSgwECcmZhRHqvAQHEFQt9cs8BAAbeMnYK5wEAra1brCL7AQJPUUG9SwcBAZPCc5q3DwEAxLpAQWcXAQOZthIaDxsBAMXm0XVHHwECw3Ip+3cfAQGcxyac7yMBA\",\"dtype\":\"float64\",\"shape\":[54]}},\"selected\":{\"id\":\"66440\"},\"selection_policy\":{\"id\":\"66441\"}},\"id\":\"66409\",\"type\":\"ColumnDataSource\"},{\"attributes\":{},\"id\":\"66440\",\"type\":\"Selection\"},{\"attributes\":{\"line_alpha\":0.1,\"line_color\":\"purple\",\"x\":{\"field\":\"x\"},\"y\":{\"field\":\"y\"}},\"id\":\"66428\",\"type\":\"Line\"},{\"attributes\":{\"label\":{\"value\":\"Symptomatic infected\"},\"renderers\":[{\"id\":\"66429\"}]},\"id\":\"66443\",\"type\":\"LegendItem\"},{\"attributes\":{\"data_source\":{\"id\":\"66444\"},\"glyph\":{\"id\":\"66445\"},\"hover_glyph\":null,\"muted_glyph\":null,\"nonselection_glyph\":{\"id\":\"66446\"},\"selection_glyph\":null,\"view\":{\"id\":\"66448\"}},\"id\":\"66447\",\"type\":\"GlyphRenderer\"},{\"attributes\":{\"bottom_units\":\"screen\",\"fill_alpha\":0.5,\"fill_color\":\"lightgrey\",\"left_units\":\"screen\",\"level\":\"overlay\",\"line_alpha\":1.0,\"line_color\":\"black\",\"line_dash\":[4,4],\"line_width\":2,\"render_mode\":\"css\",\"right_units\":\"screen\",\"top_units\":\"screen\"},\"id\":\"66391\",\"type\":\"BoxAnnotation\"},{\"attributes\":{\"x\":{\"field\":\"x\"},\"y\":{\"field\":\"y\"}},\"id\":\"66410\",\"type\":\"Line\"},{\"attributes\":{\"data\":{\"x\":[0,1,2,3,4,5,6,7,8,9,10,11,12,13,14,15,16,17,18,19,20,21,22,23,24,25,26],\"y\":[55,73,98,135,154,267,333,468,617,744,890,966,1218,1420,1640,1959,2168,2549,3095,3456,3776,4178,4474,4861,5402,5944,6360]},\"selected\":{\"id\":\"67818\"},\"selection_policy\":{\"id\":\"67819\"}},\"id\":\"66444\",\"type\":\"ColumnDataSource\"},{\"attributes\":{\"fill_alpha\":{\"value\":0.1},\"fill_color\":{\"value\":\"purple\"},\"line_alpha\":{\"value\":0.1},\"line_color\":{\"value\":\"purple\"},\"x\":{\"field\":\"x\"},\"y\":{\"field\":\"y\"}},\"id\":\"66451\",\"type\":\"Circle\"},{\"attributes\":{\"line_alpha\":0.1,\"x\":{\"field\":\"x\"},\"y\":{\"field\":\"y\"}},\"id\":\"66411\",\"type\":\"Line\"},{\"attributes\":{\"source\":{\"id\":\"66426\"}},\"id\":\"66430\",\"type\":\"CDSView\"},{\"attributes\":{},\"id\":\"66382\",\"type\":\"BasicTicker\"},{\"attributes\":{\"data_source\":{\"id\":\"66449\"},\"glyph\":{\"id\":\"66450\"},\"hover_glyph\":null,\"muted_glyph\":null,\"nonselection_glyph\":{\"id\":\"66451\"},\"selection_glyph\":null,\"view\":{\"id\":\"66453\"}},\"id\":\"66452\",\"type\":\"GlyphRenderer\"},{\"attributes\":{\"data\":{\"x\":[0,1,2,3,4,5,6,7,8,9,10,11,12,13,14,15,16,17,18,19,20,21,22,23,24,25,26,27,28,29,30,31,32,33,34,35,36,37,38,39,40,41,42,43,44,45,46,47,48,49,50,51,52,53],\"y1\":{\"__ndarray__\":\"rTJ4FhhMkUA0S+ZhwG6VQDFi4j219JpAaRZNxduzoEA0uXZSEr6kQCaQcN+qOalAGnMHABwxrkDy+jvpoNexQDygIHdaubRAytbt7dgpuECZAHGhbOC7QAQ6evQ3vL9AVbWHWsPjwUBCCRb1Px/EQCyGV06rhcZAdGGY3knGyEBoPe60EBnLQHiYHwA4aM1AVtXP26ylz0AcKMdQn93QQPKo44m45tFAPAJK15nl0kBS3WmzgtvTQMoVvAewutRAqx2M+1h01UCSM3/n4SHWQM9pTjVNvNZA4+Fmxg1N10DfOlOqg9nXQDDiRWTQRthAVwMuJLec2EDiOYCYwd7YQI6couEcMtlA3iMhqMp12UBo4uzZAqrZQMAjWpDPytlASnkQMa3k2UDRdmb/5vjZQNC3wPWHCNpAnbT/v8kS2kAaKgZn7xnaQGbi3YslH9pASgkQO+Yi2kDsA0dikSXaQKZN0SZxJ9pAQtx16r0o2kDsxHDfoSnaQB92Ax08KtpAvcuiMqMq2kDUqZ1A5yraQD4hkKITK9pABxe7OjAr2kAINhRuQivaQFuGOOBNK9pA\",\"dtype\":\"float64\",\"shape\":[54]},\"y2\":{\"__ndarray__\":\"1mcJg2rclUDv7BaU1MSaQPMrokYTY6BAGi9Uy5fro0BX3heKmWCoQEr5CCEFVa1A7fWCVtBhsUC8BZXjYT60QBDoHmPIebdA5pY3WJ8Fu0C64ENqiOa+QLqHk2YThsFA5onMWtjOw0CY9RHXOQTGQNQLE1tkVshAoFmyQRugykD6ou3WyATNQFOk6522Vs9ADNwba5HG0EBhqDeHgeTRQKVdb2SL+tJAjgR2MQwG1EAQcgOgNvjUQJlMpMy63dVA4TodUQim1kAimKgg6V7XQM+DZ3yKDdhAiktNDb2k2EBIM95O+irZQG3ke47gn9lA0Fo4ezAE2kAiAlDOAVLaQHFm3n5AldpA8wQiETDN2kCHs9C4avraQBxTL990I9tA/6bflI1G20AtEkmELmLbQKVyEhT0d9tALm0Lr+qI20CwTQQe/JXbQDG2bFnwn9tAAtY3gW+n20BAIOKMmqzbQFYbSz/mr9tAtfufEkay20BgcIQb97PbQO6MQDIotdtAF3WOw/y120Am1UU7j7bbQIp0JgrztttABfBmTTa320DAivAhY7fbQGpSwq6At9tA\",\"dtype\":\"float64\",\"shape\":[54]}},\"selected\":{\"id\":\"66419\"},\"selection_policy\":{\"id\":\"66420\"}},\"id\":\"66399\",\"type\":\"ColumnDataSource\"},{\"attributes\":{\"fill_color\":{\"value\":\"purple\"},\"line_color\":{\"value\":\"purple\"},\"x\":{\"field\":\"x\"},\"y\":{\"field\":\"y\"}},\"id\":\"66450\",\"type\":\"Circle\"},{\"attributes\":{\"source\":{\"id\":\"66409\"}},\"id\":\"66413\",\"type\":\"CDSView\"},{\"attributes\":{\"data_source\":{\"id\":\"66409\"},\"glyph\":{\"id\":\"66410\"},\"hover_glyph\":null,\"muted_glyph\":null,\"nonselection_glyph\":{\"id\":\"66411\"},\"selection_glyph\":null,\"view\":{\"id\":\"66413\"}},\"id\":\"66412\",\"type\":\"GlyphRenderer\"},{\"attributes\":{\"fill_alpha\":0.1,\"fill_color\":\"purple\",\"x\":{\"field\":\"x\"},\"y1\":{\"field\":\"y1\"},\"y2\":{\"field\":\"y2\"}},\"id\":\"66401\",\"type\":\"VArea\"},{\"attributes\":{\"source\":{\"id\":\"66449\"}},\"id\":\"66453\",\"type\":\"CDSView\"},{\"attributes\":{\"axis\":{\"id\":\"66381\"},\"dimension\":1,\"ticker\":null},\"id\":\"66384\",\"type\":\"Grid\"},{\"attributes\":{},\"id\":\"66386\",\"type\":\"WheelZoomTool\"},{\"attributes\":{},\"id\":\"66416\",\"type\":\"BasicTickFormatter\"},{\"attributes\":{\"active_drag\":\"auto\",\"active_inspect\":\"auto\",\"active_multi\":null,\"active_scroll\":\"auto\",\"active_tap\":\"auto\",\"tools\":[{\"id\":\"66385\"},{\"id\":\"66386\"},{\"id\":\"66387\"},{\"id\":\"66388\"},{\"id\":\"66389\"},{\"id\":\"66390\"}]},\"id\":\"66392\",\"type\":\"Toolbar\"},{\"attributes\":{\"overlay\":{\"id\":\"66391\"}},\"id\":\"66387\",\"type\":\"BoxZoomTool\"},{\"attributes\":{\"data_source\":{\"id\":\"66426\"},\"glyph\":{\"id\":\"66427\"},\"hover_glyph\":null,\"muted_glyph\":null,\"nonselection_glyph\":{\"id\":\"66428\"},\"selection_glyph\":null,\"view\":{\"id\":\"66430\"}},\"id\":\"66429\",\"type\":\"GlyphRenderer\"},{\"attributes\":{\"dimension\":\"height\",\"line_width\":3,\"location\":24},\"id\":\"66454\",\"type\":\"Span\"},{\"attributes\":{},\"id\":\"66418\",\"type\":\"BasicTickFormatter\"},{\"attributes\":{},\"id\":\"66390\",\"type\":\"HelpTool\"},{\"attributes\":{},\"id\":\"66389\",\"type\":\"ResetTool\"},{\"attributes\":{},\"id\":\"67816\",\"type\":\"Selection\"},{\"attributes\":{},\"id\":\"66419\",\"type\":\"Selection\"},{\"attributes\":{\"axis_label\":\"# people\",\"formatter\":{\"id\":\"66416\"},\"ticker\":{\"id\":\"66382\"}},\"id\":\"66381\",\"type\":\"LinearAxis\"},{\"attributes\":{},\"id\":\"67817\",\"type\":\"UnionRenderers\"},{\"attributes\":{},\"id\":\"66420\",\"type\":\"UnionRenderers\"},{\"attributes\":{},\"id\":\"66388\",\"type\":\"SaveTool\"},{\"attributes\":{\"axis_label\":\"t (days)\",\"formatter\":{\"id\":\"66418\"},\"ticker\":{\"id\":\"66378\"}},\"id\":\"66377\",\"type\":\"LinearAxis\"},{\"attributes\":{},\"id\":\"67818\",\"type\":\"Selection\"},{\"attributes\":{},\"id\":\"66421\",\"type\":\"Selection\"},{\"attributes\":{},\"id\":\"66378\",\"type\":\"BasicTicker\"},{\"attributes\":{},\"id\":\"67819\",\"type\":\"UnionRenderers\"},{\"attributes\":{},\"id\":\"66422\",\"type\":\"UnionRenderers\"}],\"root_ids\":[\"66366\"]},\"title\":\"Bokeh Application\",\"version\":\"2.0.1\"}};\n",
       "  var render_items = [{\"docid\":\"488d07ec-e6b0-443b-8dbd-664dc391fead\",\"root_ids\":[\"66366\"],\"roots\":{\"66366\":\"526b53b7-efc0-4767-8142-1150d43a0c39\"}}];\n",
       "  root.Bokeh.embed.embed_items_notebook(docs_json, render_items);\n",
       "\n",
       "  }\n",
       "  if (root.Bokeh !== undefined) {\n",
       "    embed_document(root);\n",
       "  } else {\n",
       "    var attempts = 0;\n",
       "    var timer = setInterval(function(root) {\n",
       "      if (root.Bokeh !== undefined) {\n",
       "        clearInterval(timer);\n",
       "        embed_document(root);\n",
       "      } else {\n",
       "        attempts++;\n",
       "        if (attempts > 100) {\n",
       "          clearInterval(timer);\n",
       "          console.log(\"Bokeh: ERROR: Unable to run BokehJS code because BokehJS library is missing\");\n",
       "        }\n",
       "      }\n",
       "    }, 10, root)\n",
       "  }\n",
       "})(window);"
      ],
      "application/vnd.bokehjs_exec.v0+json": ""
     },
     "metadata": {
      "application/vnd.bokehjs_exec.v0+json": {
       "id": "66366"
      }
     },
     "output_type": "display_data"
    },
    {
     "data": {
      "text/html": [
       "\n",
       "\n",
       "\n",
       "\n",
       "\n",
       "\n",
       "  <div class=\"bk-root\" id=\"0f5390ce-1a8c-4526-99b7-6dc96d5d3c86\" data-root-id=\"67931\"></div>\n"
      ]
     },
     "metadata": {},
     "output_type": "display_data"
    },
    {
     "data": {
      "application/javascript": [
       "(function(root) {\n",
       "  function embed_document(root) {\n",
       "    \n",
       "  var docs_json = {\"a87a2e4b-b0b0-406c-94b0-3dc76025e35b\":{\"roots\":{\"references\":[{\"attributes\":{\"below\":[{\"id\":\"67942\"}],\"center\":[{\"id\":\"67945\"},{\"id\":\"67949\"},{\"id\":\"67989\"}],\"left\":[{\"id\":\"67946\"}],\"plot_height\":400,\"renderers\":[{\"id\":\"67967\"},{\"id\":\"67972\"},{\"id\":\"67977\"},{\"id\":\"67994\"},{\"id\":\"68012\"},{\"id\":\"68017\"}],\"title\":{\"id\":\"67932\"},\"toolbar\":{\"id\":\"67957\"},\"x_range\":{\"id\":\"67934\"},\"x_scale\":{\"id\":\"67938\"},\"y_range\":{\"id\":\"67936\"},\"y_scale\":{\"id\":\"67940\"}},\"id\":\"67931\",\"subtype\":\"Figure\",\"type\":\"Plot\"},{\"attributes\":{\"label\":{\"value\":\"Symptomatic infected\"},\"renderers\":[{\"id\":\"67994\"}]},\"id\":\"68008\",\"type\":\"LegendItem\"},{\"attributes\":{\"line_alpha\":0.1,\"x\":{\"field\":\"x\"},\"y\":{\"field\":\"y\"}},\"id\":\"67976\",\"type\":\"Line\"},{\"attributes\":{},\"id\":\"67934\",\"type\":\"DataRange1d\"},{\"attributes\":{\"x\":{\"field\":\"x\"},\"y\":{\"field\":\"y\"}},\"id\":\"67975\",\"type\":\"Line\"},{\"attributes\":{\"data\":{\"x\":[0,1,2,3,4,5,6,7,8,9,10,11,12,13,14,15,16,17,18,19,20,21,22,23,24,25,26],\"y\":[55,73,98,135,154,267,333,468,617,744,890,966,1218,1420,1640,1959,2168,2549,3095,3456,3776,4178,4474,4861,5402,5944,6360]},\"selected\":{\"id\":\"69400\"},\"selection_policy\":{\"id\":\"69401\"}},\"id\":\"68009\",\"type\":\"ColumnDataSource\"},{\"attributes\":{\"source\":{\"id\":\"67974\"}},\"id\":\"67978\",\"type\":\"CDSView\"},{\"attributes\":{\"fill_alpha\":{\"value\":0.1},\"fill_color\":{\"value\":\"black\"},\"line_alpha\":{\"value\":0.1},\"x\":{\"field\":\"x\"},\"y\":{\"field\":\"y\"}},\"id\":\"68011\",\"type\":\"Circle\"},{\"attributes\":{\"data_source\":{\"id\":\"67974\"},\"glyph\":{\"id\":\"67975\"},\"hover_glyph\":null,\"muted_glyph\":null,\"nonselection_glyph\":{\"id\":\"67976\"},\"selection_glyph\":null,\"view\":{\"id\":\"67978\"}},\"id\":\"67977\",\"type\":\"GlyphRenderer\"},{\"attributes\":{\"data\":{\"x\":[0,1,2,3,4,5,6,7,8,9,10,11,12,13,14,15,16,17,18,19,20,21,22,23,24,25,26],\"y\":[1326,1497,1777,2008,2742,3372,4490,4427,5763,6896,7732,9059,10043,10861,12095,12266,13938,15420,17370,17885,18910,19868,20591,22189,23895,24509,25392]},\"selected\":{\"id\":\"69402\"},\"selection_policy\":{\"id\":\"69403\"}},\"id\":\"68014\",\"type\":\"ColumnDataSource\"},{\"attributes\":{},\"id\":\"67981\",\"type\":\"BasicTickFormatter\"},{\"attributes\":{\"text\":\"Lombardia erf Model\"},\"id\":\"67932\",\"type\":\"Title\"},{\"attributes\":{\"data_source\":{\"id\":\"68009\"},\"glyph\":{\"id\":\"68010\"},\"hover_glyph\":null,\"muted_glyph\":null,\"nonselection_glyph\":{\"id\":\"68011\"},\"selection_glyph\":null,\"view\":{\"id\":\"68013\"}},\"id\":\"68012\",\"type\":\"GlyphRenderer\"},{\"attributes\":{\"source\":{\"id\":\"67969\"}},\"id\":\"67973\",\"type\":\"CDSView\"},{\"attributes\":{\"fill_color\":{\"value\":\"black\"},\"x\":{\"field\":\"x\"},\"y\":{\"field\":\"y\"}},\"id\":\"68010\",\"type\":\"Circle\"},{\"attributes\":{\"data_source\":{\"id\":\"67969\"},\"glyph\":{\"id\":\"67970\"},\"hover_glyph\":null,\"muted_glyph\":null,\"nonselection_glyph\":{\"id\":\"67971\"},\"selection_glyph\":null,\"view\":{\"id\":\"67973\"}},\"id\":\"67972\",\"type\":\"GlyphRenderer\"},{\"attributes\":{},\"id\":\"67983\",\"type\":\"BasicTickFormatter\"},{\"attributes\":{\"data\":{\"x\":[0,1,2,3,4,5,6,7,8,9,10,11,12,13,14,15,16,17,18,19,20,21,22,23,24,25,26,27,28,29,30,31,32,33,34,35,36,37,38,39,40,41,42,43,44,45,46,47,48,49,50,51,52,53],\"y1\":{\"__ndarray__\":\"2dL+E/5PUEApfMQPWIxVQH1+NIrMj1xA/0YIZ6DHYkAe1y1kJ5xoQEwMLngjum9AdT6XWLotdEDSoRzexnN5QD2ychgzkH9AHraidvZzg0CmtqbiKMmHQNhjmo+7w4xAUmurfVM1kUDHJ0bSi5iUQKd64zZrMJhA93G1kgclnECAC16bPFOgQM/mdyblw6JAT4hhA3lcpUArYd8mDRmoQA9K6kwmCqtADYMRe/8frkDqF5K9xa+wQBGDEIG4T7JAggRq5Av1s0ByFggWBZu1QNq3u+LMPLdA0ig/rIrRuEArPVUSIFC6QHEKto+JubtAcWIfkactvUDc286S9mG+QPplDzMHh79A/nGdRuFHwEDIHMriLcLAQMqFhYkuMcFAJmOXuCCpwUAkPFneGgfCQAisY5ELUsJAi9kF91eXwkD//of5GtPCQL3OtV+4BcNA0bCdjpsnw0CzSKMqukDDQCaLnlIsVMNAl9w/g8pow0AAWpkhdnzDQCpxn8Qfj8NAs65X8Kuaw0BhDBwlxaLDQP/kl3qoqcNA/z67M7euw0BDc3pjgLHDQIwgKhXzs8NA\",\"dtype\":\"float64\",\"shape\":[54]},\"y2\":{\"__ndarray__\":\"IVSNLXqjV0CD/RJA4ZJeQKuw2ZDp7GNAvruwvCiOaUDkxbhdzF1wQDmstR1OsXRASoiNpNz2eUBH6f1yqiqAQB+81RhYxoNAIPWowyoJiECL/pozuCqNQA7PHMRkiJFAqh0E6g3DlEDFhqqiJHiYQLTZ7WyHz5xASjr6qASfoEAtmW2CtiGjQMaIHm6Wr6VAnF5jCxCYqECAMeyzNqSrQFaI8CsewK5AOcp+gE8KsUAWdYJmuNuyQJ4bIjr7j7RAVLbInaU9tkBlcSdsSAS4QCIiK/aSvLlAatrB2htsu0DqL+JrXR69QFLaOBrxnb5ACBee4B0LwECIe2tuwbnAQG6w1Pz/YsFA0LRhaSv4wUDcuHjx8YLCQPez+Ge9/sJA+22Z7e5rw0DifUNYU8rDQFpxwXWaGcRA/DVEE7ZbxEBrU0xFIpHEQH4jAlszvcRA9qsECGDhxECFo0rYLgTFQJieGQ50G8VAOM2wp0k2xUAt+nEbS0vFQBlGXfVBV8VAsSYgGmVixUAbgUNHYGrFQCDvjrppcMVA1NCWcNR3xUBGidwZsn3FQCAl8jbsgcVA\",\"dtype\":\"float64\",\"shape\":[54]}},\"selected\":{\"id\":\"67986\"},\"selection_policy\":{\"id\":\"67987\"}},\"id\":\"67969\",\"type\":\"ColumnDataSource\"},{\"attributes\":{\"source\":{\"id\":\"68009\"}},\"id\":\"68013\",\"type\":\"CDSView\"},{\"attributes\":{},\"id\":\"67947\",\"type\":\"BasicTicker\"},{\"attributes\":{},\"id\":\"67984\",\"type\":\"Selection\"},{\"attributes\":{\"data\":{\"x\":[0,1,2,3,4,5,6,7,8,9,10,11,12,13,14,15,16,17,18,19,20,21,22,23,24,25,26,27,28,29,30,31,32,33,34,35,36,37,38,39,40,41,42,43,44,45,46,47,48,49,50,51,52,53],\"y1\":{\"__ndarray__\":\"CQ5xE1zzkkATpLPh3miXQKxKQuJf/JxAcjSVSqq4oUAMqvLDmKOlQG5hABeE6alAE3R57SuerkD6hNnpgQWyQA141o/m1LRAPKfRldj8t0AIf3KdCIu7QCoMuWvxdr9A4uy0rc+1wUCUJv3mT8DDQLTG04t85sVAIgzWaW48yEBbC8nLqaHKQHNQX82yAc1AHCbXFuhzz0DGyhA6y+zQQIg+ztw4FdJAdXb+YM8s00D/ORGW9zbUQN4hogYCN9VAdpoVymIm1kBlV+qPEAnXQHIDakVY2tdAVC/uqo2V2ECC5b/dHz7ZQD8r2EOEy9lAjCi2CtJV2kDMjIJIms7aQLCxgMaQMNtARF2c8ymJ20DkcTYaq9nbQC4kqDupHNxAI3If9WNN3EBoBXrvGHfcQPQJYJW7m9xA0L4KNDG+3ECIdy5MQ9rcQEcfjqPq8NxAUUmTWAcD3UD2gTFwiArdQPQeDiT2D91Ax5ra6fcT3UD/Hxse5RbdQC9um5wCGd1Aqge464Ua3UBoCfUWmBvdQGtIwi1YHN1AAAOtY90c3UCekVTVOB3dQJWvffl2Hd1A\",\"dtype\":\"float64\",\"shape\":[54]},\"y2\":{\"__ndarray__\":\"nn4+kwpDmECAzrbK7D+dQKBlUE/1m6FAKD22FAEdpUA6AYw4ZFKpQEmAvOTk5q1AWCcmz6iCsUA2tFFZmXG0QM7uoKrOZbdAQE4BIfHHukD7X0X9rni+QPgZz3ZWMcFAq8tXVmJQw0AkwGYWzX3FQHnzPBBfwMdA7JXVJmkzykAyIKqPb5LMQPhozBWwA89AbD2EGI680EDvZmMvIezRQNhy6h9uEdNACFwcEp431EAIdgG8hkjVQDISzM9aU9ZA/hgS9TtE10DmwKXJVyXYQIqK3d/k/NhAfPkAeEO72UCykKJCe2vaQLjk2Qa9CNtAKYSnmDCU20D0uPttFRDcQGVELajxetxArD3wovjY3EAGzVsJDyndQFXyh+s0Zd1AgfBUEu2a3UA+bOBCssTdQM174cKA6t1AKN4GG84K3kAAuNvh3CTeQEs6hDVHO95AbpCm3apN3kDM0JQg71neQGu5A1L8X95AEBwxQkFm3kCAlc4L8mreQASpqCWeb95AXHvlLdB03kBOig7TTnjeQGeublH5ed5A+7fiXZR63kCOdlun/3reQGqwgh1Je95A\",\"dtype\":\"float64\",\"shape\":[54]}},\"selected\":{\"id\":\"67984\"},\"selection_policy\":{\"id\":\"67985\"}},\"id\":\"67964\",\"type\":\"ColumnDataSource\"},{\"attributes\":{},\"id\":\"67985\",\"type\":\"UnionRenderers\"},{\"attributes\":{},\"id\":\"67953\",\"type\":\"SaveTool\"},{\"attributes\":{\"axis\":{\"id\":\"67946\"},\"dimension\":1,\"ticker\":null},\"id\":\"67949\",\"type\":\"Grid\"},{\"attributes\":{\"fill_alpha\":{\"value\":0.1},\"fill_color\":{\"value\":\"purple\"},\"line_alpha\":{\"value\":0.1},\"line_color\":{\"value\":\"purple\"},\"x\":{\"field\":\"x\"},\"y\":{\"field\":\"y\"}},\"id\":\"68016\",\"type\":\"Circle\"},{\"attributes\":{\"overlay\":{\"id\":\"67956\"}},\"id\":\"67952\",\"type\":\"BoxZoomTool\"},{\"attributes\":{\"fill_alpha\":0.2,\"fill_color\":\"black\",\"x\":{\"field\":\"x\"},\"y1\":{\"field\":\"y1\"},\"y2\":{\"field\":\"y2\"}},\"id\":\"67970\",\"type\":\"VArea\"},{\"attributes\":{},\"id\":\"67986\",\"type\":\"Selection\"},{\"attributes\":{\"data\":{\"x\":[0,1,2,3,4,5,6,7,8,9,10,11,12,13,14,15,16,17,18,19,20,21,22,23,24,25,26,27,28,29,30,31,32,33,34,35,36,37,38,39,40,41,42,43,44,45,46,47,48,49,50,51,52,53],\"y\":{\"__ndarray__\":\"e6t8yQRUU0DzmK2621BZQNJ7c5QBnmBAHV9BQlCbZUD+AasW7R1sQLGjVJOv7XFA4mCuwFumdkB/mgKuSll8QOwO3oV4bIFAE+v8HexqhUAydBc9wxaKQDNY+4OQfo9AGHdAJXLXkkAbNRm3yFiWQHMG2W97RppAxeBgb6yhnkDe8wtOlbShQCQpiVmfTKRASAa6BsgVp0BUPHZhkguqQM4nm6k/KK1AkYd8jnYysEDwPc7439yxQMRQDeMOj7NAwW0Td3dEtUD3W0Gmc/i2QIClffhoprhAvNaGvu1JukAVZ3G06967QEccNVG+Yb1An5w3UEvPvkBH+S81ihLAQFfK+tWgsMBACAluKFJBwUCObp1DWcTBQLjdBnC+OcJAHVUcQ8+hwkBJC3LFFP3CQLUFp1dITMNAc9LqCEiQw0CfrZEEC8rDQIEQB6WW+sNAXjyznPQixECbpVGEKkTEQPaw1fwyX8RAhfjvc/h0xEDcZI5/UYbEQLsjlK/+k8RAmXYVpqmexEBnAo495abEQGcSPYEurcRAXwEnPe6xxEAbzBHwerXEQKD5BPEauMRA\",\"dtype\":\"float64\",\"shape\":[54]}},\"selected\":{\"id\":\"68005\"},\"selection_policy\":{\"id\":\"68006\"}},\"id\":\"67974\",\"type\":\"ColumnDataSource\"},{\"attributes\":{},\"id\":\"69398\",\"type\":\"Selection\"},{\"attributes\":{\"fill_alpha\":0.1,\"fill_color\":\"black\",\"x\":{\"field\":\"x\"},\"y1\":{\"field\":\"y1\"},\"y2\":{\"field\":\"y2\"}},\"id\":\"67971\",\"type\":\"VArea\"},{\"attributes\":{\"data_source\":{\"id\":\"68014\"},\"glyph\":{\"id\":\"68015\"},\"hover_glyph\":null,\"muted_glyph\":null,\"nonselection_glyph\":{\"id\":\"68016\"},\"selection_glyph\":null,\"view\":{\"id\":\"68018\"}},\"id\":\"68017\",\"type\":\"GlyphRenderer\"},{\"attributes\":{},\"id\":\"67987\",\"type\":\"UnionRenderers\"},{\"attributes\":{\"active_drag\":\"auto\",\"active_inspect\":\"auto\",\"active_multi\":null,\"active_scroll\":\"auto\",\"active_tap\":\"auto\",\"tools\":[{\"id\":\"67950\"},{\"id\":\"67951\"},{\"id\":\"67952\"},{\"id\":\"67953\"},{\"id\":\"67954\"},{\"id\":\"67955\"}]},\"id\":\"67957\",\"type\":\"Toolbar\"},{\"attributes\":{\"fill_color\":{\"value\":\"purple\"},\"line_color\":{\"value\":\"purple\"},\"x\":{\"field\":\"x\"},\"y\":{\"field\":\"y\"}},\"id\":\"68015\",\"type\":\"Circle\"},{\"attributes\":{},\"id\":\"67951\",\"type\":\"WheelZoomTool\"},{\"attributes\":{\"items\":[{\"id\":\"67990\"},{\"id\":\"68008\"}],\"location\":\"top_left\"},\"id\":\"67989\",\"type\":\"Legend\"},{\"attributes\":{\"source\":{\"id\":\"68014\"}},\"id\":\"68018\",\"type\":\"CDSView\"},{\"attributes\":{},\"id\":\"67954\",\"type\":\"ResetTool\"},{\"attributes\":{\"axis_label\":\"# people\",\"formatter\":{\"id\":\"67981\"},\"ticker\":{\"id\":\"67947\"}},\"id\":\"67946\",\"type\":\"LinearAxis\"},{\"attributes\":{\"data_source\":{\"id\":\"67964\"},\"glyph\":{\"id\":\"67965\"},\"hover_glyph\":null,\"muted_glyph\":null,\"nonselection_glyph\":{\"id\":\"67966\"},\"selection_glyph\":null,\"view\":{\"id\":\"67968\"}},\"id\":\"67967\",\"type\":\"GlyphRenderer\"},{\"attributes\":{\"label\":{\"value\":\"Deceased\"},\"renderers\":[{\"id\":\"67977\"}]},\"id\":\"67990\",\"type\":\"LegendItem\"},{\"attributes\":{\"axis_label\":\"t (days)\",\"formatter\":{\"id\":\"67983\"},\"ticker\":{\"id\":\"67943\"}},\"id\":\"67942\",\"type\":\"LinearAxis\"},{\"attributes\":{\"data\":{\"x\":[0,1,2,3,4,5,6,7,8,9,10,11,12,13,14,15,16,17,18,19,20,21,22,23,24,25,26,27,28,29,30,31,32,33,34,35,36,37,38,39,40,41,42,43,44,45,46,47,48,49,50,51,52,53],\"y\":{\"__ndarray__\":\"C4OK9YWhlUAPj9Z7p2KaQNOo6sBRGKBAqaLAPNZ3o0Aq+MnstYWnQLpF/vBE96tAt6XJoLh8sEACXIOWD0izQJP2OFHWO7ZAfukKiOmYuUCf0gW9fj29QA7435WyksBA6ZSGQVylwkDj8hRb+dLEQJml3Q4IF8dA4k7wiWJsyUD9mrWMYc3LQAhk30UFNM5AW65CRhFN0EDzG5khyXzRQNIsmUMwptJATWKIqXzG00DyUkM0KNvUQK86llQB4tVAY7BUuzfZ1kDGiJCcZL/XQLy/+lyOk9hAVBAExydV2UD3BV4lCwTaQGGMkNVxoNpA5CFADOkq20BZVcSbRKTbQEhnlpSQDdxACs8YjwJo3EB/k49Z67TcQDXx7aap9dxAPCneNp4r3UAjN6LIIVjdQK6GWAR9fN1AT716Y+KZ3UAqeA0EarHdQHcJITsPxN1AvDBpq6/S3UAQ66KbC97dQDsuiEXH5t1Ahr0l2Gzt3UBN8UzubvLdQAQXT0Ir9t1A5kUEcu343UCSPlGw8frdQBRmI0tn/N1A+J+e9XL93UD05abNMP7dQBmt4Bm2/t1A\",\"dtype\":\"float64\",\"shape\":[54]}},\"selected\":{\"id\":\"69398\"},\"selection_policy\":{\"id\":\"69399\"}},\"id\":\"67991\",\"type\":\"ColumnDataSource\"},{\"attributes\":{},\"id\":\"67955\",\"type\":\"HelpTool\"},{\"attributes\":{},\"id\":\"67943\",\"type\":\"BasicTicker\"},{\"attributes\":{\"line_color\":\"purple\",\"x\":{\"field\":\"x\"},\"y\":{\"field\":\"y\"}},\"id\":\"67992\",\"type\":\"Line\"},{\"attributes\":{},\"id\":\"69399\",\"type\":\"UnionRenderers\"},{\"attributes\":{\"axis\":{\"id\":\"67942\"},\"ticker\":null},\"id\":\"67945\",\"type\":\"Grid\"},{\"attributes\":{\"source\":{\"id\":\"67964\"}},\"id\":\"67968\",\"type\":\"CDSView\"},{\"attributes\":{\"line_alpha\":0.1,\"line_color\":\"purple\",\"x\":{\"field\":\"x\"},\"y\":{\"field\":\"y\"}},\"id\":\"67993\",\"type\":\"Line\"},{\"attributes\":{},\"id\":\"69400\",\"type\":\"Selection\"},{\"attributes\":{\"fill_alpha\":0.2,\"fill_color\":\"purple\",\"x\":{\"field\":\"x\"},\"y1\":{\"field\":\"y1\"},\"y2\":{\"field\":\"y2\"}},\"id\":\"67965\",\"type\":\"VArea\"},{\"attributes\":{},\"id\":\"67938\",\"type\":\"LinearScale\"},{\"attributes\":{},\"id\":\"69401\",\"type\":\"UnionRenderers\"},{\"attributes\":{},\"id\":\"67940\",\"type\":\"LinearScale\"},{\"attributes\":{\"source\":{\"id\":\"67991\"}},\"id\":\"67995\",\"type\":\"CDSView\"},{\"attributes\":{\"data_source\":{\"id\":\"67991\"},\"glyph\":{\"id\":\"67992\"},\"hover_glyph\":null,\"muted_glyph\":null,\"nonselection_glyph\":{\"id\":\"67993\"},\"selection_glyph\":null,\"view\":{\"id\":\"67995\"}},\"id\":\"67994\",\"type\":\"GlyphRenderer\"},{\"attributes\":{\"fill_alpha\":0.1,\"fill_color\":\"purple\",\"x\":{\"field\":\"x\"},\"y1\":{\"field\":\"y1\"},\"y2\":{\"field\":\"y2\"}},\"id\":\"67966\",\"type\":\"VArea\"},{\"attributes\":{},\"id\":\"69402\",\"type\":\"Selection\"},{\"attributes\":{},\"id\":\"67950\",\"type\":\"PanTool\"},{\"attributes\":{\"bottom_units\":\"screen\",\"fill_alpha\":0.5,\"fill_color\":\"lightgrey\",\"left_units\":\"screen\",\"level\":\"overlay\",\"line_alpha\":1.0,\"line_color\":\"black\",\"line_dash\":[4,4],\"line_width\":2,\"render_mode\":\"css\",\"right_units\":\"screen\",\"top_units\":\"screen\"},\"id\":\"67956\",\"type\":\"BoxAnnotation\"},{\"attributes\":{},\"id\":\"68005\",\"type\":\"Selection\"},{\"attributes\":{},\"id\":\"69403\",\"type\":\"UnionRenderers\"},{\"attributes\":{},\"id\":\"67936\",\"type\":\"DataRange1d\"},{\"attributes\":{},\"id\":\"68006\",\"type\":\"UnionRenderers\"}],\"root_ids\":[\"67931\"]},\"title\":\"Bokeh Application\",\"version\":\"2.0.1\"}};\n",
       "  var render_items = [{\"docid\":\"a87a2e4b-b0b0-406c-94b0-3dc76025e35b\",\"root_ids\":[\"67931\"],\"roots\":{\"67931\":\"0f5390ce-1a8c-4526-99b7-6dc96d5d3c86\"}}];\n",
       "  root.Bokeh.embed.embed_items_notebook(docs_json, render_items);\n",
       "\n",
       "  }\n",
       "  if (root.Bokeh !== undefined) {\n",
       "    embed_document(root);\n",
       "  } else {\n",
       "    var attempts = 0;\n",
       "    var timer = setInterval(function(root) {\n",
       "      if (root.Bokeh !== undefined) {\n",
       "        clearInterval(timer);\n",
       "        embed_document(root);\n",
       "      } else {\n",
       "        attempts++;\n",
       "        if (attempts > 100) {\n",
       "          clearInterval(timer);\n",
       "          console.log(\"Bokeh: ERROR: Unable to run BokehJS code because BokehJS library is missing\");\n",
       "        }\n",
       "      }\n",
       "    }, 10, root)\n",
       "  }\n",
       "})(window);"
      ],
      "application/vnd.bokehjs_exec.v0+json": ""
     },
     "metadata": {
      "application/vnd.bokehjs_exec.v0+json": {
       "id": "67931"
      }
     },
     "output_type": "display_data"
    }
   ],
   "source": [
    "start = 12\n",
    "step = 4\n",
    "ind = 0\n",
    "results = []\n",
    "one_more = False\n",
    "while start + ind*step <= 28:\n",
    "    boundary = start + ind*step\n",
    "    plot_erf_with_errors_sample(df, 'Lombardia', 2, boundary)\n",
    "    ind += 1"
   ]
  },
  {
   "cell_type": "markdown",
   "metadata": {},
   "source": [
    "The model seems to think that the pandemic will flatten out in the next couple days. Given the earlier plots, I doubt that is right. We can check it on another region and see what happens! What regions can we choose from? We need a region with enough data."
   ]
  },
  {
   "cell_type": "code",
   "execution_count": 29,
   "metadata": {},
   "outputs": [
    {
     "name": "stdout",
     "output_type": "stream",
     "text": [
      "['Abruzzo', 'Basilicata', 'Calabria', 'Campania', 'Emilia Romagna', 'Friuli Venezia Giulia', 'Lazio', 'Liguria', 'Lombardia', 'Marche', 'Molise', 'P.A. Bolzano', 'P.A. Trento', 'Piemonte', 'Puglia', 'Sardegna', 'Sicilia', 'Toscana', 'Umbria', \"Valle d'Aosta\", 'Veneto']\n",
      "[1293, 202, 614, 1759, 13119, 1480, 2706, 3076, 41007, 3558, 127, 1214, 1594, 8206, 1549, 638, 1460, 4122, 1023, 584, 8358]\n"
     ]
    }
   ],
   "source": [
    "regions = sorted(np.unique(df['Region'].values))\n",
    "print(regions)\n",
    "print([np.amax(df.loc[df['Region'] == r]['TotalCases'].values) for r in regions])"
   ]
  },
  {
   "cell_type": "markdown",
   "metadata": {},
   "source": [
    "The predictions look a little better for Emilia Romagna, but it appears that the error bars for anything earlier than 16-day prediction are enormous. By the time you reach 20 days, however, we only have 22 days of data, so it seems a little trivial to predict."
   ]
  },
  {
   "cell_type": "code",
   "execution_count": 40,
   "metadata": {},
   "outputs": [
    {
     "data": {
      "text/html": [
       "\n",
       "\n",
       "\n",
       "\n",
       "\n",
       "\n",
       "  <div class=\"bk-root\" id=\"f6f12db3-bd49-4fdd-881b-6c9ade34d642\" data-root-id=\"69513\"></div>\n"
      ]
     },
     "metadata": {},
     "output_type": "display_data"
    },
    {
     "data": {
      "application/javascript": [
       "(function(root) {\n",
       "  function embed_document(root) {\n",
       "    \n",
       "  var docs_json = {\"ed2b3aaa-e3ad-4ae5-b052-047e9d3fcde6\":{\"roots\":{\"references\":[{\"attributes\":{\"below\":[{\"id\":\"69524\"}],\"center\":[{\"id\":\"69527\"},{\"id\":\"69531\"},{\"id\":\"69571\"}],\"left\":[{\"id\":\"69528\"}],\"plot_height\":400,\"renderers\":[{\"id\":\"69549\"},{\"id\":\"69554\"},{\"id\":\"69559\"},{\"id\":\"69576\"},{\"id\":\"69594\"},{\"id\":\"69599\"},{\"id\":\"69601\"}],\"title\":{\"id\":\"69514\"},\"toolbar\":{\"id\":\"69539\"},\"x_range\":{\"id\":\"69516\"},\"x_scale\":{\"id\":\"69520\"},\"y_range\":{\"id\":\"69518\"},\"y_scale\":{\"id\":\"69522\"}},\"id\":\"69513\",\"subtype\":\"Figure\",\"type\":\"Plot\"},{\"attributes\":{\"data\":{\"x\":[0,1,2,3,4,5,6,7,8,9,10,11,12,13,14,15,16,17,18,19,20,21],\"y\":[56,70,85,113,146,201,241,284,346,393,458,531,640,715,816,892,985,1077,1174,1267,1344,1443]},\"selected\":{\"id\":\"71001\"},\"selection_policy\":{\"id\":\"71002\"}},\"id\":\"69591\",\"type\":\"ColumnDataSource\"},{\"attributes\":{},\"id\":\"69516\",\"type\":\"DataRange1d\"},{\"attributes\":{\"items\":[{\"id\":\"69572\"},{\"id\":\"69590\"}],\"location\":\"top_left\"},\"id\":\"69571\",\"type\":\"Legend\"},{\"attributes\":{\"source\":{\"id\":\"69551\"}},\"id\":\"69555\",\"type\":\"CDSView\"},{\"attributes\":{\"fill_alpha\":{\"value\":0.1},\"fill_color\":{\"value\":\"black\"},\"line_alpha\":{\"value\":0.1},\"x\":{\"field\":\"x\"},\"y\":{\"field\":\"y\"}},\"id\":\"69593\",\"type\":\"Circle\"},{\"attributes\":{\"data\":{\"x\":[0,1,2,3,4,5,6,7,8,9,10,11,12,13,14,15,16,17,18,19,20,21,22,23,24,25,26,27,28,29,30,31,32,33,34,35,36,37,38,39,40,41,42,43],\"y\":{\"__ndarray__\":\"6T/Ps1b0S0B2hI9+8kZSQH4zsSo0mldA4StyVaDOXUAD8+cvT8liQNydyugqZWdA7UdqP7HJbEAVyF9fAIFxQDziUMg2CnVAHKNyDcMAeUCfCXNsp2F9QLr/jtEyE4FAU4+sWHmig0AnjTev71eGQKGZn2RbK4lAc3bv0UcTjEBvMysPZAWPQJfJox54+5BATxiWUplukkD5K4Az9taTQCx9BcDiL5VAO9WlY1R1lkBgaiAHBaSXQIKebVGJuZhAQq/nYFm0mUB28k5szJOaQCTsVcIIWJtAJReuauoBnEAT+OIs45KcQJ0fCvLWDJ1A2WoCW/dxnUAdD6YKocSdQGexgpw8B55AeLhQoiQ8nkA4Ib1gkWWeQK52O3CKhZ5An/bR7N2dnkApkBSHHLCeQPI9jpKZvZ5AlPomGG7HnkDcUCP4fc6eQAamCEB+055AHcWF/fvWnkAKvKYBY9meQA==\",\"dtype\":\"float64\",\"shape\":[44]}},\"selected\":{\"id\":\"69587\"},\"selection_policy\":{\"id\":\"69588\"}},\"id\":\"69556\",\"type\":\"ColumnDataSource\"},{\"attributes\":{\"data\":{\"x\":[0,1,2,3,4,5,6,7,8,9,10,11,12,13,14,15,16,17,18,19,20,21],\"y\":[1097,1286,1417,1588,1758,2011,2349,2741,3088,3404,3915,4506,5089,5661,6390,7220,7711,8256,8850,9361,9964,10535]},\"selected\":{\"id\":\"71003\"},\"selection_policy\":{\"id\":\"71004\"}},\"id\":\"69596\",\"type\":\"ColumnDataSource\"},{\"attributes\":{\"data_source\":{\"id\":\"69591\"},\"glyph\":{\"id\":\"69592\"},\"hover_glyph\":null,\"muted_glyph\":null,\"nonselection_glyph\":{\"id\":\"69593\"},\"selection_glyph\":null,\"view\":{\"id\":\"69595\"}},\"id\":\"69594\",\"type\":\"GlyphRenderer\"},{\"attributes\":{},\"id\":\"69532\",\"type\":\"PanTool\"},{\"attributes\":{\"x\":{\"field\":\"x\"},\"y\":{\"field\":\"y\"}},\"id\":\"69557\",\"type\":\"Line\"},{\"attributes\":{\"fill_color\":{\"value\":\"black\"},\"x\":{\"field\":\"x\"},\"y\":{\"field\":\"y\"}},\"id\":\"69592\",\"type\":\"Circle\"},{\"attributes\":{\"data\":{\"x\":[0,1,2,3,4,5,6,7,8,9,10,11,12,13,14,15,16,17,18,19,20,21,22,23,24,25,26,27,28,29,30,31,32,33,34,35,36,37,38,39,40,41,42,43],\"y1\":{\"__ndarray__\":\"TIK5O1ypTEB/msAPA6hRQGGxbvBzuFVAm1Bar7tzWkAGOzx8ezhgQPSwDPp33GNALxIkKG1HaEDk9DoWS6FtQJkCSyFjs3FAf4xM46DYc0DPSdmIJj52QPDpUZE663hAHKiFO+/ne0C8j37qNz1/QLlxdlOAeoFAnih89iONg0CsvM18ndyFQJSjDWeqb4hAfMLeEcBNi0B4DrxGHn+OQMWNm5IsMpFA2kRn8aaqk0D3XMi2nXqWQN5DmC5GlZdABxz0TSTSmEBbg+DSNNqaQBx6Wjx2T51AA6EQx0E/oEAw5kOSmwCiQGSgwqBxMqRA7zr4SUzSpkBLoSbfn8OpQP5BbX1fD61A3Q2qsqtfsECevTh9Hm+yQFFv+6/fu7RAgHMbBXcvtkCr3t6HAUu3QFJ/PH4GcbhAu7toXtyhuUAicULg3926QMziU4l0JbxAFCIljM4pvkAco2xs6yzAQA==\",\"dtype\":\"float64\",\"shape\":[44]},\"y2\":{\"__ndarray__\":\"fAKLXfXU40BhAo8PbZPmQEzYWjtUqelA4udC3H6s7EBQCOkuzSHvQIKSYniRyfBATsgyh/Ma8kA+1gKe+IbzQLPKw8JRFvVApkaWt5WV90CSdL79dFn6QL7RHI+WFv1A18vEwwOd/0Czr+ZFjS8BQe/gQcAWsQJBTLuL7vxVBEGUPYGtM2QFQcLs9b5acAZBMt1m/PG1B0ELslniezYLQTC1lUycMg9BxGsXuc3cEUE8sozxYVYUQe+ff51RxBVBEADKCXBHF0Gowfgso+MYQdzfoLljmhpB+ZVuxjxtHEE4VEwH0DweQfpENKKl9x9B9OOqMI8JIUF+ZcZyUXIiQQafqAyJ9SNBDlZmZ86UJUH+UsQ8ylEnQYrOHoE1LilBOjzDOdkrK0EgoX4yx0otQTu+vpwxGS9B5S1eLMV/MEHi5ni0XH8xQQuUbP08fjJBa5iUyV3TM0HGvHF0uJQ1QQ==\",\"dtype\":\"float64\",\"shape\":[44]}},\"selected\":{\"id\":\"69566\"},\"selection_policy\":{\"id\":\"69567\"}},\"id\":\"69546\",\"type\":\"ColumnDataSource\"},{\"attributes\":{\"line_alpha\":0.1,\"x\":{\"field\":\"x\"},\"y\":{\"field\":\"y\"}},\"id\":\"69558\",\"type\":\"Line\"},{\"attributes\":{\"source\":{\"id\":\"69591\"}},\"id\":\"69595\",\"type\":\"CDSView\"},{\"attributes\":{\"overlay\":{\"id\":\"69538\"}},\"id\":\"69534\",\"type\":\"BoxZoomTool\"},{\"attributes\":{\"axis\":{\"id\":\"69528\"},\"dimension\":1,\"ticker\":null},\"id\":\"69531\",\"type\":\"Grid\"},{\"attributes\":{\"data_source\":{\"id\":\"69551\"},\"glyph\":{\"id\":\"69552\"},\"hover_glyph\":null,\"muted_glyph\":null,\"nonselection_glyph\":{\"id\":\"69553\"},\"selection_glyph\":null,\"view\":{\"id\":\"69555\"}},\"id\":\"69554\",\"type\":\"GlyphRenderer\"},{\"attributes\":{},\"id\":\"69533\",\"type\":\"WheelZoomTool\"},{\"attributes\":{\"source\":{\"id\":\"69556\"}},\"id\":\"69560\",\"type\":\"CDSView\"},{\"attributes\":{\"data_source\":{\"id\":\"69556\"},\"glyph\":{\"id\":\"69557\"},\"hover_glyph\":null,\"muted_glyph\":null,\"nonselection_glyph\":{\"id\":\"69558\"},\"selection_glyph\":null,\"view\":{\"id\":\"69560\"}},\"id\":\"69559\",\"type\":\"GlyphRenderer\"},{\"attributes\":{\"data\":{\"x\":[0,1,2,3,4,5,6,7,8,9,10,11,12,13,14,15,16,17,18,19,20,21,22,23,24,25,26,27,28,29,30,31,32,33,34,35,36,37,38,39,40,41,42,43],\"y1\":{\"__ndarray__\":\"2ZWy8iCFRUASObJ8HjdMQOpGO13lYlJAcYinJrSQV0BiJIUwXTxeQPXGh40mIWNAe0gX9hnHZ0DIUdYK3X5tQOu37TBED3JAYMnHts7DdUBIFpIwtvF5QBcnylzcO35A5ovYH7JngUCzeAVtTPWDQAy/zUO014ZAXrN2S9Z9iUAZb5aIAgWMQMKHFMzGuY5Abpn/+5HAkEB+HT9O+C6SQEDKLUs5c5NA9BH69zKwlEDTSq9V6tyVQJJjx/wk+pZAA0unrq/5l0AkSTtT17qYQDAopCFedZlAe3aSZsMhmkDGOHOdlbeaQGp+BdSZNZtA4rh5OMudm0DkhoYH7eubQDJDXgH/GpxAhguwR64/nEChpVOsLF6cQFLzjG7hgZxAZ0NzMTSqnECcg9AS6ricQCto53CJvpxAiGIpYGbCnEB8H6UaA8WcQOYGcizAxpxAaFlYeurHnEDFaUJP+8icQA==\",\"dtype\":\"float64\",\"shape\":[44]},\"y2\":{\"__ndarray__\":\"Nza/wwCXUUDYIWWQdVdWQKiYhTz5YVxAlCYnsdncYUBMyjjHOJtmQFPWNh0+BmxAn/pL/sETcUAYjN8hPLZ0QCzzbad1vXhAfpJIKT8QfUB56u3lFfyAQO5iubjpooNAtIVI2ww+hkAMUwEDY+SIQDaEfOwQ54tAdq761iESj0BlalhopRaRQG9SMnE7o5JA1ujkovM+lEB8d+bsP9OVQO7jZko5e5dAv/4WsbW0mEB6AnVIRN+ZQJzzcbcLBJtAq67snvghnEA5UBfowRydQCrMViZqDZ5AX0mK0OPKnkDDC/ph3HifQJ8k7QtFB6BAtGO8Go9GoEAmEltHFHWgQAw2x89RmaBAQrYbMMG1oEBjcGxJm8qgQNNbKbSI2KBAjHPrY9TioEAQYKvvqPWgQKxn3Vy1AaFAiiiS7PMGoUCbk34s6wihQJZkLp1CCqFAamBvpikLoUDcT7rdwguhQA==\",\"dtype\":\"float64\",\"shape\":[44]}},\"selected\":{\"id\":\"69568\"},\"selection_policy\":{\"id\":\"69569\"}},\"id\":\"69551\",\"type\":\"ColumnDataSource\"},{\"attributes\":{\"fill_alpha\":{\"value\":0.1},\"fill_color\":{\"value\":\"purple\"},\"line_alpha\":{\"value\":0.1},\"line_color\":{\"value\":\"purple\"},\"x\":{\"field\":\"x\"},\"y\":{\"field\":\"y\"}},\"id\":\"69598\",\"type\":\"Circle\"},{\"attributes\":{},\"id\":\"69535\",\"type\":\"SaveTool\"},{\"attributes\":{},\"id\":\"69563\",\"type\":\"BasicTickFormatter\"},{\"attributes\":{},\"id\":\"69536\",\"type\":\"ResetTool\"},{\"attributes\":{},\"id\":\"69529\",\"type\":\"BasicTicker\"},{\"attributes\":{\"data_source\":{\"id\":\"69596\"},\"glyph\":{\"id\":\"69597\"},\"hover_glyph\":null,\"muted_glyph\":null,\"nonselection_glyph\":{\"id\":\"69598\"},\"selection_glyph\":null,\"view\":{\"id\":\"69600\"}},\"id\":\"69599\",\"type\":\"GlyphRenderer\"},{\"attributes\":{},\"id\":\"69537\",\"type\":\"HelpTool\"},{\"attributes\":{\"axis_label\":\"t (days)\",\"formatter\":{\"id\":\"69565\"},\"ticker\":{\"id\":\"69525\"}},\"id\":\"69524\",\"type\":\"LinearAxis\"},{\"attributes\":{},\"id\":\"69565\",\"type\":\"BasicTickFormatter\"},{\"attributes\":{\"fill_color\":{\"value\":\"purple\"},\"line_color\":{\"value\":\"purple\"},\"x\":{\"field\":\"x\"},\"y\":{\"field\":\"y\"}},\"id\":\"69597\",\"type\":\"Circle\"},{\"attributes\":{\"active_drag\":\"auto\",\"active_inspect\":\"auto\",\"active_multi\":null,\"active_scroll\":\"auto\",\"active_tap\":\"auto\",\"tools\":[{\"id\":\"69532\"},{\"id\":\"69533\"},{\"id\":\"69534\"},{\"id\":\"69535\"},{\"id\":\"69536\"},{\"id\":\"69537\"}]},\"id\":\"69539\",\"type\":\"Toolbar\"},{\"attributes\":{\"source\":{\"id\":\"69596\"}},\"id\":\"69600\",\"type\":\"CDSView\"},{\"attributes\":{},\"id\":\"69525\",\"type\":\"BasicTicker\"},{\"attributes\":{\"label\":{\"value\":\"Deceased\"},\"renderers\":[{\"id\":\"69559\"}]},\"id\":\"69572\",\"type\":\"LegendItem\"},{\"attributes\":{\"fill_alpha\":0.1,\"fill_color\":\"purple\",\"x\":{\"field\":\"x\"},\"y1\":{\"field\":\"y1\"},\"y2\":{\"field\":\"y2\"}},\"id\":\"69548\",\"type\":\"VArea\"},{\"attributes\":{},\"id\":\"69569\",\"type\":\"UnionRenderers\"},{\"attributes\":{\"axis\":{\"id\":\"69524\"},\"ticker\":null},\"id\":\"69527\",\"type\":\"Grid\"},{\"attributes\":{\"data\":{\"x\":[0,1,2,3,4,5,6,7,8,9,10,11,12,13,14,15,16,17,18,19,20,21,22,23,24,25,26,27,28,29,30,31,32,33,34,35,36,37,38,39,40,41,42,43],\"y\":{\"__ndarray__\":\"md+es0q7kECEwffYciuTQDhPnG++75VAWWVZcwLvmEAzvB48+XacQE885rJzOqBA2OArHlt7okAuTTcs3wWlQHd4d1Rz4qdA4HDDomIaq0DzG5oF4beuQO2o7L8OY7FAV6I0naqos0CiTQu4czO2QBk0rRW1CrlAzjaN5V82vEABHkCgFr+/QIiaOD0c18FAvfjYkPYGxEDTMJlbmHTGQAa1Sv3vJclAoY2SSmIhzEC9E9a50G3PQK06y8ZPidFAkU+m+N2L00BDN2X+0MLVQFEVjUixMthAlmRmgFTg2kCvDlM64NDdQBy5Jz/mhOBAwtkSD3NI4kANlzdoKDbkQC+Xj4NEUeZAQk7/uzKd6EDh/J0mjB3rQGYMAPoX1u1Awia232Vl8EAT3W+k5f/xQFQjZTO0vPNAmIVBLBGe9UAiuUl5Uqb3QOCAFLvj1/lAly+eikU1/EAuhqWPDMH+QA==\",\"dtype\":\"float64\",\"shape\":[44]}},\"selected\":{\"id\":\"70999\"},\"selection_policy\":{\"id\":\"71000\"}},\"id\":\"69573\",\"type\":\"ColumnDataSource\"},{\"attributes\":{\"dimension\":\"height\",\"line_width\":3,\"location\":16},\"id\":\"69601\",\"type\":\"Span\"},{\"attributes\":{\"axis_label\":\"# people\",\"formatter\":{\"id\":\"69563\"},\"ticker\":{\"id\":\"69529\"}},\"id\":\"69528\",\"type\":\"LinearAxis\"},{\"attributes\":{\"line_color\":\"purple\",\"x\":{\"field\":\"x\"},\"y\":{\"field\":\"y\"}},\"id\":\"69574\",\"type\":\"Line\"},{\"attributes\":{},\"id\":\"70999\",\"type\":\"Selection\"},{\"attributes\":{},\"id\":\"69567\",\"type\":\"UnionRenderers\"},{\"attributes\":{\"line_alpha\":0.1,\"line_color\":\"purple\",\"x\":{\"field\":\"x\"},\"y\":{\"field\":\"y\"}},\"id\":\"69575\",\"type\":\"Line\"},{\"attributes\":{},\"id\":\"71000\",\"type\":\"UnionRenderers\"},{\"attributes\":{\"bottom_units\":\"screen\",\"fill_alpha\":0.5,\"fill_color\":\"lightgrey\",\"left_units\":\"screen\",\"level\":\"overlay\",\"line_alpha\":1.0,\"line_color\":\"black\",\"line_dash\":[4,4],\"line_width\":2,\"render_mode\":\"css\",\"right_units\":\"screen\",\"top_units\":\"screen\"},\"id\":\"69538\",\"type\":\"BoxAnnotation\"},{\"attributes\":{},\"id\":\"69522\",\"type\":\"LinearScale\"},{\"attributes\":{},\"id\":\"71001\",\"type\":\"Selection\"},{\"attributes\":{\"source\":{\"id\":\"69573\"}},\"id\":\"69577\",\"type\":\"CDSView\"},{\"attributes\":{\"fill_alpha\":0.2,\"fill_color\":\"black\",\"x\":{\"field\":\"x\"},\"y1\":{\"field\":\"y1\"},\"y2\":{\"field\":\"y2\"}},\"id\":\"69552\",\"type\":\"VArea\"},{\"attributes\":{},\"id\":\"69566\",\"type\":\"Selection\"},{\"attributes\":{\"data_source\":{\"id\":\"69573\"},\"glyph\":{\"id\":\"69574\"},\"hover_glyph\":null,\"muted_glyph\":null,\"nonselection_glyph\":{\"id\":\"69575\"},\"selection_glyph\":null,\"view\":{\"id\":\"69577\"}},\"id\":\"69576\",\"type\":\"GlyphRenderer\"},{\"attributes\":{},\"id\":\"69520\",\"type\":\"LinearScale\"},{\"attributes\":{\"source\":{\"id\":\"69546\"}},\"id\":\"69550\",\"type\":\"CDSView\"},{\"attributes\":{},\"id\":\"71002\",\"type\":\"UnionRenderers\"},{\"attributes\":{\"text\":\"Emilia Romagna erf Model\"},\"id\":\"69514\",\"type\":\"Title\"},{\"attributes\":{},\"id\":\"69587\",\"type\":\"Selection\"},{\"attributes\":{},\"id\":\"69568\",\"type\":\"Selection\"},{\"attributes\":{},\"id\":\"71003\",\"type\":\"Selection\"},{\"attributes\":{\"data_source\":{\"id\":\"69546\"},\"glyph\":{\"id\":\"69547\"},\"hover_glyph\":null,\"muted_glyph\":null,\"nonselection_glyph\":{\"id\":\"69548\"},\"selection_glyph\":null,\"view\":{\"id\":\"69550\"}},\"id\":\"69549\",\"type\":\"GlyphRenderer\"},{\"attributes\":{\"fill_alpha\":0.1,\"fill_color\":\"black\",\"x\":{\"field\":\"x\"},\"y1\":{\"field\":\"y1\"},\"y2\":{\"field\":\"y2\"}},\"id\":\"69553\",\"type\":\"VArea\"},{\"attributes\":{},\"id\":\"69588\",\"type\":\"UnionRenderers\"},{\"attributes\":{},\"id\":\"71004\",\"type\":\"UnionRenderers\"},{\"attributes\":{\"fill_alpha\":0.2,\"fill_color\":\"purple\",\"x\":{\"field\":\"x\"},\"y1\":{\"field\":\"y1\"},\"y2\":{\"field\":\"y2\"}},\"id\":\"69547\",\"type\":\"VArea\"},{\"attributes\":{\"label\":{\"value\":\"Symptomatic infected\"},\"renderers\":[{\"id\":\"69576\"}]},\"id\":\"69590\",\"type\":\"LegendItem\"},{\"attributes\":{},\"id\":\"69518\",\"type\":\"DataRange1d\"}],\"root_ids\":[\"69513\"]},\"title\":\"Bokeh Application\",\"version\":\"2.0.1\"}};\n",
       "  var render_items = [{\"docid\":\"ed2b3aaa-e3ad-4ae5-b052-047e9d3fcde6\",\"root_ids\":[\"69513\"],\"roots\":{\"69513\":\"f6f12db3-bd49-4fdd-881b-6c9ade34d642\"}}];\n",
       "  root.Bokeh.embed.embed_items_notebook(docs_json, render_items);\n",
       "\n",
       "  }\n",
       "  if (root.Bokeh !== undefined) {\n",
       "    embed_document(root);\n",
       "  } else {\n",
       "    var attempts = 0;\n",
       "    var timer = setInterval(function(root) {\n",
       "      if (root.Bokeh !== undefined) {\n",
       "        clearInterval(timer);\n",
       "        embed_document(root);\n",
       "      } else {\n",
       "        attempts++;\n",
       "        if (attempts > 100) {\n",
       "          clearInterval(timer);\n",
       "          console.log(\"Bokeh: ERROR: Unable to run BokehJS code because BokehJS library is missing\");\n",
       "        }\n",
       "      }\n",
       "    }, 10, root)\n",
       "  }\n",
       "})(window);"
      ],
      "application/vnd.bokehjs_exec.v0+json": ""
     },
     "metadata": {
      "application/vnd.bokehjs_exec.v0+json": {
       "id": "69513"
      }
     },
     "output_type": "display_data"
    },
    {
     "data": {
      "text/html": [
       "\n",
       "\n",
       "\n",
       "\n",
       "\n",
       "\n",
       "  <div class=\"bk-root\" id=\"8c0039e3-fadf-4134-a895-c0cef8a6f5e6\" data-root-id=\"71114\"></div>\n"
      ]
     },
     "metadata": {},
     "output_type": "display_data"
    },
    {
     "data": {
      "application/javascript": [
       "(function(root) {\n",
       "  function embed_document(root) {\n",
       "    \n",
       "  var docs_json = {\"a37531f7-17fd-4221-b33b-34d4338461ad\":{\"roots\":{\"references\":[{\"attributes\":{\"below\":[{\"id\":\"71125\"}],\"center\":[{\"id\":\"71128\"},{\"id\":\"71132\"},{\"id\":\"71172\"}],\"left\":[{\"id\":\"71129\"}],\"plot_height\":400,\"renderers\":[{\"id\":\"71150\"},{\"id\":\"71155\"},{\"id\":\"71160\"},{\"id\":\"71177\"},{\"id\":\"71195\"},{\"id\":\"71200\"},{\"id\":\"71202\"}],\"title\":{\"id\":\"71115\"},\"toolbar\":{\"id\":\"71140\"},\"x_range\":{\"id\":\"71117\"},\"x_scale\":{\"id\":\"71121\"},\"y_range\":{\"id\":\"71119\"},\"y_scale\":{\"id\":\"71123\"}},\"id\":\"71114\",\"subtype\":\"Figure\",\"type\":\"Plot\"},{\"attributes\":{},\"id\":\"71117\",\"type\":\"DataRange1d\"},{\"attributes\":{\"fill_alpha\":{\"value\":0.1},\"fill_color\":{\"value\":\"black\"},\"line_alpha\":{\"value\":0.1},\"x\":{\"field\":\"x\"},\"y\":{\"field\":\"y\"}},\"id\":\"71194\",\"type\":\"Circle\"},{\"attributes\":{\"x\":{\"field\":\"x\"},\"y\":{\"field\":\"y\"}},\"id\":\"71158\",\"type\":\"Line\"},{\"attributes\":{\"data\":{\"x\":[0,1,2,3,4,5,6,7,8,9,10,11,12,13,14,15,16,17,18,19,20,21],\"y\":[1097,1286,1417,1588,1758,2011,2349,2741,3088,3404,3915,4506,5089,5661,6390,7220,7711,8256,8850,9361,9964,10535]},\"selected\":{\"id\":\"72622\"},\"selection_policy\":{\"id\":\"72623\"}},\"id\":\"71197\",\"type\":\"ColumnDataSource\"},{\"attributes\":{\"text\":\"Emilia Romagna erf Model\"},\"id\":\"71115\",\"type\":\"Title\"},{\"attributes\":{\"data_source\":{\"id\":\"71147\"},\"glyph\":{\"id\":\"71148\"},\"hover_glyph\":null,\"muted_glyph\":null,\"nonselection_glyph\":{\"id\":\"71149\"},\"selection_glyph\":null,\"view\":{\"id\":\"71151\"}},\"id\":\"71150\",\"type\":\"GlyphRenderer\"},{\"attributes\":{\"data_source\":{\"id\":\"71192\"},\"glyph\":{\"id\":\"71193\"},\"hover_glyph\":null,\"muted_glyph\":null,\"nonselection_glyph\":{\"id\":\"71194\"},\"selection_glyph\":null,\"view\":{\"id\":\"71196\"}},\"id\":\"71195\",\"type\":\"GlyphRenderer\"},{\"attributes\":{\"line_alpha\":0.1,\"x\":{\"field\":\"x\"},\"y\":{\"field\":\"y\"}},\"id\":\"71159\",\"type\":\"Line\"},{\"attributes\":{\"fill_color\":{\"value\":\"black\"},\"x\":{\"field\":\"x\"},\"y\":{\"field\":\"y\"}},\"id\":\"71193\",\"type\":\"Circle\"},{\"attributes\":{\"data\":{\"x\":[0,1,2,3,4,5,6,7,8,9,10,11,12,13,14,15,16,17,18,19,20,21,22,23,24,25,26,27,28,29,30,31,32,33,34,35,36,37,38,39,40,41,42,43],\"y1\":{\"__ndarray__\":\"/df5pUy3gUCyIMG/L+eFQAgqXLwsg4pAvoD98OTEj0B4ummyDziTQJl0LOqmz5ZAK2vanqvdmkDophG0M8efQOSakf5Ej6JA93JgUTWWpUB+l9vmsMmoQEU5mxo0PKxA/rT/gr20r0AMuQ7GM7mxQFUHI+rKsbNAeCDudxPVtUCHCoOssxi4QPAZFjj4QLpAotAl7nqFvEA1G8awLQi/QPJaoK6ZycBACPkLr2QNwkAkETgGXDfDQNhRoZnbncRABM/N4e3jxUCioQXczRPHQJGFOgeoMshA1e5j/fNFyUCxm8iQQzzKQMix8bwLO8tAKXtSbZYizEBnCAq2ounMQE5TxlFGwM1A3lAp7CyHzkA+ParQ0Q3PQBQKqcpok89Awe/YV0wQ0EB2PYL2VErQQBJfFnbhbNBAfEBvWHyQ0ECZqgHcPa7QQJcEhwlwzNBAcDLTf5Tl0EBwVguQEP7QQA==\",\"dtype\":\"float64\",\"shape\":[44]},\"y2\":{\"__ndarray__\":\"/I5I03NjkUCre+9jQHCUQOi7j/u/EphA6tIkPkjNm0Ab4xtMbESgQP3pYT2+9qJANswz1vLzpUC91yVQ0iSpQCk6q3KQk6xA+Oq9uDMasEA7uQypxRCyQD6/fG0xILRAEzYNgRhPtkC9cWahdY+4QDrd303c4LpAWJ2T5TxwvUD0H+plagvAQIvAYrzjUcFAbpalbFi3wkD/kjJt+yXEQHOaWUTFisVAje339M7bxkC//yFSTlbIQED+mIixx8lA4EXtSusUy0C86DhQ61XMQMir2dZjzM1AHQg+i+EAz0Dnht8FUAPQQDdJSMp6hdBAoKC2NOwb0UDqC8A9w5fRQCiRKEEH+NFAXYfJVn9N0kDALC5kNKnSQN1HLv00/dJAtplDmgpA00ASL9SEwH7TQHkbJGaBtNNArNCy8cLj00BIDmqwFA3UQMEuhwn6MNRAAv3OIpVP1EBd40lixWXUQA==\",\"dtype\":\"float64\",\"shape\":[44]}},\"selected\":{\"id\":\"71167\"},\"selection_policy\":{\"id\":\"71168\"}},\"id\":\"71147\",\"type\":\"ColumnDataSource\"},{\"attributes\":{\"source\":{\"id\":\"71192\"}},\"id\":\"71196\",\"type\":\"CDSView\"},{\"attributes\":{\"source\":{\"id\":\"71157\"}},\"id\":\"71161\",\"type\":\"CDSView\"},{\"attributes\":{},\"id\":\"71133\",\"type\":\"PanTool\"},{\"attributes\":{\"data_source\":{\"id\":\"71157\"},\"glyph\":{\"id\":\"71158\"},\"hover_glyph\":null,\"muted_glyph\":null,\"nonselection_glyph\":{\"id\":\"71159\"},\"selection_glyph\":null,\"view\":{\"id\":\"71161\"}},\"id\":\"71160\",\"type\":\"GlyphRenderer\"},{\"attributes\":{\"overlay\":{\"id\":\"71139\"}},\"id\":\"71135\",\"type\":\"BoxZoomTool\"},{\"attributes\":{\"fill_alpha\":0.2,\"fill_color\":\"black\",\"x\":{\"field\":\"x\"},\"y1\":{\"field\":\"y1\"},\"y2\":{\"field\":\"y2\"}},\"id\":\"71153\",\"type\":\"VArea\"},{\"attributes\":{},\"id\":\"71164\",\"type\":\"BasicTickFormatter\"},{\"attributes\":{\"source\":{\"id\":\"71152\"}},\"id\":\"71156\",\"type\":\"CDSView\"},{\"attributes\":{\"fill_alpha\":{\"value\":0.1},\"fill_color\":{\"value\":\"purple\"},\"line_alpha\":{\"value\":0.1},\"line_color\":{\"value\":\"purple\"},\"x\":{\"field\":\"x\"},\"y\":{\"field\":\"y\"}},\"id\":\"71199\",\"type\":\"Circle\"},{\"attributes\":{},\"id\":\"71137\",\"type\":\"ResetTool\"},{\"attributes\":{},\"id\":\"71166\",\"type\":\"BasicTickFormatter\"},{\"attributes\":{\"data\":{\"x\":[0,1,2,3,4,5,6,7,8,9,10,11,12,13,14,15,16,17,18,19,20,21,22,23,24,25,26,27,28,29,30,31,32,33,34,35,36,37,38,39,40,41,42,43],\"y1\":{\"__ndarray__\":\"i2a58YgkSUByzwWSSaBQQLrRhUQdmVVAosPADRxeW0CwFMNsS1RhQBDKcCddvWVAfbypXibwakAuyUW3rXxwQMpmQkRr8XNApoG+ktvid0Cv56f+yCB8QE6gnf/7XYBA2mFwBwXPgkBkvzZL3naFQBw/RU1hG4hARnJdKTHdikBqlymn5b2NQHiFW/vNUZBAxs2jU4W9kUBBg7c9uBeTQJjZqTQ+aJRAyN2XVpa1lUA8pYwB9NyWQDtUloP26JdAI5jh9wTfmECGwj6BR7KZQJWIMSMaeZpAXnM1cfUbm0A0P/Iyu6mbQBv0wB95IZxA2Gp8BTSFnEBR7ar/PNicQBwAk+0bHJ1Atb9moENSnUCw2GO45n+dQLRJDr3Pop1A3Eg+xzm6nUB17TrDX8qdQJOknYsz1p1AweNIpyLfnUCo4sP/EOadQEoaQyP86p1AjGlgPvHtnUAVBYAP1O+dQA==\",\"dtype\":\"float64\",\"shape\":[44]},\"y2\":{\"__ndarray__\":\"h50wnqiJTkBmDH5ToNZTQLRCBJY1cVlALKf8Xm0dYEAsRJcd2D1kQJ8648SiFWlASLYf0/yYbkDD/PQLs31yQIDJ3Ul+P3ZAVeFsLH9QekDTlLFUq9x+QLSC3zkj4YFAUNCF9mR4hEDPjH6/kzKHQCc1rIuHCIpAyik5qSLujEDshw5juOKPQIrFosfsb5FA0l7Q0TLakkAtBz2+qz+UQLB21qqZn5VAWLbeD6LblkBKrqUZXgeYQHIi3SDQGZlAQJRFxpkZmkC5jCTqof+aQK4iASoywptAQABzkithnEBTdhIKJOycQCN1DzumZ51ANq+1ZMzFnUCDrL+eshWeQOM410seW55AkvRTmJqQnkBY52jSKLieQMbJepVU1p5A6lXzJVfynkBMyP6y5AifQGoYqj3YGZ9ALRtrIUkln0Dlz/ViFy2fQEaM5o6eMp9A+BGoiXo2n0C9nRqCIjmfQA==\",\"dtype\":\"float64\",\"shape\":[44]}},\"selected\":{\"id\":\"71169\"},\"selection_policy\":{\"id\":\"71170\"}},\"id\":\"71152\",\"type\":\"ColumnDataSource\"},{\"attributes\":{},\"id\":\"71136\",\"type\":\"SaveTool\"},{\"attributes\":{\"source\":{\"id\":\"71174\"}},\"id\":\"71178\",\"type\":\"CDSView\"},{\"attributes\":{\"data_source\":{\"id\":\"71197\"},\"glyph\":{\"id\":\"71198\"},\"hover_glyph\":null,\"muted_glyph\":null,\"nonselection_glyph\":{\"id\":\"71199\"},\"selection_glyph\":null,\"view\":{\"id\":\"71201\"}},\"id\":\"71200\",\"type\":\"GlyphRenderer\"},{\"attributes\":{\"axis\":{\"id\":\"71129\"},\"dimension\":1,\"ticker\":null},\"id\":\"71132\",\"type\":\"Grid\"},{\"attributes\":{\"active_drag\":\"auto\",\"active_inspect\":\"auto\",\"active_multi\":null,\"active_scroll\":\"auto\",\"active_tap\":\"auto\",\"tools\":[{\"id\":\"71133\"},{\"id\":\"71134\"},{\"id\":\"71135\"},{\"id\":\"71136\"},{\"id\":\"71137\"},{\"id\":\"71138\"}]},\"id\":\"71140\",\"type\":\"Toolbar\"},{\"attributes\":{\"fill_color\":{\"value\":\"purple\"},\"line_color\":{\"value\":\"purple\"},\"x\":{\"field\":\"x\"},\"y\":{\"field\":\"y\"}},\"id\":\"71198\",\"type\":\"Circle\"},{\"attributes\":{},\"id\":\"71167\",\"type\":\"Selection\"},{\"attributes\":{},\"id\":\"71188\",\"type\":\"Selection\"},{\"attributes\":{},\"id\":\"71168\",\"type\":\"UnionRenderers\"},{\"attributes\":{\"source\":{\"id\":\"71197\"}},\"id\":\"71201\",\"type\":\"CDSView\"},{\"attributes\":{},\"id\":\"71126\",\"type\":\"BasicTicker\"},{\"attributes\":{},\"id\":\"71138\",\"type\":\"HelpTool\"},{\"attributes\":{},\"id\":\"71169\",\"type\":\"Selection\"},{\"attributes\":{\"data_source\":{\"id\":\"71174\"},\"glyph\":{\"id\":\"71175\"},\"hover_glyph\":null,\"muted_glyph\":null,\"nonselection_glyph\":{\"id\":\"71176\"},\"selection_glyph\":null,\"view\":{\"id\":\"71178\"}},\"id\":\"71177\",\"type\":\"GlyphRenderer\"},{\"attributes\":{\"axis\":{\"id\":\"71125\"},\"ticker\":null},\"id\":\"71128\",\"type\":\"Grid\"},{\"attributes\":{\"dimension\":\"height\",\"line_width\":3,\"location\":20},\"id\":\"71202\",\"type\":\"Span\"},{\"attributes\":{},\"id\":\"71170\",\"type\":\"UnionRenderers\"},{\"attributes\":{\"axis_label\":\"# people\",\"formatter\":{\"id\":\"71164\"},\"ticker\":{\"id\":\"71130\"}},\"id\":\"71129\",\"type\":\"LinearAxis\"},{\"attributes\":{},\"id\":\"72618\",\"type\":\"Selection\"},{\"attributes\":{\"items\":[{\"id\":\"71173\"},{\"id\":\"71191\"}],\"location\":\"top_left\"},\"id\":\"71172\",\"type\":\"Legend\"},{\"attributes\":{},\"id\":\"71130\",\"type\":\"BasicTicker\"},{\"attributes\":{\"fill_alpha\":0.2,\"fill_color\":\"purple\",\"x\":{\"field\":\"x\"},\"y1\":{\"field\":\"y1\"},\"y2\":{\"field\":\"y2\"}},\"id\":\"71148\",\"type\":\"VArea\"},{\"attributes\":{},\"id\":\"72619\",\"type\":\"UnionRenderers\"},{\"attributes\":{\"label\":{\"value\":\"Deceased\"},\"renderers\":[{\"id\":\"71160\"}]},\"id\":\"71173\",\"type\":\"LegendItem\"},{\"attributes\":{\"fill_alpha\":0.1,\"fill_color\":\"purple\",\"x\":{\"field\":\"x\"},\"y1\":{\"field\":\"y1\"},\"y2\":{\"field\":\"y2\"}},\"id\":\"71149\",\"type\":\"VArea\"},{\"attributes\":{\"data\":{\"x\":[0,1,2,3,4,5,6,7,8,9,10,11,12,13,14,15,16,17,18,19,20,21,22,23,24,25,26,27,28,29,30,31,32,33,34,35,36,37,38,39,40,41,42,43],\"y\":{\"__ndarray__\":\"I0c+vFEOTEC6+t7CmVZSQDB9CSWFrFdAdGqfg0LjXUBn5H9fi9RiQAwoZlrNcGdA4iZ7Qe7UbEC620ex3IVxQFUClcKSDXVAP3t8kK4BeUBCfVOP/159QEf1S3BrD4FAEXkrOH+bg0DKTGJ48kyGQF/IGdd/G4lAflUmRa/9i0BpbszqNOmOQNr/5nCv6ZBAuYbvFMVYkkCSiQJHy7yTQNysHqYoEZVAkjrWnOdRlkBvoppb2HuXQPkV8PCljJhAZIux392CmUDvcz666l2aQA+3j0wDHptA1qLEpRDEm0AtjkfMjVGcQLQ2dxFkyJxApcw62MYqnUAG8a9CEXudQNZnNbGnu51A+nWDXd7unUDNZWe75RaeQHLfz7a8NZ5A5OD+byhNnkDl7lfBsF6eQEjJqKega55AKJQVkwl1nkDxbDyuyHueQObccUONgJ5AOe2ujd+DnkCriy5tJ4aeQA==\",\"dtype\":\"float64\",\"shape\":[44]}},\"selected\":{\"id\":\"71188\"},\"selection_policy\":{\"id\":\"71189\"}},\"id\":\"71157\",\"type\":\"ColumnDataSource\"},{\"attributes\":{},\"id\":\"72620\",\"type\":\"Selection\"},{\"attributes\":{\"axis_label\":\"t (days)\",\"formatter\":{\"id\":\"71166\"},\"ticker\":{\"id\":\"71126\"}},\"id\":\"71125\",\"type\":\"LinearAxis\"},{\"attributes\":{\"data\":{\"x\":[0,1,2,3,4,5,6,7,8,9,10,11,12,13,14,15,16,17,18,19,20,21,22,23,24,25,26,27,28,29,30,31,32,33,34,35,36,37,38,39,40,41,42,43],\"y\":{\"__ndarray__\":\"OJmw5JmgjECwyTK4ShqRQCu59+XkTZRAZeVg02rKl0AI7c1mMuWbQLLc+rN+QKBAWLqIJuHRokCTERmzAqmlQCFh73FKx6hA8Z2LsiUtrEDZmjwO7tmvQDCfgt3q5bFApjE6te3/s0BGLL5g4zi2QNx6OBIXjrhAo8lbGEP8ukACjKponX+9QIcUmFr0CcBAbO8EykRawUABFOaFT67CQCUzCdaOA8RAPhsWHHZXxUD8D4tqgKfGQKBNjdI+8cdA/GqI4WUyyUBzXVfS2WjKQH2Krwa5kstAPn+kc2SuzEAneOzFhbrNQE5ech4Tts5AFGgFZFCgz0DIFvkgZzzQQO9QxIGzn9BAWdZmyBz60EBg3/lv0UvRQJTLmBwbldFAEtiEV1rW0UBm/yUWAhDSQPavzTmTQtJAC4xpMZhu0kBQ9yHgoJTSQCZBtuQ+tdJAkejKVQLR0kDwhMj/dujSQA==\",\"dtype\":\"float64\",\"shape\":[44]}},\"selected\":{\"id\":\"72618\"},\"selection_policy\":{\"id\":\"72619\"}},\"id\":\"71174\",\"type\":\"ColumnDataSource\"},{\"attributes\":{\"bottom_units\":\"screen\",\"fill_alpha\":0.5,\"fill_color\":\"lightgrey\",\"left_units\":\"screen\",\"level\":\"overlay\",\"line_alpha\":1.0,\"line_color\":\"black\",\"line_dash\":[4,4],\"line_width\":2,\"render_mode\":\"css\",\"right_units\":\"screen\",\"top_units\":\"screen\"},\"id\":\"71139\",\"type\":\"BoxAnnotation\"},{\"attributes\":{},\"id\":\"71134\",\"type\":\"WheelZoomTool\"},{\"attributes\":{},\"id\":\"72621\",\"type\":\"UnionRenderers\"},{\"attributes\":{},\"id\":\"71123\",\"type\":\"LinearScale\"},{\"attributes\":{\"line_alpha\":0.1,\"line_color\":\"purple\",\"x\":{\"field\":\"x\"},\"y\":{\"field\":\"y\"}},\"id\":\"71176\",\"type\":\"Line\"},{\"attributes\":{\"line_color\":\"purple\",\"x\":{\"field\":\"x\"},\"y\":{\"field\":\"y\"}},\"id\":\"71175\",\"type\":\"Line\"},{\"attributes\":{},\"id\":\"72622\",\"type\":\"Selection\"},{\"attributes\":{},\"id\":\"71121\",\"type\":\"LinearScale\"},{\"attributes\":{\"source\":{\"id\":\"71147\"}},\"id\":\"71151\",\"type\":\"CDSView\"},{\"attributes\":{},\"id\":\"71189\",\"type\":\"UnionRenderers\"},{\"attributes\":{},\"id\":\"72623\",\"type\":\"UnionRenderers\"},{\"attributes\":{},\"id\":\"71119\",\"type\":\"DataRange1d\"},{\"attributes\":{\"label\":{\"value\":\"Symptomatic infected\"},\"renderers\":[{\"id\":\"71177\"}]},\"id\":\"71191\",\"type\":\"LegendItem\"},{\"attributes\":{\"data\":{\"x\":[0,1,2,3,4,5,6,7,8,9,10,11,12,13,14,15,16,17,18,19,20,21],\"y\":[56,70,85,113,146,201,241,284,346,393,458,531,640,715,816,892,985,1077,1174,1267,1344,1443]},\"selected\":{\"id\":\"72620\"},\"selection_policy\":{\"id\":\"72621\"}},\"id\":\"71192\",\"type\":\"ColumnDataSource\"},{\"attributes\":{\"fill_alpha\":0.1,\"fill_color\":\"black\",\"x\":{\"field\":\"x\"},\"y1\":{\"field\":\"y1\"},\"y2\":{\"field\":\"y2\"}},\"id\":\"71154\",\"type\":\"VArea\"},{\"attributes\":{\"data_source\":{\"id\":\"71152\"},\"glyph\":{\"id\":\"71153\"},\"hover_glyph\":null,\"muted_glyph\":null,\"nonselection_glyph\":{\"id\":\"71154\"},\"selection_glyph\":null,\"view\":{\"id\":\"71156\"}},\"id\":\"71155\",\"type\":\"GlyphRenderer\"}],\"root_ids\":[\"71114\"]},\"title\":\"Bokeh Application\",\"version\":\"2.0.1\"}};\n",
       "  var render_items = [{\"docid\":\"a37531f7-17fd-4221-b33b-34d4338461ad\",\"root_ids\":[\"71114\"],\"roots\":{\"71114\":\"8c0039e3-fadf-4134-a895-c0cef8a6f5e6\"}}];\n",
       "  root.Bokeh.embed.embed_items_notebook(docs_json, render_items);\n",
       "\n",
       "  }\n",
       "  if (root.Bokeh !== undefined) {\n",
       "    embed_document(root);\n",
       "  } else {\n",
       "    var attempts = 0;\n",
       "    var timer = setInterval(function(root) {\n",
       "      if (root.Bokeh !== undefined) {\n",
       "        clearInterval(timer);\n",
       "        embed_document(root);\n",
       "      } else {\n",
       "        attempts++;\n",
       "        if (attempts > 100) {\n",
       "          clearInterval(timer);\n",
       "          console.log(\"Bokeh: ERROR: Unable to run BokehJS code because BokehJS library is missing\");\n",
       "        }\n",
       "      }\n",
       "    }, 10, root)\n",
       "  }\n",
       "})(window);"
      ],
      "application/vnd.bokehjs_exec.v0+json": ""
     },
     "metadata": {
      "application/vnd.bokehjs_exec.v0+json": {
       "id": "71114"
      }
     },
     "output_type": "display_data"
    },
    {
     "data": {
      "text/html": [
       "\n",
       "\n",
       "\n",
       "\n",
       "\n",
       "\n",
       "  <div class=\"bk-root\" id=\"f5a53cc0-068d-4bae-84b2-1379892142c5\" data-root-id=\"72733\"></div>\n"
      ]
     },
     "metadata": {},
     "output_type": "display_data"
    },
    {
     "data": {
      "application/javascript": [
       "(function(root) {\n",
       "  function embed_document(root) {\n",
       "    \n",
       "  var docs_json = {\"8af1408e-df33-46af-b2a3-fd505a790784\":{\"roots\":{\"references\":[{\"attributes\":{\"below\":[{\"id\":\"72744\"}],\"center\":[{\"id\":\"72747\"},{\"id\":\"72751\"},{\"id\":\"72791\"}],\"left\":[{\"id\":\"72748\"}],\"plot_height\":400,\"renderers\":[{\"id\":\"72769\"},{\"id\":\"72774\"},{\"id\":\"72779\"},{\"id\":\"72796\"},{\"id\":\"72814\"},{\"id\":\"72819\"}],\"title\":{\"id\":\"72734\"},\"toolbar\":{\"id\":\"72759\"},\"x_range\":{\"id\":\"72736\"},\"x_scale\":{\"id\":\"72740\"},\"y_range\":{\"id\":\"72738\"},\"y_scale\":{\"id\":\"72742\"}},\"id\":\"72733\",\"subtype\":\"Figure\",\"type\":\"Plot\"},{\"attributes\":{\"fill_alpha\":{\"value\":0.1},\"fill_color\":{\"value\":\"black\"},\"line_alpha\":{\"value\":0.1},\"x\":{\"field\":\"x\"},\"y\":{\"field\":\"y\"}},\"id\":\"72813\",\"type\":\"Circle\"},{\"attributes\":{\"text\":\"Emilia Romagna erf Model\"},\"id\":\"72734\",\"type\":\"Title\"},{\"attributes\":{\"x\":{\"field\":\"x\"},\"y\":{\"field\":\"y\"}},\"id\":\"72777\",\"type\":\"Line\"},{\"attributes\":{\"data\":{\"x\":[0,1,2,3,4,5,6,7,8,9,10,11,12,13,14,15,16,17,18,19,20,21],\"y\":[1097,1286,1417,1588,1758,2011,2349,2741,3088,3404,3915,4506,5089,5661,6390,7220,7711,8256,8850,9361,9964,10535]},\"selected\":{\"id\":\"74258\"},\"selection_policy\":{\"id\":\"74259\"}},\"id\":\"72816\",\"type\":\"ColumnDataSource\"},{\"attributes\":{\"data_source\":{\"id\":\"72811\"},\"glyph\":{\"id\":\"72812\"},\"hover_glyph\":null,\"muted_glyph\":null,\"nonselection_glyph\":{\"id\":\"72813\"},\"selection_glyph\":null,\"view\":{\"id\":\"72815\"}},\"id\":\"72814\",\"type\":\"GlyphRenderer\"},{\"attributes\":{},\"id\":\"72753\",\"type\":\"WheelZoomTool\"},{\"attributes\":{\"line_alpha\":0.1,\"x\":{\"field\":\"x\"},\"y\":{\"field\":\"y\"}},\"id\":\"72778\",\"type\":\"Line\"},{\"attributes\":{\"fill_color\":{\"value\":\"black\"},\"x\":{\"field\":\"x\"},\"y\":{\"field\":\"y\"}},\"id\":\"72812\",\"type\":\"Circle\"},{\"attributes\":{},\"id\":\"72736\",\"type\":\"DataRange1d\"},{\"attributes\":{},\"id\":\"72755\",\"type\":\"SaveTool\"},{\"attributes\":{\"source\":{\"id\":\"72811\"}},\"id\":\"72815\",\"type\":\"CDSView\"},{\"attributes\":{\"data_source\":{\"id\":\"72766\"},\"glyph\":{\"id\":\"72767\"},\"hover_glyph\":null,\"muted_glyph\":null,\"nonselection_glyph\":{\"id\":\"72768\"},\"selection_glyph\":null,\"view\":{\"id\":\"72770\"}},\"id\":\"72769\",\"type\":\"GlyphRenderer\"},{\"attributes\":{\"source\":{\"id\":\"72776\"}},\"id\":\"72780\",\"type\":\"CDSView\"},{\"attributes\":{\"overlay\":{\"id\":\"72758\"}},\"id\":\"72754\",\"type\":\"BoxZoomTool\"},{\"attributes\":{\"data_source\":{\"id\":\"72776\"},\"glyph\":{\"id\":\"72777\"},\"hover_glyph\":null,\"muted_glyph\":null,\"nonselection_glyph\":{\"id\":\"72778\"},\"selection_glyph\":null,\"view\":{\"id\":\"72780\"}},\"id\":\"72779\",\"type\":\"GlyphRenderer\"},{\"attributes\":{},\"id\":\"72738\",\"type\":\"DataRange1d\"},{\"attributes\":{},\"id\":\"72756\",\"type\":\"ResetTool\"},{\"attributes\":{},\"id\":\"72783\",\"type\":\"BasicTickFormatter\"},{\"attributes\":{\"data\":{\"x\":[0,1,2,3,4,5,6,7,8,9,10,11,12,13,14,15,16,17,18,19,20,21,22,23,24,25,26,27,28,29,30,31,32,33,34,35,36,37,38,39,40,41,42,43],\"y\":{\"__ndarray__\":\"PJIQEzZxTECkQxIZ4YpSQN521Uus4VdA6CQCXuUWXkCeFj/wHOxiQLAhUhJ6hGdAIbvD2wfjbEAgWs/tWIlxQK1Va4/gDHVArYB+3nT8eEAbgh5GRlV9QBVRp2uQCIFAJv6nLS+Tg0CIe7JBBUSGQIQHtVIdE4lAfEaFDkv3i0Cd1poJhOaOQHVWxuUj65BAdKVvBAhekkD9wlGi4MaTQAiQKQUKIZVAqf3A03dolkDWPl1X2JmXQEAgB7ersphAPzinVU6xmUC5tjqT9pSaQGufNy6nXZtAj2DdSxgMnECEoye0maGcQCItfQnxH51APSaatzaJnUCejj4LtN+dQEEqHW3EJZ5A1pZvKbtdnkCFiWqVzomeQNDrGNUIrJ5A6iFZCz7GnkCmQW1iB9qeQAz7iSDC6J5A/Hqu35HznkDoNV/+ZPueQODjWnH6AJ9AYeMoPugEn0DugeoMogefQA==\",\"dtype\":\"float64\",\"shape\":[44]}},\"selected\":{\"id\":\"72807\"},\"selection_policy\":{\"id\":\"72808\"}},\"id\":\"72776\",\"type\":\"ColumnDataSource\"},{\"attributes\":{\"fill_alpha\":{\"value\":0.1},\"fill_color\":{\"value\":\"purple\"},\"line_alpha\":{\"value\":0.1},\"line_color\":{\"value\":\"purple\"},\"x\":{\"field\":\"x\"},\"y\":{\"field\":\"y\"}},\"id\":\"72818\",\"type\":\"Circle\"},{\"attributes\":{},\"id\":\"72757\",\"type\":\"HelpTool\"},{\"attributes\":{},\"id\":\"72785\",\"type\":\"BasicTickFormatter\"},{\"attributes\":{\"line_color\":\"purple\",\"x\":{\"field\":\"x\"},\"y\":{\"field\":\"y\"}},\"id\":\"72794\",\"type\":\"Line\"},{\"attributes\":{},\"id\":\"74254\",\"type\":\"Selection\"},{\"attributes\":{\"data_source\":{\"id\":\"72816\"},\"glyph\":{\"id\":\"72817\"},\"hover_glyph\":null,\"muted_glyph\":null,\"nonselection_glyph\":{\"id\":\"72818\"},\"selection_glyph\":null,\"view\":{\"id\":\"72820\"}},\"id\":\"72819\",\"type\":\"GlyphRenderer\"},{\"attributes\":{\"label\":{\"value\":\"Deceased\"},\"renderers\":[{\"id\":\"72779\"}]},\"id\":\"72792\",\"type\":\"LegendItem\"},{\"attributes\":{\"axis\":{\"id\":\"72744\"},\"ticker\":null},\"id\":\"72747\",\"type\":\"Grid\"},{\"attributes\":{},\"id\":\"72786\",\"type\":\"Selection\"},{\"attributes\":{\"fill_color\":{\"value\":\"purple\"},\"line_color\":{\"value\":\"purple\"},\"x\":{\"field\":\"x\"},\"y\":{\"field\":\"y\"}},\"id\":\"72817\",\"type\":\"Circle\"},{\"attributes\":{},\"id\":\"72740\",\"type\":\"LinearScale\"},{\"attributes\":{},\"id\":\"72787\",\"type\":\"UnionRenderers\"},{\"attributes\":{\"active_drag\":\"auto\",\"active_inspect\":\"auto\",\"active_multi\":null,\"active_scroll\":\"auto\",\"active_tap\":\"auto\",\"tools\":[{\"id\":\"72752\"},{\"id\":\"72753\"},{\"id\":\"72754\"},{\"id\":\"72755\"},{\"id\":\"72756\"},{\"id\":\"72757\"}]},\"id\":\"72759\",\"type\":\"Toolbar\"},{\"attributes\":{\"source\":{\"id\":\"72816\"}},\"id\":\"72820\",\"type\":\"CDSView\"},{\"attributes\":{\"items\":[{\"id\":\"72792\"},{\"id\":\"72810\"}],\"location\":\"top_left\"},\"id\":\"72791\",\"type\":\"Legend\"},{\"attributes\":{},\"id\":\"72788\",\"type\":\"Selection\"},{\"attributes\":{\"axis_label\":\"t (days)\",\"formatter\":{\"id\":\"72785\"},\"ticker\":{\"id\":\"72745\"}},\"id\":\"72744\",\"type\":\"LinearAxis\"},{\"attributes\":{\"data\":{\"x\":[0,1,2,3,4,5,6,7,8,9,10,11,12,13,14,15,16,17,18,19,20,21,22,23,24,25,26,27,28,29,30,31,32,33,34,35,36,37,38,39,40,41,42,43],\"y\":{\"__ndarray__\":\"aq1417Bzi0B3zYiFnI2QQIEvhn6e0JNAEALlIFNhl0CbCoyWoJabQDurvfH0KKBAjOGZoQXMokA7ekYV8rWlQP0oQbUF56hAndsaU0herECrkG/RswywQMaihaBVCrJAQZiTVHoltEAIJQz85Vq2QEP5a9q8prhAxYsUlpYEu0A1PuEdl2+9QCDmuWGM4r9AcinH2AcswUCDG2WvVGXCQE8j0ox6msNAIkIsvOLIxEDdTqKRIu7FQDVYfyIKCMdAqToKi7AUyECVzm9SfRLJQFT3rKYuAMpANH2GVtzcykBoqfya96fLQBujc+lHYcxAwBSTKeUIzUAfltfDL5/NQB5O3g7HJM5AyP0+qX6azkCxqbBMUwHPQJqHNZ5fWs9AlNyYb9Gmz0AxrmfS3+fPQLcWzyJhD9BAdLqvl1Qm0EA0O27eWznQQEo6uJb/SNBAJGr4vb1V0EB74W6lCGDQQA==\",\"dtype\":\"float64\",\"shape\":[44]}},\"selected\":{\"id\":\"74254\"},\"selection_policy\":{\"id\":\"74255\"}},\"id\":\"72793\",\"type\":\"ColumnDataSource\"},{\"attributes\":{},\"id\":\"72789\",\"type\":\"UnionRenderers\"},{\"attributes\":{},\"id\":\"72742\",\"type\":\"LinearScale\"},{\"attributes\":{\"fill_alpha\":0.1,\"fill_color\":\"black\",\"x\":{\"field\":\"x\"},\"y1\":{\"field\":\"y1\"},\"y2\":{\"field\":\"y2\"}},\"id\":\"72773\",\"type\":\"VArea\"},{\"attributes\":{},\"id\":\"74255\",\"type\":\"UnionRenderers\"},{\"attributes\":{\"line_alpha\":0.1,\"line_color\":\"purple\",\"x\":{\"field\":\"x\"},\"y\":{\"field\":\"y\"}},\"id\":\"72795\",\"type\":\"Line\"},{\"attributes\":{},\"id\":\"74256\",\"type\":\"Selection\"},{\"attributes\":{\"data_source\":{\"id\":\"72771\"},\"glyph\":{\"id\":\"72772\"},\"hover_glyph\":null,\"muted_glyph\":null,\"nonselection_glyph\":{\"id\":\"72773\"},\"selection_glyph\":null,\"view\":{\"id\":\"72775\"}},\"id\":\"72774\",\"type\":\"GlyphRenderer\"},{\"attributes\":{},\"id\":\"72745\",\"type\":\"BasicTicker\"},{\"attributes\":{},\"id\":\"74257\",\"type\":\"UnionRenderers\"},{\"attributes\":{},\"id\":\"72749\",\"type\":\"BasicTicker\"},{\"attributes\":{\"source\":{\"id\":\"72793\"}},\"id\":\"72797\",\"type\":\"CDSView\"},{\"attributes\":{},\"id\":\"74258\",\"type\":\"Selection\"},{\"attributes\":{\"data_source\":{\"id\":\"72793\"},\"glyph\":{\"id\":\"72794\"},\"hover_glyph\":null,\"muted_glyph\":null,\"nonselection_glyph\":{\"id\":\"72795\"},\"selection_glyph\":null,\"view\":{\"id\":\"72797\"}},\"id\":\"72796\",\"type\":\"GlyphRenderer\"},{\"attributes\":{\"fill_alpha\":0.1,\"fill_color\":\"purple\",\"x\":{\"field\":\"x\"},\"y1\":{\"field\":\"y1\"},\"y2\":{\"field\":\"y2\"}},\"id\":\"72768\",\"type\":\"VArea\"},{\"attributes\":{\"axis_label\":\"# people\",\"formatter\":{\"id\":\"72783\"},\"ticker\":{\"id\":\"72749\"}},\"id\":\"72748\",\"type\":\"LinearAxis\"},{\"attributes\":{\"fill_alpha\":0.2,\"fill_color\":\"purple\",\"x\":{\"field\":\"x\"},\"y1\":{\"field\":\"y1\"},\"y2\":{\"field\":\"y2\"}},\"id\":\"72767\",\"type\":\"VArea\"},{\"attributes\":{},\"id\":\"72807\",\"type\":\"Selection\"},{\"attributes\":{},\"id\":\"74259\",\"type\":\"UnionRenderers\"},{\"attributes\":{\"data\":{\"x\":[0,1,2,3,4,5,6,7,8,9,10,11,12,13,14,15,16,17,18,19,20,21,22,23,24,25,26,27,28,29,30,31,32,33,34,35,36,37,38,39,40,41,42,43],\"y1\":{\"__ndarray__\":\"/kf51GvhSkDsGalG4pZRQGdT2s/MwlZAceaoGbG6XEDyT7wG4hRiQKiH0UaAi2ZAAEpuTgvMa0Cr8ls2dvdwQKotjGAwanRA4izfcWtNeEBCX4i1a6F8QBhWe4xPooBAaO7m//sMg0BOyLIwEZeFQICRjv3MVIhAQUDBYfkri0ASrbjdgwyOQLCybKr2dJBA51g+C7bakUDAzxHpiz2TQNylajlQkpRAFghiG2nYlUCcPK/Wlw2XQIxTpCleHphAeFt5ZbkcmUAop5WncgCaQOn9mxfsxppA1yIC+nxtm0CZiGM+9/ybQGknrV84epxAbdBzqknjnEBwu3rDGzidQDfjZiz9fJ1A1gdLMN63nUA/5kYGKeSdQLPNxCM1B55AsT6NWB0hnkBLFoo9ezSeQObi8FnLQ55A36m9EFpPnkCzMe6kxVeeQEWEXFh5XJ5A6oJdxrlfnkCv0e8I9WGeQA==\",\"dtype\":\"float64\",\"shape\":[44]},\"y2\":{\"__ndarray__\":\"nnGOLYZUT0AShalh7URUQIgL9q0m0VlA3/JmjvgmYEBhnei1zjlkQG6k82UzE2lAMu+CuCuTbkDujKFGD3ZyQMskLKbNDXZAdg+WuXAIekDHt4OmUm5+QJYVZJAQnoFAhJ3S/zcohEDwblhqweCGQFtMl/jTuIlAJ+HcFAiajECUZuxppoWPQDMC+2ZFQJFAu+jCtAq2kkB34JqcIyCUQOWB0q+RhZVAM76FE0DZlkA6Df9Y6QGYQBF4kaHkHJlAuK23ZagcmkCoGk0kdgCbQHChzEN4xJtAnl8uBTJrnEBgwHdL9PycQIiQpxUsgZ1AcKfVyZfwnUBXf5JDIkeeQF6RrtBIkZ5AKv+uWPXOnkAzqBdr9P+eQDnPZzVZJp9AT6YvAQZEn0CMcuyPpVqfQOQduaGoa59Alq3e1UZ4n0DdzpgIgoGfQPXbyZhPiJ9ALwCbqzqNn0CUFIfssZCfQA==\",\"dtype\":\"float64\",\"shape\":[44]}},\"selected\":{\"id\":\"72788\"},\"selection_policy\":{\"id\":\"72789\"}},\"id\":\"72771\",\"type\":\"ColumnDataSource\"},{\"attributes\":{\"axis\":{\"id\":\"72748\"},\"dimension\":1,\"ticker\":null},\"id\":\"72751\",\"type\":\"Grid\"},{\"attributes\":{\"source\":{\"id\":\"72766\"}},\"id\":\"72770\",\"type\":\"CDSView\"},{\"attributes\":{},\"id\":\"72808\",\"type\":\"UnionRenderers\"},{\"attributes\":{\"label\":{\"value\":\"Symptomatic infected\"},\"renderers\":[{\"id\":\"72796\"}]},\"id\":\"72810\",\"type\":\"LegendItem\"},{\"attributes\":{\"source\":{\"id\":\"72771\"}},\"id\":\"72775\",\"type\":\"CDSView\"},{\"attributes\":{},\"id\":\"72752\",\"type\":\"PanTool\"},{\"attributes\":{\"data\":{\"x\":[0,1,2,3,4,5,6,7,8,9,10,11,12,13,14,15,16,17,18,19,20,21],\"y\":[56,70,85,113,146,201,241,284,346,393,458,531,640,715,816,892,985,1077,1174,1267,1344,1443]},\"selected\":{\"id\":\"74256\"},\"selection_policy\":{\"id\":\"74257\"}},\"id\":\"72811\",\"type\":\"ColumnDataSource\"},{\"attributes\":{\"bottom_units\":\"screen\",\"fill_alpha\":0.5,\"fill_color\":\"lightgrey\",\"left_units\":\"screen\",\"level\":\"overlay\",\"line_alpha\":1.0,\"line_color\":\"black\",\"line_dash\":[4,4],\"line_width\":2,\"render_mode\":\"css\",\"right_units\":\"screen\",\"top_units\":\"screen\"},\"id\":\"72758\",\"type\":\"BoxAnnotation\"},{\"attributes\":{\"fill_alpha\":0.2,\"fill_color\":\"black\",\"x\":{\"field\":\"x\"},\"y1\":{\"field\":\"y1\"},\"y2\":{\"field\":\"y2\"}},\"id\":\"72772\",\"type\":\"VArea\"},{\"attributes\":{\"data\":{\"x\":[0,1,2,3,4,5,6,7,8,9,10,11,12,13,14,15,16,17,18,19,20,21,22,23,24,25,26,27,28,29,30,31,32,33,34,35,36,37,38,39,40,41,42,43],\"y1\":{\"__ndarray__\":\"sEllOm1yh0Ca9SmHpHWMQKKiciLOLZFATJCsK5hPlECyVeg7KwqYQCLESy7lYpxAXl8J1E7AoEAPZOVAL22jQEwlJIbkSKZA1htWsLZ/qUCBLZF0xwWtQGeOC9C4aLBAonUwotFpskB/S+DGumW0QDvQ2uRim7ZAHYlzxl78uECptsCna0y7QEEh+4Zts71AY4j0BQALwEDBtPDy2DTBQEecqb40d8JAFS0Ur7Shw0AQo2NCFLPEQDFFZmEgscVAH2EdkMOkxkBmV1lJtofHQJe7MHm/XMhAcI68JvAoyUA8axmTrN3JQO73lTS8pspA+KeCwBlKy0BNRbOGLd7LQHVvbNo+bsxASXnBxmPfzEBAXFBrHkrNQO7k7PEBls1AxpYP4Z7QzUDg70uKkA3OQAqXtnJDRc5AYrXoFqh1zkCFUV3wlJnOQOsIDwZqus5AwxLo6HnZzkAoKmGGA/DOQA==\",\"dtype\":\"float64\",\"shape\":[44]},\"y2\":{\"__ndarray__\":\"eeVf51htkUAg+4ugObSUQAzwycvZdZhA/nkkJz5tnEC4FmZHonqgQO8RnB89F6NAmMwQ7IgFpkCjEjjixC+pQN0wOUnXgaxAtGLOqlUysEDXTsLrPUyyQMmOS0vWfLRAmnwwlgqVtkAke4tIrL+4QBjvKe1JA7tAvN3KI/+MvUBqjfJaKgvAQMD+LXhPTsFA+EmSjoCUwkDFaYmNjNzDQJO7DGu0E8VAlse1/A9MxkBeYhxbe2zHQHg3ysC6eMhAaIIg83V/yUBEMgTWE7TKQEgNFxZir8tA+WO06NyHzEBH6dad+UzNQEKeZLmLBc5AGMm0BDKkzkAUAwNz2UfPQJc0M4nfv89ADt/PZOUj0EA0L51x42DQQLoJEvi6ldBAWow54ce60EBZPLyUSuLQQJCX0KzK+tBA+m0rw6IN0UAgowxxeRvRQH0PGq7nJdFAsKLMhCUu0UBU5Z+KmTTRQA==\",\"dtype\":\"float64\",\"shape\":[44]}},\"selected\":{\"id\":\"72786\"},\"selection_policy\":{\"id\":\"72787\"}},\"id\":\"72766\",\"type\":\"ColumnDataSource\"}],\"root_ids\":[\"72733\"]},\"title\":\"Bokeh Application\",\"version\":\"2.0.1\"}};\n",
       "  var render_items = [{\"docid\":\"8af1408e-df33-46af-b2a3-fd505a790784\",\"root_ids\":[\"72733\"],\"roots\":{\"72733\":\"f5a53cc0-068d-4bae-84b2-1379892142c5\"}}];\n",
       "  root.Bokeh.embed.embed_items_notebook(docs_json, render_items);\n",
       "\n",
       "  }\n",
       "  if (root.Bokeh !== undefined) {\n",
       "    embed_document(root);\n",
       "  } else {\n",
       "    var attempts = 0;\n",
       "    var timer = setInterval(function(root) {\n",
       "      if (root.Bokeh !== undefined) {\n",
       "        clearInterval(timer);\n",
       "        embed_document(root);\n",
       "      } else {\n",
       "        attempts++;\n",
       "        if (attempts > 100) {\n",
       "          clearInterval(timer);\n",
       "          console.log(\"Bokeh: ERROR: Unable to run BokehJS code because BokehJS library is missing\");\n",
       "        }\n",
       "      }\n",
       "    }, 10, root)\n",
       "  }\n",
       "})(window);"
      ],
      "application/vnd.bokehjs_exec.v0+json": ""
     },
     "metadata": {
      "application/vnd.bokehjs_exec.v0+json": {
       "id": "72733"
      }
     },
     "output_type": "display_data"
    }
   ],
   "source": [
    "start = 16\n",
    "step = 4\n",
    "ind = 0\n",
    "results = []\n",
    "one_more = False\n",
    "while start + ind*step <= 24:\n",
    "    boundary = start + ind*step\n",
    "    plot_erf_with_errors_sample(df, 'Emilia Romagna', 2, boundary)\n",
    "    ind += 1"
   ]
  },
  {
   "cell_type": "markdown",
   "metadata": {},
   "source": [
    "Time to move on to a more standard epidemiological model."
   ]
  },
  {
   "cell_type": "markdown",
   "metadata": {},
   "source": [
    "## SEIR-QD model"
   ]
  },
  {
   "cell_type": "markdown",
   "metadata": {},
   "source": [
    "Ok, will this model isn't too standard. It's selected as one of the best-performing models from \"Rational evaluation of various epidemic models based on the COVID-19 data of China\" (https://www.medrxiv.org/content/10.1101/2020.03.12.20034595v1.full.pdf), where it turned out to be one of the better models in terms of early-stage data collection. It takes into effect quarantine and self-protection, but not from data; it just makes assumptions about how people behave. The differential equations can be found on page 8 of the supplement: https://www.medrxiv.org/content/medrxiv/suppl/2020/03/16/2020.03.12.20034595.DC1/2020.03.12.20034595-1.pdf. Thanks @Liana Merk for doing the initial work on this model!\n",
    "\n",
    "Parameters:\n",
    "* $\\beta$ = infection rate, from earlier plotting, $10^{(-8)} - 10^{(-6)}$ seem reasonable.\n",
    "* $\\delta$ = recovery rate, which we think is on the order of 10-40 days.\n",
    "* $\\gamma$ = transition of exposed individuals to infected, which we aren't sure of, especially with the unknown number of asymptomatics.\n",
    "* $\\alpha$ = protection rate of susceptible individuals, which we also don't know, and is most likely dynamic over the course of the outbreak.\n",
    "* $\\lambda$ = transition rate of infected to quarantined with infection, same as above.\n",
    "* $\\kappa$ = death rate, which we think is around 0.01-0.06. We will leave a range between 0.01 and 0.1."
   ]
  },
  {
   "cell_type": "code",
   "execution_count": 47,
   "metadata": {},
   "outputs": [],
   "source": [
    "def seirqd(dat, t, params, N):\n",
    "    beta = params[0] / N\n",
    "    delta = params[1]\n",
    "    gamma = params[2]\n",
    "    alpha = params[3]\n",
    "    lambda_ = params[4]\n",
    "    kappa = params[5]\n",
    "    \n",
    "    s = dat[0]\n",
    "    e = dat[1]\n",
    "    i = dat[2]\n",
    "    q = dat[3]\n",
    "    r = dat[4]\n",
    "    d = dat[5]\n",
    "    sa = dat[6]\n",
    "    \n",
    "    dsdt = - beta * s * i - alpha * s\n",
    "    dedt = beta * s * i - gamma * e\n",
    "    didt = gamma * e - lambda_ * i\n",
    "    dqdt = lambda_ * i - delta * q - kappa * q\n",
    "    drdt = delta * q\n",
    "    dddt = kappa * q\n",
    "    dsadt = alpha * s\n",
    "    \n",
    "    # susceptible, exposed, infected, quarantined, recovered, died, unsusceptible\n",
    "    return [dsdt, dedt, didt, dqdt, drdt, dddt, dsadt]"
   ]
  },
  {
   "cell_type": "code",
   "execution_count": 48,
   "metadata": {},
   "outputs": [],
   "source": [
    "from sklearn.metrics import mean_squared_error\n",
    "\n",
    "def mse_qd(A, B):\n",
    "    Ap = np.nan_to_num(A)\n",
    "    Bp = np.nan_to_num(B)\n",
    "    Ap[A == -np.inf] = 0\n",
    "    Bp[B == -np.inf] = 0\n",
    "    Ap[A == np.inf] = 0\n",
    "    Bp[B == np.inf] = 0\n",
    "    return mean_squared_error(Ap, Bp)\n",
    "\n",
    "def model_qd(params, data, tmax=-1):\n",
    "    # initial conditions\n",
    "    N = data['Population'].values[0] # total population\n",
    "    initial_conditions = N * np.array(params[-5:]) # the parameters are a fraction of the population so multiply by the population\n",
    "    \n",
    "    # initial conditions\n",
    "    e0 = initial_conditions[0]\n",
    "    i0 = initial_conditions[1]\n",
    "    q0 = initial_conditions[2]\n",
    "    r0 = initial_conditions[3]\n",
    "    sa0 = initial_conditions[4]\n",
    "    \n",
    "    d0 = data['Deaths'].values[0]\n",
    "    s0 = N - np.sum(initial_conditions) - d0\n",
    "\n",
    "    yz_0 = np.array([s0, e0, i0, q0, r0, d0, sa0])\n",
    "    \n",
    "    # Package parameters into a tuple\n",
    "    args = (params, N)\n",
    "    \n",
    "    n = len(data)\n",
    "    if tmax > 0:\n",
    "        n = tmax\n",
    "    \n",
    "    # Integrate ODEs\n",
    "    s = scipy.integrate.odeint(seirqd, yz_0, np.arange(0, n), args=args)\n",
    "\n",
    "    return s\n",
    "\n",
    "def fit_leastsq_qd(params, data):\n",
    "    Ddata = (data['Deaths'].values)\n",
    "    Idata = (data['TotalCurrentlyPositive'].values)\n",
    "    s = model_qd(params, data)\n",
    "\n",
    "    S = s[:,0]\n",
    "    E = s[:,1]\n",
    "    I = s[:,2]\n",
    "    Q = s[:,3]\n",
    "    R = s[:,4]\n",
    "    D = s[:,5]\n",
    "    SA = s[:,6]\n",
    "    \n",
    "    error = np.concatenate((D-Ddata, I - Idata))\n",
    "    return error"
   ]
  },
  {
   "cell_type": "markdown",
   "metadata": {},
   "source": [
    "Let's check if this is reasonable with a manual fit to Lombardia. Anyway, we need to provide the optimization method an initial guess of the parameters, so this gives us a good chance to make a reasonable guess and speed up the optimization. Some good guesses are provided by the SEIR model here: https://gabgoh.github.io/COVID/index.html."
   ]
  },
  {
   "cell_type": "code",
   "execution_count": 49,
   "metadata": {},
   "outputs": [
    {
     "data": {
      "image/png": "[encoded data removed]",
      "text/plain": [
       "<Figure size 432x288 with 1 Axes>"
      ]
     },
     "metadata": {
      "needs_background": "light"
     },
     "output_type": "display_data"
    }
   ],
   "source": [
    "%matplotlib notebook\n",
    "%matplotlib inline\n",
    "\n",
    "plt.figure()\n",
    "d = select_region(df, 'Lombardia')\n",
    "# parameters: beta, delta, gamma, alpha, lambda, kappa\n",
    "params = [2.0, 0.3, 0.2, 0.05, 0.2, 0.03]\n",
    "# parameters: beta, sigma, ra, shift\n",
    "# params = [1.1, 0.8, 0.2, 0.3]\n",
    "# conditions: E, I, Q, R, SA\n",
    "initial_conditions = [0.5e-3, 0.5e-3, 0.3e-3, 0.1e-4, 0.5]\n",
    "s = model_qd(params + initial_conditions, d, False)\n",
    "plt.scatter(d['date_processed'], d['Deaths'])\n",
    "plt.plot(d['date_processed'], s[:, 5])\n",
    "plt.show()"
   ]
  },
  {
   "cell_type": "markdown",
   "metadata": {},
   "source": [
    "Looks good! How about actually fitting it now? We need a plotting function!"
   ]
  },
  {
   "cell_type": "code",
   "execution_count": 57,
   "metadata": {},
   "outputs": [],
   "source": [
    "import itertools\n",
    "\n",
    "def plot_qd(res, p0_params, p0_initial_conditions, df, region, extrapolate=1, boundary=None, plot_infectious=False):\n",
    "    data = select_region(df, region)\n",
    "    \n",
    "    s = model_qd(res.x, data, len(data)*extrapolate)\n",
    "    S = s[:,0]\n",
    "    E = s[:,1]\n",
    "    I = s[:,2]\n",
    "    Q = s[:,3]\n",
    "    R = s[:,4]\n",
    "    D = s[:,5]\n",
    "    SA = s[:,6]\n",
    "\n",
    "    t = np.arange(0, len(data))\n",
    "    tp = np.arange(0, len(data)*extrapolate)\n",
    "\n",
    "    p = bokeh.plotting.figure(plot_width=600,\n",
    "                              plot_height=400,\n",
    "                             title = region + ' SEIR-QD Model',\n",
    "                             x_axis_label = 't (days)',\n",
    "                             y_axis_label = '# people')\n",
    "\n",
    "    if plot_infectious:\n",
    "        p.line(tp, I, color = 'red', line_width = 1, legend_label = 'All infected')\n",
    "    p.line(tp, D, color = 'black', line_width = 1, legend_label = 'Deceased')\n",
    "\n",
    "    # death\n",
    "    p.circle(t, data['Deaths'], color ='black')\n",
    "\n",
    "    # quarantined\n",
    "    p.circle(t, data['TotalCurrentlyPositive'], color ='purple', legend_label='Tested infected')\n",
    "    \n",
    "    if boundary is not None:\n",
    "        vline = Span(location=boundary, dimension='height', line_color='black', line_width=3)\n",
    "        p.renderers.extend([vline])\n",
    "\n",
    "    p.legend.location = 'top_left'\n",
    "    bokeh.io.show(p)"
   ]
  },
  {
   "cell_type": "markdown",
   "metadata": {},
   "source": [
    "We'll need to estimate errors from the optimization procedure. I transferred some of the relevant code from `curve_fit` to work for this kind of model:"
   ]
  },
  {
   "cell_type": "code",
   "execution_count": 51,
   "metadata": {},
   "outputs": [],
   "source": [
    "from scipy.linalg import svd\n",
    "# return params, 1 standard deviation errors\n",
    "def get_errors(res, p0):\n",
    "    p0 = np.array(p0)\n",
    "    ysize = len(res.fun)\n",
    "    cost = 2 * res.cost  # res.cost is half sum of squares!\n",
    "    popt = res.x\n",
    "    # Do Moore-Penrose inverse discarding zero singular values.\n",
    "    _, s, VT = svd(res.jac, full_matrices=False)\n",
    "    threshold = np.finfo(float).eps * max(res.jac.shape) * s[0]\n",
    "    s = s[s > threshold]\n",
    "    VT = VT[:s.size]\n",
    "    pcov = np.dot(VT.T / s**2, VT)\n",
    "\n",
    "    warn_cov = False\n",
    "    absolute_sigma = False\n",
    "    if pcov is None:\n",
    "        # indeterminate covariance\n",
    "        pcov = zeros((len(popt), len(popt)), dtype=float)\n",
    "        pcov.fill(inf)\n",
    "        warn_cov = True\n",
    "    elif not absolute_sigma:\n",
    "        if ysize > p0.size:\n",
    "            s_sq = cost / (ysize - p0.size)\n",
    "            pcov = pcov * s_sq\n",
    "        else:\n",
    "            pcov.fill(inf)\n",
    "            warn_cov = True\n",
    "\n",
    "    if warn_cov:\n",
    "        print('cannot estimate variance')\n",
    "        return None\n",
    "    \n",
    "    perr = np.sqrt(np.diag(pcov))\n",
    "    return perr"
   ]
  },
  {
   "cell_type": "markdown",
   "metadata": {},
   "source": [
    "To do the optimization, we should define reasonable ranges for the parameters as well."
   ]
  },
  {
   "cell_type": "code",
   "execution_count": 52,
   "metadata": {},
   "outputs": [],
   "source": [
    "param_ranges = [(0.5, 3.0), (0.0, 0.5), (0.0, 0.5), (0.01, 0.5), (0.0, 0.5), (0.005, 0.1)]\n",
    "initial_ranges = [(1.0e-7, 0.01), (1.0e-7, 0.01), (1.0e-7, 0.01), (1.0e-7, 0.01), (1.0e-7, 0.9)]\n",
    "guesses = params + initial_conditions\n",
    "ranges = param_ranges + initial_ranges"
   ]
  },
  {
   "cell_type": "code",
   "execution_count": 53,
   "metadata": {},
   "outputs": [],
   "source": [
    "from scipy.optimize import least_squares\n",
    "res = least_squares(fit_leastsq_qd, guesses, args=(select_region(df, 'Lombardia'),), bounds=np.transpose(np.array(ranges)))"
   ]
  },
  {
   "cell_type": "code",
   "execution_count": 58,
   "metadata": {},
   "outputs": [
    {
     "data": {
      "text/html": [
       "\n",
       "\n",
       "\n",
       "\n",
       "\n",
       "\n",
       "  <div class=\"bk-root\" id=\"44807c7a-0d10-4fc7-9a28-a116ca891018\" data-root-id=\"10448\"></div>\n"
      ]
     },
     "metadata": {},
     "output_type": "display_data"
    },
    {
     "data": {
      "application/javascript": [
       "(function(root) {\n",
       "  function embed_document(root) {\n",
       "    \n",
       "  var docs_json = {\"5c2e81e6-74e9-4636-b6d9-20fdc6867c6b\":{\"roots\":{\"references\":[{\"attributes\":{\"below\":[{\"id\":\"10459\"}],\"center\":[{\"id\":\"10462\"},{\"id\":\"10466\"},{\"id\":\"10491\"}],\"left\":[{\"id\":\"10463\"}],\"plot_height\":400,\"renderers\":[{\"id\":\"10483\"},{\"id\":\"10496\"},{\"id\":\"10510\"},{\"id\":\"10515\"}],\"title\":{\"id\":\"10449\"},\"toolbar\":{\"id\":\"10473\"},\"x_range\":{\"id\":\"10451\"},\"x_scale\":{\"id\":\"10455\"},\"y_range\":{\"id\":\"10453\"},\"y_scale\":{\"id\":\"10457\"}},\"id\":\"10448\",\"subtype\":\"Figure\",\"type\":\"Plot\"},{\"attributes\":{},\"id\":\"10453\",\"type\":\"DataRange1d\"},{\"attributes\":{\"data_source\":{\"id\":\"10493\"},\"glyph\":{\"id\":\"10494\"},\"hover_glyph\":null,\"muted_glyph\":null,\"nonselection_glyph\":{\"id\":\"10495\"},\"selection_glyph\":null,\"view\":{\"id\":\"10497\"}},\"id\":\"10496\",\"type\":\"GlyphRenderer\"},{\"attributes\":{},\"id\":\"10527\",\"type\":\"UnionRenderers\"},{\"attributes\":{},\"id\":\"10451\",\"type\":\"DataRange1d\"},{\"attributes\":{},\"id\":\"10470\",\"type\":\"SaveTool\"},{\"attributes\":{},\"id\":\"10455\",\"type\":\"LinearScale\"},{\"attributes\":{\"label\":{\"value\":\"Tested infected\"},\"renderers\":[{\"id\":\"10515\"}]},\"id\":\"10529\",\"type\":\"LegendItem\"},{\"attributes\":{},\"id\":\"10468\",\"type\":\"WheelZoomTool\"},{\"attributes\":{\"text\":\"Lombardia SEIR-QD Model\"},\"id\":\"10449\",\"type\":\"Title\"},{\"attributes\":{\"source\":{\"id\":\"10507\"}},\"id\":\"10511\",\"type\":\"CDSView\"},{\"attributes\":{\"overlay\":{\"id\":\"10490\"}},\"id\":\"10469\",\"type\":\"BoxZoomTool\"},{\"attributes\":{\"label\":{\"value\":\"Deceased\"},\"renderers\":[{\"id\":\"10496\"}]},\"id\":\"10506\",\"type\":\"LegendItem\"},{\"attributes\":{},\"id\":\"10943\",\"type\":\"Selection\"},{\"attributes\":{},\"id\":\"10944\",\"type\":\"UnionRenderers\"},{\"attributes\":{\"axis_label\":\"t (days)\",\"formatter\":{\"id\":\"10487\"},\"ticker\":{\"id\":\"10460\"}},\"id\":\"10459\",\"type\":\"LinearAxis\"},{\"attributes\":{},\"id\":\"10504\",\"type\":\"UnionRenderers\"},{\"attributes\":{},\"id\":\"10471\",\"type\":\"ResetTool\"},{\"attributes\":{\"line_alpha\":0.1,\"x\":{\"field\":\"x\"},\"y\":{\"field\":\"y\"}},\"id\":\"10495\",\"type\":\"Line\"},{\"attributes\":{\"data_source\":{\"id\":\"10480\"},\"glyph\":{\"id\":\"10481\"},\"hover_glyph\":null,\"muted_glyph\":null,\"nonselection_glyph\":{\"id\":\"10482\"},\"selection_glyph\":null,\"view\":{\"id\":\"10484\"}},\"id\":\"10483\",\"type\":\"GlyphRenderer\"},{\"attributes\":{\"data\":{\"x\":[0,1,2,3,4,5,6,7,8,9,10,11,12,13,14,15,16,17,18,19,20,21,22,23,24,25,26,27,28,29,30,31,32,33],\"y\":[55,73,98,135,154,267,333,468,617,744,890,966,1218,1420,1640,1959,2168,2549,3095,3456,3776,4178,4474,4861,5402,5944,6360,6818,7199,7593,7960,8311,8656,8905]},\"selected\":{\"id\":\"10526\"},\"selection_policy\":{\"id\":\"10527\"}},\"id\":\"10507\",\"type\":\"ColumnDataSource\"},{\"attributes\":{\"fill_alpha\":{\"value\":0.1},\"fill_color\":{\"value\":\"black\"},\"line_alpha\":{\"value\":0.1},\"x\":{\"field\":\"x\"},\"y\":{\"field\":\"y\"}},\"id\":\"10509\",\"type\":\"Circle\"},{\"attributes\":{},\"id\":\"10472\",\"type\":\"HelpTool\"},{\"attributes\":{},\"id\":\"10526\",\"type\":\"Selection\"},{\"attributes\":{\"active_drag\":\"auto\",\"active_inspect\":\"auto\",\"active_multi\":null,\"active_scroll\":\"auto\",\"active_tap\":\"auto\",\"tools\":[{\"id\":\"10467\"},{\"id\":\"10468\"},{\"id\":\"10469\"},{\"id\":\"10470\"},{\"id\":\"10471\"},{\"id\":\"10472\"}]},\"id\":\"10473\",\"type\":\"Toolbar\"},{\"attributes\":{\"fill_color\":{\"value\":\"black\"},\"x\":{\"field\":\"x\"},\"y\":{\"field\":\"y\"}},\"id\":\"10508\",\"type\":\"Circle\"},{\"attributes\":{},\"id\":\"10487\",\"type\":\"BasicTickFormatter\"},{\"attributes\":{\"source\":{\"id\":\"10480\"}},\"id\":\"10484\",\"type\":\"CDSView\"},{\"attributes\":{\"data\":{\"x\":[0,1,2,3,4,5,6,7,8,9,10,11,12,13,14,15,16,17,18,19,20,21,22,23,24,25,26,27,28,29,30,31,32,33,34,35,36,37,38,39,40,41,42,43,44,45,46,47,48,49,50,51,52,53,54,55,56,57,58,59,60,61,62,63,64,65,66,67],\"y\":{\"__ndarray__\":\"6EzcmDnfkUBYPfB1dvWWQPzmt3GBEp1A2HlnZ+EjokBIWwXsQFGmQGBN1VN8FatAPbAE3+w4sEDTV+nJTjKzQMl4cdKBdLZA4VP4vKz7uUDH8+XkmsK9QF11mf9x4cBAJ9X2fI76wkCDmUd9hyjFQNDDVrf4ZsdAOa/zPVKxyUA1If+r9ALMQFNpdEpLV85AeusotfFU0EDK3+w3QHvRQIannSKWnNJAgd9KDiK300AFKx7MQMnUQHDvS0qA0dVAc8uU7qDO1kCHN0qclb/XQDIJ15iCo9hAFFaWhrt52UCSBZyqwEHaQLFZ3K47+9pAQ0hiDfyl20ACKg5L80HcQJNr0SIxz9xAc5Sdu99N3UApy0n+P77dQGmd2BqmIN5AMfFTSHZ13kCrclnGIb3eQJf0HSQk+N5Af7xZzgAn30BNyK3iQErfQF2DuEZxYt9AmRnU/iBw30DCqUrA33PfQHBLRbo8bt9AZqlokMVf30AF7iqCBUnfQGSs/LmEKt9AuD+bv8cE30BJ+jAJT9jeQBkWMaeWpd5AsrRCBxZt3kBeo+DKPy/eQAbZr66B7N1AZWfkf0Sl3UCNMlwd7FndQMk2YYLXCt1AlpxK2WC43EC8sHCU3WLcQN/0HoyeCtxAuWBhIPCv20B0iLldGlPbQAXQ4CNh9NpAYNb1TQSU2kBXg3fbPzLaQDpPmhlMz9lABJeTzF1r2UANaodYpgbZQA==\",\"dtype\":\"float64\",\"shape\":[68]}},\"selected\":{\"id\":\"10503\"},\"selection_policy\":{\"id\":\"10504\"}},\"id\":\"10480\",\"type\":\"ColumnDataSource\"},{\"attributes\":{\"data\":{\"x\":[0,1,2,3,4,5,6,7,8,9,10,11,12,13,14,15,16,17,18,19,20,21,22,23,24,25,26,27,28,29,30,31,32,33],\"y\":[1326,1497,1777,2008,2742,3372,4490,4427,5763,6896,7732,9059,10043,10861,12095,12266,13938,15420,17370,17885,18910,19868,20591,22189,23895,24509,25392,25006,25124,25765,25876,26189,27220,28124]},\"selected\":{\"id\":\"10943\"},\"selection_policy\":{\"id\":\"10944\"}},\"id\":\"10512\",\"type\":\"ColumnDataSource\"},{\"attributes\":{},\"id\":\"10467\",\"type\":\"PanTool\"},{\"attributes\":{\"axis\":{\"id\":\"10459\"},\"ticker\":null},\"id\":\"10462\",\"type\":\"Grid\"},{\"attributes\":{\"bottom_units\":\"screen\",\"fill_alpha\":0.5,\"fill_color\":\"lightgrey\",\"left_units\":\"screen\",\"level\":\"overlay\",\"line_alpha\":1.0,\"line_color\":\"black\",\"line_dash\":[4,4],\"line_width\":2,\"render_mode\":\"css\",\"right_units\":\"screen\",\"top_units\":\"screen\"},\"id\":\"10490\",\"type\":\"BoxAnnotation\"},{\"attributes\":{\"data_source\":{\"id\":\"10507\"},\"glyph\":{\"id\":\"10508\"},\"hover_glyph\":null,\"muted_glyph\":null,\"nonselection_glyph\":{\"id\":\"10509\"},\"selection_glyph\":null,\"view\":{\"id\":\"10511\"}},\"id\":\"10510\",\"type\":\"GlyphRenderer\"},{\"attributes\":{\"line_color\":\"red\",\"x\":{\"field\":\"x\"},\"y\":{\"field\":\"y\"}},\"id\":\"10481\",\"type\":\"Line\"},{\"attributes\":{\"data_source\":{\"id\":\"10512\"},\"glyph\":{\"id\":\"10513\"},\"hover_glyph\":null,\"muted_glyph\":null,\"nonselection_glyph\":{\"id\":\"10514\"},\"selection_glyph\":null,\"view\":{\"id\":\"10516\"}},\"id\":\"10515\",\"type\":\"GlyphRenderer\"},{\"attributes\":{\"axis_label\":\"# people\",\"formatter\":{\"id\":\"10489\"},\"ticker\":{\"id\":\"10464\"}},\"id\":\"10463\",\"type\":\"LinearAxis\"},{\"attributes\":{},\"id\":\"10489\",\"type\":\"BasicTickFormatter\"},{\"attributes\":{\"fill_color\":{\"value\":\"purple\"},\"line_color\":{\"value\":\"purple\"},\"x\":{\"field\":\"x\"},\"y\":{\"field\":\"y\"}},\"id\":\"10513\",\"type\":\"Circle\"},{\"attributes\":{\"items\":[{\"id\":\"10492\"},{\"id\":\"10506\"},{\"id\":\"10529\"}],\"location\":\"top_left\"},\"id\":\"10491\",\"type\":\"Legend\"},{\"attributes\":{\"fill_alpha\":{\"value\":0.1},\"fill_color\":{\"value\":\"purple\"},\"line_alpha\":{\"value\":0.1},\"line_color\":{\"value\":\"purple\"},\"x\":{\"field\":\"x\"},\"y\":{\"field\":\"y\"}},\"id\":\"10514\",\"type\":\"Circle\"},{\"attributes\":{\"x\":{\"field\":\"x\"},\"y\":{\"field\":\"y\"}},\"id\":\"10494\",\"type\":\"Line\"},{\"attributes\":{\"axis\":{\"id\":\"10463\"},\"dimension\":1,\"ticker\":null},\"id\":\"10466\",\"type\":\"Grid\"},{\"attributes\":{},\"id\":\"10503\",\"type\":\"Selection\"},{\"attributes\":{},\"id\":\"10464\",\"type\":\"BasicTicker\"},{\"attributes\":{\"label\":{\"value\":\"All infected\"},\"renderers\":[{\"id\":\"10483\"}]},\"id\":\"10492\",\"type\":\"LegendItem\"},{\"attributes\":{},\"id\":\"10524\",\"type\":\"Selection\"},{\"attributes\":{\"data\":{\"x\":[0,1,2,3,4,5,6,7,8,9,10,11,12,13,14,15,16,17,18,19,20,21,22,23,24,25,26,27,28,29,30,31,32,33,34,35,36,37,38,39,40,41,42,43,44,45,46,47,48,49,50,51,52,53,54,55,56,57,58,59,60,61,62,63,64,65,66,67],\"y\":{\"__ndarray__\":\"AAAAAACAS0B+/tDyPbVXQHW/Iw0bP2FAH96zDKo/Z0CAyyEZfRRuQFxTMSnY/XJAAEfBXIWcd0Dam6Uzxgp9QLdOISuzt4FADSCzB4t5hUDgxh01+N+JQGn3RSV5AI9AYqfkwFl4kkDkwWrGE+OVQF/AsILxyplANs1X5Ro6nkAPxTOVGp2hQBFlrvIgaqRA78lOzECIp0DmQLwzLfuqQLNCJKEhxq5AWgag8Ox1sUBqEo4wRrezQCiUY2TzJ7ZAqcYeZobIuEDKmDyETJm7QJGbZN1Pmr5AgFvBxqzlwEDHuVVH+pXCQBVsSpe4XcRAdnrefXQ8xkBcxhyGoTHIQN8h6kGcPMpA2YAuoKxczEBlX/lKCJHOQCQu+YFqbNBAa0ZOe5WZ0UB6gb98i8/SQPZ8NVzODdRAk3aoYdxT1UDKDDY/MaHWQGuyjvhG9ddAqzsMuZZP2UAXRASYma/aQJJeRkvJFNxAFh//x6B+3UCyHWLSnOzeQBsEXz4eL+BAPgZXy4Dp4EBKIqCGOKXhQJqSe54JYuJA1/RKG7of40DDtdf7Ed7jQDwV90vbnORAd9kENuJb5UDZDKwP9RrmQGWRcGLk2eZAKr1n8IKY50D+QYi1pVboQHDK8+UjFOlAonuW6dbQ6UAOc3FVmozqQCCk4OJLR+tAAwEkZcsA7EB4rm+9+rjsQKemv829b+1AAhSnavok7kCwuUxMmNjuQA==\",\"dtype\":\"float64\",\"shape\":[68]}},\"selected\":{\"id\":\"10524\"},\"selection_policy\":{\"id\":\"10525\"}},\"id\":\"10493\",\"type\":\"ColumnDataSource\"},{\"attributes\":{\"source\":{\"id\":\"10512\"}},\"id\":\"10516\",\"type\":\"CDSView\"},{\"attributes\":{\"source\":{\"id\":\"10493\"}},\"id\":\"10497\",\"type\":\"CDSView\"},{\"attributes\":{},\"id\":\"10460\",\"type\":\"BasicTicker\"},{\"attributes\":{},\"id\":\"10525\",\"type\":\"UnionRenderers\"},{\"attributes\":{\"line_alpha\":0.1,\"line_color\":\"red\",\"x\":{\"field\":\"x\"},\"y\":{\"field\":\"y\"}},\"id\":\"10482\",\"type\":\"Line\"},{\"attributes\":{},\"id\":\"10457\",\"type\":\"LinearScale\"}],\"root_ids\":[\"10448\"]},\"title\":\"Bokeh Application\",\"version\":\"2.0.0\"}};\n",
       "  var render_items = [{\"docid\":\"5c2e81e6-74e9-4636-b6d9-20fdc6867c6b\",\"root_ids\":[\"10448\"],\"roots\":{\"10448\":\"44807c7a-0d10-4fc7-9a28-a116ca891018\"}}];\n",
       "  root.Bokeh.embed.embed_items_notebook(docs_json, render_items);\n",
       "\n",
       "  }\n",
       "  if (root.Bokeh !== undefined) {\n",
       "    embed_document(root);\n",
       "  } else {\n",
       "    var attempts = 0;\n",
       "    var timer = setInterval(function(root) {\n",
       "      if (root.Bokeh !== undefined) {\n",
       "        clearInterval(timer);\n",
       "        embed_document(root);\n",
       "      } else {\n",
       "        attempts++;\n",
       "        if (attempts > 100) {\n",
       "          clearInterval(timer);\n",
       "          console.log(\"Bokeh: ERROR: Unable to run BokehJS code because BokehJS library is missing\");\n",
       "        }\n",
       "      }\n",
       "    }, 10, root)\n",
       "  }\n",
       "})(window);"
      ],
      "application/vnd.bokehjs_exec.v0+json": ""
     },
     "metadata": {
      "application/vnd.bokehjs_exec.v0+json": {
       "id": "10448"
      }
     },
     "output_type": "display_data"
    }
   ],
   "source": [
    "plot_qd(res, params, initial_conditions, df, 'Lombardia', extrapolate=2, plot_infectious=True)"
   ]
  },
  {
   "cell_type": "code",
   "execution_count": 55,
   "metadata": {},
   "outputs": [],
   "source": [
    "from scipy.optimize import least_squares\n",
    "res = least_squares(fit_leastsq_qd, guesses, args=(select_region(df, 'Lombardia')[:20],), bounds=np.transpose(np.array(ranges)))"
   ]
  },
  {
   "cell_type": "code",
   "execution_count": 59,
   "metadata": {},
   "outputs": [
    {
     "data": {
      "text/html": [
       "\n",
       "\n",
       "\n",
       "\n",
       "\n",
       "\n",
       "  <div class=\"bk-root\" id=\"b69e3264-06ba-4c17-b6fa-341ed2045962\" data-root-id=\"11030\"></div>\n"
      ]
     },
     "metadata": {},
     "output_type": "display_data"
    },
    {
     "data": {
      "application/javascript": [
       "(function(root) {\n",
       "  function embed_document(root) {\n",
       "    \n",
       "  var docs_json = {\"88df3d38-f899-4544-b594-6a261688e62d\":{\"roots\":{\"references\":[{\"attributes\":{\"below\":[{\"id\":\"11041\"}],\"center\":[{\"id\":\"11044\"},{\"id\":\"11048\"},{\"id\":\"11073\"}],\"left\":[{\"id\":\"11045\"}],\"plot_height\":400,\"renderers\":[{\"id\":\"11065\"},{\"id\":\"11078\"},{\"id\":\"11092\"},{\"id\":\"11097\"},{\"id\":\"11112\"}],\"title\":{\"id\":\"11031\"},\"toolbar\":{\"id\":\"11055\"},\"x_range\":{\"id\":\"11033\"},\"x_scale\":{\"id\":\"11037\"},\"y_range\":{\"id\":\"11035\"},\"y_scale\":{\"id\":\"11039\"}},\"id\":\"11030\",\"subtype\":\"Figure\",\"type\":\"Plot\"},{\"attributes\":{\"fill_color\":{\"value\":\"purple\"},\"line_color\":{\"value\":\"purple\"},\"x\":{\"field\":\"x\"},\"y\":{\"field\":\"y\"}},\"id\":\"11095\",\"type\":\"Circle\"},{\"attributes\":{\"fill_alpha\":{\"value\":0.1},\"fill_color\":{\"value\":\"purple\"},\"line_alpha\":{\"value\":0.1},\"line_color\":{\"value\":\"purple\"},\"x\":{\"field\":\"x\"},\"y\":{\"field\":\"y\"}},\"id\":\"11096\",\"type\":\"Circle\"},{\"attributes\":{\"data\":{\"x\":[0,1,2,3,4,5,6,7,8,9,10,11,12,13,14,15,16,17,18,19,20,21,22,23,24,25,26,27,28,29,30,31,32,33,34,35,36,37,38,39,40,41,42,43,44,45,46,47,48,49,50,51,52,53,54,55,56,57,58,59,60,61,62,63,64,65,66,67],\"y\":{\"__ndarray__\":\"AAAAAACAS0B+/tDyPbVXQHW/Iw0bP2FAH96zDKo/Z0CAyyEZfRRuQFxTMSnY/XJAAEfBXIWcd0Dam6Uzxgp9QLdOISuzt4FADSCzB4t5hUDgxh01+N+JQGn3RSV5AI9AYqfkwFl4kkDkwWrGE+OVQF/AsILxyplANs1X5Ro6nkAPxTOVGp2hQBFlrvIgaqRA78lOzECIp0DmQLwzLfuqQLNCJKEhxq5AWgag8Ox1sUBqEo4wRrezQCiUY2TzJ7ZAqcYeZobIuEDKmDyETJm7QJGbZN1Pmr5AgFvBxqzlwEDHuVVH+pXCQBVsSpe4XcRAdnrefXQ8xkBcxhyGoTHIQN8h6kGcPMpA2YAuoKxczEBlX/lKCJHOQCQu+YFqbNBAa0ZOe5WZ0UB6gb98i8/SQPZ8NVzODdRAk3aoYdxT1UDKDDY/MaHWQGuyjvhG9ddAqzsMuZZP2UAXRASYma/aQJJeRkvJFNxAFh//x6B+3UCyHWLSnOzeQBsEXz4eL+BAPgZXy4Dp4EBKIqCGOKXhQJqSe54JYuJA1/RKG7of40DDtdf7Ed7jQDwV90vbnORAd9kENuJb5UDZDKwP9RrmQGWRcGLk2eZAKr1n8IKY50D+QYi1pVboQHDK8+UjFOlAonuW6dbQ6UAOc3FVmozqQCCk4OJLR+tAAwEkZcsA7EB4rm+9+rjsQKemv829b+1AAhSnavok7kCwuUxMmNjuQA==\",\"dtype\":\"float64\",\"shape\":[68]}},\"selected\":{\"id\":\"11106\"},\"selection_policy\":{\"id\":\"11107\"}},\"id\":\"11075\",\"type\":\"ColumnDataSource\"},{\"attributes\":{\"data_source\":{\"id\":\"11094\"},\"glyph\":{\"id\":\"11095\"},\"hover_glyph\":null,\"muted_glyph\":null,\"nonselection_glyph\":{\"id\":\"11096\"},\"selection_glyph\":null,\"view\":{\"id\":\"11098\"}},\"id\":\"11097\",\"type\":\"GlyphRenderer\"},{\"attributes\":{},\"id\":\"11540\",\"type\":\"Selection\"},{\"attributes\":{\"source\":{\"id\":\"11094\"}},\"id\":\"11098\",\"type\":\"CDSView\"},{\"attributes\":{\"bottom_units\":\"screen\",\"fill_alpha\":0.5,\"fill_color\":\"lightgrey\",\"left_units\":\"screen\",\"level\":\"overlay\",\"line_alpha\":1.0,\"line_color\":\"black\",\"line_dash\":[4,4],\"line_width\":2,\"render_mode\":\"css\",\"right_units\":\"screen\",\"top_units\":\"screen\"},\"id\":\"11072\",\"type\":\"BoxAnnotation\"},{\"attributes\":{},\"id\":\"11106\",\"type\":\"Selection\"},{\"attributes\":{},\"id\":\"11107\",\"type\":\"UnionRenderers\"},{\"attributes\":{\"data_source\":{\"id\":\"11075\"},\"glyph\":{\"id\":\"11076\"},\"hover_glyph\":null,\"muted_glyph\":null,\"nonselection_glyph\":{\"id\":\"11077\"},\"selection_glyph\":null,\"view\":{\"id\":\"11079\"}},\"id\":\"11078\",\"type\":\"GlyphRenderer\"},{\"attributes\":{\"source\":{\"id\":\"11075\"}},\"id\":\"11079\",\"type\":\"CDSView\"},{\"attributes\":{},\"id\":\"11108\",\"type\":\"Selection\"},{\"attributes\":{\"axis\":{\"id\":\"11041\"},\"ticker\":null},\"id\":\"11044\",\"type\":\"Grid\"},{\"attributes\":{},\"id\":\"11071\",\"type\":\"BasicTickFormatter\"},{\"attributes\":{\"x\":{\"field\":\"x\"},\"y\":{\"field\":\"y\"}},\"id\":\"11076\",\"type\":\"Line\"},{\"attributes\":{},\"id\":\"11109\",\"type\":\"UnionRenderers\"},{\"attributes\":{\"axis\":{\"id\":\"11045\"},\"dimension\":1,\"ticker\":null},\"id\":\"11048\",\"type\":\"Grid\"},{\"attributes\":{\"line_alpha\":0.1,\"x\":{\"field\":\"x\"},\"y\":{\"field\":\"y\"}},\"id\":\"11077\",\"type\":\"Line\"},{\"attributes\":{\"label\":{\"value\":\"Tested infected\"},\"renderers\":[{\"id\":\"11097\"}]},\"id\":\"11111\",\"type\":\"LegendItem\"},{\"attributes\":{},\"id\":\"11085\",\"type\":\"Selection\"},{\"attributes\":{},\"id\":\"11046\",\"type\":\"BasicTicker\"},{\"attributes\":{},\"id\":\"11042\",\"type\":\"BasicTicker\"},{\"attributes\":{\"dimension\":\"height\",\"line_width\":3,\"location\":20},\"id\":\"11112\",\"type\":\"Span\"},{\"attributes\":{},\"id\":\"11086\",\"type\":\"UnionRenderers\"},{\"attributes\":{\"axis_label\":\"# people\",\"formatter\":{\"id\":\"11071\"},\"ticker\":{\"id\":\"11046\"}},\"id\":\"11045\",\"type\":\"LinearAxis\"},{\"attributes\":{},\"id\":\"11069\",\"type\":\"BasicTickFormatter\"},{\"attributes\":{\"label\":{\"value\":\"Deceased\"},\"renderers\":[{\"id\":\"11078\"}]},\"id\":\"11088\",\"type\":\"LegendItem\"},{\"attributes\":{\"data\":{\"x\":[0,1,2,3,4,5,6,7,8,9,10,11,12,13,14,15,16,17,18,19,20,21,22,23,24,25,26,27,28,29,30,31,32,33,34,35,36,37,38,39,40,41,42,43,44,45,46,47,48,49,50,51,52,53,54,55,56,57,58,59,60,61,62,63,64,65,66,67],\"y\":{\"__ndarray__\":\"6EzcmDnfkUBYPfB1dvWWQPzmt3GBEp1A2HlnZ+EjokBIWwXsQFGmQGBN1VN8FatAPbAE3+w4sEDTV+nJTjKzQMl4cdKBdLZA4VP4vKz7uUDH8+XkmsK9QF11mf9x4cBAJ9X2fI76wkCDmUd9hyjFQNDDVrf4ZsdAOa/zPVKxyUA1If+r9ALMQFNpdEpLV85AeusotfFU0EDK3+w3QHvRQIannSKWnNJAgd9KDiK300AFKx7MQMnUQHDvS0qA0dVAc8uU7qDO1kCHN0qclb/XQDIJ15iCo9hAFFaWhrt52UCSBZyqwEHaQLFZ3K47+9pAQ0hiDfyl20ACKg5L80HcQJNr0SIxz9xAc5Sdu99N3UApy0n+P77dQGmd2BqmIN5AMfFTSHZ13kCrclnGIb3eQJf0HSQk+N5Af7xZzgAn30BNyK3iQErfQF2DuEZxYt9AmRnU/iBw30DCqUrA33PfQHBLRbo8bt9AZqlokMVf30AF7iqCBUnfQGSs/LmEKt9AuD+bv8cE30BJ+jAJT9jeQBkWMaeWpd5AsrRCBxZt3kBeo+DKPy/eQAbZr66B7N1AZWfkf0Sl3UCNMlwd7FndQMk2YYLXCt1AlpxK2WC43EC8sHCU3WLcQN/0HoyeCtxAuWBhIPCv20B0iLldGlPbQAXQ4CNh9NpAYNb1TQSU2kBXg3fbPzLaQDpPmhlMz9lABJeTzF1r2UANaodYpgbZQA==\",\"dtype\":\"float64\",\"shape\":[68]}},\"selected\":{\"id\":\"11085\"},\"selection_policy\":{\"id\":\"11086\"}},\"id\":\"11062\",\"type\":\"ColumnDataSource\"},{\"attributes\":{},\"id\":\"11541\",\"type\":\"UnionRenderers\"},{\"attributes\":{\"data\":{\"x\":[0,1,2,3,4,5,6,7,8,9,10,11,12,13,14,15,16,17,18,19,20,21,22,23,24,25,26,27,28,29,30,31,32,33],\"y\":[55,73,98,135,154,267,333,468,617,744,890,966,1218,1420,1640,1959,2168,2549,3095,3456,3776,4178,4474,4861,5402,5944,6360,6818,7199,7593,7960,8311,8656,8905]},\"selected\":{\"id\":\"11108\"},\"selection_policy\":{\"id\":\"11109\"}},\"id\":\"11089\",\"type\":\"ColumnDataSource\"},{\"attributes\":{},\"id\":\"11050\",\"type\":\"WheelZoomTool\"},{\"attributes\":{},\"id\":\"11039\",\"type\":\"LinearScale\"},{\"attributes\":{\"active_drag\":\"auto\",\"active_inspect\":\"auto\",\"active_multi\":null,\"active_scroll\":\"auto\",\"active_tap\":\"auto\",\"tools\":[{\"id\":\"11049\"},{\"id\":\"11050\"},{\"id\":\"11051\"},{\"id\":\"11052\"},{\"id\":\"11053\"},{\"id\":\"11054\"}]},\"id\":\"11055\",\"type\":\"Toolbar\"},{\"attributes\":{\"axis_label\":\"t (days)\",\"formatter\":{\"id\":\"11069\"},\"ticker\":{\"id\":\"11042\"}},\"id\":\"11041\",\"type\":\"LinearAxis\"},{\"attributes\":{\"source\":{\"id\":\"11062\"}},\"id\":\"11066\",\"type\":\"CDSView\"},{\"attributes\":{},\"id\":\"11037\",\"type\":\"LinearScale\"},{\"attributes\":{},\"id\":\"11049\",\"type\":\"PanTool\"},{\"attributes\":{},\"id\":\"11033\",\"type\":\"DataRange1d\"},{\"attributes\":{\"line_alpha\":0.1,\"line_color\":\"red\",\"x\":{\"field\":\"x\"},\"y\":{\"field\":\"y\"}},\"id\":\"11064\",\"type\":\"Line\"},{\"attributes\":{\"fill_color\":{\"value\":\"black\"},\"x\":{\"field\":\"x\"},\"y\":{\"field\":\"y\"}},\"id\":\"11090\",\"type\":\"Circle\"},{\"attributes\":{},\"id\":\"11035\",\"type\":\"DataRange1d\"},{\"attributes\":{\"fill_alpha\":{\"value\":0.1},\"fill_color\":{\"value\":\"black\"},\"line_alpha\":{\"value\":0.1},\"x\":{\"field\":\"x\"},\"y\":{\"field\":\"y\"}},\"id\":\"11091\",\"type\":\"Circle\"},{\"attributes\":{},\"id\":\"11052\",\"type\":\"SaveTool\"},{\"attributes\":{\"data_source\":{\"id\":\"11089\"},\"glyph\":{\"id\":\"11090\"},\"hover_glyph\":null,\"muted_glyph\":null,\"nonselection_glyph\":{\"id\":\"11091\"},\"selection_glyph\":null,\"view\":{\"id\":\"11093\"}},\"id\":\"11092\",\"type\":\"GlyphRenderer\"},{\"attributes\":{\"text\":\"Lombardia SEIR-QD Model\"},\"id\":\"11031\",\"type\":\"Title\"},{\"attributes\":{\"source\":{\"id\":\"11089\"}},\"id\":\"11093\",\"type\":\"CDSView\"},{\"attributes\":{\"overlay\":{\"id\":\"11072\"}},\"id\":\"11051\",\"type\":\"BoxZoomTool\"},{\"attributes\":{\"data\":{\"x\":[0,1,2,3,4,5,6,7,8,9,10,11,12,13,14,15,16,17,18,19,20,21,22,23,24,25,26,27,28,29,30,31,32,33],\"y\":[1326,1497,1777,2008,2742,3372,4490,4427,5763,6896,7732,9059,10043,10861,12095,12266,13938,15420,17370,17885,18910,19868,20591,22189,23895,24509,25392,25006,25124,25765,25876,26189,27220,28124]},\"selected\":{\"id\":\"11540\"},\"selection_policy\":{\"id\":\"11541\"}},\"id\":\"11094\",\"type\":\"ColumnDataSource\"},{\"attributes\":{\"items\":[{\"id\":\"11074\"},{\"id\":\"11088\"},{\"id\":\"11111\"}],\"location\":\"top_left\"},\"id\":\"11073\",\"type\":\"Legend\"},{\"attributes\":{},\"id\":\"11054\",\"type\":\"HelpTool\"},{\"attributes\":{\"line_color\":\"red\",\"x\":{\"field\":\"x\"},\"y\":{\"field\":\"y\"}},\"id\":\"11063\",\"type\":\"Line\"},{\"attributes\":{\"label\":{\"value\":\"All infected\"},\"renderers\":[{\"id\":\"11065\"}]},\"id\":\"11074\",\"type\":\"LegendItem\"},{\"attributes\":{},\"id\":\"11053\",\"type\":\"ResetTool\"},{\"attributes\":{\"data_source\":{\"id\":\"11062\"},\"glyph\":{\"id\":\"11063\"},\"hover_glyph\":null,\"muted_glyph\":null,\"nonselection_glyph\":{\"id\":\"11064\"},\"selection_glyph\":null,\"view\":{\"id\":\"11066\"}},\"id\":\"11065\",\"type\":\"GlyphRenderer\"}],\"root_ids\":[\"11030\"]},\"title\":\"Bokeh Application\",\"version\":\"2.0.0\"}};\n",
       "  var render_items = [{\"docid\":\"88df3d38-f899-4544-b594-6a261688e62d\",\"root_ids\":[\"11030\"],\"roots\":{\"11030\":\"b69e3264-06ba-4c17-b6fa-341ed2045962\"}}];\n",
       "  root.Bokeh.embed.embed_items_notebook(docs_json, render_items);\n",
       "\n",
       "  }\n",
       "  if (root.Bokeh !== undefined) {\n",
       "    embed_document(root);\n",
       "  } else {\n",
       "    var attempts = 0;\n",
       "    var timer = setInterval(function(root) {\n",
       "      if (root.Bokeh !== undefined) {\n",
       "        clearInterval(timer);\n",
       "        embed_document(root);\n",
       "      } else {\n",
       "        attempts++;\n",
       "        if (attempts > 100) {\n",
       "          clearInterval(timer);\n",
       "          console.log(\"Bokeh: ERROR: Unable to run BokehJS code because BokehJS library is missing\");\n",
       "        }\n",
       "      }\n",
       "    }, 10, root)\n",
       "  }\n",
       "})(window);"
      ],
      "application/vnd.bokehjs_exec.v0+json": ""
     },
     "metadata": {
      "application/vnd.bokehjs_exec.v0+json": {
       "id": "11030"
      }
     },
     "output_type": "display_data"
    }
   ],
   "source": [
    "plot_qd(res, params, initial_conditions, df, 'Lombardia', extrapolate=2, boundary=20, plot_infectious=True)"
   ]
  },
  {
   "cell_type": "markdown",
   "metadata": {},
   "source": [
    "This is quite misleading! We don't actually know how many people are infected, so this model isn't quite what we're looking for. Instead, we only know the people who were tested as infected; they usually have symptoms. I won't bother with the error analysis for this model, but we can see how it holds up to prediction."
   ]
  },
  {
   "cell_type": "code",
   "execution_count": 119,
   "metadata": {},
   "outputs": [
    {
     "data": {
      "text/html": [
       "\n",
       "\n",
       "\n",
       "\n",
       "\n",
       "\n",
       "  <div class=\"bk-root\" id=\"ab3ab714-cfd3-4809-8aea-7e23877a1314\" data-root-id=\"103923\"></div>\n"
      ]
     },
     "metadata": {},
     "output_type": "display_data"
    },
    {
     "data": {
      "application/javascript": [
       "(function(root) {\n",
       "  function embed_document(root) {\n",
       "    \n",
       "  var docs_json = {\"b552d21e-212e-4ee0-a3a1-8542a8eda839\":{\"roots\":{\"references\":[{\"attributes\":{\"below\":[{\"id\":\"103934\"}],\"center\":[{\"id\":\"103937\"},{\"id\":\"103941\"},{\"id\":\"103967\"}],\"left\":[{\"id\":\"103938\"}],\"plot_height\":400,\"renderers\":[{\"id\":\"103959\"},{\"id\":\"103972\"},{\"id\":\"103986\"},{\"id\":\"103991\"},{\"id\":\"104006\"}],\"title\":{\"id\":\"103924\"},\"toolbar\":{\"id\":\"103949\"},\"x_range\":{\"id\":\"103926\"},\"x_scale\":{\"id\":\"103930\"},\"y_range\":{\"id\":\"103928\"},\"y_scale\":{\"id\":\"103932\"}},\"id\":\"103923\",\"subtype\":\"Figure\",\"type\":\"Plot\"},{\"attributes\":{},\"id\":\"103935\",\"type\":\"BasicTicker\"},{\"attributes\":{},\"id\":\"105700\",\"type\":\"Selection\"},{\"attributes\":{},\"id\":\"103963\",\"type\":\"BasicTickFormatter\"},{\"attributes\":{\"axis\":{\"id\":\"103938\"},\"dimension\":1,\"ticker\":null},\"id\":\"103941\",\"type\":\"Grid\"},{\"attributes\":{\"source\":{\"id\":\"103956\"}},\"id\":\"103960\",\"type\":\"CDSView\"},{\"attributes\":{},\"id\":\"103939\",\"type\":\"BasicTicker\"},{\"attributes\":{\"label\":{\"value\":\"Deceased\"},\"renderers\":[{\"id\":\"103972\"}]},\"id\":\"103982\",\"type\":\"LegendItem\"},{\"attributes\":{\"line_alpha\":0.1,\"line_color\":\"red\",\"x\":{\"field\":\"x\"},\"y\":{\"field\":\"y\"}},\"id\":\"103958\",\"type\":\"Line\"},{\"attributes\":{\"data\":{\"x\":[0,1,2,3,4,5,6,7,8,9,10,11,12,13,14,15,16,17,18,19,20,21,22,23,24,25,26],\"y\":[1326,1497,1777,2008,2742,3372,4490,4427,5763,6896,7732,9059,10043,10861,12095,12266,13938,15420,17370,17885,18910,19868,20591,22189,23895,24509,25392]},\"selected\":{\"id\":\"105700\"},\"selection_policy\":{\"id\":\"105701\"}},\"id\":\"103988\",\"type\":\"ColumnDataSource\"},{\"attributes\":{\"axis\":{\"id\":\"103934\"},\"ticker\":null},\"id\":\"103937\",\"type\":\"Grid\"},{\"attributes\":{},\"id\":\"103946\",\"type\":\"ResetTool\"},{\"attributes\":{\"line_color\":\"red\",\"x\":{\"field\":\"x\"},\"y\":{\"field\":\"y\"}},\"id\":\"103957\",\"type\":\"Line\"},{\"attributes\":{\"fill_color\":{\"value\":\"purple\"},\"line_color\":{\"value\":\"purple\"},\"x\":{\"field\":\"x\"},\"y\":{\"field\":\"y\"}},\"id\":\"103989\",\"type\":\"Circle\"},{\"attributes\":{\"fill_alpha\":{\"value\":0.1},\"fill_color\":{\"value\":\"black\"},\"line_alpha\":{\"value\":0.1},\"x\":{\"field\":\"x\"},\"y\":{\"field\":\"y\"}},\"id\":\"103985\",\"type\":\"Circle\"},{\"attributes\":{\"source\":{\"id\":\"103988\"}},\"id\":\"103992\",\"type\":\"CDSView\"},{\"attributes\":{\"fill_alpha\":{\"value\":0.1},\"fill_color\":{\"value\":\"purple\"},\"line_alpha\":{\"value\":0.1},\"line_color\":{\"value\":\"purple\"},\"x\":{\"field\":\"x\"},\"y\":{\"field\":\"y\"}},\"id\":\"103990\",\"type\":\"Circle\"},{\"attributes\":{\"items\":[{\"id\":\"103968\"},{\"id\":\"103982\"},{\"id\":\"104005\"}],\"location\":\"top_left\"},\"id\":\"103967\",\"type\":\"Legend\"},{\"attributes\":{\"source\":{\"id\":\"103983\"}},\"id\":\"103987\",\"type\":\"CDSView\"},{\"attributes\":{},\"id\":\"103926\",\"type\":\"DataRange1d\"},{\"attributes\":{},\"id\":\"103930\",\"type\":\"LinearScale\"},{\"attributes\":{\"data_source\":{\"id\":\"103988\"},\"glyph\":{\"id\":\"103989\"},\"hover_glyph\":null,\"muted_glyph\":null,\"nonselection_glyph\":{\"id\":\"103990\"},\"selection_glyph\":null,\"view\":{\"id\":\"103992\"}},\"id\":\"103991\",\"type\":\"GlyphRenderer\"},{\"attributes\":{\"data\":{\"x\":[0,1,2,3,4,5,6,7,8,9,10,11,12,13,14,15,16,17,18,19,20,21,22,23,24,25,26],\"y\":[55,73,98,135,154,267,333,468,617,744,890,966,1218,1420,1640,1959,2168,2549,3095,3456,3776,4178,4474,4861,5402,5944,6360]},\"selected\":{\"id\":\"104002\"},\"selection_policy\":{\"id\":\"104003\"}},\"id\":\"103983\",\"type\":\"ColumnDataSource\"},{\"attributes\":{},\"id\":\"103943\",\"type\":\"WheelZoomTool\"},{\"attributes\":{},\"id\":\"103965\",\"type\":\"BasicTickFormatter\"},{\"attributes\":{},\"id\":\"103945\",\"type\":\"SaveTool\"},{\"attributes\":{},\"id\":\"104000\",\"type\":\"Selection\"},{\"attributes\":{},\"id\":\"103979\",\"type\":\"Selection\"},{\"attributes\":{},\"id\":\"104001\",\"type\":\"UnionRenderers\"},{\"attributes\":{},\"id\":\"103932\",\"type\":\"LinearScale\"},{\"attributes\":{},\"id\":\"103980\",\"type\":\"UnionRenderers\"},{\"attributes\":{\"fill_color\":{\"value\":\"black\"},\"x\":{\"field\":\"x\"},\"y\":{\"field\":\"y\"}},\"id\":\"103984\",\"type\":\"Circle\"},{\"attributes\":{\"bottom_units\":\"screen\",\"fill_alpha\":0.5,\"fill_color\":\"lightgrey\",\"left_units\":\"screen\",\"level\":\"overlay\",\"line_alpha\":1.0,\"line_color\":\"black\",\"line_dash\":[4,4],\"line_width\":2,\"render_mode\":\"css\",\"right_units\":\"screen\",\"top_units\":\"screen\"},\"id\":\"103948\",\"type\":\"BoxAnnotation\"},{\"attributes\":{\"axis_label\":\"t (days)\",\"formatter\":{\"id\":\"103965\"},\"ticker\":{\"id\":\"103935\"}},\"id\":\"103934\",\"type\":\"LinearAxis\"},{\"attributes\":{\"source\":{\"id\":\"103969\"}},\"id\":\"103973\",\"type\":\"CDSView\"},{\"attributes\":{},\"id\":\"104002\",\"type\":\"Selection\"},{\"attributes\":{\"data\":{\"x\":[0,1,2,3,4,5,6,7,8,9,10,11,12,13,14,15,16,17,18,19,20,21,22,23,24,25,26,27,28,29,30,31,32,33,34,35,36,37,38,39,40,41,42,43,44,45,46,47,48,49,50,51,52,53],\"y\":{\"__ndarray__\":\"jKPxAwPQlEBjAmxmyNeWQOxmGhehsptAlPBtFkcnoUDCikp0hTSlQF5II6ZqAKpACMlJ0FWTr0Bqr+AxHvuyQDavY1+Xl7ZAtVK7DcGfukDqxu0+TBG/QNpn1vc+88FACuDF+++KxEB3btpUDEnHQOeYQHz3JMpAqGcc/T8UzUDkA/w2agXQQJBu9wSpfdFASQH+k7Xr0kC7NRyqMEjUQHRYaaXGi9VAK7NzyXav1kACVk++2azXQOlu7f5ifthAdQJTM5kf2UAMJFD7QY3ZQEhcXJd+xdlApv7s/NfH2UDd/J0IOpXZQMqzfsneL9lA3Kik1Cub2ECmmSV3hNvXQBYe6RgU9tZAVL+uVpTw1UDOa0RVEtHUQLXUQVa2ndNAsDUiP5Bc0kDTYM7lahPRQF/XOgZPj89A9VAQkkP8zECC3uBtOXbKQKwPe0dvBMhAzIPoaNWsxUA280hOE3TDQDjOYYaXXcFALuLI7F7XvkA4oVMGST+7QAy0MWC587dAkJA9V/nztEAExR+OEz6yQAHpE7Iqnq9Auf/TNpdGq0BC218h9GynQKH9LhAYCKRA\",\"dtype\":\"float64\",\"shape\":[54]}},\"selected\":{\"id\":\"103979\"},\"selection_policy\":{\"id\":\"103980\"}},\"id\":\"103956\",\"type\":\"ColumnDataSource\"},{\"attributes\":{\"line_alpha\":0.1,\"x\":{\"field\":\"x\"},\"y\":{\"field\":\"y\"}},\"id\":\"103971\",\"type\":\"Line\"},{\"attributes\":{},\"id\":\"103928\",\"type\":\"DataRange1d\"},{\"attributes\":{\"overlay\":{\"id\":\"103948\"}},\"id\":\"103944\",\"type\":\"BoxZoomTool\"},{\"attributes\":{\"data_source\":{\"id\":\"103969\"},\"glyph\":{\"id\":\"103970\"},\"hover_glyph\":null,\"muted_glyph\":null,\"nonselection_glyph\":{\"id\":\"103971\"},\"selection_glyph\":null,\"view\":{\"id\":\"103973\"}},\"id\":\"103972\",\"type\":\"GlyphRenderer\"},{\"attributes\":{},\"id\":\"103947\",\"type\":\"HelpTool\"},{\"attributes\":{\"data_source\":{\"id\":\"103983\"},\"glyph\":{\"id\":\"103984\"},\"hover_glyph\":null,\"muted_glyph\":null,\"nonselection_glyph\":{\"id\":\"103985\"},\"selection_glyph\":null,\"view\":{\"id\":\"103987\"}},\"id\":\"103986\",\"type\":\"GlyphRenderer\"},{\"attributes\":{\"dimension\":\"height\",\"line_width\":3,\"location\":10},\"id\":\"104006\",\"type\":\"Span\"},{\"attributes\":{\"text\":\"Lombardia SEIIRD+Q Model\"},\"id\":\"103924\",\"type\":\"Title\"},{\"attributes\":{\"active_drag\":\"auto\",\"active_inspect\":\"auto\",\"active_multi\":null,\"active_scroll\":\"auto\",\"active_tap\":\"auto\",\"tools\":[{\"id\":\"103942\"},{\"id\":\"103943\"},{\"id\":\"103944\"},{\"id\":\"103945\"},{\"id\":\"103946\"},{\"id\":\"103947\"}]},\"id\":\"103949\",\"type\":\"Toolbar\"},{\"attributes\":{\"label\":{\"value\":\"All infected\"},\"renderers\":[{\"id\":\"103959\"}]},\"id\":\"103968\",\"type\":\"LegendItem\"},{\"attributes\":{\"label\":{\"value\":\"Tested infected\"},\"renderers\":[{\"id\":\"103991\"}]},\"id\":\"104005\",\"type\":\"LegendItem\"},{\"attributes\":{\"data_source\":{\"id\":\"103956\"},\"glyph\":{\"id\":\"103957\"},\"hover_glyph\":null,\"muted_glyph\":null,\"nonselection_glyph\":{\"id\":\"103958\"},\"selection_glyph\":null,\"view\":{\"id\":\"103960\"}},\"id\":\"103959\",\"type\":\"GlyphRenderer\"},{\"attributes\":{\"x\":{\"field\":\"x\"},\"y\":{\"field\":\"y\"}},\"id\":\"103970\",\"type\":\"Line\"},{\"attributes\":{},\"id\":\"104003\",\"type\":\"UnionRenderers\"},{\"attributes\":{\"axis_label\":\"# people\",\"formatter\":{\"id\":\"103963\"},\"ticker\":{\"id\":\"103939\"}},\"id\":\"103938\",\"type\":\"LinearAxis\"},{\"attributes\":{},\"id\":\"105701\",\"type\":\"UnionRenderers\"},{\"attributes\":{\"data\":{\"x\":[0,1,2,3,4,5,6,7,8,9,10,11,12,13,14,15,16,17,18,19,20,21,22,23,24,25,26,27,28,29,30,31,32,33,34,35,36,37,38,39,40,41,42,43,44,45,46,47,48,49,50,51,52,53],\"y\":{\"__ndarray__\":\"AAAAAACAS0DKMWLoJDpQQALP4awPi1ZAz7uPMsw2YEBne3RahAdnQFyL0xK37W9AifckBCaadUDLbldI8Jp8QHaN1BBcloJAUbND9N/Dh0Bo+1nnz/ONQNiKYzxtopJARhaqn9jqlkBRctANCeKbQNCKIzXvyqBA8SdOAFcJpEDSBN+2WrGnQJJ77vPIxqtAphz2l/AlsEDhvmLSjqCyQEaefaOEUrVAzJldXBI6uEADh3c9blS7QJu3mubInb5AkADbrK0IwUDQM1Ihv9TCQNHwF9fkr8RAmT91752WxkADIz3DMoXIQK3kQbLMd8pAjNNUkY5qzEA4fPmlrFnOQDyWZZfBINBAP6N7TFUP0UCu7sZZBPfRQDZGTTBv1tJAc3HzwGis00A7FSOH+XfUQI6ysLlgONVAIu06xhPt1UBfgKVLvJXWQJ0/4tM0MtdAtC8ukYTC10B/aBNm2kbYQEc6hnuHv9hAMCMjo/ks2UBpKZa9tY/ZQHZigFBS6NlArU41cnI32kD62xslwX3aQETAUjXtu9pAr0MloqXy2kAAQ16XliLbQAwLSvNmTNtA\",\"dtype\":\"float64\",\"shape\":[54]}},\"selected\":{\"id\":\"104000\"},\"selection_policy\":{\"id\":\"104001\"}},\"id\":\"103969\",\"type\":\"ColumnDataSource\"},{\"attributes\":{},\"id\":\"103942\",\"type\":\"PanTool\"}],\"root_ids\":[\"103923\"]},\"title\":\"Bokeh Application\",\"version\":\"2.0.1\"}};\n",
       "  var render_items = [{\"docid\":\"b552d21e-212e-4ee0-a3a1-8542a8eda839\",\"root_ids\":[\"103923\"],\"roots\":{\"103923\":\"ab3ab714-cfd3-4809-8aea-7e23877a1314\"}}];\n",
       "  root.Bokeh.embed.embed_items_notebook(docs_json, render_items);\n",
       "\n",
       "  }\n",
       "  if (root.Bokeh !== undefined) {\n",
       "    embed_document(root);\n",
       "  } else {\n",
       "    var attempts = 0;\n",
       "    var timer = setInterval(function(root) {\n",
       "      if (root.Bokeh !== undefined) {\n",
       "        clearInterval(timer);\n",
       "        embed_document(root);\n",
       "      } else {\n",
       "        attempts++;\n",
       "        if (attempts > 100) {\n",
       "          clearInterval(timer);\n",
       "          console.log(\"Bokeh: ERROR: Unable to run BokehJS code because BokehJS library is missing\");\n",
       "        }\n",
       "      }\n",
       "    }, 10, root)\n",
       "  }\n",
       "})(window);"
      ],
      "application/vnd.bokehjs_exec.v0+json": ""
     },
     "metadata": {
      "application/vnd.bokehjs_exec.v0+json": {
       "id": "103923"
      }
     },
     "output_type": "display_data"
    },
    {
     "data": {
      "text/html": [
       "\n",
       "\n",
       "\n",
       "\n",
       "\n",
       "\n",
       "  <div class=\"bk-root\" id=\"5603389c-1a2a-41d2-b13f-c7a5704eb28f\" data-root-id=\"105787\"></div>\n"
      ]
     },
     "metadata": {},
     "output_type": "display_data"
    },
    {
     "data": {
      "application/javascript": [
       "(function(root) {\n",
       "  function embed_document(root) {\n",
       "    \n",
       "  var docs_json = {\"06cdddbc-4485-4017-9512-ce20f10015c0\":{\"roots\":{\"references\":[{\"attributes\":{\"below\":[{\"id\":\"105798\"}],\"center\":[{\"id\":\"105801\"},{\"id\":\"105805\"},{\"id\":\"105831\"}],\"left\":[{\"id\":\"105802\"}],\"plot_height\":400,\"renderers\":[{\"id\":\"105823\"},{\"id\":\"105836\"},{\"id\":\"105850\"},{\"id\":\"105855\"},{\"id\":\"105870\"}],\"title\":{\"id\":\"105788\"},\"toolbar\":{\"id\":\"105813\"},\"x_range\":{\"id\":\"105790\"},\"x_scale\":{\"id\":\"105794\"},\"y_range\":{\"id\":\"105792\"},\"y_scale\":{\"id\":\"105796\"}},\"id\":\"105787\",\"subtype\":\"Figure\",\"type\":\"Plot\"},{\"attributes\":{},\"id\":\"105810\",\"type\":\"ResetTool\"},{\"attributes\":{\"data_source\":{\"id\":\"105852\"},\"glyph\":{\"id\":\"105853\"},\"hover_glyph\":null,\"muted_glyph\":null,\"nonselection_glyph\":{\"id\":\"105854\"},\"selection_glyph\":null,\"view\":{\"id\":\"105856\"}},\"id\":\"105855\",\"type\":\"GlyphRenderer\"},{\"attributes\":{},\"id\":\"107579\",\"type\":\"UnionRenderers\"},{\"attributes\":{\"fill_alpha\":{\"value\":0.1},\"fill_color\":{\"value\":\"purple\"},\"line_alpha\":{\"value\":0.1},\"line_color\":{\"value\":\"purple\"},\"x\":{\"field\":\"x\"},\"y\":{\"field\":\"y\"}},\"id\":\"105854\",\"type\":\"Circle\"},{\"attributes\":{},\"id\":\"105864\",\"type\":\"Selection\"},{\"attributes\":{\"data\":{\"x\":[0,1,2,3,4,5,6,7,8,9,10,11,12,13,14,15,16,17,18,19,20,21,22,23,24,25,26,27,28,29,30,31,32,33,34,35,36,37,38,39,40,41,42,43,44,45,46,47,48,49,50,51,52,53],\"y\":{\"__ndarray__\":\"ZYBEDNMhlUB361md8G6WQNi24c7CAptAvavuy0neoEBOIyOpyxmlQEJEMBFsIKpAp88LjXfnr0D8rZRQUzGzQEy3Kg/Av7ZAuYHXQLORukCMzDIGkpW+QL5JOQjgWsFAkTym06lsw0Db0Jl/j3LFQG1oDoJ8XsdA5GUJopUiyUCk1dx887HKQNmpkxRRAcxAT5KU+J8HzUDpAbVUdr7NQEDjLzlPIs5ATCMyJpoyzkAhvY2rm/HNQKLUVBclZM1AdLPGTCyRzEBQEzakToHLQIy3Qw5KPspAt9sm83bSyEAIWQSLS0jHQOERtj/vqcVA1xDaMeIAxEDOW7XAulXCQJzK7Pr4r8BAxnpCu9wrvkCgb66Ebhm7QNWrEYuFMLhAgDjshst2tUDFl/U76++yQBL/7p3PnbBA7TEDBc8BrUDIXZhr0zCpQLcx+p8sxaVAr8mJLea5okDwXC/5AgmgQLJDPvS1V5tAkbjFdNQ2l0Aifyr2IqGTQCEGTMqSiJBAsufEOya/i0D4Fj1LkzKHQLBN/AVyU4NAadrn7q8LgECIn+8icY56QDuLvuLv53VA\",\"dtype\":\"float64\",\"shape\":[54]}},\"selected\":{\"id\":\"105843\"},\"selection_policy\":{\"id\":\"105844\"}},\"id\":\"105820\",\"type\":\"ColumnDataSource\"},{\"attributes\":{\"label\":{\"value\":\"All infected\"},\"renderers\":[{\"id\":\"105823\"}]},\"id\":\"105832\",\"type\":\"LegendItem\"},{\"attributes\":{\"overlay\":{\"id\":\"105812\"}},\"id\":\"105808\",\"type\":\"BoxZoomTool\"},{\"attributes\":{\"data_source\":{\"id\":\"105847\"},\"glyph\":{\"id\":\"105848\"},\"hover_glyph\":null,\"muted_glyph\":null,\"nonselection_glyph\":{\"id\":\"105849\"},\"selection_glyph\":null,\"view\":{\"id\":\"105851\"}},\"id\":\"105850\",\"type\":\"GlyphRenderer\"},{\"attributes\":{},\"id\":\"105827\",\"type\":\"BasicTickFormatter\"},{\"attributes\":{\"label\":{\"value\":\"Tested infected\"},\"renderers\":[{\"id\":\"105855\"}]},\"id\":\"105869\",\"type\":\"LegendItem\"},{\"attributes\":{\"fill_color\":{\"value\":\"purple\"},\"line_color\":{\"value\":\"purple\"},\"x\":{\"field\":\"x\"},\"y\":{\"field\":\"y\"}},\"id\":\"105853\",\"type\":\"Circle\"},{\"attributes\":{},\"id\":\"105866\",\"type\":\"Selection\"},{\"attributes\":{\"label\":{\"value\":\"Deceased\"},\"renderers\":[{\"id\":\"105836\"}]},\"id\":\"105846\",\"type\":\"LegendItem\"},{\"attributes\":{\"fill_alpha\":{\"value\":0.1},\"fill_color\":{\"value\":\"black\"},\"line_alpha\":{\"value\":0.1},\"x\":{\"field\":\"x\"},\"y\":{\"field\":\"y\"}},\"id\":\"105849\",\"type\":\"Circle\"},{\"attributes\":{\"line_color\":\"red\",\"x\":{\"field\":\"x\"},\"y\":{\"field\":\"y\"}},\"id\":\"105821\",\"type\":\"Line\"},{\"attributes\":{\"data\":{\"x\":[0,1,2,3,4,5,6,7,8,9,10,11,12,13,14,15,16,17,18,19,20,21,22,23,24,25,26],\"y\":[1326,1497,1777,2008,2742,3372,4490,4427,5763,6896,7732,9059,10043,10861,12095,12266,13938,15420,17370,17885,18910,19868,20591,22189,23895,24509,25392]},\"selected\":{\"id\":\"107578\"},\"selection_policy\":{\"id\":\"107579\"}},\"id\":\"105852\",\"type\":\"ColumnDataSource\"},{\"attributes\":{},\"id\":\"105809\",\"type\":\"SaveTool\"},{\"attributes\":{\"source\":{\"id\":\"105833\"}},\"id\":\"105837\",\"type\":\"CDSView\"},{\"attributes\":{},\"id\":\"105867\",\"type\":\"UnionRenderers\"},{\"attributes\":{},\"id\":\"105829\",\"type\":\"BasicTickFormatter\"},{\"attributes\":{\"dimension\":\"height\",\"line_width\":3,\"location\":14},\"id\":\"105870\",\"type\":\"Span\"},{\"attributes\":{\"x\":{\"field\":\"x\"},\"y\":{\"field\":\"y\"}},\"id\":\"105834\",\"type\":\"Line\"},{\"attributes\":{\"line_alpha\":0.1,\"x\":{\"field\":\"x\"},\"y\":{\"field\":\"y\"}},\"id\":\"105835\",\"type\":\"Line\"},{\"attributes\":{\"axis_label\":\"t (days)\",\"formatter\":{\"id\":\"105829\"},\"ticker\":{\"id\":\"105799\"}},\"id\":\"105798\",\"type\":\"LinearAxis\"},{\"attributes\":{\"source\":{\"id\":\"105847\"}},\"id\":\"105851\",\"type\":\"CDSView\"},{\"attributes\":{\"text\":\"Lombardia SEIIRD+Q Model\"},\"id\":\"105788\",\"type\":\"Title\"},{\"attributes\":{},\"id\":\"105844\",\"type\":\"UnionRenderers\"},{\"attributes\":{\"source\":{\"id\":\"105820\"}},\"id\":\"105824\",\"type\":\"CDSView\"},{\"attributes\":{\"active_drag\":\"auto\",\"active_inspect\":\"auto\",\"active_multi\":null,\"active_scroll\":\"auto\",\"active_tap\":\"auto\",\"tools\":[{\"id\":\"105806\"},{\"id\":\"105807\"},{\"id\":\"105808\"},{\"id\":\"105809\"},{\"id\":\"105810\"},{\"id\":\"105811\"}]},\"id\":\"105813\",\"type\":\"Toolbar\"},{\"attributes\":{\"data_source\":{\"id\":\"105833\"},\"glyph\":{\"id\":\"105834\"},\"hover_glyph\":null,\"muted_glyph\":null,\"nonselection_glyph\":{\"id\":\"105835\"},\"selection_glyph\":null,\"view\":{\"id\":\"105837\"}},\"id\":\"105836\",\"type\":\"GlyphRenderer\"},{\"attributes\":{\"items\":[{\"id\":\"105832\"},{\"id\":\"105846\"},{\"id\":\"105869\"}],\"location\":\"top_left\"},\"id\":\"105831\",\"type\":\"Legend\"},{\"attributes\":{},\"id\":\"105794\",\"type\":\"LinearScale\"},{\"attributes\":{},\"id\":\"105807\",\"type\":\"WheelZoomTool\"},{\"attributes\":{},\"id\":\"105811\",\"type\":\"HelpTool\"},{\"attributes\":{},\"id\":\"105799\",\"type\":\"BasicTicker\"},{\"attributes\":{\"data\":{\"x\":[0,1,2,3,4,5,6,7,8,9,10,11,12,13,14,15,16,17,18,19,20,21,22,23,24,25,26,27,28,29,30,31,32,33,34,35,36,37,38,39,40,41,42,43,44,45,46,47,48,49,50,51,52,53],\"y\":{\"__ndarray__\":\"AAAAAACAS0AU6/XNmwNWQINaWtMiBF9A/6vgCBSmZEDztZNcYslqQOyKSCYkJXFAl9PiH2zCdUC/DpJO32h7QK420RBUIYFAVV8rOnc7hUDaDv0UThSKQMwcGrtuuo9AEQnRBWIck0DoYf+C5cqWQM1WoTh36ZpAjPJwPgl2n0Clmgl11zWiQPgAmRxS4aRADnNuqjy4p0B8HJ01MLSqQPJ93qfMza1AMJN5AX1+sECRG2pxmByyQLOpadTivLNAlObp5BhbtUBJRseZK/O2QEhouz9dgbhAIN9h0FgCukCcCEPgQnO7QLr8oP3D0bxAGKgkyQwcvkAiaxxp1FC/QKXHlBupN8BAXJ4+1Jm7wEC0M9a+RzTBQFu7GJ7rocFA4xqD7eMEwkDGMIg1rV3CQE9LEK7arMJAYW8iaw/zwkCk8qI9+DDDQEVNkGBGZ8NACxBB/KqWw0CHBkp+07/DQLoajbtm48NAfzPoywICxEC9Rx6LOxzEQOG3oaiZMsRAtxBjL5pFxEAZSYdvrlXEQIe1bjU8Y8RA1qBbO55uxEDX3mXFJHjEQFnMzVkWgMRA\",\"dtype\":\"float64\",\"shape\":[54]}},\"selected\":{\"id\":\"105864\"},\"selection_policy\":{\"id\":\"105865\"}},\"id\":\"105833\",\"type\":\"ColumnDataSource\"},{\"attributes\":{\"data\":{\"x\":[0,1,2,3,4,5,6,7,8,9,10,11,12,13,14,15,16,17,18,19,20,21,22,23,24,25,26],\"y\":[55,73,98,135,154,267,333,468,617,744,890,966,1218,1420,1640,1959,2168,2549,3095,3456,3776,4178,4474,4861,5402,5944,6360]},\"selected\":{\"id\":\"105866\"},\"selection_policy\":{\"id\":\"105867\"}},\"id\":\"105847\",\"type\":\"ColumnDataSource\"},{\"attributes\":{\"fill_color\":{\"value\":\"black\"},\"x\":{\"field\":\"x\"},\"y\":{\"field\":\"y\"}},\"id\":\"105848\",\"type\":\"Circle\"},{\"attributes\":{\"axis_label\":\"# people\",\"formatter\":{\"id\":\"105827\"},\"ticker\":{\"id\":\"105803\"}},\"id\":\"105802\",\"type\":\"LinearAxis\"},{\"attributes\":{\"axis\":{\"id\":\"105798\"},\"ticker\":null},\"id\":\"105801\",\"type\":\"Grid\"},{\"attributes\":{\"data_source\":{\"id\":\"105820\"},\"glyph\":{\"id\":\"105821\"},\"hover_glyph\":null,\"muted_glyph\":null,\"nonselection_glyph\":{\"id\":\"105822\"},\"selection_glyph\":null,\"view\":{\"id\":\"105824\"}},\"id\":\"105823\",\"type\":\"GlyphRenderer\"},{\"attributes\":{\"axis\":{\"id\":\"105802\"},\"dimension\":1,\"ticker\":null},\"id\":\"105805\",\"type\":\"Grid\"},{\"attributes\":{},\"id\":\"105792\",\"type\":\"DataRange1d\"},{\"attributes\":{},\"id\":\"105803\",\"type\":\"BasicTicker\"},{\"attributes\":{},\"id\":\"105865\",\"type\":\"UnionRenderers\"},{\"attributes\":{},\"id\":\"105790\",\"type\":\"DataRange1d\"},{\"attributes\":{\"line_alpha\":0.1,\"line_color\":\"red\",\"x\":{\"field\":\"x\"},\"y\":{\"field\":\"y\"}},\"id\":\"105822\",\"type\":\"Line\"},{\"attributes\":{},\"id\":\"107578\",\"type\":\"Selection\"},{\"attributes\":{\"source\":{\"id\":\"105852\"}},\"id\":\"105856\",\"type\":\"CDSView\"},{\"attributes\":{\"bottom_units\":\"screen\",\"fill_alpha\":0.5,\"fill_color\":\"lightgrey\",\"left_units\":\"screen\",\"level\":\"overlay\",\"line_alpha\":1.0,\"line_color\":\"black\",\"line_dash\":[4,4],\"line_width\":2,\"render_mode\":\"css\",\"right_units\":\"screen\",\"top_units\":\"screen\"},\"id\":\"105812\",\"type\":\"BoxAnnotation\"},{\"attributes\":{},\"id\":\"105796\",\"type\":\"LinearScale\"},{\"attributes\":{},\"id\":\"105806\",\"type\":\"PanTool\"},{\"attributes\":{},\"id\":\"105843\",\"type\":\"Selection\"}],\"root_ids\":[\"105787\"]},\"title\":\"Bokeh Application\",\"version\":\"2.0.1\"}};\n",
       "  var render_items = [{\"docid\":\"06cdddbc-4485-4017-9512-ce20f10015c0\",\"root_ids\":[\"105787\"],\"roots\":{\"105787\":\"5603389c-1a2a-41d2-b13f-c7a5704eb28f\"}}];\n",
       "  root.Bokeh.embed.embed_items_notebook(docs_json, render_items);\n",
       "\n",
       "  }\n",
       "  if (root.Bokeh !== undefined) {\n",
       "    embed_document(root);\n",
       "  } else {\n",
       "    var attempts = 0;\n",
       "    var timer = setInterval(function(root) {\n",
       "      if (root.Bokeh !== undefined) {\n",
       "        clearInterval(timer);\n",
       "        embed_document(root);\n",
       "      } else {\n",
       "        attempts++;\n",
       "        if (attempts > 100) {\n",
       "          clearInterval(timer);\n",
       "          console.log(\"Bokeh: ERROR: Unable to run BokehJS code because BokehJS library is missing\");\n",
       "        }\n",
       "      }\n",
       "    }, 10, root)\n",
       "  }\n",
       "})(window);"
      ],
      "application/vnd.bokehjs_exec.v0+json": ""
     },
     "metadata": {
      "application/vnd.bokehjs_exec.v0+json": {
       "id": "105787"
      }
     },
     "output_type": "display_data"
    },
    {
     "data": {
      "text/html": [
       "\n",
       "\n",
       "\n",
       "\n",
       "\n",
       "\n",
       "  <div class=\"bk-root\" id=\"554e626c-6f72-495c-83ce-7303a1d7ac14\" data-root-id=\"107665\"></div>\n"
      ]
     },
     "metadata": {},
     "output_type": "display_data"
    },
    {
     "data": {
      "application/javascript": [
       "(function(root) {\n",
       "  function embed_document(root) {\n",
       "    \n",
       "  var docs_json = {\"46dc7c18-60ea-4399-a3e7-1decc32b8ac2\":{\"roots\":{\"references\":[{\"attributes\":{\"below\":[{\"id\":\"107676\"}],\"center\":[{\"id\":\"107679\"},{\"id\":\"107683\"},{\"id\":\"107709\"}],\"left\":[{\"id\":\"107680\"}],\"plot_height\":400,\"renderers\":[{\"id\":\"107701\"},{\"id\":\"107714\"},{\"id\":\"107728\"},{\"id\":\"107733\"},{\"id\":\"107748\"}],\"title\":{\"id\":\"107666\"},\"toolbar\":{\"id\":\"107691\"},\"x_range\":{\"id\":\"107668\"},\"x_scale\":{\"id\":\"107672\"},\"y_range\":{\"id\":\"107670\"},\"y_scale\":{\"id\":\"107674\"}},\"id\":\"107665\",\"subtype\":\"Figure\",\"type\":\"Plot\"},{\"attributes\":{\"axis_label\":\"t (days)\",\"formatter\":{\"id\":\"107707\"},\"ticker\":{\"id\":\"107677\"}},\"id\":\"107676\",\"type\":\"LinearAxis\"},{\"attributes\":{\"line_alpha\":0.1,\"line_color\":\"red\",\"x\":{\"field\":\"x\"},\"y\":{\"field\":\"y\"}},\"id\":\"107700\",\"type\":\"Line\"},{\"attributes\":{\"data\":{\"x\":[0,1,2,3,4,5,6,7,8,9,10,11,12,13,14,15,16,17,18,19,20,21,22,23,24,25,26,27,28,29,30,31,32,33,34,35,36,37,38,39,40,41,42,43,44,45,46,47,48,49,50,51,52,53],\"y\":{\"__ndarray__\":\"ZnWsABsXlECUjKMO+/+WQGDc71Ba3ptAC5UF4LtCoUDZ6WE5dmylQPGzJS3UX6pAF09TclIHsED1HT5NyzOzQON+C1nwqrZAw7aPiM9gukAPumzSSUi+QBBjsknGKcFALaV0VUg6w0ARVFcVyU7FQHunzw+8YMdAD3QD4BNqyUBXvQylYGXLQF6SE4njTc1A226/YZgfz0CMlO5vm2vQQAU04XoWOdFAeaWLEUr30UC7YRObkaXSQKP4QvGOQ9NAlZToqCHR00CBeuhKXk7UQAxNDdWFu9RADZJJv/0Y1UCBXa2sSGfVQKyfb93/ptVAHw68ac3Y1UCCJwpDZ/3VQHkLjPKKFdZAaCLfBvoh1kDhUIcgdyPWQE3+o4vDGtZAE3lKVZ0I1kANr57Lve3VQJxV7ljYytVA8It8q5mg1UAa3Dkdp2/VQPYHLFCeONVASBrM9RT81EAgiQK5mLrUQKa9q0OvdNRAANOzWdYq1EAOHdEEhN3TQIB+xMwmjdNAX7zB+CU600BnV0HX4eTSQLjCBgq0jdJAg2aU1O800kCVVaZr4trRQH/AmUTTf9FA\",\"dtype\":\"float64\",\"shape\":[54]}},\"selected\":{\"id\":\"107721\"},\"selection_policy\":{\"id\":\"107722\"}},\"id\":\"107698\",\"type\":\"ColumnDataSource\"},{\"attributes\":{\"dimension\":\"height\",\"line_width\":3,\"location\":18},\"id\":\"107748\",\"type\":\"Span\"},{\"attributes\":{},\"id\":\"107689\",\"type\":\"HelpTool\"},{\"attributes\":{\"fill_alpha\":{\"value\":0.1},\"fill_color\":{\"value\":\"black\"},\"line_alpha\":{\"value\":0.1},\"x\":{\"field\":\"x\"},\"y\":{\"field\":\"y\"}},\"id\":\"107727\",\"type\":\"Circle\"},{\"attributes\":{\"data_source\":{\"id\":\"107725\"},\"glyph\":{\"id\":\"107726\"},\"hover_glyph\":null,\"muted_glyph\":null,\"nonselection_glyph\":{\"id\":\"107727\"},\"selection_glyph\":null,\"view\":{\"id\":\"107729\"}},\"id\":\"107728\",\"type\":\"GlyphRenderer\"},{\"attributes\":{},\"id\":\"107688\",\"type\":\"ResetTool\"},{\"attributes\":{},\"id\":\"107687\",\"type\":\"SaveTool\"},{\"attributes\":{},\"id\":\"107672\",\"type\":\"LinearScale\"},{\"attributes\":{},\"id\":\"109471\",\"type\":\"UnionRenderers\"},{\"attributes\":{},\"id\":\"107670\",\"type\":\"DataRange1d\"},{\"attributes\":{\"source\":{\"id\":\"107698\"}},\"id\":\"107702\",\"type\":\"CDSView\"},{\"attributes\":{},\"id\":\"107721\",\"type\":\"Selection\"},{\"attributes\":{},\"id\":\"107705\",\"type\":\"BasicTickFormatter\"},{\"attributes\":{},\"id\":\"107707\",\"type\":\"BasicTickFormatter\"},{\"attributes\":{},\"id\":\"107684\",\"type\":\"PanTool\"},{\"attributes\":{\"fill_color\":{\"value\":\"black\"},\"x\":{\"field\":\"x\"},\"y\":{\"field\":\"y\"}},\"id\":\"107726\",\"type\":\"Circle\"},{\"attributes\":{},\"id\":\"107685\",\"type\":\"WheelZoomTool\"},{\"attributes\":{\"overlay\":{\"id\":\"107690\"}},\"id\":\"107686\",\"type\":\"BoxZoomTool\"},{\"attributes\":{},\"id\":\"107668\",\"type\":\"DataRange1d\"},{\"attributes\":{\"source\":{\"id\":\"107725\"}},\"id\":\"107729\",\"type\":\"CDSView\"},{\"attributes\":{\"bottom_units\":\"screen\",\"fill_alpha\":0.5,\"fill_color\":\"lightgrey\",\"left_units\":\"screen\",\"level\":\"overlay\",\"line_alpha\":1.0,\"line_color\":\"black\",\"line_dash\":[4,4],\"line_width\":2,\"render_mode\":\"css\",\"right_units\":\"screen\",\"top_units\":\"screen\"},\"id\":\"107690\",\"type\":\"BoxAnnotation\"},{\"attributes\":{\"data\":{\"x\":[0,1,2,3,4,5,6,7,8,9,10,11,12,13,14,15,16,17,18,19,20,21,22,23,24,25,26],\"y\":[55,73,98,135,154,267,333,468,617,744,890,966,1218,1420,1640,1959,2168,2549,3095,3456,3776,4178,4474,4861,5402,5944,6360]},\"selected\":{\"id\":\"107744\"},\"selection_policy\":{\"id\":\"107745\"}},\"id\":\"107725\",\"type\":\"ColumnDataSource\"},{\"attributes\":{\"fill_alpha\":{\"value\":0.1},\"fill_color\":{\"value\":\"purple\"},\"line_alpha\":{\"value\":0.1},\"line_color\":{\"value\":\"purple\"},\"x\":{\"field\":\"x\"},\"y\":{\"field\":\"y\"}},\"id\":\"107732\",\"type\":\"Circle\"},{\"attributes\":{\"active_drag\":\"auto\",\"active_inspect\":\"auto\",\"active_multi\":null,\"active_scroll\":\"auto\",\"active_tap\":\"auto\",\"tools\":[{\"id\":\"107684\"},{\"id\":\"107685\"},{\"id\":\"107686\"},{\"id\":\"107687\"},{\"id\":\"107688\"},{\"id\":\"107689\"}]},\"id\":\"107691\",\"type\":\"Toolbar\"},{\"attributes\":{\"data\":{\"x\":[0,1,2,3,4,5,6,7,8,9,10,11,12,13,14,15,16,17,18,19,20,21,22,23,24,25,26,27,28,29,30,31,32,33,34,35,36,37,38,39,40,41,42,43,44,45,46,47,48,49,50,51,52,53],\"y\":{\"__ndarray__\":\"AAAAAACAS0Cs1A87UbRYQPqOUZOJK2JAdtZS3yl6aECQ16rOdHlvQOywAxPus3NAaUpE82tGeEC2aFblfJt9QLsxhW997oFAFubyWyabhUBnUVHBrumJQDjPcXfL745AizoF1TlhkkD4vLnptrqVQIzCYBJ1jZlAGMEmdZbhnUB0L9+eEl+hQCpPDVN9FKRAkDiDdlcTp0DhJkTeSF2qQKSSgB9V861AwOXofO/qsEBbGhlOVwKzQClqBh59P7VAcssMPLiht0DfeVoEIii6QLMZXCWc0bxAPXe6H9ecv0AEsLpqLETBQJ+U+oFBycJACRj9xcxcxEBdnVs45P3FQHSSqb6Uq8dAhLmKwuRkyUChgnKb1ijLQAO6NcBq9sxATs4NwKHMzkB1JfEBP1XQQIpiyayCR9FAM1TVJaE80kB5qzKkIjTTQDg0nM2SLdRA8FwlHoEo1UDwvqg8gSTWQLxKpT0rIddAukk81hse2EDX1PKA9BrZQHVJxZVbF9pARUEEV/wS20Du7Vn0hg3cQAyrPIWwBt1A/g76+zL+3UCO9GsSzfPeQC4zUDFC599A\",\"dtype\":\"float64\",\"shape\":[54]}},\"selected\":{\"id\":\"107742\"},\"selection_policy\":{\"id\":\"107743\"}},\"id\":\"107711\",\"type\":\"ColumnDataSource\"},{\"attributes\":{\"axis\":{\"id\":\"107680\"},\"dimension\":1,\"ticker\":null},\"id\":\"107683\",\"type\":\"Grid\"},{\"attributes\":{},\"id\":\"107742\",\"type\":\"Selection\"},{\"attributes\":{},\"id\":\"107722\",\"type\":\"UnionRenderers\"},{\"attributes\":{},\"id\":\"109470\",\"type\":\"Selection\"},{\"attributes\":{\"label\":{\"value\":\"Deceased\"},\"renderers\":[{\"id\":\"107714\"}]},\"id\":\"107724\",\"type\":\"LegendItem\"},{\"attributes\":{\"x\":{\"field\":\"x\"},\"y\":{\"field\":\"y\"}},\"id\":\"107712\",\"type\":\"Line\"},{\"attributes\":{},\"id\":\"107745\",\"type\":\"UnionRenderers\"},{\"attributes\":{},\"id\":\"107677\",\"type\":\"BasicTicker\"},{\"attributes\":{\"fill_color\":{\"value\":\"purple\"},\"line_color\":{\"value\":\"purple\"},\"x\":{\"field\":\"x\"},\"y\":{\"field\":\"y\"}},\"id\":\"107731\",\"type\":\"Circle\"},{\"attributes\":{\"label\":{\"value\":\"All infected\"},\"renderers\":[{\"id\":\"107701\"}]},\"id\":\"107710\",\"type\":\"LegendItem\"},{\"attributes\":{\"line_alpha\":0.1,\"x\":{\"field\":\"x\"},\"y\":{\"field\":\"y\"}},\"id\":\"107713\",\"type\":\"Line\"},{\"attributes\":{},\"id\":\"107744\",\"type\":\"Selection\"},{\"attributes\":{\"line_color\":\"red\",\"x\":{\"field\":\"x\"},\"y\":{\"field\":\"y\"}},\"id\":\"107699\",\"type\":\"Line\"},{\"attributes\":{\"axis\":{\"id\":\"107676\"},\"ticker\":null},\"id\":\"107679\",\"type\":\"Grid\"},{\"attributes\":{\"data_source\":{\"id\":\"107711\"},\"glyph\":{\"id\":\"107712\"},\"hover_glyph\":null,\"muted_glyph\":null,\"nonselection_glyph\":{\"id\":\"107713\"},\"selection_glyph\":null,\"view\":{\"id\":\"107715\"}},\"id\":\"107714\",\"type\":\"GlyphRenderer\"},{\"attributes\":{\"data_source\":{\"id\":\"107730\"},\"glyph\":{\"id\":\"107731\"},\"hover_glyph\":null,\"muted_glyph\":null,\"nonselection_glyph\":{\"id\":\"107732\"},\"selection_glyph\":null,\"view\":{\"id\":\"107734\"}},\"id\":\"107733\",\"type\":\"GlyphRenderer\"},{\"attributes\":{\"source\":{\"id\":\"107730\"}},\"id\":\"107734\",\"type\":\"CDSView\"},{\"attributes\":{\"text\":\"Lombardia SEIIRD+Q Model\"},\"id\":\"107666\",\"type\":\"Title\"},{\"attributes\":{\"data\":{\"x\":[0,1,2,3,4,5,6,7,8,9,10,11,12,13,14,15,16,17,18,19,20,21,22,23,24,25,26],\"y\":[1326,1497,1777,2008,2742,3372,4490,4427,5763,6896,7732,9059,10043,10861,12095,12266,13938,15420,17370,17885,18910,19868,20591,22189,23895,24509,25392]},\"selected\":{\"id\":\"109470\"},\"selection_policy\":{\"id\":\"109471\"}},\"id\":\"107730\",\"type\":\"ColumnDataSource\"},{\"attributes\":{\"data_source\":{\"id\":\"107698\"},\"glyph\":{\"id\":\"107699\"},\"hover_glyph\":null,\"muted_glyph\":null,\"nonselection_glyph\":{\"id\":\"107700\"},\"selection_glyph\":null,\"view\":{\"id\":\"107702\"}},\"id\":\"107701\",\"type\":\"GlyphRenderer\"},{\"attributes\":{},\"id\":\"107743\",\"type\":\"UnionRenderers\"},{\"attributes\":{\"source\":{\"id\":\"107711\"}},\"id\":\"107715\",\"type\":\"CDSView\"},{\"attributes\":{\"items\":[{\"id\":\"107710\"},{\"id\":\"107724\"},{\"id\":\"107747\"}],\"location\":\"top_left\"},\"id\":\"107709\",\"type\":\"Legend\"},{\"attributes\":{\"label\":{\"value\":\"Tested infected\"},\"renderers\":[{\"id\":\"107733\"}]},\"id\":\"107747\",\"type\":\"LegendItem\"},{\"attributes\":{},\"id\":\"107681\",\"type\":\"BasicTicker\"},{\"attributes\":{\"axis_label\":\"# people\",\"formatter\":{\"id\":\"107705\"},\"ticker\":{\"id\":\"107681\"}},\"id\":\"107680\",\"type\":\"LinearAxis\"},{\"attributes\":{},\"id\":\"107674\",\"type\":\"LinearScale\"}],\"root_ids\":[\"107665\"]},\"title\":\"Bokeh Application\",\"version\":\"2.0.1\"}};\n",
       "  var render_items = [{\"docid\":\"46dc7c18-60ea-4399-a3e7-1decc32b8ac2\",\"root_ids\":[\"107665\"],\"roots\":{\"107665\":\"554e626c-6f72-495c-83ce-7303a1d7ac14\"}}];\n",
       "  root.Bokeh.embed.embed_items_notebook(docs_json, render_items);\n",
       "\n",
       "  }\n",
       "  if (root.Bokeh !== undefined) {\n",
       "    embed_document(root);\n",
       "  } else {\n",
       "    var attempts = 0;\n",
       "    var timer = setInterval(function(root) {\n",
       "      if (root.Bokeh !== undefined) {\n",
       "        clearInterval(timer);\n",
       "        embed_document(root);\n",
       "      } else {\n",
       "        attempts++;\n",
       "        if (attempts > 100) {\n",
       "          clearInterval(timer);\n",
       "          console.log(\"Bokeh: ERROR: Unable to run BokehJS code because BokehJS library is missing\");\n",
       "        }\n",
       "      }\n",
       "    }, 10, root)\n",
       "  }\n",
       "})(window);"
      ],
      "application/vnd.bokehjs_exec.v0+json": ""
     },
     "metadata": {
      "application/vnd.bokehjs_exec.v0+json": {
       "id": "107665"
      }
     },
     "output_type": "display_data"
    },
    {
     "data": {
      "text/html": [
       "\n",
       "\n",
       "\n",
       "\n",
       "\n",
       "\n",
       "  <div class=\"bk-root\" id=\"31e65e03-4c64-4ea5-959c-29012f17ec2c\" data-root-id=\"109557\"></div>\n"
      ]
     },
     "metadata": {},
     "output_type": "display_data"
    },
    {
     "data": {
      "application/javascript": [
       "(function(root) {\n",
       "  function embed_document(root) {\n",
       "    \n",
       "  var docs_json = {\"549b5d3a-60f1-493d-af99-3f53bd6bfea9\":{\"roots\":{\"references\":[{\"attributes\":{\"below\":[{\"id\":\"109568\"}],\"center\":[{\"id\":\"109571\"},{\"id\":\"109575\"},{\"id\":\"109601\"}],\"left\":[{\"id\":\"109572\"}],\"plot_height\":400,\"renderers\":[{\"id\":\"109593\"},{\"id\":\"109606\"},{\"id\":\"109620\"},{\"id\":\"109625\"},{\"id\":\"109640\"}],\"title\":{\"id\":\"109558\"},\"toolbar\":{\"id\":\"109583\"},\"x_range\":{\"id\":\"109560\"},\"x_scale\":{\"id\":\"109564\"},\"y_range\":{\"id\":\"109562\"},\"y_scale\":{\"id\":\"109566\"}},\"id\":\"109557\",\"subtype\":\"Figure\",\"type\":\"Plot\"},{\"attributes\":{},\"id\":\"109562\",\"type\":\"DataRange1d\"},{\"attributes\":{\"dimension\":\"height\",\"line_width\":3,\"location\":22},\"id\":\"109640\",\"type\":\"Span\"},{\"attributes\":{},\"id\":\"109613\",\"type\":\"Selection\"},{\"attributes\":{},\"id\":\"109614\",\"type\":\"UnionRenderers\"},{\"attributes\":{\"line_color\":\"red\",\"x\":{\"field\":\"x\"},\"y\":{\"field\":\"y\"}},\"id\":\"109591\",\"type\":\"Line\"},{\"attributes\":{},\"id\":\"109560\",\"type\":\"DataRange1d\"},{\"attributes\":{\"fill_color\":{\"value\":\"black\"},\"x\":{\"field\":\"x\"},\"y\":{\"field\":\"y\"}},\"id\":\"109618\",\"type\":\"Circle\"},{\"attributes\":{\"axis_label\":\"# people\",\"formatter\":{\"id\":\"109597\"},\"ticker\":{\"id\":\"109573\"}},\"id\":\"109572\",\"type\":\"LinearAxis\"},{\"attributes\":{},\"id\":\"111376\",\"type\":\"Selection\"},{\"attributes\":{},\"id\":\"109573\",\"type\":\"BasicTicker\"},{\"attributes\":{\"fill_alpha\":{\"value\":0.1},\"fill_color\":{\"value\":\"black\"},\"line_alpha\":{\"value\":0.1},\"x\":{\"field\":\"x\"},\"y\":{\"field\":\"y\"}},\"id\":\"109619\",\"type\":\"Circle\"},{\"attributes\":{\"line_alpha\":0.1,\"x\":{\"field\":\"x\"},\"y\":{\"field\":\"y\"}},\"id\":\"109605\",\"type\":\"Line\"},{\"attributes\":{},\"id\":\"109566\",\"type\":\"LinearScale\"},{\"attributes\":{},\"id\":\"111377\",\"type\":\"UnionRenderers\"},{\"attributes\":{\"axis\":{\"id\":\"109572\"},\"dimension\":1,\"ticker\":null},\"id\":\"109575\",\"type\":\"Grid\"},{\"attributes\":{},\"id\":\"109581\",\"type\":\"HelpTool\"},{\"attributes\":{},\"id\":\"109569\",\"type\":\"BasicTicker\"},{\"attributes\":{\"data_source\":{\"id\":\"109617\"},\"glyph\":{\"id\":\"109618\"},\"hover_glyph\":null,\"muted_glyph\":null,\"nonselection_glyph\":{\"id\":\"109619\"},\"selection_glyph\":null,\"view\":{\"id\":\"109621\"}},\"id\":\"109620\",\"type\":\"GlyphRenderer\"},{\"attributes\":{},\"id\":\"109577\",\"type\":\"WheelZoomTool\"},{\"attributes\":{\"data\":{\"x\":[0,1,2,3,4,5,6,7,8,9,10,11,12,13,14,15,16,17,18,19,20,21,22,23,24,25,26],\"y\":[55,73,98,135,154,267,333,468,617,744,890,966,1218,1420,1640,1959,2168,2549,3095,3456,3776,4178,4474,4861,5402,5944,6360]},\"selected\":{\"id\":\"109636\"},\"selection_policy\":{\"id\":\"109637\"}},\"id\":\"109617\",\"type\":\"ColumnDataSource\"},{\"attributes\":{\"label\":{\"value\":\"Tested infected\"},\"renderers\":[{\"id\":\"109625\"}]},\"id\":\"109639\",\"type\":\"LegendItem\"},{\"attributes\":{\"axis_label\":\"t (days)\",\"formatter\":{\"id\":\"109599\"},\"ticker\":{\"id\":\"109569\"}},\"id\":\"109568\",\"type\":\"LinearAxis\"},{\"attributes\":{\"bottom_units\":\"screen\",\"fill_alpha\":0.5,\"fill_color\":\"lightgrey\",\"left_units\":\"screen\",\"level\":\"overlay\",\"line_alpha\":1.0,\"line_color\":\"black\",\"line_dash\":[4,4],\"line_width\":2,\"render_mode\":\"css\",\"right_units\":\"screen\",\"top_units\":\"screen\"},\"id\":\"109582\",\"type\":\"BoxAnnotation\"},{\"attributes\":{\"x\":{\"field\":\"x\"},\"y\":{\"field\":\"y\"}},\"id\":\"109604\",\"type\":\"Line\"},{\"attributes\":{\"label\":{\"value\":\"Deceased\"},\"renderers\":[{\"id\":\"109606\"}]},\"id\":\"109616\",\"type\":\"LegendItem\"},{\"attributes\":{\"active_drag\":\"auto\",\"active_inspect\":\"auto\",\"active_multi\":null,\"active_scroll\":\"auto\",\"active_tap\":\"auto\",\"tools\":[{\"id\":\"109576\"},{\"id\":\"109577\"},{\"id\":\"109578\"},{\"id\":\"109579\"},{\"id\":\"109580\"},{\"id\":\"109581\"}]},\"id\":\"109583\",\"type\":\"Toolbar\"},{\"attributes\":{\"data_source\":{\"id\":\"109603\"},\"glyph\":{\"id\":\"109604\"},\"hover_glyph\":null,\"muted_glyph\":null,\"nonselection_glyph\":{\"id\":\"109605\"},\"selection_glyph\":null,\"view\":{\"id\":\"109607\"}},\"id\":\"109606\",\"type\":\"GlyphRenderer\"},{\"attributes\":{\"text\":\"Lombardia SEIIRD+Q Model\"},\"id\":\"109558\",\"type\":\"Title\"},{\"attributes\":{},\"id\":\"109580\",\"type\":\"ResetTool\"},{\"attributes\":{},\"id\":\"109579\",\"type\":\"SaveTool\"},{\"attributes\":{\"data\":{\"x\":[0,1,2,3,4,5,6,7,8,9,10,11,12,13,14,15,16,17,18,19,20,21,22,23,24,25,26,27,28,29,30,31,32,33,34,35,36,37,38,39,40,41,42,43,44,45,46,47,48,49,50,51,52,53],\"y\":{\"__ndarray__\":\"AAAAAACAS0BFQZh4nnRZQHHVocFA3mJAE+9MB0N7aUD7diYc02NwQEpBnEMZgHRAUxCXYdIzeUA9/a9BA6N+QGel2Z/3eYJAflelvU4nhkAc0XrsJm6KQOmuDexwY49AqwQXgw+OkkCw4XVSataVQOCC9qHLlJlA5Qq3iMHSnUDXSPpQoUyhQERwsnVH+KNAH0uVegrwpkCTP4DqLTeqQABkzwh50K1ARSh6ZBjfsEBAIrgcCgGzQJksk6CtTrVAyoy/v1vIt0BMoqaMK266QLunMZn0P71Ayb3g9KgewEC1RG++0rLBQOSCvSMOXMNAWBmSQ9kZxUCLA+UmnOvGQGiK0Rar0MhAsiI890jIykBjd3ycqdHMQOw4xBP0685AGpnGayKL0EBaV1T116fRQExy62qhy9JANQJ2QgP200BEHMSAgCbVQNRFI4WbXNZAioIAw9aX10B04LJptdfYQBTJy/q7G9pASiZ9z3Bj20C5VsyNXK7cQHTCZY4K/N1AGfj4MwlM30B66oga9U7gQO/dtGyh+OBAwZLWFdai4UBjjVeQYU3iQDwTf1oU+OJA\",\"dtype\":\"float64\",\"shape\":[54]}},\"selected\":{\"id\":\"109634\"},\"selection_policy\":{\"id\":\"109635\"}},\"id\":\"109603\",\"type\":\"ColumnDataSource\"},{\"attributes\":{\"data_source\":{\"id\":\"109622\"},\"glyph\":{\"id\":\"109623\"},\"hover_glyph\":null,\"muted_glyph\":null,\"nonselection_glyph\":{\"id\":\"109624\"},\"selection_glyph\":null,\"view\":{\"id\":\"109626\"}},\"id\":\"109625\",\"type\":\"GlyphRenderer\"},{\"attributes\":{\"data\":{\"x\":[0,1,2,3,4,5,6,7,8,9,10,11,12,13,14,15,16,17,18,19,20,21,22,23,24,25,26,27,28,29,30,31,32,33,34,35,36,37,38,39,40,41,42,43,44,45,46,47,48,49,50,51,52,53],\"y\":{\"__ndarray__\":\"s/rtx2ZrkkC682Dj6A6XQMJi2MQJ45xAdbxvcSL4oUBD9nuOux6mQELVI3zL5qpAZUp3ypMnsEDfpaP70CmzQFZFALp3drZAunNlh2EIukDglnKeCdm9QDI3vYNf8MBAj8VhgnALw0Ap13ucEDnFQF6u2q5jdMdAHOx/hXm4yUAy709kbADMQHcKiCh8R85A9lEZrZJE0EAbLJPmmWDRQILcKWPoddJAph5RZMaC00DstmqssoXUQN8V5JljfdVAFz+BucZo1kC30/YX/0bXQI9Ta5ZiF9hAg3+ug3bZ2EA4mwi164zZQE+8mFKaMdpAm2mcgn3H2kBFVZEXr07bQCI36lxjx9tACjNsF+Ux3EDzzvPHkY7cQKkeIzrW3dxAbb8wZCsg3UC1E4GZE1bdQDs4Dw8YgN1AABqlrsae3UCebXo0sLLdQOpB6JFmvN1AL9FWj3u83UBgQ1Wnf7PdQLHkzhQBot1A4h2CDouI3UCRACwqpWfdQE2FPeLSP91AWwBdOZMR3UCPHmh3YN3cQJbhHPyvo9xA8/79I/Jk3EASem88kiHcQGtGaYT22dtA\",\"dtype\":\"float64\",\"shape\":[54]}},\"selected\":{\"id\":\"109613\"},\"selection_policy\":{\"id\":\"109614\"}},\"id\":\"109590\",\"type\":\"ColumnDataSource\"},{\"attributes\":{},\"id\":\"109635\",\"type\":\"UnionRenderers\"},{\"attributes\":{\"source\":{\"id\":\"109617\"}},\"id\":\"109621\",\"type\":\"CDSView\"},{\"attributes\":{},\"id\":\"109634\",\"type\":\"Selection\"},{\"attributes\":{\"data_source\":{\"id\":\"109590\"},\"glyph\":{\"id\":\"109591\"},\"hover_glyph\":null,\"muted_glyph\":null,\"nonselection_glyph\":{\"id\":\"109592\"},\"selection_glyph\":null,\"view\":{\"id\":\"109594\"}},\"id\":\"109593\",\"type\":\"GlyphRenderer\"},{\"attributes\":{\"overlay\":{\"id\":\"109582\"}},\"id\":\"109578\",\"type\":\"BoxZoomTool\"},{\"attributes\":{\"axis\":{\"id\":\"109568\"},\"ticker\":null},\"id\":\"109571\",\"type\":\"Grid\"},{\"attributes\":{\"items\":[{\"id\":\"109602\"},{\"id\":\"109616\"},{\"id\":\"109639\"}],\"location\":\"top_left\"},\"id\":\"109601\",\"type\":\"Legend\"},{\"attributes\":{\"label\":{\"value\":\"All infected\"},\"renderers\":[{\"id\":\"109593\"}]},\"id\":\"109602\",\"type\":\"LegendItem\"},{\"attributes\":{\"source\":{\"id\":\"109603\"}},\"id\":\"109607\",\"type\":\"CDSView\"},{\"attributes\":{},\"id\":\"109576\",\"type\":\"PanTool\"},{\"attributes\":{\"fill_alpha\":{\"value\":0.1},\"fill_color\":{\"value\":\"purple\"},\"line_alpha\":{\"value\":0.1},\"line_color\":{\"value\":\"purple\"},\"x\":{\"field\":\"x\"},\"y\":{\"field\":\"y\"}},\"id\":\"109624\",\"type\":\"Circle\"},{\"attributes\":{},\"id\":\"109637\",\"type\":\"UnionRenderers\"},{\"attributes\":{},\"id\":\"109599\",\"type\":\"BasicTickFormatter\"},{\"attributes\":{\"line_alpha\":0.1,\"line_color\":\"red\",\"x\":{\"field\":\"x\"},\"y\":{\"field\":\"y\"}},\"id\":\"109592\",\"type\":\"Line\"},{\"attributes\":{\"source\":{\"id\":\"109622\"}},\"id\":\"109626\",\"type\":\"CDSView\"},{\"attributes\":{\"data\":{\"x\":[0,1,2,3,4,5,6,7,8,9,10,11,12,13,14,15,16,17,18,19,20,21,22,23,24,25,26],\"y\":[1326,1497,1777,2008,2742,3372,4490,4427,5763,6896,7732,9059,10043,10861,12095,12266,13938,15420,17370,17885,18910,19868,20591,22189,23895,24509,25392]},\"selected\":{\"id\":\"111376\"},\"selection_policy\":{\"id\":\"111377\"}},\"id\":\"109622\",\"type\":\"ColumnDataSource\"},{\"attributes\":{},\"id\":\"109564\",\"type\":\"LinearScale\"},{\"attributes\":{},\"id\":\"109636\",\"type\":\"Selection\"},{\"attributes\":{\"fill_color\":{\"value\":\"purple\"},\"line_color\":{\"value\":\"purple\"},\"x\":{\"field\":\"x\"},\"y\":{\"field\":\"y\"}},\"id\":\"109623\",\"type\":\"Circle\"},{\"attributes\":{},\"id\":\"109597\",\"type\":\"BasicTickFormatter\"},{\"attributes\":{\"source\":{\"id\":\"109590\"}},\"id\":\"109594\",\"type\":\"CDSView\"}],\"root_ids\":[\"109557\"]},\"title\":\"Bokeh Application\",\"version\":\"2.0.1\"}};\n",
       "  var render_items = [{\"docid\":\"549b5d3a-60f1-493d-af99-3f53bd6bfea9\",\"root_ids\":[\"109557\"],\"roots\":{\"109557\":\"31e65e03-4c64-4ea5-959c-29012f17ec2c\"}}];\n",
       "  root.Bokeh.embed.embed_items_notebook(docs_json, render_items);\n",
       "\n",
       "  }\n",
       "  if (root.Bokeh !== undefined) {\n",
       "    embed_document(root);\n",
       "  } else {\n",
       "    var attempts = 0;\n",
       "    var timer = setInterval(function(root) {\n",
       "      if (root.Bokeh !== undefined) {\n",
       "        clearInterval(timer);\n",
       "        embed_document(root);\n",
       "      } else {\n",
       "        attempts++;\n",
       "        if (attempts > 100) {\n",
       "          clearInterval(timer);\n",
       "          console.log(\"Bokeh: ERROR: Unable to run BokehJS code because BokehJS library is missing\");\n",
       "        }\n",
       "      }\n",
       "    }, 10, root)\n",
       "  }\n",
       "})(window);"
      ],
      "application/vnd.bokehjs_exec.v0+json": ""
     },
     "metadata": {
      "application/vnd.bokehjs_exec.v0+json": {
       "id": "109557"
      }
     },
     "output_type": "display_data"
    },
    {
     "data": {
      "text/html": [
       "\n",
       "\n",
       "\n",
       "\n",
       "\n",
       "\n",
       "  <div class=\"bk-root\" id=\"84d8f9f4-dfd8-419d-a996-ce718b26a313\" data-root-id=\"111463\"></div>\n"
      ]
     },
     "metadata": {},
     "output_type": "display_data"
    },
    {
     "data": {
      "application/javascript": [
       "(function(root) {\n",
       "  function embed_document(root) {\n",
       "    \n",
       "  var docs_json = {\"6adac5a8-9672-4157-a252-e67bea4542b7\":{\"roots\":{\"references\":[{\"attributes\":{\"below\":[{\"id\":\"111474\"}],\"center\":[{\"id\":\"111477\"},{\"id\":\"111481\"},{\"id\":\"111507\"}],\"left\":[{\"id\":\"111478\"}],\"plot_height\":400,\"renderers\":[{\"id\":\"111499\"},{\"id\":\"111512\"},{\"id\":\"111526\"},{\"id\":\"111531\"},{\"id\":\"111546\"}],\"title\":{\"id\":\"111464\"},\"toolbar\":{\"id\":\"111489\"},\"x_range\":{\"id\":\"111466\"},\"x_scale\":{\"id\":\"111470\"},\"y_range\":{\"id\":\"111468\"},\"y_scale\":{\"id\":\"111472\"}},\"id\":\"111463\",\"subtype\":\"Figure\",\"type\":\"Plot\"},{\"attributes\":{},\"id\":\"111470\",\"type\":\"LinearScale\"},{\"attributes\":{},\"id\":\"111542\",\"type\":\"Selection\"},{\"attributes\":{\"data_source\":{\"id\":\"111509\"},\"glyph\":{\"id\":\"111510\"},\"hover_glyph\":null,\"muted_glyph\":null,\"nonselection_glyph\":{\"id\":\"111511\"},\"selection_glyph\":null,\"view\":{\"id\":\"111513\"}},\"id\":\"111512\",\"type\":\"GlyphRenderer\"},{\"attributes\":{\"text\":\"Lombardia SEIIRD+Q Model\"},\"id\":\"111464\",\"type\":\"Title\"},{\"attributes\":{},\"id\":\"111543\",\"type\":\"UnionRenderers\"},{\"attributes\":{\"line_alpha\":0.1,\"x\":{\"field\":\"x\"},\"y\":{\"field\":\"y\"}},\"id\":\"111511\",\"type\":\"Line\"},{\"attributes\":{\"source\":{\"id\":\"111509\"}},\"id\":\"111513\",\"type\":\"CDSView\"},{\"attributes\":{\"line_alpha\":0.1,\"line_color\":\"red\",\"x\":{\"field\":\"x\"},\"y\":{\"field\":\"y\"}},\"id\":\"111498\",\"type\":\"Line\"},{\"attributes\":{\"label\":{\"value\":\"Tested infected\"},\"renderers\":[{\"id\":\"111531\"}]},\"id\":\"111545\",\"type\":\"LegendItem\"},{\"attributes\":{},\"id\":\"111519\",\"type\":\"Selection\"},{\"attributes\":{\"dimension\":\"height\",\"line_width\":3,\"location\":26},\"id\":\"111546\",\"type\":\"Span\"},{\"attributes\":{\"label\":{\"value\":\"All infected\"},\"renderers\":[{\"id\":\"111499\"}]},\"id\":\"111508\",\"type\":\"LegendItem\"},{\"attributes\":{},\"id\":\"111520\",\"type\":\"UnionRenderers\"},{\"attributes\":{},\"id\":\"111483\",\"type\":\"WheelZoomTool\"},{\"attributes\":{},\"id\":\"113296\",\"type\":\"Selection\"},{\"attributes\":{\"x\":{\"field\":\"x\"},\"y\":{\"field\":\"y\"}},\"id\":\"111510\",\"type\":\"Line\"},{\"attributes\":{\"data\":{\"x\":[0,1,2,3,4,5,6,7,8,9,10,11,12,13,14,15,16,17,18,19,20,21,22,23,24,25,26,27,28,29,30,31,32,33,34,35,36,37,38,39,40,41,42,43,44,45,46,47,48,49,50,51,52,53],\"y\":{\"__ndarray__\":\"IUWPXbz6kEDjLWMenq+WQCsJ4wVxQ51Aq6gI3GBnokC+9eaqlbGmQPyoezHXhatA1PJfsDlzsEBjEisZUWmzQAtuJFpWo7ZAMEBiXREeukCfQk7UD9W9QNuetR5n4cBAVgmZ+nLwwkCvjgo0HxTFQOwMbbKfSMdAAXUcVQGKyUDhVLaBQdTLQJDEjMpjI85A3HkRlcI50EAvy5k+dmDRQKLWnAYMhNJA2r0pE+Si00BZcapng7vUQHsYe2mWzNVAtnxIL/LU1kDNJFfBlNPXQA6bM3Skx9hASOBfiG6w2UAKvhY3ZY3aQAmgW1IdXttAPDNmmksi3EAwrhrmwdncQKFhDDhshN1AYDm91E0i3kDTTLtqfrPeQNRESlknON9AH5TIHoGw30CqjYh6aA7gQDOuxk+zPuBAzXFQNk1p4EDyEzu1ZY7gQHA1+eYuruBAK8bUxNzI4ECSOQOJpN7gQN9+uCW87+BAmlaAz1n84EAbFxuZswThQNOHHh//COFACyyqQXEJ4UBY+pPqPQbhQE9Sjd6X/+BAOoTdl7D14EAYKm4puOjgQPONBCnd2OBA\",\"dtype\":\"float64\",\"shape\":[54]}},\"selected\":{\"id\":\"111519\"},\"selection_policy\":{\"id\":\"111520\"}},\"id\":\"111496\",\"type\":\"ColumnDataSource\"},{\"attributes\":{\"label\":{\"value\":\"Deceased\"},\"renderers\":[{\"id\":\"111512\"}]},\"id\":\"111522\",\"type\":\"LegendItem\"},{\"attributes\":{},\"id\":\"111482\",\"type\":\"PanTool\"},{\"attributes\":{},\"id\":\"111466\",\"type\":\"DataRange1d\"},{\"attributes\":{},\"id\":\"113297\",\"type\":\"UnionRenderers\"},{\"attributes\":{\"data\":{\"x\":[0,1,2,3,4,5,6,7,8,9,10,11,12,13,14,15,16,17,18,19,20,21,22,23,24,25,26],\"y\":[55,73,98,135,154,267,333,468,617,744,890,966,1218,1420,1640,1959,2168,2549,3095,3456,3776,4178,4474,4861,5402,5944,6360]},\"selected\":{\"id\":\"111542\"},\"selection_policy\":{\"id\":\"111543\"}},\"id\":\"111523\",\"type\":\"ColumnDataSource\"},{\"attributes\":{\"overlay\":{\"id\":\"111488\"}},\"id\":\"111484\",\"type\":\"BoxZoomTool\"},{\"attributes\":{},\"id\":\"111540\",\"type\":\"Selection\"},{\"attributes\":{},\"id\":\"111486\",\"type\":\"ResetTool\"},{\"attributes\":{\"data\":{\"x\":[0,1,2,3,4,5,6,7,8,9,10,11,12,13,14,15,16,17,18,19,20,21,22,23,24,25,26,27,28,29,30,31,32,33,34,35,36,37,38,39,40,41,42,43,44,45,46,47,48,49,50,51,52,53],\"y\":{\"__ndarray__\":\"AAAAAACAS0C+03KIDaxeQASlS4FetmdAkZU0rTMccEDUhj8xBYt0QJGhX/4ERnlAIxXhjgptfkCSnXdDqRCCQP87FiarQoVA1IBM5UfeiEBVAhl/lvWMQOyewL1tzZBAOIb4Byxwk0DRrsNgC2yWQFSgLajbyZlAkMIYyR2SnUCQOW6tdeagQBtswwvwQKNAdeqJ1ALcpUCBbIMX4bqoQGPNNOBk4KtA+l2MhglPr0BNiiLKc4SxQC6S2RvZh7NA1KI7GVuytUAFhG0VbQS4QKiRsR9QfrpAqjbjXBQgvUCxWwbdmum/QOI6t+xLbcFAFhEFpEr5wkDJv2HYepjEQGy6tpl7SsZAtBzbVtsOyEBr1C15GeXJQE5YRQKozMtAkm78Je3EzUCKfgncRM3PQMv8jDKB8tBA7GMZ4LgF0kA+P+eG7B/TQL8da++8QNRA8JkSN8ln1UBPXeRhr5TWQJw1zuAMx9dABVGgDH/+2ECevtuVozraQKnemekYe9tAD97ri36/3EBTmyRodQfeQO2tjRegUt9AXRiJj1FQ4EBgEziSkvjgQK0qwo3noeFA\",\"dtype\":\"float64\",\"shape\":[54]}},\"selected\":{\"id\":\"111540\"},\"selection_policy\":{\"id\":\"111541\"}},\"id\":\"111509\",\"type\":\"ColumnDataSource\"},{\"attributes\":{\"fill_alpha\":{\"value\":0.1},\"fill_color\":{\"value\":\"black\"},\"line_alpha\":{\"value\":0.1},\"x\":{\"field\":\"x\"},\"y\":{\"field\":\"y\"}},\"id\":\"111525\",\"type\":\"Circle\"},{\"attributes\":{},\"id\":\"111468\",\"type\":\"DataRange1d\"},{\"attributes\":{\"data\":{\"x\":[0,1,2,3,4,5,6,7,8,9,10,11,12,13,14,15,16,17,18,19,20,21,22,23,24,25,26],\"y\":[1326,1497,1777,2008,2742,3372,4490,4427,5763,6896,7732,9059,10043,10861,12095,12266,13938,15420,17370,17885,18910,19868,20591,22189,23895,24509,25392]},\"selected\":{\"id\":\"113296\"},\"selection_policy\":{\"id\":\"113297\"}},\"id\":\"111528\",\"type\":\"ColumnDataSource\"},{\"attributes\":{\"data_source\":{\"id\":\"111523\"},\"glyph\":{\"id\":\"111524\"},\"hover_glyph\":null,\"muted_glyph\":null,\"nonselection_glyph\":{\"id\":\"111525\"},\"selection_glyph\":null,\"view\":{\"id\":\"111527\"}},\"id\":\"111526\",\"type\":\"GlyphRenderer\"},{\"attributes\":{\"line_color\":\"red\",\"x\":{\"field\":\"x\"},\"y\":{\"field\":\"y\"}},\"id\":\"111497\",\"type\":\"Line\"},{\"attributes\":{},\"id\":\"111485\",\"type\":\"SaveTool\"},{\"attributes\":{},\"id\":\"111479\",\"type\":\"BasicTicker\"},{\"attributes\":{\"fill_color\":{\"value\":\"black\"},\"x\":{\"field\":\"x\"},\"y\":{\"field\":\"y\"}},\"id\":\"111524\",\"type\":\"Circle\"},{\"attributes\":{\"axis\":{\"id\":\"111478\"},\"dimension\":1,\"ticker\":null},\"id\":\"111481\",\"type\":\"Grid\"},{\"attributes\":{},\"id\":\"111487\",\"type\":\"HelpTool\"},{\"attributes\":{\"source\":{\"id\":\"111523\"}},\"id\":\"111527\",\"type\":\"CDSView\"},{\"attributes\":{\"active_drag\":\"auto\",\"active_inspect\":\"auto\",\"active_multi\":null,\"active_scroll\":\"auto\",\"active_tap\":\"auto\",\"tools\":[{\"id\":\"111482\"},{\"id\":\"111483\"},{\"id\":\"111484\"},{\"id\":\"111485\"},{\"id\":\"111486\"},{\"id\":\"111487\"}]},\"id\":\"111489\",\"type\":\"Toolbar\"},{\"attributes\":{\"items\":[{\"id\":\"111508\"},{\"id\":\"111522\"},{\"id\":\"111545\"}],\"location\":\"top_left\"},\"id\":\"111507\",\"type\":\"Legend\"},{\"attributes\":{\"axis\":{\"id\":\"111474\"},\"ticker\":null},\"id\":\"111477\",\"type\":\"Grid\"},{\"attributes\":{},\"id\":\"111503\",\"type\":\"BasicTickFormatter\"},{\"attributes\":{\"source\":{\"id\":\"111496\"}},\"id\":\"111500\",\"type\":\"CDSView\"},{\"attributes\":{\"fill_alpha\":{\"value\":0.1},\"fill_color\":{\"value\":\"purple\"},\"line_alpha\":{\"value\":0.1},\"line_color\":{\"value\":\"purple\"},\"x\":{\"field\":\"x\"},\"y\":{\"field\":\"y\"}},\"id\":\"111530\",\"type\":\"Circle\"},{\"attributes\":{\"axis_label\":\"# people\",\"formatter\":{\"id\":\"111503\"},\"ticker\":{\"id\":\"111479\"}},\"id\":\"111478\",\"type\":\"LinearAxis\"},{\"attributes\":{\"data_source\":{\"id\":\"111528\"},\"glyph\":{\"id\":\"111529\"},\"hover_glyph\":null,\"muted_glyph\":null,\"nonselection_glyph\":{\"id\":\"111530\"},\"selection_glyph\":null,\"view\":{\"id\":\"111532\"}},\"id\":\"111531\",\"type\":\"GlyphRenderer\"},{\"attributes\":{},\"id\":\"111505\",\"type\":\"BasicTickFormatter\"},{\"attributes\":{\"fill_color\":{\"value\":\"purple\"},\"line_color\":{\"value\":\"purple\"},\"x\":{\"field\":\"x\"},\"y\":{\"field\":\"y\"}},\"id\":\"111529\",\"type\":\"Circle\"},{\"attributes\":{\"data_source\":{\"id\":\"111496\"},\"glyph\":{\"id\":\"111497\"},\"hover_glyph\":null,\"muted_glyph\":null,\"nonselection_glyph\":{\"id\":\"111498\"},\"selection_glyph\":null,\"view\":{\"id\":\"111500\"}},\"id\":\"111499\",\"type\":\"GlyphRenderer\"},{\"attributes\":{},\"id\":\"111475\",\"type\":\"BasicTicker\"},{\"attributes\":{\"bottom_units\":\"screen\",\"fill_alpha\":0.5,\"fill_color\":\"lightgrey\",\"left_units\":\"screen\",\"level\":\"overlay\",\"line_alpha\":1.0,\"line_color\":\"black\",\"line_dash\":[4,4],\"line_width\":2,\"render_mode\":\"css\",\"right_units\":\"screen\",\"top_units\":\"screen\"},\"id\":\"111488\",\"type\":\"BoxAnnotation\"},{\"attributes\":{\"source\":{\"id\":\"111528\"}},\"id\":\"111532\",\"type\":\"CDSView\"},{\"attributes\":{\"axis_label\":\"t (days)\",\"formatter\":{\"id\":\"111505\"},\"ticker\":{\"id\":\"111475\"}},\"id\":\"111474\",\"type\":\"LinearAxis\"},{\"attributes\":{},\"id\":\"111472\",\"type\":\"LinearScale\"},{\"attributes\":{},\"id\":\"111541\",\"type\":\"UnionRenderers\"}],\"root_ids\":[\"111463\"]},\"title\":\"Bokeh Application\",\"version\":\"2.0.1\"}};\n",
       "  var render_items = [{\"docid\":\"6adac5a8-9672-4157-a252-e67bea4542b7\",\"root_ids\":[\"111463\"],\"roots\":{\"111463\":\"84d8f9f4-dfd8-419d-a996-ce718b26a313\"}}];\n",
       "  root.Bokeh.embed.embed_items_notebook(docs_json, render_items);\n",
       "\n",
       "  }\n",
       "  if (root.Bokeh !== undefined) {\n",
       "    embed_document(root);\n",
       "  } else {\n",
       "    var attempts = 0;\n",
       "    var timer = setInterval(function(root) {\n",
       "      if (root.Bokeh !== undefined) {\n",
       "        clearInterval(timer);\n",
       "        embed_document(root);\n",
       "      } else {\n",
       "        attempts++;\n",
       "        if (attempts > 100) {\n",
       "          clearInterval(timer);\n",
       "          console.log(\"Bokeh: ERROR: Unable to run BokehJS code because BokehJS library is missing\");\n",
       "        }\n",
       "      }\n",
       "    }, 10, root)\n",
       "  }\n",
       "})(window);"
      ],
      "application/vnd.bokehjs_exec.v0+json": ""
     },
     "metadata": {
      "application/vnd.bokehjs_exec.v0+json": {
       "id": "111463"
      }
     },
     "output_type": "display_data"
    }
   ],
   "source": [
    "start = 10\n",
    "step = 4\n",
    "ind = 0\n",
    "results = []\n",
    "one_more = False\n",
    "while start + ind*step <= 28:\n",
    "    boundary = start + ind*step\n",
    "    res = least_squares(fit_leastsq_qd, guesses, args=(select_region(df, 'Lombardia')[:boundary],), bounds=np.transpose(np.array(ranges)))\n",
    "    plot_qd(res, params, initial_conditions, df, 'Lombardia', extrapolate=2, boundary=boundary, plot_infectious=True)\n",
    "    ind += 1"
   ]
  },
  {
   "cell_type": "markdown",
   "metadata": {},
   "source": [
    "Despite being conceptually wrong, this produces much more satisfactory predictions of fatality rates than the erf model. The infectious predictions should be taken with a (very large) grain of salt anyway, since we know it isn't really predicting the infected population."
   ]
  },
  {
   "cell_type": "markdown",
   "metadata": {},
   "source": [
    "## Fancy stuff: $\\mathbf{SEI_A I_S R}$ with empirical quarantine"
   ]
  },
  {
   "cell_type": "markdown",
   "metadata": {},
   "source": [
    "The motivation for this model is to add two crucial ingredients: quarantine data and asymptomatic cases. For quarantine analysis, we find an effective population size based on what fraction of the population is moving according to https://citymapper.com/cmi/milan. (Since Milan is the capital of Lombardy, we perform the analysis for that region.) To make the quarantine more realistic, we model a \"leaky\" quarantine, where the susceptible population is given by the mobility from above plus some offset. To treat asymptomatic cases, we introduce states $I_A$ (asymptomatic) and $I_S$ (symptomatic) according to the following sketch and differential equations:"
   ]
  },
  {
   "cell_type": "markdown",
   "metadata": {},
   "source": [
    "![SEIIR + quarantine](images/overview.png)"
   ]
  },
  {
   "cell_type": "markdown",
   "metadata": {},
   "source": [
    "Since this is prototyping the model, we manually enter the chart above (raw data is at the link above) and implement it. We also have a testing function $T(t)$ (called `tau(t)` in the code) that allows us to try out different testing strategies for asymptomatic populations. Sorry about the confusing variable names below: parameters are renamed as $\\sigma\\to$ `alpha`, $s\\to$ `sigma`, and $d\\to$ `delta`. Not shown in the equations above but included in the diagram is a fixed offset (`offset`) for the leaky quarantine model."
   ]
  },
  {
   "cell_type": "code",
   "execution_count": 139,
   "metadata": {},
   "outputs": [],
   "source": [
    "# TODO fix data imputation\n",
    "def q(t, N, shift):\n",
    "    moving = np.array([57, 54, 52, 51, 49, 47, 46, 45, 44, 43, 39, 37, 34, 23, 19, 13, 10, 7, 6, 5, 5, 7, 6, 5, 4, 4, 3, 3, 4, 4, 3, 3, 3, 3, 2])/100\n",
    "    q = N*(1-moving) - shift*N\n",
    "    if np.round(t) >= len(q):\n",
    "        return q[-1]\n",
    "    return q[int(np.round(t))]\n",
    "    \n",
    "def tau(t):\n",
    "    return 0\n",
    "\n",
    "def seiirq(dat, t, params, N, max_t, offset):\n",
    "    if t >= max_t:\n",
    "        return [0]*8\n",
    "    beta = params[0]\n",
    "    alpha = params[1] # rate from e to ia\n",
    "    sigma = params[2] # rate of asymptomatic people becoming symptotic\n",
    "    ra = params[3] # rate of asymptomatic recovery\n",
    "    rs = params[4] # rate of symptomatic recovery\n",
    "    delta = params[5] # death rate\n",
    "    shift = params[6] # shift quarantine rate vertically from CityMapper data\n",
    "    \n",
    "    s = dat[0]\n",
    "    e = dat[1]\n",
    "    i_a = dat[2]\n",
    "    i_s = dat[3]\n",
    "\n",
    "    Qind = (q(t + offset, N, shift) - tau(t + offset)*i_a)/(s + e + i_a - tau(t + offset)*i_a)\n",
    "    Qia = Qind + (1-Qind)*tau(t + offset)\n",
    "    \n",
    "    dsdt = - beta * s * i_a * (1 - Qind) * (1 - Qia) / N\n",
    "    dedt = beta * s * i_a* (1 - Qind) * (1 - Qia) / N  - alpha * e\n",
    "    diadt = alpha * e - (sigma + ra) * i_a\n",
    "    disdt = sigma * i_a - (delta + rs) * i_s\n",
    "    dddt = delta * i_s\n",
    "    drdt = ra * i_a + rs * i_s\n",
    "    \n",
    "    \n",
    "    # susceptible, exposed, infected, quarantined, recovered, died, unsusceptible\n",
    "    out = [dsdt, dedt, diadt, disdt, drdt, dddt]\n",
    "    return out"
   ]
  },
  {
   "cell_type": "code",
   "execution_count": 137,
   "metadata": {},
   "outputs": [],
   "source": [
    "from sklearn.metrics import mean_squared_error\n",
    "\n",
    "def mse(A, B):\n",
    "    Ap = np.nan_to_num(A)\n",
    "    Bp = np.nan_to_num(B)\n",
    "    Ap[A == -np.inf] = 0\n",
    "    Bp[B == -np.inf] = 0\n",
    "    Ap[A == np.inf] = 0\n",
    "    Bp[B == np.inf] = 0\n",
    "    return mean_squared_error(Ap, Bp)\n",
    "\n",
    "def model_z(params, data, tmax=-1):\n",
    "    # initial conditions\n",
    "    N = data['Population'].values[0] # total population\n",
    "    initial_conditions = N * np.array(params[-4:]) # the parameters are a fraction of the population so multiply by the population\n",
    "    \n",
    "    e0 = initial_conditions[0]\n",
    "    ia0 = initial_conditions[1]\n",
    "    is0 = initial_conditions[2]\n",
    "    r0 = initial_conditions[3]\n",
    "    \n",
    "    d0 = data['Deaths'].values[0]\n",
    "    s0 = N - np.sum(initial_conditions) - d0\n",
    "\n",
    "    offset = data['date_processed'].min()\n",
    "    yz_0 = np.array([s0, e0, ia0, is0, r0, d0])\n",
    "    \n",
    "    n = len(data)\n",
    "    if tmax > 0:\n",
    "        n = tmax\n",
    "    \n",
    "    # Package parameters into a tuple\n",
    "    args = (params, N, n, offset)\n",
    "    \n",
    "    # Integrate ODEs\n",
    "    try:\n",
    "        s = scipy.integrate.odeint(seiirq, yz_0, np.arange(0, n), args=args)\n",
    "    except RuntimeError:\n",
    "#         print('RuntimeError', params)\n",
    "        return np.zeros((n, len(yz_0)))\n",
    "\n",
    "    return s\n",
    "\n",
    "def fit_leastsq_z(params, data):\n",
    "    Ddata = (data['Deaths'].values)\n",
    "    Idata = (data['TotalCurrentlyPositive'].values)\n",
    "    s = model_z(params, data)\n",
    "\n",
    "    S = s[:,0]\n",
    "    E = s[:,1]\n",
    "    I_A = s[:,2]\n",
    "    I_S = s[:,3]\n",
    "    R = s[:,4]\n",
    "    D = s[:,5]\n",
    "    \n",
    "    error = np.concatenate((D-Ddata, I_S - Idata))\n",
    "    return error"
   ]
  },
  {
   "cell_type": "markdown",
   "metadata": {},
   "source": [
    "Again, we find some good initial parameters."
   ]
  },
  {
   "cell_type": "code",
   "execution_count": 129,
   "metadata": {},
   "outputs": [
    {
     "data": {
      "image/png": "[encoded data removed]",
      "text/plain": [
       "<Figure size 432x288 with 1 Axes>"
      ]
     },
     "metadata": {
      "needs_background": "light"
     },
     "output_type": "display_data"
    }
   ],
   "source": [
    "%matplotlib notebook\n",
    "%matplotlib inline\n",
    "\n",
    "plt.figure()\n",
    "d = select_region(df, 'Lombardia')\n",
    "# parameters: beta, alpha, sigma, ra, rs, delta, shift\n",
    "params = [1.8, 0.35, 0.1, 0.15, 0.34, 0.015, 0.5]\n",
    "# conditions: E, IA, IS, R\n",
    "initial_conditions = [4e-6, 0.0009, 0.0005, 0.0002]\n",
    "s = model_z(params + initial_conditions, d)\n",
    "plt.scatter(d['date_processed'], d['Deaths'])\n",
    "plt.plot(d['date_processed'], s[:, 5])\n",
    "plt.show()"
   ]
  },
  {
   "cell_type": "code",
   "execution_count": 130,
   "metadata": {},
   "outputs": [],
   "source": [
    "import itertools\n",
    "\n",
    "def plot_with_errors_sample_z(res, p0_params, p0_initial_conditions, df, region, extrapolate=1, boundary=None, plot_infectious=False):\n",
    "    data = select_region(df, region)\n",
    "    errors = get_errors(res, list(p0_params) + list(p0_initial_conditions))\n",
    "    errors[len(p0_params):] = 0\n",
    "    \n",
    "    all_s = []\n",
    "    samples = 100\n",
    "    for i in range(samples):\n",
    "        sample = np.random.normal(loc=res.x, scale=errors)\n",
    "        s = model_z(sample, data, len(data)*extrapolate)\n",
    "        all_s.append(s)\n",
    "        \n",
    "    all_s = np.array(all_s)\n",
    "    \n",
    "    s = model_z(res.x, data, len(data)*extrapolate)\n",
    "    S = s[:,0]\n",
    "    E = s[:,1]\n",
    "    I_A = s[:,2]\n",
    "    I_S = s[:,3]\n",
    "    R = s[:,4]\n",
    "    D = s[:,5]\n",
    "\n",
    "    t = np.arange(0, len(data))\n",
    "    tp = np.arange(0, len(data)*extrapolate)\n",
    "\n",
    "    p = bokeh.plotting.figure(plot_width=600,\n",
    "                              plot_height=400,\n",
    "                             title = region + ' SEIIRD+Q Model',\n",
    "                             x_axis_label = 't (days)',\n",
    "                             y_axis_label = '# people')\n",
    "\n",
    "    s1 = np.percentile(all_s, 25, axis=0)\n",
    "    s2 = np.percentile(all_s, 75, axis=0)\n",
    "    if plot_infectious:\n",
    "        p.varea(x=tp, y1=s1[:, 2], y2=s2[:, 2], color='red', fill_alpha=0.2)\n",
    "    p.varea(x=tp, y1=s1[:, 3], y2=s2[:, 3], color='purple', fill_alpha=0.2)\n",
    "    p.varea(x=tp, y1=s1[:, 5], y2=s2[:, 5], color='black', fill_alpha=0.2)\n",
    "    \n",
    "    if plot_infectious:\n",
    "        p.line(tp, I_A, color = 'red', line_width = 1, legend_label = 'Asymptomatic infected')\n",
    "    p.line(tp, D, color = 'black', line_width = 1, legend_label = 'Deceased')\n",
    "    p.line(tp, I_S , color = 'purple', line_width = 1, legend_label = 'Symptomatic infected')\n",
    "\n",
    "    # death\n",
    "    p.circle(t, data['Deaths'], color ='black')\n",
    "\n",
    "    # quarantined\n",
    "    p.circle(t, data['TotalCurrentlyPositive'], color ='purple')\n",
    "    \n",
    "    if boundary is not None:\n",
    "        vline = Span(location=boundary, dimension='height', line_color='black', line_width=3)\n",
    "        p.renderers.extend([vline])\n",
    "\n",
    "    p.legend.location = 'top_left'\n",
    "    bokeh.io.show(p)"
   ]
  },
  {
   "cell_type": "markdown",
   "metadata": {},
   "source": [
    "Let's define the initial ranges of the constants for the ODE."
   ]
  },
  {
   "cell_type": "code",
   "execution_count": 131,
   "metadata": {},
   "outputs": [],
   "source": [
    "# beta, alpha, sigma, ra, rs, delta, shift\n",
    "param_ranges = [(1.0, 2.0), (0.1, 0.5), (0.1, 0.5), (0.05, 0.5), (0.32, 0.36), (0.005, 0.05), (0.1, 0.6)]\n",
    "initial_ranges = [(1.0e-7, 0.001), (1.0e-7, 0.001), (1.0e-7, 0.001), (1.0e-7, 0.001)]\n",
    "\n",
    "guesses = params + initial_conditions\n",
    "ranges = param_ranges + initial_ranges"
   ]
  },
  {
   "cell_type": "code",
   "execution_count": 140,
   "metadata": {},
   "outputs": [
    {
     "name": "stdout",
     "output_type": "stream",
     "text": [
      "RuntimeError [1.68282502e+00 2.00357099e-01 1.59581752e-01 1.86009793e-01\n",
      " 3.34566310e-01 2.00882425e-02 4.67308902e-01 2.90714641e-04\n",
      " 9.88775881e-04 4.03666747e-04 6.65199373e-04]\n"
     ]
    },
    {
     "data": {
      "text/html": [
       "\n",
       "\n",
       "\n",
       "\n",
       "\n",
       "\n",
       "  <div class=\"bk-root\" id=\"bb8b8889-be8a-4916-bce9-d70c51b2fb3d\" data-root-id=\"121619\"></div>\n"
      ]
     },
     "metadata": {},
     "output_type": "display_data"
    },
    {
     "data": {
      "application/javascript": [
       "(function(root) {\n",
       "  function embed_document(root) {\n",
       "    \n",
       "  var docs_json = {\"3ecd859f-d2c1-4e4d-86c7-b3c01d3d166a\":{\"roots\":{\"references\":[{\"attributes\":{\"below\":[{\"id\":\"121630\"}],\"center\":[{\"id\":\"121633\"},{\"id\":\"121637\"},{\"id\":\"121684\"}],\"left\":[{\"id\":\"121634\"}],\"plot_height\":400,\"renderers\":[{\"id\":\"121655\"},{\"id\":\"121660\"},{\"id\":\"121665\"},{\"id\":\"121670\"},{\"id\":\"121689\"},{\"id\":\"121709\"},{\"id\":\"121731\"},{\"id\":\"121736\"},{\"id\":\"121738\"}],\"title\":{\"id\":\"121620\"},\"toolbar\":{\"id\":\"121645\"},\"x_range\":{\"id\":\"121622\"},\"x_scale\":{\"id\":\"121626\"},\"y_range\":{\"id\":\"121624\"},\"y_scale\":{\"id\":\"121628\"}},\"id\":\"121619\",\"subtype\":\"Figure\",\"type\":\"Plot\"},{\"attributes\":{},\"id\":\"121622\",\"type\":\"DataRange1d\"},{\"attributes\":{\"source\":{\"id\":\"121652\"}},\"id\":\"121656\",\"type\":\"CDSView\"},{\"attributes\":{\"data_source\":{\"id\":\"121652\"},\"glyph\":{\"id\":\"121653\"},\"hover_glyph\":null,\"muted_glyph\":null,\"nonselection_glyph\":{\"id\":\"121654\"},\"selection_glyph\":null,\"view\":{\"id\":\"121656\"}},\"id\":\"121655\",\"type\":\"GlyphRenderer\"},{\"attributes\":{},\"id\":\"121681\",\"type\":\"Selection\"},{\"attributes\":{},\"id\":\"121725\",\"type\":\"UnionRenderers\"},{\"attributes\":{},\"id\":\"123598\",\"type\":\"Selection\"},{\"attributes\":{},\"id\":\"121677\",\"type\":\"Selection\"},{\"attributes\":{\"fill_alpha\":0.1,\"fill_color\":\"red\",\"x\":{\"field\":\"x\"},\"y1\":{\"field\":\"y1\"},\"y2\":{\"field\":\"y2\"}},\"id\":\"121654\",\"type\":\"VArea\"},{\"attributes\":{\"label\":{\"value\":\"Symptomatic infected\"},\"renderers\":[{\"id\":\"121709\"}]},\"id\":\"121727\",\"type\":\"LegendItem\"},{\"attributes\":{},\"id\":\"121682\",\"type\":\"UnionRenderers\"},{\"attributes\":{},\"id\":\"123599\",\"type\":\"UnionRenderers\"},{\"attributes\":{\"text\":\"Lombardia SEIIRD+Q Model\"},\"id\":\"121620\",\"type\":\"Title\"},{\"attributes\":{\"fill_alpha\":0.2,\"fill_color\":\"purple\",\"x\":{\"field\":\"x\"},\"y1\":{\"field\":\"y1\"},\"y2\":{\"field\":\"y2\"}},\"id\":\"121658\",\"type\":\"VArea\"},{\"attributes\":{\"data\":{\"x\":[0,1,2,3,4,5,6,7,8,9,10,11,12,13,14,15,16,17,18,19,20,21,22,23,24,25,26],\"y\":[55,73,98,135,154,267,333,468,617,744,890,966,1218,1420,1640,1959,2168,2549,3095,3456,3776,4178,4474,4861,5402,5944,6360]},\"selected\":{\"id\":\"123596\"},\"selection_policy\":{\"id\":\"123597\"}},\"id\":\"121728\",\"type\":\"ColumnDataSource\"},{\"attributes\":{\"items\":[{\"id\":\"121685\"},{\"id\":\"121705\"},{\"id\":\"121727\"}],\"location\":\"top_left\"},\"id\":\"121684\",\"type\":\"Legend\"},{\"attributes\":{\"data_source\":{\"id\":\"121657\"},\"glyph\":{\"id\":\"121658\"},\"hover_glyph\":null,\"muted_glyph\":null,\"nonselection_glyph\":{\"id\":\"121659\"},\"selection_glyph\":null,\"view\":{\"id\":\"121661\"}},\"id\":\"121660\",\"type\":\"GlyphRenderer\"},{\"attributes\":{},\"id\":\"123597\",\"type\":\"UnionRenderers\"},{\"attributes\":{},\"id\":\"121641\",\"type\":\"SaveTool\"},{\"attributes\":{\"overlay\":{\"id\":\"121644\"}},\"id\":\"121640\",\"type\":\"BoxZoomTool\"},{\"attributes\":{\"label\":{\"value\":\"Asymptomatic infected\"},\"renderers\":[{\"id\":\"121670\"}]},\"id\":\"121685\",\"type\":\"LegendItem\"},{\"attributes\":{\"fill_alpha\":0.1,\"fill_color\":\"purple\",\"x\":{\"field\":\"x\"},\"y1\":{\"field\":\"y1\"},\"y2\":{\"field\":\"y2\"}},\"id\":\"121659\",\"type\":\"VArea\"},{\"attributes\":{\"fill_alpha\":{\"value\":0.1},\"fill_color\":{\"value\":\"black\"},\"line_alpha\":{\"value\":0.1},\"x\":{\"field\":\"x\"},\"y\":{\"field\":\"y\"}},\"id\":\"121730\",\"type\":\"Circle\"},{\"attributes\":{\"axis_label\":\"t (days)\",\"formatter\":{\"id\":\"121676\"},\"ticker\":{\"id\":\"121631\"}},\"id\":\"121630\",\"type\":\"LinearAxis\"},{\"attributes\":{\"source\":{\"id\":\"121657\"}},\"id\":\"121661\",\"type\":\"CDSView\"},{\"attributes\":{\"data\":{\"x\":[0,1,2,3,4,5,6,7,8,9,10,11,12,13,14,15,16,17,18,19,20,21,22,23,24,25,26],\"y\":[1326,1497,1777,2008,2742,3372,4490,4427,5763,6896,7732,9059,10043,10861,12095,12266,13938,15420,17370,17885,18910,19868,20591,22189,23895,24509,25392]},\"selected\":{\"id\":\"123598\"},\"selection_policy\":{\"id\":\"123599\"}},\"id\":\"121733\",\"type\":\"ColumnDataSource\"},{\"attributes\":{},\"id\":\"121628\",\"type\":\"LinearScale\"},{\"attributes\":{\"data\":{\"x\":[0,1,2,3,4,5,6,7,8,9,10,11,12,13,14,15,16,17,18,19,20,21,22,23,24,25,26,27,28,29,30,31,32,33,34,35,36,37,38,39,40,41,42,43,44,45,46,47,48,49,50,51,52,53],\"y\":{\"__ndarray__\":\"AAAAAACAS0BLeN/6QAJWQKrLcn/mm15AdcBCRuoRZEBfJ7/KqcJpQFCef/jLdXBAr9b1O2cNdUDVM7/n8d96QLO/yQ9eCYFA0D4Sf+1ahUBRRkIFsmOKQIWtDab+DZBAwOI4fHo8k0D6/GFvjLeWQPUhLgb0eppAMeebST+FnkBmNkU5zmqhQFeI15EOtaNAtn53bLofpkBwjr/Vw6ioQJhF+kSjTatAdr1u2/MLrkDjkgsrDHGwQLknzANZ57FAAXlc/PBns0CgdK95vvG0QH6uKlGlg7ZAJgVDG28cuEC+ovl8mbq5QD9m+g2HXLtAqBt6NakAvUBAXmPYjaW+QCd+pZTwJMBAv8iTpDX2wEBGt++FBsbBQJxVFJPek8JAezcIEENfw0BgDt2CwifEQP3IUlf07MRASDxRtniuxUDYX718+GvGQLNO6UAlJcdA2GYKWrnZx0AmvE/hd4nIQCuLZ6YsNMlA3f3bE6zZyUCQR2gC03nKQAl3qXqGFMtAwPb5ZbOpy0ANE14wTjnMQG2XCl1Sw8xA3igWEMJHzUBNufePpcbNQBzh4cAKQM5A\",\"dtype\":\"float64\",\"shape\":[54]}},\"selected\":{\"id\":\"121724\"},\"selection_policy\":{\"id\":\"121725\"}},\"id\":\"121686\",\"type\":\"ColumnDataSource\"},{\"attributes\":{\"data_source\":{\"id\":\"121728\"},\"glyph\":{\"id\":\"121729\"},\"hover_glyph\":null,\"muted_glyph\":null,\"nonselection_glyph\":{\"id\":\"121730\"},\"selection_glyph\":null,\"view\":{\"id\":\"121732\"}},\"id\":\"121731\",\"type\":\"GlyphRenderer\"},{\"attributes\":{},\"id\":\"121638\",\"type\":\"PanTool\"},{\"attributes\":{\"axis_label\":\"# people\",\"formatter\":{\"id\":\"121674\"},\"ticker\":{\"id\":\"121635\"}},\"id\":\"121634\",\"type\":\"LinearAxis\"},{\"attributes\":{\"fill_color\":{\"value\":\"black\"},\"x\":{\"field\":\"x\"},\"y\":{\"field\":\"y\"}},\"id\":\"121729\",\"type\":\"Circle\"},{\"attributes\":{},\"id\":\"121639\",\"type\":\"WheelZoomTool\"},{\"attributes\":{\"x\":{\"field\":\"x\"},\"y\":{\"field\":\"y\"}},\"id\":\"121687\",\"type\":\"Line\"},{\"attributes\":{\"fill_alpha\":0.1,\"fill_color\":\"black\",\"x\":{\"field\":\"x\"},\"y1\":{\"field\":\"y1\"},\"y2\":{\"field\":\"y2\"}},\"id\":\"121664\",\"type\":\"VArea\"},{\"attributes\":{\"source\":{\"id\":\"121728\"}},\"id\":\"121732\",\"type\":\"CDSView\"},{\"attributes\":{\"line_alpha\":0.1,\"x\":{\"field\":\"x\"},\"y\":{\"field\":\"y\"}},\"id\":\"121688\",\"type\":\"Line\"},{\"attributes\":{},\"id\":\"121680\",\"type\":\"UnionRenderers\"},{\"attributes\":{\"data_source\":{\"id\":\"121662\"},\"glyph\":{\"id\":\"121663\"},\"hover_glyph\":null,\"muted_glyph\":null,\"nonselection_glyph\":{\"id\":\"121664\"},\"selection_glyph\":null,\"view\":{\"id\":\"121666\"}},\"id\":\"121665\",\"type\":\"GlyphRenderer\"},{\"attributes\":{\"data\":{\"x\":[0,1,2,3,4,5,6,7,8,9,10,11,12,13,14,15,16,17,18,19,20,21,22,23,24,25,26,27,28,29,30,31,32,33,34,35,36,37,38,39,40,41,42,43,44,45,46,47,48,49,50,51,52,53],\"y1\":{\"__ndarray__\":\"AAAAAACAS0ClHbTvSEFVQFbEoC1L8lxA3lS0ylKjYkDFSvwvQnNnQD50djy7x21AFvBU/PnnckA0lJliIqF3QBoDGXWsd31Aw2M6HDZmgkC0FLIvtGiGQKrGno9pSotA6MTFq2Tzj0BxZf8vxauSQGDfJXZN0ZVA+oQkHjnemEA+Q66wqT+cQFoVFnHkZp9A6G7GwuwyoUB8No3rNvOiQAwrc3bnmKRAGo12xQcZpkCG0Zj3v6mnQEQqmQNNd6lAfD/KHUGFq0Dg5rXLPaKtQCoVOPhbya9A3DxjlY/8sECWA8/82ReyQB0PjuL5QLNA7M2dYaaEtEAMGqWiasa1QCUTiy0JErdAFO7dV3l3uEDenxTbUeK5QMAT/wXRUbtALxX74cSnvECNbjZisrO9QNS8NOYGq75AMGRVojWdv0BsrKZItEPAQAjLSiYhssBA+mhM2rIdwUDAFuQ3YYbBQOCWwVzR6MFAK/beG6dNwkAUw9XkbJvCQAgRZ19n4MJAPDITl4Yvw0CL1AcQr3zDQEiKOZTqxsNAKiRCB0gOxECgkmA911LEQDtq3YcyoMRA\",\"dtype\":\"float64\",\"shape\":[54]},\"y2\":{\"__ndarray__\":\"AAAAAACAS0B8pT3IZ/JWQNdY+R9UQmBAWs6v05aTZUCkCVe/4TFsQP6TeJWAQnJAseWKSQvud0B7IhP++VR/QL1enM92YIRAYrrSgv+siUCQpp/h47WPQJNhicruepNAbpyMYp6vl0CFjEar876bQHeqK56zEKBALkMqDr2rokCK1Teau6ilQEpAbG+qz6hAfBeW/fsmrEAhOUaLbJivQLgzOJN+hbFAwB91JFx1s0BZ/NrkA1m1QFMHCms2SrdAbgs7Pd2BuUDY9zSgIgu8QH9aaVxSLr5Aade4Ny4jwEDw5IBebnfBQDnDz3WJ0cJA28htdlIsxEB9qnz5XXnFQMKFBQKG88ZAB9ZadReeyEC9jDDahyHKQDwKN2YYhctAs4FRYPjozEDYLrBKN4fOQNMKAS4HEtBAMcxXwiyx0EBhOkeyckPRQK3YdC1hztFAGFZPLsVR0kDCf3byhM3SQCzjF9GdQdNAzqioxCGu00B+YxO/Sw7UQKYm3vKnXtRAlBzrwULG1ECGWR69uQTVQJL7BP4bQdVAtmUzSFd91UA03oK0NrTVQMgDnsQY5tVA\",\"dtype\":\"float64\",\"shape\":[54]}},\"selected\":{\"id\":\"121681\"},\"selection_policy\":{\"id\":\"121682\"}},\"id\":\"121662\",\"type\":\"ColumnDataSource\"},{\"attributes\":{},\"id\":\"121635\",\"type\":\"BasicTicker\"},{\"attributes\":{\"axis\":{\"id\":\"121634\"},\"dimension\":1,\"ticker\":null},\"id\":\"121637\",\"type\":\"Grid\"},{\"attributes\":{},\"id\":\"121631\",\"type\":\"BasicTicker\"},{\"attributes\":{\"source\":{\"id\":\"121686\"}},\"id\":\"121690\",\"type\":\"CDSView\"},{\"attributes\":{\"data_source\":{\"id\":\"121686\"},\"glyph\":{\"id\":\"121687\"},\"hover_glyph\":null,\"muted_glyph\":null,\"nonselection_glyph\":{\"id\":\"121688\"},\"selection_glyph\":null,\"view\":{\"id\":\"121690\"}},\"id\":\"121689\",\"type\":\"GlyphRenderer\"},{\"attributes\":{\"fill_alpha\":0.2,\"fill_color\":\"black\",\"x\":{\"field\":\"x\"},\"y1\":{\"field\":\"y1\"},\"y2\":{\"field\":\"y2\"}},\"id\":\"121663\",\"type\":\"VArea\"},{\"attributes\":{},\"id\":\"121642\",\"type\":\"ResetTool\"},{\"attributes\":{\"fill_alpha\":{\"value\":0.1},\"fill_color\":{\"value\":\"purple\"},\"line_alpha\":{\"value\":0.1},\"line_color\":{\"value\":\"purple\"},\"x\":{\"field\":\"x\"},\"y\":{\"field\":\"y\"}},\"id\":\"121735\",\"type\":\"Circle\"},{\"attributes\":{\"axis\":{\"id\":\"121630\"},\"ticker\":null},\"id\":\"121633\",\"type\":\"Grid\"},{\"attributes\":{},\"id\":\"121674\",\"type\":\"BasicTickFormatter\"},{\"attributes\":{\"source\":{\"id\":\"121662\"}},\"id\":\"121666\",\"type\":\"CDSView\"},{\"attributes\":{},\"id\":\"121702\",\"type\":\"Selection\"},{\"attributes\":{\"data_source\":{\"id\":\"121733\"},\"glyph\":{\"id\":\"121734\"},\"hover_glyph\":null,\"muted_glyph\":null,\"nonselection_glyph\":{\"id\":\"121735\"},\"selection_glyph\":null,\"view\":{\"id\":\"121737\"}},\"id\":\"121736\",\"type\":\"GlyphRenderer\"},{\"attributes\":{},\"id\":\"121703\",\"type\":\"UnionRenderers\"},{\"attributes\":{\"data\":{\"x\":[0,1,2,3,4,5,6,7,8,9,10,11,12,13,14,15,16,17,18,19,20,21,22,23,24,25,26,27,28,29,30,31,32,33,34,35,36,37,38,39,40,41,42,43,44,45,46,47,48,49,50,51,52,53],\"y\":{\"__ndarray__\":\"VRZfNL8LrUCsSZ6kYSisQIQdKTf2n7FAFT6F/hypt0C0tApp6vi/QAMG6XX4IcVA3x7vMx93ykCJreOt4cjPQI05ag3xVtJA7cE1gk+I1EBk7EpF6G7WQK+RZ42GHthAjjW+bumj2UCL6PTQdx/bQHspVxVSw9xAIxi1W6dq3kBkz+niGPbfQJNpVTNkq+BAKE2Nzi5L4UAkfMRb2dLhQI73DBIpTOJAEtSWWr/I4kDgvKWkFELjQPAOMraqpuNAFVkjw8f540AaoCePpj7kQMv434KEc+RABpw7hjyL5ED0MnLdLYzkQBRsO7Ske+RAfAwUE3Zc5ECblRrDQzDkQDo2Ymgf+ONAzZQFIdy040CPgfPGNmfjQP45pQ7pD+NA7OQt1rGv4kCb/ZfaV0fiQCi8vJSp1+FABwfhnnth4UDusZBqpuXgQAamsbADZeBAjJDTstfA30Dg+Lf+ZrHeQHyKuExSnd1AHO1rbCaG3EBn9f92XG3bQA4eNO9WVNpAV/S5gV882UDjba1YpSbYQEk7ngk8FNdAcBJIBxsG1kCBdaaPHf3UQP0EHwgD+tNA\",\"dtype\":\"float64\",\"shape\":[54]}},\"selected\":{\"id\":\"121702\"},\"selection_policy\":{\"id\":\"121703\"}},\"id\":\"121667\",\"type\":\"ColumnDataSource\"},{\"attributes\":{\"fill_color\":{\"value\":\"purple\"},\"line_color\":{\"value\":\"purple\"},\"x\":{\"field\":\"x\"},\"y\":{\"field\":\"y\"}},\"id\":\"121734\",\"type\":\"Circle\"},{\"attributes\":{},\"id\":\"121676\",\"type\":\"BasicTickFormatter\"},{\"attributes\":{\"label\":{\"value\":\"Deceased\"},\"renderers\":[{\"id\":\"121689\"}]},\"id\":\"121705\",\"type\":\"LegendItem\"},{\"attributes\":{\"line_color\":\"red\",\"x\":{\"field\":\"x\"},\"y\":{\"field\":\"y\"}},\"id\":\"121668\",\"type\":\"Line\"},{\"attributes\":{\"source\":{\"id\":\"121733\"}},\"id\":\"121737\",\"type\":\"CDSView\"},{\"attributes\":{},\"id\":\"121626\",\"type\":\"LinearScale\"},{\"attributes\":{},\"id\":\"121643\",\"type\":\"HelpTool\"},{\"attributes\":{},\"id\":\"121678\",\"type\":\"UnionRenderers\"},{\"attributes\":{},\"id\":\"121624\",\"type\":\"DataRange1d\"},{\"attributes\":{\"line_alpha\":0.1,\"line_color\":\"red\",\"x\":{\"field\":\"x\"},\"y\":{\"field\":\"y\"}},\"id\":\"121669\",\"type\":\"Line\"},{\"attributes\":{\"data\":{\"x\":[0,1,2,3,4,5,6,7,8,9,10,11,12,13,14,15,16,17,18,19,20,21,22,23,24,25,26,27,28,29,30,31,32,33,34,35,36,37,38,39,40,41,42,43,44,45,46,47,48,49,50,51,52,53],\"y\":{\"__ndarray__\":\"v8jUrkW3l0BZCi/G932YQPkYVmqhHJpA/I68jTcTnkAXyLO0XYGiQJ7DaYiPpadAeC0MpJtFrkDLTmX+JPyyQKfLv6htI7dAB1uuvXVdu0CDunVFD3u/QL26fNa+r8FAYv/ZRRCAw0AX4s7xsTDFQEN+I+SB0cZAcXSHAi1uyEAaDnPozQPKQOU8+qSDictAMNa185z5zEDe6zHikU7OQJQHR2vchM9A6gSUn8hR0EBmncZnadnQQB3wqy3BV9FA+jlejOvJ0UBl2yShIC/SQHRTn01Fh9JA7AgIcXPP0kDSVcAC4gTTQBHbdcWWJ9NAuqjFlLE400ALbJ+PlznTQHbCBQmhK9NA+9QBsQEQ00DF1mWGyOfSQJ0Jhtnns9JABKw7jT510kByGqr+nyzSQGR2XM/Z2tFALNZEpreA0UDanj03BR/RQFs87/aOttBAz71t2CFI0EBllTDLFKnPQHfEttAmuc5AUAiexAjCzUDCrnveP8XMQAXYvWFExMtAZQPMrX7AykDAP3ylRLvJQHmWynnXtchAKj2E6WGxx0DdNLTv9q7GQIiP3uWQr8VA\",\"dtype\":\"float64\",\"shape\":[54]}},\"selected\":{\"id\":\"123594\"},\"selection_policy\":{\"id\":\"123595\"}},\"id\":\"121706\",\"type\":\"ColumnDataSource\"},{\"attributes\":{\"dimension\":\"height\",\"line_width\":3,\"location\":16},\"id\":\"121738\",\"type\":\"Span\"},{\"attributes\":{\"active_drag\":\"auto\",\"active_inspect\":\"auto\",\"active_multi\":null,\"active_scroll\":\"auto\",\"active_tap\":\"auto\",\"tools\":[{\"id\":\"121638\"},{\"id\":\"121639\"},{\"id\":\"121640\"},{\"id\":\"121641\"},{\"id\":\"121642\"},{\"id\":\"121643\"}]},\"id\":\"121645\",\"type\":\"Toolbar\"},{\"attributes\":{\"line_color\":\"purple\",\"x\":{\"field\":\"x\"},\"y\":{\"field\":\"y\"}},\"id\":\"121707\",\"type\":\"Line\"},{\"attributes\":{\"source\":{\"id\":\"121667\"}},\"id\":\"121671\",\"type\":\"CDSView\"},{\"attributes\":{},\"id\":\"123594\",\"type\":\"Selection\"},{\"attributes\":{\"line_alpha\":0.1,\"line_color\":\"purple\",\"x\":{\"field\":\"x\"},\"y\":{\"field\":\"y\"}},\"id\":\"121708\",\"type\":\"Line\"},{\"attributes\":{\"data_source\":{\"id\":\"121667\"},\"glyph\":{\"id\":\"121668\"},\"hover_glyph\":null,\"muted_glyph\":null,\"nonselection_glyph\":{\"id\":\"121669\"},\"selection_glyph\":null,\"view\":{\"id\":\"121671\"}},\"id\":\"121670\",\"type\":\"GlyphRenderer\"},{\"attributes\":{},\"id\":\"123595\",\"type\":\"UnionRenderers\"},{\"attributes\":{\"bottom_units\":\"screen\",\"fill_alpha\":0.5,\"fill_color\":\"lightgrey\",\"left_units\":\"screen\",\"level\":\"overlay\",\"line_alpha\":1.0,\"line_color\":\"black\",\"line_dash\":[4,4],\"line_width\":2,\"render_mode\":\"css\",\"right_units\":\"screen\",\"top_units\":\"screen\"},\"id\":\"121644\",\"type\":\"BoxAnnotation\"},{\"attributes\":{\"source\":{\"id\":\"121706\"}},\"id\":\"121710\",\"type\":\"CDSView\"},{\"attributes\":{},\"id\":\"121679\",\"type\":\"Selection\"},{\"attributes\":{},\"id\":\"123596\",\"type\":\"Selection\"},{\"attributes\":{\"data_source\":{\"id\":\"121706\"},\"glyph\":{\"id\":\"121707\"},\"hover_glyph\":null,\"muted_glyph\":null,\"nonselection_glyph\":{\"id\":\"121708\"},\"selection_glyph\":null,\"view\":{\"id\":\"121710\"}},\"id\":\"121709\",\"type\":\"GlyphRenderer\"},{\"attributes\":{\"data\":{\"x\":[0,1,2,3,4,5,6,7,8,9,10,11,12,13,14,15,16,17,18,19,20,21,22,23,24,25,26,27,28,29,30,31,32,33,34,35,36,37,38,39,40,41,42,43,44,45,46,47,48,49,50,51,52,53],\"y1\":{\"__ndarray__\":\"v8jUrkW3l0AWScjsnlmXQDMlCLAgQphArimRSsVQm0C+FP2YSWGgQIrwv41j86RAQNsdiFO+qkAsq8139y+wQE1GJhYEw7NA+bBM0WvItkCmW/GQN5K5QJ6zmXTXFrxARHCfp7ZzvkBwbGURHQ/AQF5hN7B438BAGs/8i46nwUA9Mx+fr6/CQMOIxvQM7cNArsDauxdMxUCcqII+cBLGQFze7882K8ZAkqSg4wFjxkAwf5UHkg3HQJ2P5XPfFMhAxvr0GH1MyEDS0ouicEPIQPm8PHblBMhA/zM2PCQLyEBSzb3Vtz7IQNC+h871AMhAeDtXryOzx0AlhSgT+lfHQJckWTNe/8ZAUQ1Hc0x0xkD4NlYhK9PFQEoTe0zSMMVA6FteD9LCxECy5sVzeorEQP5MQ020TMRAvALCv7L9w0AxrORHfn7DQJz1fTyG/cJAXu0YMWZ8wkA4cckOsQfCQKnKgMkBrMFAPTnQA8spwUCWSYu7adDAQMz4t5Kid8BATw4YXSyZv0DVHrHAOg++QNZeotWD77xAvgfq2rH/u0BEfvAeROO6QFe9OJmDIbpA\",\"dtype\":\"float64\",\"shape\":[54]},\"y2\":{\"__ndarray__\":\"v8jUrkW3l0CUdrIeFIaZQKZW7cs3YJxAf3JXZB3DoEBbPlAw1x6lQKnr5LEIRqtA6ob64CzRsUDV5kO7WcK2QBuw4dBaNbxAyFgQAEWswECSRHeWLXjDQEpYgiDBEcZAQIujHa2+yEA9mN3sInjLQHbU476Ewc1A2G16NXn+z0BYidf8hYnRQEO3UHWV8tJAdvGydXyA1EBVexysKu7VQApbXUKQS9dAu0OIMbeb2ECmzWDlstzZQLD8wm3F5dpAdef/6mwT3ECV4XBsAgvdQHyYlyYsoN1ASqwuqZ5H3kBatiJmy1PeQDBbeIdjWN5ANxpPV/BQ3kDlxtuxsCPeQMRrKt12Jd5A9O+4b0Pk3UCH9ddAY6ndQCSY2QVGS91AMLwJ4Xjc3EAaIgriy3zbQIQqOP/oXNpAQC3mZLWK2UA8yxzTRmjYQFBezLjj6dZA26uDzpos1kBgF2s4bjrVQOA2OiI4cNRAaoNf3Kx300BXb5s3k3TSQESFshYmXdFAbpyrVzLc0EDiDm8hlLfPQIOTr7ME9c1Amv1nS6Bvy0C5sHJPhYvJQOjtO1t9lcdA\",\"dtype\":\"float64\",\"shape\":[54]}},\"selected\":{\"id\":\"121679\"},\"selection_policy\":{\"id\":\"121680\"}},\"id\":\"121657\",\"type\":\"ColumnDataSource\"},{\"attributes\":{\"data\":{\"x\":[0,1,2,3,4,5,6,7,8,9,10,11,12,13,14,15,16,17,18,19,20,21,22,23,24,25,26,27,28,29,30,31,32,33,34,35,36,37,38,39,40,41,42,43,44,45,46,47,48,49,50,51,52,53],\"y1\":{\"__ndarray__\":\"VRZfNL8LrUCYaY/7lRSrQOAjlhu9PLBAI5DeYm4wtUD+TWlU6MW7QBI56bSl38FAiSCr4mzTxUCrd4T/7H3JQBlupT+jwcxAwFmGi4eAz0B/mgxT+svQQLOJ0AIgtNFA1Ggx3EV+0kCplbGtXj7TQHBdmAn58dNAVsGsYaSq1EA0C+yFxU/VQD8Zf8t/1dVAjN7ZPXRD1kAonV1LOJLWQNpogjMDz9ZAjG3iO60P10DsqikUS17XQHoPZN9MXddAtz2w6Z9f10DuJ7x5T2XXQIj9N3Itb9dAcqlm6E5z10AI4LaBl0DXQO39tDXZ39ZAjAdpFNty1kDB97xLUdLVQF/J3BT4RtVAVCSIpN3Z1EBR5HVVZobUQBNPbdznMdRA/6XDGb/Q00DQmvBrvE3TQO3S7fZXo9JAasSK8tMt0kBwstND0s7RQDrnevGBhNFAgQFsoOo30UDIQjnY4NPQQJ8zrVsvcdBA2myxUfIM0EDRURx4ayXPQOiv7Aj+2c1AzBrk3pYuzUCkleUtXQHMQKAsapdvUspAfED5pnbAyUC3VKUJfhfIQDhLLw2gicdA\",\"dtype\":\"float64\",\"shape\":[54]},\"y2\":{\"__ndarray__\":\"VRZfNL8LrUDAk9lWRF6tQOe3u4yQQbNA+7JqhbzvukCBk/xqt/LCQEAtGSoD+slABdUIEBi30EDGQB/su8rUQE+WvA8nh9hAO7SrM6Am3EDejneLkHTfQJicHO4YMuFAu8DTPEOT4kBqAzYzcfrjQFBs2GL1uOVA7aVzu8lr50AQqCpweCjpQAwJzkrEtOpA5OCgLfwb7EAiaeJz5XTtQFKKdQp71+5A+r0Bsyce8EBkHMLC8aHwQMpKKZfv+PBA/OA+gfiN8UDdmAqvLRTyQJBPHZXPV/JATvcjiipY8kBrK0X8bGHyQAOJsEgWOvJAphj8Mw/t8UA5d/22RGbxQKBJtFK9x/BArry0uXUd8ED5dQZl2BfvQAHYJ+g6KO5APc+ACgDv7EDopwTcb5brQLW0es9fSupAf02aA8i/6UBRVcA5+3joQK934wakP+dA23qQrHEF5kBSC01uigblQAgPNvbl/ONAzLhPODf44kDTaMP16NniQEqzU7oCSOJAo4Oa1IpU4EB4zgcrdsndQCXgImUSlttADquuTYBe2UDIcuBxFfnXQFtHis2bC9ZA\",\"dtype\":\"float64\",\"shape\":[54]}},\"selected\":{\"id\":\"121677\"},\"selection_policy\":{\"id\":\"121678\"}},\"id\":\"121652\",\"type\":\"ColumnDataSource\"},{\"attributes\":{},\"id\":\"121724\",\"type\":\"Selection\"},{\"attributes\":{\"fill_alpha\":0.2,\"fill_color\":\"red\",\"x\":{\"field\":\"x\"},\"y1\":{\"field\":\"y1\"},\"y2\":{\"field\":\"y2\"}},\"id\":\"121653\",\"type\":\"VArea\"}],\"root_ids\":[\"121619\"]},\"title\":\"Bokeh Application\",\"version\":\"2.0.1\"}};\n",
       "  var render_items = [{\"docid\":\"3ecd859f-d2c1-4e4d-86c7-b3c01d3d166a\",\"root_ids\":[\"121619\"],\"roots\":{\"121619\":\"bb8b8889-be8a-4916-bce9-d70c51b2fb3d\"}}];\n",
       "  root.Bokeh.embed.embed_items_notebook(docs_json, render_items);\n",
       "\n",
       "  }\n",
       "  if (root.Bokeh !== undefined) {\n",
       "    embed_document(root);\n",
       "  } else {\n",
       "    var attempts = 0;\n",
       "    var timer = setInterval(function(root) {\n",
       "      if (root.Bokeh !== undefined) {\n",
       "        clearInterval(timer);\n",
       "        embed_document(root);\n",
       "      } else {\n",
       "        attempts++;\n",
       "        if (attempts > 100) {\n",
       "          clearInterval(timer);\n",
       "          console.log(\"Bokeh: ERROR: Unable to run BokehJS code because BokehJS library is missing\");\n",
       "        }\n",
       "      }\n",
       "    }, 10, root)\n",
       "  }\n",
       "})(window);"
      ],
      "application/vnd.bokehjs_exec.v0+json": ""
     },
     "metadata": {
      "application/vnd.bokehjs_exec.v0+json": {
       "id": "121619"
      }
     },
     "output_type": "display_data"
    },
    {
     "name": "stdout",
     "output_type": "stream",
     "text": [
      "RuntimeError [1.73685623e+00 3.65963954e-01 1.71204266e-01 2.31225049e-01\n",
      " 1.29873679e-01 2.57537624e-02 4.71566164e-01 1.04815320e-04\n",
      " 9.39951856e-04 4.59565262e-04 2.38216207e-04]\n"
     ]
    },
    {
     "data": {
      "text/html": [
       "\n",
       "\n",
       "\n",
       "\n",
       "\n",
       "\n",
       "  <div class=\"bk-root\" id=\"a9f04f4f-65e8-4c57-b494-9b6d3e1bb208\" data-root-id=\"123733\"></div>\n"
      ]
     },
     "metadata": {},
     "output_type": "display_data"
    },
    {
     "data": {
      "application/javascript": [
       "(function(root) {\n",
       "  function embed_document(root) {\n",
       "    \n",
       "  var docs_json = {\"b1549b34-9aab-4f83-971b-883ea71375a5\":{\"roots\":{\"references\":[{\"attributes\":{\"below\":[{\"id\":\"123744\"}],\"center\":[{\"id\":\"123747\"},{\"id\":\"123751\"},{\"id\":\"123798\"}],\"left\":[{\"id\":\"123748\"}],\"plot_height\":400,\"renderers\":[{\"id\":\"123769\"},{\"id\":\"123774\"},{\"id\":\"123779\"},{\"id\":\"123784\"},{\"id\":\"123803\"},{\"id\":\"123823\"},{\"id\":\"123845\"},{\"id\":\"123850\"},{\"id\":\"123852\"}],\"title\":{\"id\":\"123734\"},\"toolbar\":{\"id\":\"123759\"},\"x_range\":{\"id\":\"123736\"},\"x_scale\":{\"id\":\"123740\"},\"y_range\":{\"id\":\"123738\"},\"y_scale\":{\"id\":\"123742\"}},\"id\":\"123733\",\"subtype\":\"Figure\",\"type\":\"Plot\"},{\"attributes\":{\"source\":{\"id\":\"123771\"}},\"id\":\"123775\",\"type\":\"CDSView\"},{\"attributes\":{},\"id\":\"123740\",\"type\":\"LinearScale\"},{\"attributes\":{\"line_alpha\":0.1,\"x\":{\"field\":\"x\"},\"y\":{\"field\":\"y\"}},\"id\":\"123802\",\"type\":\"Line\"},{\"attributes\":{\"source\":{\"id\":\"123842\"}},\"id\":\"123846\",\"type\":\"CDSView\"},{\"attributes\":{\"data\":{\"x\":[0,1,2,3,4,5,6,7,8,9,10,11,12,13,14,15,16,17,18,19,20,21,22,23,24,25,26,27,28,29,30,31,32,33,34,35,36,37,38,39,40,41,42,43,44,45,46,47,48,49,50,51,52,53],\"y1\":{\"__ndarray__\":\"AAAAAACAS0Dc6j0dQ4tWQBbWLY8d4l5Ah/Ucv2WaY0CfC4k2Y0xoQDx33X6B2W1AssMU4sxZckBF4W4r8IJ2QNZ1cOf3fXtAnD6+75aDgECCJ5xnZ5SDQC4fjbqLeYdAYsTl6/Zoi0BcNei3eR+QQJKfI+MrM5JA9AmdYxR9lEASOESPDx6XQMXkZfa7R5lASpvNLXWGm0CgMMo6CSqeQFNxU229WqBAsRdHapL0oUBve6hrhnqjQFDRRhUC/qRAhtBSeFJ7pkAgQEjlE/qnQIIcxhEcV6lAmwrpXlmzqkCMPvUq5CesQMKZEEByd61Awsan2ELBrkAJUnAiVAKwQE5nDYqfq7BAWolwazxisUAsaDrlmSCyQM48I+w/3LJA+NE2FdWUs0A2m7hAd0q0QPySw+jXCbVAajTquQjGtUC2FDIJwH62QB4Agf26M7dAz71wq73kt0C+5womk5G4QPwXY6C8L7lAuE75jq66uUAMKnj2I0G6QHqxl6jh3rpACXXMgeF8u0AgG1nMNgO8QHDquW1XYrxAMm6I1oC9vEBWRljR0RS9QIwRPH9paL1A\",\"dtype\":\"float64\",\"shape\":[54]},\"y2\":{\"__ndarray__\":\"AAAAAACAS0DaBCHwVbJXQNHrdjrL02BAAoS7qBomZkCq4ze6uYNsQIYiIY68anJAevto8/Scd0DyXoN5EMZ+QNT/IGaJFYRAKjAqzri/iUD82a/lXX2QQKz66As+vpRAV/HYUgR/mUA7uQyppbieQM5z+wUwPKJAp1KFd55+pUACcJA94zipQGAeqUIvUa1AEKhfX+rjsEACjOU7uU+zQAxQ3t0z+7VAt2fc7vjauEDDBqvCZR68QOoeLpDA0b9AxA8Oy/XlwUCwHZrriAXEQEYGb92q4sVAX4WaftCpx0CmntGtAXjJQFBUNFElcstAjbgySvCxzUAoCNIGDwDQQFDkAs4TLdFApTlPym9e0kCI7D4FY3nTQNhJxr/QkdRAPgNieGWm1UAAjRjd57XWQB12vCvPttdAlyVBMR+k2EAQmeiu+4fZQMbiGwDSYdpA84YPuzQx20AgA1st2vXbQNeKZTGar9xAnFgCf2te3UAu2aKaYALeQLCxjoakm95A7LyKVXcq30B6mJK9Kq/fQLC+MGEPFeBABCCe+XtM4EAKod/Wc3bgQMV9cQSknOBA\",\"dtype\":\"float64\",\"shape\":[54]}},\"selected\":{\"id\":\"123795\"},\"selection_policy\":{\"id\":\"123796\"}},\"id\":\"123776\",\"type\":\"ColumnDataSource\"},{\"attributes\":{\"source\":{\"id\":\"123800\"}},\"id\":\"123804\",\"type\":\"CDSView\"},{\"attributes\":{\"data\":{\"x\":[0,1,2,3,4,5,6,7,8,9,10,11,12,13,14,15,16,17,18,19,20,21,22,23,24,25,26],\"y\":[1326,1497,1777,2008,2742,3372,4490,4427,5763,6896,7732,9059,10043,10861,12095,12266,13938,15420,17370,17885,18910,19868,20591,22189,23895,24509,25392]},\"selected\":{\"id\":\"125734\"},\"selection_policy\":{\"id\":\"125735\"}},\"id\":\"123847\",\"type\":\"ColumnDataSource\"},{\"attributes\":{},\"id\":\"123736\",\"type\":\"DataRange1d\"},{\"attributes\":{\"data_source\":{\"id\":\"123800\"},\"glyph\":{\"id\":\"123801\"},\"hover_glyph\":null,\"muted_glyph\":null,\"nonselection_glyph\":{\"id\":\"123802\"},\"selection_glyph\":null,\"view\":{\"id\":\"123804\"}},\"id\":\"123803\",\"type\":\"GlyphRenderer\"},{\"attributes\":{},\"id\":\"123795\",\"type\":\"Selection\"},{\"attributes\":{\"text\":\"Lombardia SEIIRD+Q Model\"},\"id\":\"123734\",\"type\":\"Title\"},{\"attributes\":{\"data_source\":{\"id\":\"123776\"},\"glyph\":{\"id\":\"123777\"},\"hover_glyph\":null,\"muted_glyph\":null,\"nonselection_glyph\":{\"id\":\"123778\"},\"selection_glyph\":null,\"view\":{\"id\":\"123780\"}},\"id\":\"123779\",\"type\":\"GlyphRenderer\"},{\"attributes\":{},\"id\":\"123816\",\"type\":\"Selection\"},{\"attributes\":{\"fill_alpha\":0.1,\"fill_color\":\"black\",\"x\":{\"field\":\"x\"},\"y1\":{\"field\":\"y1\"},\"y2\":{\"field\":\"y2\"}},\"id\":\"123778\",\"type\":\"VArea\"},{\"attributes\":{\"data_source\":{\"id\":\"123766\"},\"glyph\":{\"id\":\"123767\"},\"hover_glyph\":null,\"muted_glyph\":null,\"nonselection_glyph\":{\"id\":\"123768\"},\"selection_glyph\":null,\"view\":{\"id\":\"123770\"}},\"id\":\"123769\",\"type\":\"GlyphRenderer\"},{\"attributes\":{\"fill_alpha\":{\"value\":0.1},\"fill_color\":{\"value\":\"purple\"},\"line_alpha\":{\"value\":0.1},\"line_color\":{\"value\":\"purple\"},\"x\":{\"field\":\"x\"},\"y\":{\"field\":\"y\"}},\"id\":\"123849\",\"type\":\"Circle\"},{\"attributes\":{},\"id\":\"123753\",\"type\":\"WheelZoomTool\"},{\"attributes\":{},\"id\":\"123817\",\"type\":\"UnionRenderers\"},{\"attributes\":{\"data_source\":{\"id\":\"123847\"},\"glyph\":{\"id\":\"123848\"},\"hover_glyph\":null,\"muted_glyph\":null,\"nonselection_glyph\":{\"id\":\"123849\"},\"selection_glyph\":null,\"view\":{\"id\":\"123851\"}},\"id\":\"123850\",\"type\":\"GlyphRenderer\"},{\"attributes\":{\"fill_alpha\":0.2,\"fill_color\":\"black\",\"x\":{\"field\":\"x\"},\"y1\":{\"field\":\"y1\"},\"y2\":{\"field\":\"y2\"}},\"id\":\"123777\",\"type\":\"VArea\"},{\"attributes\":{\"source\":{\"id\":\"123776\"}},\"id\":\"123780\",\"type\":\"CDSView\"},{\"attributes\":{\"fill_color\":{\"value\":\"purple\"},\"line_color\":{\"value\":\"purple\"},\"x\":{\"field\":\"x\"},\"y\":{\"field\":\"y\"}},\"id\":\"123848\",\"type\":\"Circle\"},{\"attributes\":{},\"id\":\"123752\",\"type\":\"PanTool\"},{\"attributes\":{},\"id\":\"123755\",\"type\":\"SaveTool\"},{\"attributes\":{\"data\":{\"x\":[0,1,2,3,4,5,6,7,8,9,10,11,12,13,14,15,16,17,18,19,20,21,22,23,24,25,26,27,28,29,30,31,32,33,34,35,36,37,38,39,40,41,42,43,44,45,46,47,48,49,50,51,52,53],\"y1\":{\"__ndarray__\":\"XOJULJWcq0CiQ4kxsxWoQL1BLHUQgKxAgXCwX45jskCouG6ZjTm4QLncujSmTr9AL1kTAOMqw0BSYtUEUITGQBBmFnVsbMlAbv6aPafhy0AbX2fToODNQJg+I9wNbM9AZCj4jJJ00EDoE4iDQBvRQNF5MDe519FAvvi3XnSQ0kDjfhDlXzLTQEcT83FOttNABhXrmVYk1ECKW2KVtHTUQFJA4jgRtdRAlMRCP+761ED/AnjxAT7VQDw6Vg+PcNVAWwM3q8yW1UCXK7F2OrHVQGBtTuFhvtVAReZNW4Gw1UCa6+nixXHVQO6kkUHBLdVA0qXuujv81EDTMCyci8/UQDUePunZltRAbYwukypB1EAFjsQURubTQP5/hHWqhtNAojeNjM4i00DiPcwWJrvSQPpFKjUjUNJAr9VYszbi0UBt8sLAz3HRQJ8UIm5b/9BAN+sEGESL0EB+9XxVh+XPQAjsJYWJo85AsBesiUNlzUAHEmegKEPMQJPMmVTzNctAKGpOqs08ykAe/rSXcNTIQKqJJFAK4sdAfN4TbXv5xUC94pBljp7CQImdoaY5X8FA\",\"dtype\":\"float64\",\"shape\":[54]},\"y2\":{\"__ndarray__\":\"XOJULJWcq0Dmrjz7NgCrQCVTIpsFg7FAHnxViEHpuECnp/z9f+TBQBZPn27iCslAJq2meR5/0EA085CzOcTUQPpy4lv4BdlAkqtYsCgx3UCVwU1cd5bgQP7Q8m9/i+JApPxmgIGJ5EAGhpNaBIHmQI3GU4G5t+hAzMJjBTUM60D3NAfA9l7tQPmrJncxlu9A+Qdh6znb8EA9kyWPHdTxQArwCEmDvfJAiuS6rpqo80Bkf7kdpYr0QPEtXZDmS/VA15JCiKPt9UBOtGCbVZ32QM1cm4E9VvdA4f6CqfRA90DxxFM76G33QKa/X8/7sfdA2Mx9LOwF+ECaK0A5ID/4QDJh4TrvO/hAVmzZAi/K90BEZNmK19X2QMsiBdbV9PVAsoAdKvFl9UDIYFgWg8L0QNsDGTslCPRARVdQ6kEh80DIrZStkAHyQEANvmAIZvBAviCiNDVj7UAakFc9MB/sQErI/H2V1uhAA3A9ONTv50Ay/1th4BLmQAjJrqXzAOVAYiffj2a140B/Zkv8BwXjQK1tJCX/JuFAOrm9/n3630AvIAw3bn3dQBFq8eNWh9tA\",\"dtype\":\"float64\",\"shape\":[54]}},\"selected\":{\"id\":\"123791\"},\"selection_policy\":{\"id\":\"123792\"}},\"id\":\"123766\",\"type\":\"ColumnDataSource\"},{\"attributes\":{\"data\":{\"x\":[0,1,2,3,4,5,6,7,8,9,10,11,12,13,14,15,16,17,18,19,20,21,22,23,24,25,26,27,28,29,30,31,32,33,34,35,36,37,38,39,40,41,42,43,44,45,46,47,48,49,50,51,52,53],\"y\":{\"__ndarray__\":\"AAAAAACAS0Dsvv3x+x9XQBZVQKT5FmBAaDCAzpbSZEBOcbbO40ZqQGwu2PqKhnBAJ/cpV8/hdEBF2wDZYHd6QKcsPWJyvIBAVEbrSu4BhUAsSgQvABKKQK0+XzWG649AhgtrXelEk0B7k/NEl/OWQP5Hrx50AJtAdSrEcDNtn0CgvWMsBR6iQOFIUBTPtqRAw/TxZ1aAp0Dq+NouVnmqQCLh/InEn61A79/EKst4sEASNun/yTayQJUhknhRCbRAzpUFPmPvtUCijdLisue3QHk9TgPQ8LlAWl4NswkJvEBIA6iIKC6+QObjHijaLsBA4PRrR5hKwUB+SF8tGWnCQCJ6SyAzicNAN5dwXsipxEA5vI7ZxsnFQHZaSz8o6MZART4LfvIDyED1myO2OBzJQM3ovnAcMMpAitwG9M4+y0ATbTuQkkfMQK/RPMm7Sc1ARaAhR7JEzkBMTNt/8TfPQCo8vImEEdBA+hzqas6C0EAKsSdFsu/QQG3ml6oVWNFAJnZidee70UC8aCBDHxvSQPhiWdi8ddJAJ/LSc8fL0kBgQFEUTR3TQCJWYLdhatNA\",\"dtype\":\"float64\",\"shape\":[54]}},\"selected\":{\"id\":\"123838\"},\"selection_policy\":{\"id\":\"123839\"}},\"id\":\"123800\",\"type\":\"ColumnDataSource\"},{\"attributes\":{\"label\":{\"value\":\"Deceased\"},\"renderers\":[{\"id\":\"123803\"}]},\"id\":\"123819\",\"type\":\"LegendItem\"},{\"attributes\":{\"data\":{\"x\":[0,1,2,3,4,5,6,7,8,9,10,11,12,13,14,15,16,17,18,19,20,21,22,23,24,25,26,27,28,29,30,31,32,33,34,35,36,37,38,39,40,41,42,43,44,45,46,47,48,49,50,51,52,53],\"y\":{\"__ndarray__\":\"XOJULJWcq0D4B5vEEeypQBiQZ119ZbBAXI71NfCCtkBL/05TCCm/QGycoLf4E8VA/tQdc7D0ykBu85Lkj4PQQCQnJnpHbNNAHZD3TvIm1kDibUvEeKXYQJFmZ4p9+9pAKeGeFbI03UCWu1qj5HXfQME2e1bQ/eBA/eaXOmxL4kB+vYhkTY/jQIYFFvHhvuRATShqajrf5UDMlbsOgeTmQDVtLKx/2udAF/OOzSrY6EAxnN8L9NLpQOGfPyC0sOpAplKzvM9060BHcTE0eyLsQDGJQrmctexAedIw/UgZ7UBusTOm0FXtQC2i/AECcu1AoKLAzjdx7UCrGZF3RFXtQLRS0ANjH+1A4BcFBKzQ7ECuScJYTGrsQC3wpFuc7etAbcnbkyZc60DoXm6ypbfqQJFWMdj9AepAJmr9YTM96UA2xTmJYGvoQFO2q7KqjudAPwDqADip5kDiFrqWJb3lQFA6BdJ+zORAi1fcuzXZ40AGpXjIHOXiQLgznPTh8eFAcbBqPwsB4UDLZudv9BPgQJfU0SScV95AXy9M8zqT3EDl3ntqe9zaQNiUkZHCNNlA\",\"dtype\":\"float64\",\"shape\":[54]}},\"selected\":{\"id\":\"123816\"},\"selection_policy\":{\"id\":\"123817\"}},\"id\":\"123781\",\"type\":\"ColumnDataSource\"},{\"attributes\":{\"source\":{\"id\":\"123847\"}},\"id\":\"123851\",\"type\":\"CDSView\"},{\"attributes\":{\"active_drag\":\"auto\",\"active_inspect\":\"auto\",\"active_multi\":null,\"active_scroll\":\"auto\",\"active_tap\":\"auto\",\"tools\":[{\"id\":\"123752\"},{\"id\":\"123753\"},{\"id\":\"123754\"},{\"id\":\"123755\"},{\"id\":\"123756\"},{\"id\":\"123757\"}]},\"id\":\"123759\",\"type\":\"Toolbar\"},{\"attributes\":{\"line_color\":\"red\",\"x\":{\"field\":\"x\"},\"y\":{\"field\":\"y\"}},\"id\":\"123782\",\"type\":\"Line\"},{\"attributes\":{\"data\":{\"x\":[0,1,2,3,4,5,6,7,8,9,10,11,12,13,14,15,16,17,18,19,20,21,22,23,24,25,26,27,28,29,30,31,32,33,34,35,36,37,38,39,40,41,42,43,44,45,46,47,48,49,50,51,52,53],\"y\":{\"__ndarray__\":\"SWJDygAAm0CXwgnztKWZQGAtwVk5kJlAx9oCAZ4TnEDKDAf06t6gQKVzfhh4eKVAsBxXR2qyq0C2nbbpMpqxQCDSlCmhyrVAgsRs9XkzukCiIYXYv6a+QPUGfct0g8FAWDw0TLqjw0Cy0VY9fLXFQDLVr2AnycdAmBaj1ZbqyUCQPYK0NxXMQPQqOmxtPc5AkgNHmo8t0ECjtMGS8TLRQDIKkte1K9JA6wyV8jsb00BhJZOrhQXUQDNQ4FNg59RAULe2g+O71UC1pLZy3oDWQCIU4oD5NNdA6PnKBBLT10DBlXURMlbYQORgt5I8vdhALfb4T6kI2UCOkNR9bznZQLsZL9CdUNlAxX2u0T1P2UANfEnyVDbZQNpggMfuBtlAVOeCyifC2EAKnuNGNWnYQAHraKxp/ddAdS+hbTWA10BMKmsEJfPWQLDabMfcV9ZACDi8NxOw1UBpv9xfiv3UQLonNcQIQtRAtgEcTVJ/00A8Q2CGIbfSQKDxxnEh69FARdnrHegc0UA2Ftob8k3QQAJJkN89/85AQsg41FxmzUBEiTjpfdPLQIB7M4GZSMpA\",\"dtype\":\"float64\",\"shape\":[54]}},\"selected\":{\"id\":\"125730\"},\"selection_policy\":{\"id\":\"125731\"}},\"id\":\"123820\",\"type\":\"ColumnDataSource\"},{\"attributes\":{\"line_color\":\"purple\",\"x\":{\"field\":\"x\"},\"y\":{\"field\":\"y\"}},\"id\":\"123821\",\"type\":\"Line\"},{\"attributes\":{\"fill_alpha\":{\"value\":0.1},\"fill_color\":{\"value\":\"black\"},\"line_alpha\":{\"value\":0.1},\"x\":{\"field\":\"x\"},\"y\":{\"field\":\"y\"}},\"id\":\"123844\",\"type\":\"Circle\"},{\"attributes\":{\"dimension\":\"height\",\"line_width\":3,\"location\":20},\"id\":\"123852\",\"type\":\"Span\"},{\"attributes\":{\"overlay\":{\"id\":\"123758\"}},\"id\":\"123754\",\"type\":\"BoxZoomTool\"},{\"attributes\":{},\"id\":\"123793\",\"type\":\"Selection\"},{\"attributes\":{\"line_alpha\":0.1,\"line_color\":\"red\",\"x\":{\"field\":\"x\"},\"y\":{\"field\":\"y\"}},\"id\":\"123783\",\"type\":\"Line\"},{\"attributes\":{\"line_alpha\":0.1,\"line_color\":\"purple\",\"x\":{\"field\":\"x\"},\"y\":{\"field\":\"y\"}},\"id\":\"123822\",\"type\":\"Line\"},{\"attributes\":{},\"id\":\"123792\",\"type\":\"UnionRenderers\"},{\"attributes\":{},\"id\":\"125730\",\"type\":\"Selection\"},{\"attributes\":{\"data\":{\"x\":[0,1,2,3,4,5,6,7,8,9,10,11,12,13,14,15,16,17,18,19,20,21,22,23,24,25,26,27,28,29,30,31,32,33,34,35,36,37,38,39,40,41,42,43,44,45,46,47,48,49,50,51,52,53],\"y1\":{\"__ndarray__\":\"SWJDygAAm0Dc5cLQFVyYQNvoU+icPZdA7QQmjZN6mEBsJS799dybQPYmxlhvL6FAALGvoz0cpUDuFrWQx9CpQB4OY3ry7K1AjpKwWwVgsUBtkEA2y6OzQMpI0zAa0rVAoujm+Mbpt0C+fGIeHzW5QIpqfBUyb7pAzor7IACyu0B431cZXhS9QF/ti5Mu7L1AARc8sEmQvkAc3+Fa0X+/QNhjXbRcfsBAq8/a6MLVwEBS+R89zt/AQIoFLIHh48BA4v85lKvbwEBR7vmemdbAQJeBahRY1sBAvMfe7cTkwECrrZNLS+XAQMwHThyf8cBA4RxggovHwEB8hEGawb/AQG80Q5PKlcBAWqvdaE5GwEBrfEmxvPC/QFInH68VWb9A+COAJn+6vkDlYF5OJRa+QPXRyL4Jbb1Ay6Q3KA3AvECciZaV9g+8QAxXgsB4XbtA/6A67zWpukD451q2wvO5QKgR4u6nPblA2ebhGmSHuEBTJUNfbNG3QHVS7AA1HbdAjPVaLgFxtkCQ5thn7cW1QND/9IZIHLVA6uQrS1t0tED2pvmKzZazQEmcctNL1rJA\",\"dtype\":\"float64\",\"shape\":[54]},\"y2\":{\"__ndarray__\":\"SWJDygAAm0CK9uOryYObQE30umySHJ1A7h1xBE1woEAWemn2ApukQH2SAhqw56pAXQb71yNnskBGaVZDlay3QOFKnEZEUb5A/Dc988eawkAUazVeq53GQLBJWw5IkspABVpWQABYzkADeEVBXP3QQOHXCTHvftNAXvSiKdjC1UBUBybE/0fYQIzCszTUq9pAb+NAFMYR3UBCCw41mV3fQCgy6FFCt+BASPzFSRSu4UB2EDuF/5riQHptftG+fONAoWYTJA9O5EDgr8Z2FQzlQLz5Wm+A2eVA2jsZEk2C5kD0xHCVaAvnQJQzD9srbedAGA0yXz1s50ASaLDJaDXnQDTwUXI/L+dAbjVE+fId50AXLlCNvO/mQCeABdPPoeZAErpCEyI95kCRDPrEyhHlQLg1yfnD5+RAQtqaxhtA5EB2TJ+WjSjjQNQ0lWXas+FABNGDRvdY4ECI8om/O6jfQEMwGoDyg95ApMfA9yzZ3EAgKKjdT8naQB50cZQQv9hACtO3c4Cx1kCkUmGvaB/VQJMNUQ8fBtRABeVPWuMe00AmeZGBHG3RQE/WXXkGlM9A\",\"dtype\":\"float64\",\"shape\":[54]}},\"selected\":{\"id\":\"123793\"},\"selection_policy\":{\"id\":\"123794\"}},\"id\":\"123771\",\"type\":\"ColumnDataSource\"},{\"attributes\":{},\"id\":\"123794\",\"type\":\"UnionRenderers\"},{\"attributes\":{\"data_source\":{\"id\":\"123771\"},\"glyph\":{\"id\":\"123772\"},\"hover_glyph\":null,\"muted_glyph\":null,\"nonselection_glyph\":{\"id\":\"123773\"},\"selection_glyph\":null,\"view\":{\"id\":\"123775\"}},\"id\":\"123774\",\"type\":\"GlyphRenderer\"},{\"attributes\":{\"source\":{\"id\":\"123781\"}},\"id\":\"123785\",\"type\":\"CDSView\"},{\"attributes\":{\"source\":{\"id\":\"123820\"}},\"id\":\"123824\",\"type\":\"CDSView\"},{\"attributes\":{\"data_source\":{\"id\":\"123781\"},\"glyph\":{\"id\":\"123782\"},\"hover_glyph\":null,\"muted_glyph\":null,\"nonselection_glyph\":{\"id\":\"123783\"},\"selection_glyph\":null,\"view\":{\"id\":\"123785\"}},\"id\":\"123784\",\"type\":\"GlyphRenderer\"},{\"attributes\":{},\"id\":\"123756\",\"type\":\"ResetTool\"},{\"attributes\":{\"data_source\":{\"id\":\"123820\"},\"glyph\":{\"id\":\"123821\"},\"hover_glyph\":null,\"muted_glyph\":null,\"nonselection_glyph\":{\"id\":\"123822\"},\"selection_glyph\":null,\"view\":{\"id\":\"123824\"}},\"id\":\"123823\",\"type\":\"GlyphRenderer\"},{\"attributes\":{},\"id\":\"123757\",\"type\":\"HelpTool\"},{\"attributes\":{\"axis\":{\"id\":\"123744\"},\"ticker\":null},\"id\":\"123747\",\"type\":\"Grid\"},{\"attributes\":{\"x\":{\"field\":\"x\"},\"y\":{\"field\":\"y\"}},\"id\":\"123801\",\"type\":\"Line\"},{\"attributes\":{},\"id\":\"125731\",\"type\":\"UnionRenderers\"},{\"attributes\":{},\"id\":\"123788\",\"type\":\"BasicTickFormatter\"},{\"attributes\":{},\"id\":\"125732\",\"type\":\"Selection\"},{\"attributes\":{},\"id\":\"123791\",\"type\":\"Selection\"},{\"attributes\":{},\"id\":\"123838\",\"type\":\"Selection\"},{\"attributes\":{},\"id\":\"125733\",\"type\":\"UnionRenderers\"},{\"attributes\":{\"axis_label\":\"# people\",\"formatter\":{\"id\":\"123788\"},\"ticker\":{\"id\":\"123749\"}},\"id\":\"123748\",\"type\":\"LinearAxis\"},{\"attributes\":{},\"id\":\"123790\",\"type\":\"BasicTickFormatter\"},{\"attributes\":{},\"id\":\"123839\",\"type\":\"UnionRenderers\"},{\"attributes\":{},\"id\":\"125734\",\"type\":\"Selection\"},{\"attributes\":{\"fill_alpha\":0.1,\"fill_color\":\"red\",\"x\":{\"field\":\"x\"},\"y1\":{\"field\":\"y1\"},\"y2\":{\"field\":\"y2\"}},\"id\":\"123768\",\"type\":\"VArea\"},{\"attributes\":{},\"id\":\"123749\",\"type\":\"BasicTicker\"},{\"attributes\":{\"source\":{\"id\":\"123766\"}},\"id\":\"123770\",\"type\":\"CDSView\"},{\"attributes\":{\"label\":{\"value\":\"Symptomatic infected\"},\"renderers\":[{\"id\":\"123823\"}]},\"id\":\"123841\",\"type\":\"LegendItem\"},{\"attributes\":{},\"id\":\"123796\",\"type\":\"UnionRenderers\"},{\"attributes\":{},\"id\":\"125735\",\"type\":\"UnionRenderers\"},{\"attributes\":{\"axis\":{\"id\":\"123748\"},\"dimension\":1,\"ticker\":null},\"id\":\"123751\",\"type\":\"Grid\"},{\"attributes\":{\"fill_alpha\":0.2,\"fill_color\":\"red\",\"x\":{\"field\":\"x\"},\"y1\":{\"field\":\"y1\"},\"y2\":{\"field\":\"y2\"}},\"id\":\"123767\",\"type\":\"VArea\"},{\"attributes\":{\"data\":{\"x\":[0,1,2,3,4,5,6,7,8,9,10,11,12,13,14,15,16,17,18,19,20,21,22,23,24,25,26],\"y\":[55,73,98,135,154,267,333,468,617,744,890,966,1218,1420,1640,1959,2168,2549,3095,3456,3776,4178,4474,4861,5402,5944,6360]},\"selected\":{\"id\":\"125732\"},\"selection_policy\":{\"id\":\"125733\"}},\"id\":\"123842\",\"type\":\"ColumnDataSource\"},{\"attributes\":{},\"id\":\"123738\",\"type\":\"DataRange1d\"},{\"attributes\":{\"items\":[{\"id\":\"123799\"},{\"id\":\"123819\"},{\"id\":\"123841\"}],\"location\":\"top_left\"},\"id\":\"123798\",\"type\":\"Legend\"},{\"attributes\":{\"fill_alpha\":0.2,\"fill_color\":\"purple\",\"x\":{\"field\":\"x\"},\"y1\":{\"field\":\"y1\"},\"y2\":{\"field\":\"y2\"}},\"id\":\"123772\",\"type\":\"VArea\"},{\"attributes\":{\"bottom_units\":\"screen\",\"fill_alpha\":0.5,\"fill_color\":\"lightgrey\",\"left_units\":\"screen\",\"level\":\"overlay\",\"line_alpha\":1.0,\"line_color\":\"black\",\"line_dash\":[4,4],\"line_width\":2,\"render_mode\":\"css\",\"right_units\":\"screen\",\"top_units\":\"screen\"},\"id\":\"123758\",\"type\":\"BoxAnnotation\"},{\"attributes\":{},\"id\":\"123745\",\"type\":\"BasicTicker\"},{\"attributes\":{\"fill_color\":{\"value\":\"black\"},\"x\":{\"field\":\"x\"},\"y\":{\"field\":\"y\"}},\"id\":\"123843\",\"type\":\"Circle\"},{\"attributes\":{\"label\":{\"value\":\"Asymptomatic infected\"},\"renderers\":[{\"id\":\"123784\"}]},\"id\":\"123799\",\"type\":\"LegendItem\"},{\"attributes\":{\"axis_label\":\"t (days)\",\"formatter\":{\"id\":\"123790\"},\"ticker\":{\"id\":\"123745\"}},\"id\":\"123744\",\"type\":\"LinearAxis\"},{\"attributes\":{\"fill_alpha\":0.1,\"fill_color\":\"purple\",\"x\":{\"field\":\"x\"},\"y1\":{\"field\":\"y1\"},\"y2\":{\"field\":\"y2\"}},\"id\":\"123773\",\"type\":\"VArea\"},{\"attributes\":{\"data_source\":{\"id\":\"123842\"},\"glyph\":{\"id\":\"123843\"},\"hover_glyph\":null,\"muted_glyph\":null,\"nonselection_glyph\":{\"id\":\"123844\"},\"selection_glyph\":null,\"view\":{\"id\":\"123846\"}},\"id\":\"123845\",\"type\":\"GlyphRenderer\"},{\"attributes\":{},\"id\":\"123742\",\"type\":\"LinearScale\"}],\"root_ids\":[\"123733\"]},\"title\":\"Bokeh Application\",\"version\":\"2.0.1\"}};\n",
       "  var render_items = [{\"docid\":\"b1549b34-9aab-4f83-971b-883ea71375a5\",\"root_ids\":[\"123733\"],\"roots\":{\"123733\":\"a9f04f4f-65e8-4c57-b494-9b6d3e1bb208\"}}];\n",
       "  root.Bokeh.embed.embed_items_notebook(docs_json, render_items);\n",
       "\n",
       "  }\n",
       "  if (root.Bokeh !== undefined) {\n",
       "    embed_document(root);\n",
       "  } else {\n",
       "    var attempts = 0;\n",
       "    var timer = setInterval(function(root) {\n",
       "      if (root.Bokeh !== undefined) {\n",
       "        clearInterval(timer);\n",
       "        embed_document(root);\n",
       "      } else {\n",
       "        attempts++;\n",
       "        if (attempts > 100) {\n",
       "          clearInterval(timer);\n",
       "          console.log(\"Bokeh: ERROR: Unable to run BokehJS code because BokehJS library is missing\");\n",
       "        }\n",
       "      }\n",
       "    }, 10, root)\n",
       "  }\n",
       "})(window);"
      ],
      "application/vnd.bokehjs_exec.v0+json": ""
     },
     "metadata": {
      "application/vnd.bokehjs_exec.v0+json": {
       "id": "123733"
      }
     },
     "output_type": "display_data"
    },
    {
     "name": "stdout",
     "output_type": "stream",
     "text": [
      "RuntimeError [1.76491644e+00 2.90673836e-01 2.14568959e-01 1.69261910e-01\n",
      " 3.27999705e-01 1.94599387e-02 4.86971352e-01 2.55717390e-04\n",
      " 9.95660783e-04 4.78475744e-04 2.89177460e-04]\n"
     ]
    },
    {
     "data": {
      "text/html": [
       "\n",
       "\n",
       "\n",
       "\n",
       "\n",
       "\n",
       "  <div class=\"bk-root\" id=\"f1c5b13f-b003-4634-bcc9-2f3428c34578\" data-root-id=\"125869\"></div>\n"
      ]
     },
     "metadata": {},
     "output_type": "display_data"
    },
    {
     "data": {
      "application/javascript": [
       "(function(root) {\n",
       "  function embed_document(root) {\n",
       "    \n",
       "  var docs_json = {\"cd76ed62-7bde-4df5-b488-4c4a50269269\":{\"roots\":{\"references\":[{\"attributes\":{\"below\":[{\"id\":\"125880\"}],\"center\":[{\"id\":\"125883\"},{\"id\":\"125887\"},{\"id\":\"125934\"}],\"left\":[{\"id\":\"125884\"}],\"plot_height\":400,\"renderers\":[{\"id\":\"125905\"},{\"id\":\"125910\"},{\"id\":\"125915\"},{\"id\":\"125920\"},{\"id\":\"125939\"},{\"id\":\"125959\"},{\"id\":\"125981\"},{\"id\":\"125986\"},{\"id\":\"125988\"}],\"title\":{\"id\":\"125870\"},\"toolbar\":{\"id\":\"125895\"},\"x_range\":{\"id\":\"125872\"},\"x_scale\":{\"id\":\"125876\"},\"y_range\":{\"id\":\"125874\"},\"y_scale\":{\"id\":\"125878\"}},\"id\":\"125869\",\"subtype\":\"Figure\",\"type\":\"Plot\"},{\"attributes\":{},\"id\":\"125893\",\"type\":\"HelpTool\"},{\"attributes\":{\"label\":{\"value\":\"Deceased\"},\"renderers\":[{\"id\":\"125939\"}]},\"id\":\"125955\",\"type\":\"LegendItem\"},{\"attributes\":{\"data\":{\"x\":[0,1,2,3,4,5,6,7,8,9,10,11,12,13,14,15,16,17,18,19,20,21,22,23,24,25,26,27,28,29,30,31,32,33,34,35,36,37,38,39,40,41,42,43,44,45,46,47,48,49,50,51,52,53],\"y1\":{\"__ndarray__\":\"6SJ+vYU/rUD8PQ2P5sOrQKtGP9MvDLFAfi2kgfqgtkBpACvtWFa+QH2ELw312sNAUsiWevC6yEBIsXpfW/fNQNBOi8ULZtFA6K/B+Rl100DWfBHz6lHVQCyLOGPKDNdAQNOcJVim2EC5q6kXjjvaQP6rx5GE+ttAfncRQ0DD3UCguCmTFXnfQA0FcQvChuBAhYarNCYp4UCc+AXWh6HhQBkmUS+8NOJAbuA1NOvc4kDEvTKnH4XjQKBi0l2bHuRAuK/ABzKM5EBCVE+sPgTlQHLnm1ANbuVA3t4mdTG85UCL3XBC8fPlQM0XWAHQGeZATW1tjQ0w5kAQAKUBzDfmQOoaQ6VJLuZAb7MgRYQB5kARnx0eKMHlQPcsfQaIdOVACihaJ/Av5UD4fb0/v/nkQIFlVT5+uORA6uoirVFc5EDMZ/yTHePjQN7cn9HTTeNAOdUa2suu4kAkvfpt2PzhQIsAO1+tLeFAco3G9vRF4EAKNEe3BcveQC6cBfjf9t1AcJzgrRAS3EAYhfdD+FXZQN/LX6dfe9dAPZ0WL19v1UCaB2lQz1HUQCf0T6yb2NJA\",\"dtype\":\"float64\",\"shape\":[54]},\"y2\":{\"__ndarray__\":\"6SJ+vYU/rUCSiTxDuMutQAt2aINZxrNAqnibjSrvu0Dn1iLkXdPDQNSwZvAzX8tA66IGlXDM0UAu5s432UfWQEFGyWk3ttpAFsq8jqbp3kASYcJtR1/hQBTB0d0iOuNA1GRBeb0p5UDbk226n0rnQADGVzMQVOlAqG8JmFiT60BkLmJF8xHuQJoM305zQPBASiPnrzF18UC1ijCOVZDyQKqeiQIGy/NAADlCkLwX9UDCt/qszHT2QIc3Pinns/dAdtqJSfly+ED+cIxzcxT5QC7a+APhDvpA4fAXEAXM+kBIUbrShOf6QCajl9zouPpAMDO6Dc5l+kD924q169T5QIyiyhL4WPlA78qcFuTV+EDlOUgJbVD4QOQ4IPQyzfdAkqqEAzIQ90AqFPT7ZR72QIJ7IEoMTfVAMiHUgc5+9EAg6KzvMnHzQBmZu5FZKPJAsan6Ka6+8EBhOU1JFJ7vQFy7o2HzmO1AuTVPH0Rj60DalK8ZgdHpQOwifnOu0OdAqT92yS4A5kC7MQhW9aXkQCzxH+Cce+NABQAKn1rv4UDMFHM/f2TgQBzkO+Nbp95A\",\"dtype\":\"float64\",\"shape\":[54]}},\"selected\":{\"id\":\"125927\"},\"selection_policy\":{\"id\":\"125928\"}},\"id\":\"125902\",\"type\":\"ColumnDataSource\"},{\"attributes\":{\"data\":{\"x\":[0,1,2,3,4,5,6,7,8,9,10,11,12,13,14,15,16,17,18,19,20,21,22,23,24,25,26,27,28,29,30,31,32,33,34,35,36,37,38,39,40,41,42,43,44,45,46,47,48,49,50,51,52,53],\"y\":{\"__ndarray__\":\"6SJ+vYU/rUDagK2WgAetQNSg+fewubJAXCXaMfjcuUDAzCbzFvPBQP02V4nWV8hAYV1+97I6z0CEpo4PWjLTQB4kUB48qdZAt8w1d/3w2UBFRYk/IfjcQCcBFnWo099AAh36cR1I4UD436+Cw6viQCanKaTWN+RAyHsLzMvR5UDUGdwBmGHnQNRupF4o2uhAQOBM64NA6kCPEDYXXYbrQItZmOqIuOxA96mUsVDx7UCMz8/BkCTvQLlzhUDBGfBAx0hBMpWQ8EAwYn9HX/jwQBJTRcaiTvFAghWc3iuH8UBZ9755hKbxQIdgKZKcsPFAt/7F6Yan8UB1hK7EgYzxQEE/h0N8YPFAVRgiTlgk8UCcqfJyCdnwQHQyv0ehf/BAIxc31FEZ8EDuXC0z1U7vQLRl9FulVu5A5JwyzQJN7UCLXBHo7DTsQPVMGRZkEetAhdqKCFvl6UD8DHF1qbPoQAx5urAAf+dA78uyZuJJ5kD3O/F7mRblQKT5fxs15+NA8Gybz4W94kBch0B9HJvhQGHP//RKgeBAPLbN5Uvi3kALzXFwENfcQLDirPcs4tpA\",\"dtype\":\"float64\",\"shape\":[54]}},\"selected\":{\"id\":\"125952\"},\"selection_policy\":{\"id\":\"125953\"}},\"id\":\"125917\",\"type\":\"ColumnDataSource\"},{\"attributes\":{\"source\":{\"id\":\"125983\"}},\"id\":\"125987\",\"type\":\"CDSView\"},{\"attributes\":{\"fill_alpha\":0.2,\"fill_color\":\"red\",\"x\":{\"field\":\"x\"},\"y1\":{\"field\":\"y1\"},\"y2\":{\"field\":\"y2\"}},\"id\":\"125903\",\"type\":\"VArea\"},{\"attributes\":{\"label\":{\"value\":\"Asymptomatic infected\"},\"renderers\":[{\"id\":\"125920\"}]},\"id\":\"125935\",\"type\":\"LegendItem\"},{\"attributes\":{\"line_color\":\"red\",\"x\":{\"field\":\"x\"},\"y\":{\"field\":\"y\"}},\"id\":\"125918\",\"type\":\"Line\"},{\"attributes\":{\"active_drag\":\"auto\",\"active_inspect\":\"auto\",\"active_multi\":null,\"active_scroll\":\"auto\",\"active_tap\":\"auto\",\"tools\":[{\"id\":\"125888\"},{\"id\":\"125889\"},{\"id\":\"125890\"},{\"id\":\"125891\"},{\"id\":\"125892\"},{\"id\":\"125893\"}]},\"id\":\"125895\",\"type\":\"Toolbar\"},{\"attributes\":{\"dimension\":\"height\",\"line_width\":3,\"location\":24},\"id\":\"125988\",\"type\":\"Span\"},{\"attributes\":{\"data\":{\"x\":[0,1,2,3,4,5,6,7,8,9,10,11,12,13,14,15,16,17,18,19,20,21,22,23,24,25,26,27,28,29,30,31,32,33,34,35,36,37,38,39,40,41,42,43,44,45,46,47,48,49,50,51,52,53],\"y\":{\"__ndarray__\":\"ek10LGwcnEAGS6KzLOCZQN+0jpIIYplAwVwJatuim0B6fYdKI4qgQJ1UZk4xB6VAS3HhpRMmq0C3ppzlB0mxQGO+cMvocrVAfQpesDDbuUAE3w45t1S+QHLFv2L7YMFA3INArPKKw0C41BtsIKnFQLWvy7ZPy8dAzEkVxBf9yUDuFA8n4jnMQM+TAeLldc5AvWZ3SUdU0ECEduqecWTRQFnhgMDyZ9JAhq5FTb1h00AYhnvBfVXUQByNxJHKP9VAFh6IKnIb1kBxeu9F6uXWQDg3BYWJnddAsSoJbvs82ED4lulVFr/YQAYRO+aHItlAiRVW+Khn2UDWzESya4/ZQIOq497wmtlAm4R4umeL2UApcWXiC2LZQArN+uQsINlAPZsgeDbH2EBLqxLhtVjYQJ9cBZ1b1tdAJXcBhvlB10B9nvwWfp3WQHbkvZbt6tVAsAYM7Vks1UCGKRfS2WPUQElWE+p/k9NA1XXESFK90kB5TYK2QuPRQOSfcfonB9FAlPsIULgq0EAEp/5KCp/OQPsSJCfw7cxAoOYiJ6JEy0C7YYWtS6XJQLkdxzTEEchA\",\"dtype\":\"float64\",\"shape\":[54]}},\"selected\":{\"id\":\"127888\"},\"selection_policy\":{\"id\":\"127889\"}},\"id\":\"125956\",\"type\":\"ColumnDataSource\"},{\"attributes\":{\"line_color\":\"purple\",\"x\":{\"field\":\"x\"},\"y\":{\"field\":\"y\"}},\"id\":\"125957\",\"type\":\"Line\"},{\"attributes\":{\"line_alpha\":0.1,\"line_color\":\"red\",\"x\":{\"field\":\"x\"},\"y\":{\"field\":\"y\"}},\"id\":\"125919\",\"type\":\"Line\"},{\"attributes\":{\"items\":[{\"id\":\"125935\"},{\"id\":\"125955\"},{\"id\":\"125977\"}],\"location\":\"top_left\"},\"id\":\"125934\",\"type\":\"Legend\"},{\"attributes\":{},\"id\":\"127888\",\"type\":\"Selection\"},{\"attributes\":{\"line_alpha\":0.1,\"line_color\":\"purple\",\"x\":{\"field\":\"x\"},\"y\":{\"field\":\"y\"}},\"id\":\"125958\",\"type\":\"Line\"},{\"attributes\":{\"overlay\":{\"id\":\"125894\"}},\"id\":\"125890\",\"type\":\"BoxZoomTool\"},{\"attributes\":{},\"id\":\"125932\",\"type\":\"UnionRenderers\"},{\"attributes\":{\"source\":{\"id\":\"125917\"}},\"id\":\"125921\",\"type\":\"CDSView\"},{\"attributes\":{},\"id\":\"127889\",\"type\":\"UnionRenderers\"},{\"attributes\":{\"data_source\":{\"id\":\"125917\"},\"glyph\":{\"id\":\"125918\"},\"hover_glyph\":null,\"muted_glyph\":null,\"nonselection_glyph\":{\"id\":\"125919\"},\"selection_glyph\":null,\"view\":{\"id\":\"125921\"}},\"id\":\"125920\",\"type\":\"GlyphRenderer\"},{\"attributes\":{\"text\":\"Lombardia SEIIRD+Q Model\"},\"id\":\"125870\",\"type\":\"Title\"},{\"attributes\":{\"source\":{\"id\":\"125956\"}},\"id\":\"125960\",\"type\":\"CDSView\"},{\"attributes\":{\"axis\":{\"id\":\"125880\"},\"ticker\":null},\"id\":\"125883\",\"type\":\"Grid\"},{\"attributes\":{},\"id\":\"127890\",\"type\":\"Selection\"},{\"attributes\":{\"data_source\":{\"id\":\"125956\"},\"glyph\":{\"id\":\"125957\"},\"hover_glyph\":null,\"muted_glyph\":null,\"nonselection_glyph\":{\"id\":\"125958\"},\"selection_glyph\":null,\"view\":{\"id\":\"125960\"}},\"id\":\"125959\",\"type\":\"GlyphRenderer\"},{\"attributes\":{\"bottom_units\":\"screen\",\"fill_alpha\":0.5,\"fill_color\":\"lightgrey\",\"left_units\":\"screen\",\"level\":\"overlay\",\"line_alpha\":1.0,\"line_color\":\"black\",\"line_dash\":[4,4],\"line_width\":2,\"render_mode\":\"css\",\"right_units\":\"screen\",\"top_units\":\"screen\"},\"id\":\"125894\",\"type\":\"BoxAnnotation\"},{\"attributes\":{},\"id\":\"125924\",\"type\":\"BasicTickFormatter\"},{\"attributes\":{},\"id\":\"127891\",\"type\":\"UnionRenderers\"},{\"attributes\":{},\"id\":\"125974\",\"type\":\"Selection\"},{\"attributes\":{\"fill_color\":{\"value\":\"purple\"},\"line_color\":{\"value\":\"purple\"},\"x\":{\"field\":\"x\"},\"y\":{\"field\":\"y\"}},\"id\":\"125984\",\"type\":\"Circle\"},{\"attributes\":{\"axis_label\":\"# people\",\"formatter\":{\"id\":\"125924\"},\"ticker\":{\"id\":\"125885\"}},\"id\":\"125884\",\"type\":\"LinearAxis\"},{\"attributes\":{},\"id\":\"125926\",\"type\":\"BasicTickFormatter\"},{\"attributes\":{},\"id\":\"127892\",\"type\":\"Selection\"},{\"attributes\":{\"data_source\":{\"id\":\"125902\"},\"glyph\":{\"id\":\"125903\"},\"hover_glyph\":null,\"muted_glyph\":null,\"nonselection_glyph\":{\"id\":\"125904\"},\"selection_glyph\":null,\"view\":{\"id\":\"125906\"}},\"id\":\"125905\",\"type\":\"GlyphRenderer\"},{\"attributes\":{},\"id\":\"125975\",\"type\":\"UnionRenderers\"},{\"attributes\":{},\"id\":\"125885\",\"type\":\"BasicTicker\"},{\"attributes\":{},\"id\":\"125927\",\"type\":\"Selection\"},{\"attributes\":{\"source\":{\"id\":\"125902\"}},\"id\":\"125906\",\"type\":\"CDSView\"},{\"attributes\":{},\"id\":\"127893\",\"type\":\"UnionRenderers\"},{\"attributes\":{\"label\":{\"value\":\"Symptomatic infected\"},\"renderers\":[{\"id\":\"125959\"}]},\"id\":\"125977\",\"type\":\"LegendItem\"},{\"attributes\":{\"axis\":{\"id\":\"125884\"},\"dimension\":1,\"ticker\":null},\"id\":\"125887\",\"type\":\"Grid\"},{\"attributes\":{},\"id\":\"125928\",\"type\":\"UnionRenderers\"},{\"attributes\":{\"data\":{\"x\":[0,1,2,3,4,5,6,7,8,9,10,11,12,13,14,15,16,17,18,19,20,21,22,23,24,25,26,27,28,29,30,31,32,33,34,35,36,37,38,39,40,41,42,43,44,45,46,47,48,49,50,51,52,53],\"y1\":{\"__ndarray__\":\"ek10LGwcnEB4u9KIv76YQHEOgkIwV5dA57Ty57dzmECZ9lPgQimcQC5fN3LXqqFAiviCgJWLpkBo9HgTNe2rQC2AugwEXLFANOErWmkftUCOJl6Jpnq4QOeljc8sw7tA1TPmjM4Vv0AnHDTUBurAQMZHpKaqZMJAFjDzLg2+w0BbBYbSdjvFQI4ML1YDtcZAEkuYoe8LyECpfLbzMGDJQN3mt2/vO8pAdK9Q6lDAykCuRF0fht7LQHwVTvGw/8xA08iXsM8TzkDuVQOmC0XPQNdbENKaVtBAemmukWml0EBlRAUgruLQQHE0robkLtFAd7/A8e510UCZXHiSuK/RQM+kRp/I3NFA/aTGt1z40UBcUffxCe3RQPw1P/MD/NFAbv4yuzXh0UDEzaNLE3vRQHICMKpGEtFA7nF7dsTe0EAWk2W1X8DQQH7hOvjfjNBAJOnNW70N0EASRtWT4NzOQM6xk5rt1M1AKFA4fpp0zEAzx4WlzhfLQKHXrUL89MlAfe1sXWT7yEAJGWmaUAjIQAmW8qAwdcZAlqD2HBj3xED05gisezDDQPparBY1rsFA\",\"dtype\":\"float64\",\"shape\":[54]},\"y2\":{\"__ndarray__\":\"ek10LGwcnEDPXK8mCC2bQKWgyx3XmZtA6KktgCN+nkDbKcnMsH+iQGgGR6qiuadAzswhsImqrkCWt/L+hFGzQJi9a71N5rdAfjUzsxpwvUDwoqIut4XBQIpExHlSY8RAQYLS3ECxxkDAkz1t6WjJQBHMZLo3AcxARuq2sT3WzkA30lTFFxHRQBRKjhLRa9JAGqBcstku1EDthU7EPcLVQJQnVL/gTtdAIOJDGljZ2EA1D/tB5ZLaQL1PkKbM59tAesGlu0kK3UDe2O1V/iPeQP0aQ8PkB99At/1NRPfG30AL+15AqC3gQCSWZhYaZ+BARaWUY6Wj4ED6pzg4j7TgQFeXs12xsOBA4NKgflaJ4ECvj1ys5EvgQJzE9QiKDeBANLN0Gqt430DkVShvPhzfQG6QQ2zmoN5Ab3bjVMhC3UD/pfZZlBDcQPNdQf0X4dpAeUHJxUrH2UBsUdMOt/PXQIjySVB1gNZA1UlUUHUI1UAizhg/9RzUQCxtY/f13NJArt/2TKSQ0UA2N2o2L3XQQN++ZGI2k89AFV7juS0KzkA6//DPjEHMQBg3POIzLstA\",\"dtype\":\"float64\",\"shape\":[54]}},\"selected\":{\"id\":\"125929\"},\"selection_policy\":{\"id\":\"125930\"}},\"id\":\"125907\",\"type\":\"ColumnDataSource\"},{\"attributes\":{},\"id\":\"125876\",\"type\":\"LinearScale\"},{\"attributes\":{\"data\":{\"x\":[0,1,2,3,4,5,6,7,8,9,10,11,12,13,14,15,16,17,18,19,20,21,22,23,24,25,26],\"y\":[55,73,98,135,154,267,333,468,617,744,890,966,1218,1420,1640,1959,2168,2549,3095,3456,3776,4178,4474,4861,5402,5944,6360]},\"selected\":{\"id\":\"127890\"},\"selection_policy\":{\"id\":\"127891\"}},\"id\":\"125978\",\"type\":\"ColumnDataSource\"},{\"attributes\":{},\"id\":\"125929\",\"type\":\"Selection\"},{\"attributes\":{},\"id\":\"125881\",\"type\":\"BasicTicker\"},{\"attributes\":{},\"id\":\"125931\",\"type\":\"Selection\"},{\"attributes\":{\"fill_alpha\":0.1,\"fill_color\":\"red\",\"x\":{\"field\":\"x\"},\"y1\":{\"field\":\"y1\"},\"y2\":{\"field\":\"y2\"}},\"id\":\"125904\",\"type\":\"VArea\"},{\"attributes\":{\"data_source\":{\"id\":\"125907\"},\"glyph\":{\"id\":\"125908\"},\"hover_glyph\":null,\"muted_glyph\":null,\"nonselection_glyph\":{\"id\":\"125909\"},\"selection_glyph\":null,\"view\":{\"id\":\"125911\"}},\"id\":\"125910\",\"type\":\"GlyphRenderer\"},{\"attributes\":{\"data\":{\"x\":[0,1,2,3,4,5,6,7,8,9,10,11,12,13,14,15,16,17,18,19,20,21,22,23,24,25,26,27,28,29,30,31,32,33,34,35,36,37,38,39,40,41,42,43,44,45,46,47,48,49,50,51,52,53],\"y\":{\"__ndarray__\":\"AAAAAACAS0A11ygu/ClXQH7+WXrQBmBAPiAKuPqdZEBz24W/499pQFaANB7MMXBADydV1lZidEBaLYNFEcN5QH6vfA/2QoBABO7FCdxkhEByfe2QG06JQGXpCQTN/o5AsxnA17+5kkAEmYP2z1OWQNi1QZ6wTJpAccyF+2KmnkDLshjIsbGhQH9Ga3JRQqRAhFtXWZIEp0BEfXAQSfepQIRN/357GK1A9SymVg4zsEBAthjRbu+xQBBFNg3AwLNAWqo8o+6ltUCrWnwuk523QNAx02EbprlAIqdptq+9u0AYR32b8OG9QA/oawMdCMBAReQA/u8iwUCWaiUWI0DCQBJMuPRzXsNAL4RgPa18xEDlcM4Up5nFQApE79FHtMZAu4u5DIXLx0CjUpn6ZN7IQIQH2PL/68lAybIr8YHzykAnt9fyK/TLQM8lUxJV7cxA7VlETmvezUDaRwfx88bOQDr2HJWLps9AzitU43I+0EBv+bsl5qTQQAcThgyPBtFAqlhAA2dj0UClFk2jcLvRQNhgn922DtJA3NYUFkxd0kCUuDI4SafSQFs8OcvM7NJA\",\"dtype\":\"float64\",\"shape\":[54]}},\"selected\":{\"id\":\"125974\"},\"selection_policy\":{\"id\":\"125975\"}},\"id\":\"125936\",\"type\":\"ColumnDataSource\"},{\"attributes\":{\"fill_alpha\":0.1,\"fill_color\":\"purple\",\"x\":{\"field\":\"x\"},\"y1\":{\"field\":\"y1\"},\"y2\":{\"field\":\"y2\"}},\"id\":\"125909\",\"type\":\"VArea\"},{\"attributes\":{\"fill_alpha\":{\"value\":0.1},\"fill_color\":{\"value\":\"black\"},\"line_alpha\":{\"value\":0.1},\"x\":{\"field\":\"x\"},\"y\":{\"field\":\"y\"}},\"id\":\"125980\",\"type\":\"Circle\"},{\"attributes\":{\"data\":{\"x\":[0,1,2,3,4,5,6,7,8,9,10,11,12,13,14,15,16,17,18,19,20,21,22,23,24,25,26],\"y\":[1326,1497,1777,2008,2742,3372,4490,4427,5763,6896,7732,9059,10043,10861,12095,12266,13938,15420,17370,17885,18910,19868,20591,22189,23895,24509,25392]},\"selected\":{\"id\":\"127892\"},\"selection_policy\":{\"id\":\"127893\"}},\"id\":\"125983\",\"type\":\"ColumnDataSource\"},{\"attributes\":{\"data_source\":{\"id\":\"125978\"},\"glyph\":{\"id\":\"125979\"},\"hover_glyph\":null,\"muted_glyph\":null,\"nonselection_glyph\":{\"id\":\"125980\"},\"selection_glyph\":null,\"view\":{\"id\":\"125982\"}},\"id\":\"125981\",\"type\":\"GlyphRenderer\"},{\"attributes\":{\"axis_label\":\"t (days)\",\"formatter\":{\"id\":\"125926\"},\"ticker\":{\"id\":\"125881\"}},\"id\":\"125880\",\"type\":\"LinearAxis\"},{\"attributes\":{\"x\":{\"field\":\"x\"},\"y\":{\"field\":\"y\"}},\"id\":\"125937\",\"type\":\"Line\"},{\"attributes\":{\"fill_alpha\":0.2,\"fill_color\":\"purple\",\"x\":{\"field\":\"x\"},\"y1\":{\"field\":\"y1\"},\"y2\":{\"field\":\"y2\"}},\"id\":\"125908\",\"type\":\"VArea\"},{\"attributes\":{\"fill_color\":{\"value\":\"black\"},\"x\":{\"field\":\"x\"},\"y\":{\"field\":\"y\"}},\"id\":\"125979\",\"type\":\"Circle\"},{\"attributes\":{\"source\":{\"id\":\"125907\"}},\"id\":\"125911\",\"type\":\"CDSView\"},{\"attributes\":{},\"id\":\"125878\",\"type\":\"LinearScale\"},{\"attributes\":{\"line_alpha\":0.1,\"x\":{\"field\":\"x\"},\"y\":{\"field\":\"y\"}},\"id\":\"125938\",\"type\":\"Line\"},{\"attributes\":{\"source\":{\"id\":\"125978\"}},\"id\":\"125982\",\"type\":\"CDSView\"},{\"attributes\":{\"data\":{\"x\":[0,1,2,3,4,5,6,7,8,9,10,11,12,13,14,15,16,17,18,19,20,21,22,23,24,25,26,27,28,29,30,31,32,33,34,35,36,37,38,39,40,41,42,43,44,45,46,47,48,49,50,51,52,53],\"y1\":{\"__ndarray__\":\"AAAAAACAS0C+2XJvkadWQKaoYupJ0l5AxeeFdg+fY0AiqpIwOAZoQJEuDHMri21A7EWeP887ckAs/w7PVJF2QLIJt0Mh0XtA3xjGTEougUAipqMNzP+EQIxOpHD2jIlA+WSsISKxjkAv4JFs9j+SQPBWGHnfaZVAfKOfs5QDmUCkH8YyCMGcQDCOp0wAOKBAIHkuPHGHokC7UTDzoMekQN6dVGgsGKdAFqQImqehqUDNbj8OyzmsQMF/uaTXva5A/B2EksaxsEAoiedVGQiyQG8aWJf/XrNAEqbHWAzftEC6iQf+dyy2QHjfXXfHdLdA9ydtuh69uECWJ1CbigS6QGu/2e9tZLtArJkPEX/vvEDlh+jy77K+QL5+SNgFRMBAo/g8ucb9wEDAgT2YK7LBQMysRnA/ZMJAmRfOa6kTw0DrjmEGF8DDQCwAdrq6bcRAVlelEsAYxUB+OROQmtDFQJ/6VTWNhcZAkDtY+0k2x0CO0PVl0ePHQPpKwZ6lgMhA2jn4T4URyUAgX+hF3JzJQGCIieS7J8pAzrQdojeuykBSjgPIsi7LQLuPlkXWr8tA\",\"dtype\":\"float64\",\"shape\":[54]},\"y2\":{\"__ndarray__\":\"AAAAAACAS0AIQrdjd5pXQOfh5edfkGBAR2xSzbFrZUCsoEcAXwJrQGZAZC6qLHFAKDf4rnG2dUDqW5f6a7V7QAZzwZZdqYFAtqygFms1hkChx8zrRL+LQKOrO+zr9pBAGJQn0e3UlECs6thSdgiZQLAzYbd6AJ5AUjJe9IvIoUDIi7tZOt6kQIAieaeUJahAI+wDnnOpq0BKNdmJqGyvQLxgeLXMzrFAuriXCZ22s0D5CsRpW/e1QDzomc9parhAYyNyzIfyukCgKwlgqaK9QJgY5bVHN8BAzh0WXo+pwUBYDlPsLCbDQEf0/1iMpcRAPyLRZogYxkBQhh9m73fHQJ5WSiYR1MhAlpCdhSsrykBRoLfruq7LQHlFlnivMs1AEvGJYhOozkDJ8r9oZAbQQGGKG3yRr9BAOnTCVvNO0UAk30I5keHRQCwU64GvaNJA5F8PkVTl0kAmOXZGrlfTQB6ditfpvdNAaggOpTkk1ECo5rXKJ6vUQFy+hkaSL9VA+8e7hWmt1UCSjPrt8RDWQCYAKvtRW9ZAvoIyBPad1kA+jP5h/uzWQLrVLsz9RddA\",\"dtype\":\"float64\",\"shape\":[54]}},\"selected\":{\"id\":\"125931\"},\"selection_policy\":{\"id\":\"125932\"}},\"id\":\"125912\",\"type\":\"ColumnDataSource\"},{\"attributes\":{\"fill_alpha\":0.2,\"fill_color\":\"black\",\"x\":{\"field\":\"x\"},\"y1\":{\"field\":\"y1\"},\"y2\":{\"field\":\"y2\"}},\"id\":\"125913\",\"type\":\"VArea\"},{\"attributes\":{},\"id\":\"125891\",\"type\":\"SaveTool\"},{\"attributes\":{},\"id\":\"125888\",\"type\":\"PanTool\"},{\"attributes\":{\"source\":{\"id\":\"125936\"}},\"id\":\"125940\",\"type\":\"CDSView\"},{\"attributes\":{},\"id\":\"125930\",\"type\":\"UnionRenderers\"},{\"attributes\":{},\"id\":\"125874\",\"type\":\"DataRange1d\"},{\"attributes\":{\"data_source\":{\"id\":\"125936\"},\"glyph\":{\"id\":\"125937\"},\"hover_glyph\":null,\"muted_glyph\":null,\"nonselection_glyph\":{\"id\":\"125938\"},\"selection_glyph\":null,\"view\":{\"id\":\"125940\"}},\"id\":\"125939\",\"type\":\"GlyphRenderer\"},{\"attributes\":{\"data_source\":{\"id\":\"125912\"},\"glyph\":{\"id\":\"125913\"},\"hover_glyph\":null,\"muted_glyph\":null,\"nonselection_glyph\":{\"id\":\"125914\"},\"selection_glyph\":null,\"view\":{\"id\":\"125916\"}},\"id\":\"125915\",\"type\":\"GlyphRenderer\"},{\"attributes\":{},\"id\":\"125872\",\"type\":\"DataRange1d\"},{\"attributes\":{},\"id\":\"125889\",\"type\":\"WheelZoomTool\"},{\"attributes\":{\"fill_alpha\":0.1,\"fill_color\":\"black\",\"x\":{\"field\":\"x\"},\"y1\":{\"field\":\"y1\"},\"y2\":{\"field\":\"y2\"}},\"id\":\"125914\",\"type\":\"VArea\"},{\"attributes\":{\"fill_alpha\":{\"value\":0.1},\"fill_color\":{\"value\":\"purple\"},\"line_alpha\":{\"value\":0.1},\"line_color\":{\"value\":\"purple\"},\"x\":{\"field\":\"x\"},\"y\":{\"field\":\"y\"}},\"id\":\"125985\",\"type\":\"Circle\"},{\"attributes\":{},\"id\":\"125892\",\"type\":\"ResetTool\"},{\"attributes\":{},\"id\":\"125952\",\"type\":\"Selection\"},{\"attributes\":{},\"id\":\"125953\",\"type\":\"UnionRenderers\"},{\"attributes\":{\"data_source\":{\"id\":\"125983\"},\"glyph\":{\"id\":\"125984\"},\"hover_glyph\":null,\"muted_glyph\":null,\"nonselection_glyph\":{\"id\":\"125985\"},\"selection_glyph\":null,\"view\":{\"id\":\"125987\"}},\"id\":\"125986\",\"type\":\"GlyphRenderer\"},{\"attributes\":{\"source\":{\"id\":\"125912\"}},\"id\":\"125916\",\"type\":\"CDSView\"}],\"root_ids\":[\"125869\"]},\"title\":\"Bokeh Application\",\"version\":\"2.0.1\"}};\n",
       "  var render_items = [{\"docid\":\"cd76ed62-7bde-4df5-b488-4c4a50269269\",\"root_ids\":[\"125869\"],\"roots\":{\"125869\":\"f1c5b13f-b003-4634-bcc9-2f3428c34578\"}}];\n",
       "  root.Bokeh.embed.embed_items_notebook(docs_json, render_items);\n",
       "\n",
       "  }\n",
       "  if (root.Bokeh !== undefined) {\n",
       "    embed_document(root);\n",
       "  } else {\n",
       "    var attempts = 0;\n",
       "    var timer = setInterval(function(root) {\n",
       "      if (root.Bokeh !== undefined) {\n",
       "        clearInterval(timer);\n",
       "        embed_document(root);\n",
       "      } else {\n",
       "        attempts++;\n",
       "        if (attempts > 100) {\n",
       "          clearInterval(timer);\n",
       "          console.log(\"Bokeh: ERROR: Unable to run BokehJS code because BokehJS library is missing\");\n",
       "        }\n",
       "      }\n",
       "    }, 10, root)\n",
       "  }\n",
       "})(window);"
      ],
      "application/vnd.bokehjs_exec.v0+json": ""
     },
     "metadata": {
      "application/vnd.bokehjs_exec.v0+json": {
       "id": "125869"
      }
     },
     "output_type": "display_data"
    },
    {
     "data": {
      "text/html": [
       "\n",
       "\n",
       "\n",
       "\n",
       "\n",
       "\n",
       "  <div class=\"bk-root\" id=\"05c40abb-c559-4bfb-8e4f-7030a265659a\" data-root-id=\"128027\"></div>\n"
      ]
     },
     "metadata": {},
     "output_type": "display_data"
    },
    {
     "data": {
      "application/javascript": [
       "(function(root) {\n",
       "  function embed_document(root) {\n",
       "    \n",
       "  var docs_json = {\"7db9b75c-6ae1-45af-8886-241a13dfab81\":{\"roots\":{\"references\":[{\"attributes\":{\"below\":[{\"id\":\"128038\"}],\"center\":[{\"id\":\"128041\"},{\"id\":\"128045\"},{\"id\":\"128092\"}],\"left\":[{\"id\":\"128042\"}],\"plot_height\":400,\"renderers\":[{\"id\":\"128063\"},{\"id\":\"128068\"},{\"id\":\"128073\"},{\"id\":\"128078\"},{\"id\":\"128097\"},{\"id\":\"128117\"},{\"id\":\"128139\"},{\"id\":\"128144\"},{\"id\":\"128146\"}],\"title\":{\"id\":\"128028\"},\"toolbar\":{\"id\":\"128053\"},\"x_range\":{\"id\":\"128030\"},\"x_scale\":{\"id\":\"128034\"},\"y_range\":{\"id\":\"128032\"},\"y_scale\":{\"id\":\"128036\"}},\"id\":\"128027\",\"subtype\":\"Figure\",\"type\":\"Plot\"},{\"attributes\":{\"source\":{\"id\":\"128114\"}},\"id\":\"128118\",\"type\":\"CDSView\"},{\"attributes\":{},\"id\":\"128082\",\"type\":\"BasicTickFormatter\"},{\"attributes\":{\"data_source\":{\"id\":\"128114\"},\"glyph\":{\"id\":\"128115\"},\"hover_glyph\":null,\"muted_glyph\":null,\"nonselection_glyph\":{\"id\":\"128116\"},\"selection_glyph\":null,\"view\":{\"id\":\"128118\"}},\"id\":\"128117\",\"type\":\"GlyphRenderer\"},{\"attributes\":{\"fill_alpha\":0.1,\"fill_color\":\"red\",\"x\":{\"field\":\"x\"},\"y1\":{\"field\":\"y1\"},\"y2\":{\"field\":\"y2\"}},\"id\":\"128062\",\"type\":\"VArea\"},{\"attributes\":{\"axis\":{\"id\":\"128038\"},\"ticker\":null},\"id\":\"128041\",\"type\":\"Grid\"},{\"attributes\":{\"fill_alpha\":0.2,\"fill_color\":\"red\",\"x\":{\"field\":\"x\"},\"y1\":{\"field\":\"y1\"},\"y2\":{\"field\":\"y2\"}},\"id\":\"128061\",\"type\":\"VArea\"},{\"attributes\":{},\"id\":\"130070\",\"type\":\"Selection\"},{\"attributes\":{},\"id\":\"128084\",\"type\":\"BasicTickFormatter\"},{\"attributes\":{},\"id\":\"128132\",\"type\":\"Selection\"},{\"attributes\":{\"axis_label\":\"# people\",\"formatter\":{\"id\":\"128082\"},\"ticker\":{\"id\":\"128043\"}},\"id\":\"128042\",\"type\":\"LinearAxis\"},{\"attributes\":{\"source\":{\"id\":\"128060\"}},\"id\":\"128064\",\"type\":\"CDSView\"},{\"attributes\":{},\"id\":\"130069\",\"type\":\"UnionRenderers\"},{\"attributes\":{},\"id\":\"128085\",\"type\":\"Selection\"},{\"attributes\":{},\"id\":\"130071\",\"type\":\"UnionRenderers\"},{\"attributes\":{},\"id\":\"128133\",\"type\":\"UnionRenderers\"},{\"attributes\":{},\"id\":\"128043\",\"type\":\"BasicTicker\"},{\"attributes\":{\"data\":{\"x\":[0,1,2,3,4,5,6,7,8,9,10,11,12,13,14,15,16,17,18,19,20,21,22,23,24,25,26,27,28,29,30,31,32,33,34,35,36,37,38,39,40,41,42,43,44,45,46,47,48,49,50,51,52,53],\"y1\":{\"__ndarray__\":\"Hazhmh6cnEAolLGbt5SZQJV6hgcKeZhAKvIhkeMnmkBy5fowdbWeQLa8Ad/tUKNAavTexqLyqEBlcey8hE2vQJE8136XRLNA0taD5ooDt0BsCQnjGZW6QK3/BFn7+71AEwKnRyzEwECLn6y7JH/CQLABKOudA8RAnjEZGQmnxUA4zpaYtinHQP4lJo/ivchAk6H2Rl1FykBLx0/RArfLQC4PmQt4Lc1A3jI0e9nZzkD+6376ORPQQBLe+K5zrdBAhrstkFU/0UD6pEnlzsXRQFWpefNVQNJArof02F2s0kD8xvlK6wzTQCyXKCaEY9NAUr24sk6X00AtCL8Wa7rTQOddZWR01tNARkMP2Dvm00DcTmDDzc3TQCa/9giesNNA/P71JHKK00BSHYIqzF3TQLAeTby/JdNAzZ2FJNrf0kBA20exkITSQACAD5IdHtJAbJZCE92t0UC1yx3BRUHRQFvFbPFIzdBAegSZOttS0EAElYwi+5rPQAAUtl1uXM5AKOziK+AYzUCrO54vl9LLQC6E3o49j8pA9vgxlNVRyUDU2zC0gefHQH0yDx8flcZA\",\"dtype\":\"float64\",\"shape\":[54]},\"y2\":{\"__ndarray__\":\"Hazhmh6cnEBtdHKUoI6aQCpKHrFELZpACa53bLl3nECU4MiRmdmgQKSh43xvdqVAOATVygPLq0A/6I1p3qCxQAihPR6n+rVA6TfleETvukC8YDU1cADAQCRzBKg5fsJAOOiGxLcLxUC16QrI+afHQB/98EbAQspAcItLF+nxzEDeBwN1kKDPQIB9zjTfO9FAzpScS6im0kBMo399LyDUQFEPMXeQi9VA4bxsQhsJ10BBn85FRm/YQDOW3mAtsdlAYBvgDwPx2kACHIZBrCrcQFxgZ1IyUN1AhQlXyOJm3kAAI3fQsG7fQHULT9pQKuBA0xdhqYeJ4EAA0YmTHNPgQPIbx7NhAeFAzqVu1fgF4UAu5Q57CeTgQFtAsIHHveBAlFbiAtuT4EDIvAVsyF/gQFJMqaeSEeBAGt2tCKuG30AWvt0jZ7veQC+QesP5Y91AHmtPkAVV3ED7qR5yYAzbQJ2+7KY8xtlABkjhtZeW2EBSIxI02kvXQJJ0wVN3KdZAAkE9uKLb1EBnx2ldstXTQAlZp26Y1dJA6N0haIBy0UAm0fx1dC3QQKKjx80pYc5A\",\"dtype\":\"float64\",\"shape\":[54]}},\"selected\":{\"id\":\"128087\"},\"selection_policy\":{\"id\":\"128088\"}},\"id\":\"128065\",\"type\":\"ColumnDataSource\"},{\"attributes\":{},\"id\":\"130072\",\"type\":\"Selection\"},{\"attributes\":{},\"id\":\"128086\",\"type\":\"UnionRenderers\"},{\"attributes\":{\"label\":{\"value\":\"Symptomatic infected\"},\"renderers\":[{\"id\":\"128117\"}]},\"id\":\"128135\",\"type\":\"LegendItem\"},{\"attributes\":{\"axis\":{\"id\":\"128042\"},\"dimension\":1,\"ticker\":null},\"id\":\"128045\",\"type\":\"Grid\"},{\"attributes\":{},\"id\":\"130073\",\"type\":\"UnionRenderers\"},{\"attributes\":{},\"id\":\"128087\",\"type\":\"Selection\"},{\"attributes\":{\"data\":{\"x\":[0,1,2,3,4,5,6,7,8,9,10,11,12,13,14,15,16,17,18,19,20,21,22,23,24,25,26],\"y\":[55,73,98,135,154,267,333,468,617,744,890,966,1218,1420,1640,1959,2168,2549,3095,3456,3776,4178,4474,4861,5402,5944,6360]},\"selected\":{\"id\":\"130070\"},\"selection_policy\":{\"id\":\"130071\"}},\"id\":\"128136\",\"type\":\"ColumnDataSource\"},{\"attributes\":{\"data_source\":{\"id\":\"128060\"},\"glyph\":{\"id\":\"128061\"},\"hover_glyph\":null,\"muted_glyph\":null,\"nonselection_glyph\":{\"id\":\"128062\"},\"selection_glyph\":null,\"view\":{\"id\":\"128064\"}},\"id\":\"128063\",\"type\":\"GlyphRenderer\"},{\"attributes\":{\"data_source\":{\"id\":\"128065\"},\"glyph\":{\"id\":\"128066\"},\"hover_glyph\":null,\"muted_glyph\":null,\"nonselection_glyph\":{\"id\":\"128067\"},\"selection_glyph\":null,\"view\":{\"id\":\"128069\"}},\"id\":\"128068\",\"type\":\"GlyphRenderer\"},{\"attributes\":{},\"id\":\"128088\",\"type\":\"UnionRenderers\"},{\"attributes\":{\"fill_alpha\":0.1,\"fill_color\":\"purple\",\"x\":{\"field\":\"x\"},\"y1\":{\"field\":\"y1\"},\"y2\":{\"field\":\"y2\"}},\"id\":\"128067\",\"type\":\"VArea\"},{\"attributes\":{\"fill_alpha\":{\"value\":0.1},\"fill_color\":{\"value\":\"black\"},\"line_alpha\":{\"value\":0.1},\"x\":{\"field\":\"x\"},\"y\":{\"field\":\"y\"}},\"id\":\"128138\",\"type\":\"Circle\"},{\"attributes\":{},\"id\":\"128089\",\"type\":\"Selection\"},{\"attributes\":{\"fill_alpha\":0.2,\"fill_color\":\"purple\",\"x\":{\"field\":\"x\"},\"y1\":{\"field\":\"y1\"},\"y2\":{\"field\":\"y2\"}},\"id\":\"128066\",\"type\":\"VArea\"},{\"attributes\":{\"data\":{\"x\":[0,1,2,3,4,5,6,7,8,9,10,11,12,13,14,15,16,17,18,19,20,21,22,23,24,25,26],\"y\":[1326,1497,1777,2008,2742,3372,4490,4427,5763,6896,7732,9059,10043,10861,12095,12266,13938,15420,17370,17885,18910,19868,20591,22189,23895,24509,25392]},\"selected\":{\"id\":\"130072\"},\"selection_policy\":{\"id\":\"130073\"}},\"id\":\"128141\",\"type\":\"ColumnDataSource\"},{\"attributes\":{\"data_source\":{\"id\":\"128136\"},\"glyph\":{\"id\":\"128137\"},\"hover_glyph\":null,\"muted_glyph\":null,\"nonselection_glyph\":{\"id\":\"128138\"},\"selection_glyph\":null,\"view\":{\"id\":\"128140\"}},\"id\":\"128139\",\"type\":\"GlyphRenderer\"},{\"attributes\":{\"source\":{\"id\":\"128065\"}},\"id\":\"128069\",\"type\":\"CDSView\"},{\"attributes\":{},\"id\":\"128046\",\"type\":\"PanTool\"},{\"attributes\":{},\"id\":\"128090\",\"type\":\"UnionRenderers\"},{\"attributes\":{\"fill_color\":{\"value\":\"black\"},\"x\":{\"field\":\"x\"},\"y\":{\"field\":\"y\"}},\"id\":\"128137\",\"type\":\"Circle\"},{\"attributes\":{\"data\":{\"x\":[0,1,2,3,4,5,6,7,8,9,10,11,12,13,14,15,16,17,18,19,20,21,22,23,24,25,26,27,28,29,30,31,32,33,34,35,36,37,38,39,40,41,42,43,44,45,46,47,48,49,50,51,52,53],\"y1\":{\"__ndarray__\":\"AAAAAACAS0D54f1/c6xWQCdwOeWN+V5AplawX8ecY0C2jBEUeWJoQCLX6Zj+NW5A/IL6EU3MckAwbeY8hGB3QL6xzTYII31AoYmIQewVgkCZDFB0jD6GQIZwxneCIotA1862CS1EkECw10UIzWOTQElY5Dp51JZAXP+X/89zmkCMxKRh5UieQEJTY76xMaFALe4QxW5co0DgzXcejp6lQCdb+wrjB6hAw61gfz+rqkAk2SpBematQHMb2a//EbBA7TzHOhuLsUBLa9E6CQOzQMtFTNAkhrRAx/XEPfoqtkCajiHfaKu3QNj1bSf5PblAWCoS/tzUukBG2Qnfsna8QHsOMuggKb5AoIz5rUriv0Cnz/2q79XAQHxmJxCAwsFAj0yL5EyNwkDqgJPF3VPDQFKBriK7F8RAJkkmE5/hxECeN2zF9K3FQIMpdp//d8ZADu1EF5k/x0ABzpwlowLIQMPq09m/wMhAvLTaVZx5yUDqbTAH8SzKQJwhgbiB2spAjsQ2oSR9y0Dd8w2dbhLMQMJvbb3npcxAA6Bf90w3zUCSQgxh78LNQOqPi8vPSM5A\",\"dtype\":\"float64\",\"shape\":[54]},\"y2\":{\"__ndarray__\":\"AAAAAACAS0C0hr8yWnNXQFi0ti3zPGBAkZTKl1T1ZEAmRIj2VExqQNj4EqYqhXBA4K0gYLevdEBi+uWb/yV6QGainUJVfIBAMilbZueehEA85lxSuKmJQG6opUqWU49AHy3EkuDVkkAZIQVqYmeWQLgqkDA/iZpASf7womdon0D89CpNAjKiQIpFNBQd+6RASrm2z9YWqEA3jvINlWarQLuhDDDz5K5AkJlweaZBsUD+aBN9ck2zQEA8kV6BfLVAKfkCM8/Kt0B2PQTE4Te6QIBJR/3TuLxA8vRndtRMv0B1JX5krPrAQAJJJct6V8JANmWvCe+6w0D3oWuwhRrFQK4FPc3+dMZAfGwNpdnOx0Cdn8z4hjjJQPJWrDPWrspAueCRpgQZzEBSbjhlBHTNQDC7Of+dwc5AZhH4E7QC0EBcSpoAIZ/QQFeuDTGqO9FA+1rf5z/i0UBg4kkfL4PSQDypRkAGHtNAQ5CrzWWv00BpE9MxFzTUQAL6JKnosdRAAvfCjM0o1UCO6/qryZjVQH3H9KvvAdZAaKEQJ2Fg1kBcBTvr2bbWQOLRuEccB9dA\",\"dtype\":\"float64\",\"shape\":[54]}},\"selected\":{\"id\":\"128089\"},\"selection_policy\":{\"id\":\"128090\"}},\"id\":\"128070\",\"type\":\"ColumnDataSource\"},{\"attributes\":{},\"id\":\"128039\",\"type\":\"BasicTicker\"},{\"attributes\":{\"line_color\":\"red\",\"x\":{\"field\":\"x\"},\"y\":{\"field\":\"y\"}},\"id\":\"128076\",\"type\":\"Line\"},{\"attributes\":{\"source\":{\"id\":\"128136\"}},\"id\":\"128140\",\"type\":\"CDSView\"},{\"attributes\":{},\"id\":\"128047\",\"type\":\"WheelZoomTool\"},{\"attributes\":{\"line_alpha\":0.1,\"x\":{\"field\":\"x\"},\"y\":{\"field\":\"y\"}},\"id\":\"128096\",\"type\":\"Line\"},{\"attributes\":{\"overlay\":{\"id\":\"128052\"}},\"id\":\"128048\",\"type\":\"BoxZoomTool\"},{\"attributes\":{\"data_source\":{\"id\":\"128070\"},\"glyph\":{\"id\":\"128071\"},\"hover_glyph\":null,\"muted_glyph\":null,\"nonselection_glyph\":{\"id\":\"128072\"},\"selection_glyph\":null,\"view\":{\"id\":\"128074\"}},\"id\":\"128073\",\"type\":\"GlyphRenderer\"},{\"attributes\":{},\"id\":\"128049\",\"type\":\"SaveTool\"},{\"attributes\":{\"axis_label\":\"t (days)\",\"formatter\":{\"id\":\"128084\"},\"ticker\":{\"id\":\"128039\"}},\"id\":\"128038\",\"type\":\"LinearAxis\"},{\"attributes\":{\"fill_alpha\":0.1,\"fill_color\":\"black\",\"x\":{\"field\":\"x\"},\"y1\":{\"field\":\"y1\"},\"y2\":{\"field\":\"y2\"}},\"id\":\"128072\",\"type\":\"VArea\"},{\"attributes\":{\"source\":{\"id\":\"128094\"}},\"id\":\"128098\",\"type\":\"CDSView\"},{\"attributes\":{\"text\":\"Lombardia SEIIRD+Q Model\"},\"id\":\"128028\",\"type\":\"Title\"},{\"attributes\":{\"data_source\":{\"id\":\"128094\"},\"glyph\":{\"id\":\"128095\"},\"hover_glyph\":null,\"muted_glyph\":null,\"nonselection_glyph\":{\"id\":\"128096\"},\"selection_glyph\":null,\"view\":{\"id\":\"128098\"}},\"id\":\"128097\",\"type\":\"GlyphRenderer\"},{\"attributes\":{},\"id\":\"128050\",\"type\":\"ResetTool\"},{\"attributes\":{},\"id\":\"128036\",\"type\":\"LinearScale\"},{\"attributes\":{\"fill_alpha\":0.2,\"fill_color\":\"black\",\"x\":{\"field\":\"x\"},\"y1\":{\"field\":\"y1\"},\"y2\":{\"field\":\"y2\"}},\"id\":\"128071\",\"type\":\"VArea\"},{\"attributes\":{\"fill_alpha\":{\"value\":0.1},\"fill_color\":{\"value\":\"purple\"},\"line_alpha\":{\"value\":0.1},\"line_color\":{\"value\":\"purple\"},\"x\":{\"field\":\"x\"},\"y\":{\"field\":\"y\"}},\"id\":\"128143\",\"type\":\"Circle\"},{\"attributes\":{},\"id\":\"128032\",\"type\":\"DataRange1d\"},{\"attributes\":{\"source\":{\"id\":\"128070\"}},\"id\":\"128074\",\"type\":\"CDSView\"},{\"attributes\":{},\"id\":\"128051\",\"type\":\"HelpTool\"},{\"attributes\":{},\"id\":\"128110\",\"type\":\"Selection\"},{\"attributes\":{\"data_source\":{\"id\":\"128141\"},\"glyph\":{\"id\":\"128142\"},\"hover_glyph\":null,\"muted_glyph\":null,\"nonselection_glyph\":{\"id\":\"128143\"},\"selection_glyph\":null,\"view\":{\"id\":\"128145\"}},\"id\":\"128144\",\"type\":\"GlyphRenderer\"},{\"attributes\":{},\"id\":\"128111\",\"type\":\"UnionRenderers\"},{\"attributes\":{\"data\":{\"x\":[0,1,2,3,4,5,6,7,8,9,10,11,12,13,14,15,16,17,18,19,20,21,22,23,24,25,26,27,28,29,30,31,32,33,34,35,36,37,38,39,40,41,42,43,44,45,46,47,48,49,50,51,52,53],\"y\":{\"__ndarray__\":\"nd9vh4Ruq0DbrYGxn+uqQOdoJDDKTbFA/nRO99Llt0AHm3+R0ZnAQLaG0lGwisZA1GWyoTX1zECROawuxtPRQD84osczFNVAoif5TFss2EDQl6wiFQzbQJ0h0vctx91AkFkj79Q04EBT9L0ihY3hQHZgsHkCD+NAkWWRz4ag5EACpmugjivmQOinhZXZo+dAcUVzfFIO6UDqDnhxRF3qQKv89UgJnetARaBSwhfn7EC13jHgtS/uQJdYmWTTWO9A28E9N5oy8ECyM+yg2qvwQKxCAcWAFfFAW6IeMx9j8UD/m2pj45jxQGRpxNxcuvFAnqwALT7J8UC5oGMIZsbxQKgbEYplsvFAHRRUgsON8UAbK4oZHVnxQPyVTBE0FfFAhlARAvPC8ECXMe7wa2PwQBJ0aUun7+9Asm/RPPYC70AXP1gFkAPuQBn9H2RZ9OxADpMNvkDY60BZVzgaL7LqQEgYf2v6hOlAbGaxkFlT6EAmE6I62h/nQNI4t+LY7OVAt+hx4Xq85EAv/L1+qpDjQKly/eQUa+JAZyZuxilN4UDxHiCDHDjgQE3omOLMWd5A\",\"dtype\":\"float64\",\"shape\":[54]}},\"selected\":{\"id\":\"128110\"},\"selection_policy\":{\"id\":\"128111\"}},\"id\":\"128075\",\"type\":\"ColumnDataSource\"},{\"attributes\":{\"fill_color\":{\"value\":\"purple\"},\"line_color\":{\"value\":\"purple\"},\"x\":{\"field\":\"x\"},\"y\":{\"field\":\"y\"}},\"id\":\"128142\",\"type\":\"Circle\"},{\"attributes\":{\"x\":{\"field\":\"x\"},\"y\":{\"field\":\"y\"}},\"id\":\"128095\",\"type\":\"Line\"},{\"attributes\":{\"active_drag\":\"auto\",\"active_inspect\":\"auto\",\"active_multi\":null,\"active_scroll\":\"auto\",\"active_tap\":\"auto\",\"tools\":[{\"id\":\"128046\"},{\"id\":\"128047\"},{\"id\":\"128048\"},{\"id\":\"128049\"},{\"id\":\"128050\"},{\"id\":\"128051\"}]},\"id\":\"128053\",\"type\":\"Toolbar\"},{\"attributes\":{},\"id\":\"128034\",\"type\":\"LinearScale\"},{\"attributes\":{\"source\":{\"id\":\"128141\"}},\"id\":\"128145\",\"type\":\"CDSView\"},{\"attributes\":{\"label\":{\"value\":\"Deceased\"},\"renderers\":[{\"id\":\"128097\"}]},\"id\":\"128113\",\"type\":\"LegendItem\"},{\"attributes\":{},\"id\":\"128030\",\"type\":\"DataRange1d\"},{\"attributes\":{\"line_alpha\":0.1,\"line_color\":\"red\",\"x\":{\"field\":\"x\"},\"y\":{\"field\":\"y\"}},\"id\":\"128077\",\"type\":\"Line\"},{\"attributes\":{\"data\":{\"x\":[0,1,2,3,4,5,6,7,8,9,10,11,12,13,14,15,16,17,18,19,20,21,22,23,24,25,26,27,28,29,30,31,32,33,34,35,36,37,38,39,40,41,42,43,44,45,46,47,48,49,50,51,52,53],\"y\":{\"__ndarray__\":\"Hazhmh6cnEBY8APjgyaaQBnoSGeBcJlAPYqXDkN7m0D5VL93+FqgQCUxxeM0u6RAqbFNbY28qkAm1vdKKwaxQKQFf+7bI7VA96PxxSKDuUBWWfCI6ve9QIl/UKG/MsFAhYDAZ7dfw0BLAvHN+YPFQEZ07fOZr8dA1QtWIoTuyUDxwymYcjzMQJyzVTXejc5AKFqk/jlt0EB0JuBSsIzRQJzjE9jeodJASrlJIuSv00DWyGnMmbrUQEeBMYyCvtVAEqbiCT621kCAE7ttHZ/XQImy+DhKd9hAIqikp/c42UA4zAiUbN7ZQN/tiDzpZdpAv2CZhmDP2kCZXv4wWxvbQJy6Fv2KSttABx/oJ6xd20CvcrOEhlXbQPmNYrH4MttAUW3e5AP32kDrlf2g1KLaQMuJeizHN9pAGI6V+Ge32UANlNCCcCPZQPxrAHTBfdhADy+dwlrI10CREnWRUgXXQJSxXWfLNtZARnN5V+pe1UD3H4uKzX/UQEpa8YGDm9NASoy7YgO00kC3bsJwJsvRQPOKBM6i4tBAQ/DJKg/4z0DnbtpzdDHOQEHiVk3qc8xA\",\"dtype\":\"float64\",\"shape\":[54]}},\"selected\":{\"id\":\"130068\"},\"selection_policy\":{\"id\":\"130069\"}},\"id\":\"128114\",\"type\":\"ColumnDataSource\"},{\"attributes\":{\"label\":{\"value\":\"Asymptomatic infected\"},\"renderers\":[{\"id\":\"128078\"}]},\"id\":\"128093\",\"type\":\"LegendItem\"},{\"attributes\":{\"dimension\":\"height\",\"line_width\":3,\"location\":28},\"id\":\"128146\",\"type\":\"Span\"},{\"attributes\":{\"data\":{\"x\":[0,1,2,3,4,5,6,7,8,9,10,11,12,13,14,15,16,17,18,19,20,21,22,23,24,25,26,27,28,29,30,31,32,33,34,35,36,37,38,39,40,41,42,43,44,45,46,47,48,49,50,51,52,53],\"y\":{\"__ndarray__\":\"AAAAAACAS0BS/JFh0yJXQAKbKq0N7l9AIA8NMO13ZECGUigdWJdpQC+BF7Jq6W9AAOcuvU8DdEA2CqNs6Dd5QNGJw90ExH9AYfjROGjjg0ChKa/bjKeIQKd7l9BWL45Ag/sPpyg8kkCzVRmFgL+VQENBxQNeoZlAL6h7mVTknUA0G6q/v0WhQMKEv5BAzKNAnkH/ZZGFpkBmeKdI8XCpQOulCUnWjKxAoJ+/VajXr0CzHAFuSaixQPtuKjpqe7NAlkaCDGBktUDSPrBd/mG3QEhjJyTrcrlAcvn0w4GVu0A3RE2Di8e9QBCICthBA8BADppFa+onwUAsoGwGeFDCQIXO2yqqe8NAHViePkioxEDWMYD1IdXFQBPgaAoQAcdA7XzFfPUqyEAfW2VAwVHJQNMNKzZwdMpA2HT4Pg+Sy0BdPh4/vanMQLLtj++sus1AHP+NYibEzkDhuDoriMXPQAkD0A0kX9BAVzQ/y/nW0EASnFO7F0rRQKAbgMlbuNFAl06U8q4h0kBlNmWyBIbSQMz8rlBa5dJAv8ZLFLY/00DJ0tlkJpXTQLyLVuHA5dNA\",\"dtype\":\"float64\",\"shape\":[54]}},\"selected\":{\"id\":\"128132\"},\"selection_policy\":{\"id\":\"128133\"}},\"id\":\"128094\",\"type\":\"ColumnDataSource\"},{\"attributes\":{\"data_source\":{\"id\":\"128075\"},\"glyph\":{\"id\":\"128076\"},\"hover_glyph\":null,\"muted_glyph\":null,\"nonselection_glyph\":{\"id\":\"128077\"},\"selection_glyph\":null,\"view\":{\"id\":\"128079\"}},\"id\":\"128078\",\"type\":\"GlyphRenderer\"},{\"attributes\":{\"data\":{\"x\":[0,1,2,3,4,5,6,7,8,9,10,11,12,13,14,15,16,17,18,19,20,21,22,23,24,25,26,27,28,29,30,31,32,33,34,35,36,37,38,39,40,41,42,43,44,45,46,47,48,49,50,51,52,53],\"y1\":{\"__ndarray__\":\"nd9vh4Ruq0AktIwVQnmqQFW1xaBIxLBAHmeEoBG8tkDKIEcaqB2/QEUwHLOCuMRAK49xSrcsykA0/rJlG5PPQIp2Dk9MTNJAkHGAzOWa1ECwxoA9a6bWQOFaGr7KiNhAGqwsjWxO2kB929LKKhzcQGkNYF4aI95AiNAQGLAb4EDI3WAmVBvhQACl2yvtB+JA9mVOuTzm4kBEOB3e/6zjQHJZiQGPZuRA5Bf/znEm5UBUYQ8YiuTlQD5DVx/ji+ZA2jfxCrUf50CFjkuGraPnQJWnlxgNF+hAiCIhwvNm6EBe13BkNZroQBYICbxztuhAtKsBUETD6EAa2b6cXMHoQIE897b4oehALDRWj41o6ECJiydiJB/oQPOwDbSMxudAMMCKH65f50Ds9weA+O3mQEpeI7WJb+ZA4e+nrY7l5UDPmdvMI3jlQPT+Zfax3uRAbviHG5Q95EDuWcj1C5bjQCBCSblY6eJANrPNMhM24kDxCgFXm27hQI/ClyHIpuBAsDAKpYa/30D4TBb7zUHeQImHJmt78txA75YFNCan20BKMwTQ2EPaQMnhV6YCvNhA\",\"dtype\":\"float64\",\"shape\":[54]},\"y2\":{\"__ndarray__\":\"nd9vh4Ruq0AUDBQruk2rQGHhOpHqx7FAnbiCiPfmuECSirTL2ITBQDZ2F3qxFshAGb4DcDxBz0CtejAiEG7TQBgjVvlZPtdAB2Ck6g732kCsoYocBXveQPp9kj5B7eBA+LUY1FeV4kAh21jtN1fkQDzyL5NxRuZAyJRZK2dM6EBDH+eWWk/qQKCw2/DZSOxAlQLOPu8z7kBRjjpNfg7wQL6R3P1F/fBA9o4wv/ry8UA7Esye3NXyQBSfCagJvvNAKdF3yCuR9EDWr8MVU1P1QEUQFUpM8/VAhcWNbxNn9kAlx0Qd/ab2QDE1AqXkxPZAsFBMnq249kDYlp/SA5T2QG4a9GimfvZARkswLAlN9kCN+qTBD/v1QEJ6oCE9kfVAFAgcMUwM9UBmSga+I2n0QI38ev2BqvNAuxQD/znT8kBDw7QDKxryQDDTao5mbfFAcTv18s2t8EB+tcOgLervQMcscDmSSO5AzMUNcop57EBxGAd5Dc7qQIuj7+vw8ehAsh6EROgu50CPNwMHqu7lQNBk7vHqtuRAQA1YUCZV40AbcE2KZAriQIjBIjE3w+BA\",\"dtype\":\"float64\",\"shape\":[54]}},\"selected\":{\"id\":\"128085\"},\"selection_policy\":{\"id\":\"128086\"}},\"id\":\"128060\",\"type\":\"ColumnDataSource\"},{\"attributes\":{\"line_alpha\":0.1,\"line_color\":\"purple\",\"x\":{\"field\":\"x\"},\"y\":{\"field\":\"y\"}},\"id\":\"128116\",\"type\":\"Line\"},{\"attributes\":{\"line_color\":\"purple\",\"x\":{\"field\":\"x\"},\"y\":{\"field\":\"y\"}},\"id\":\"128115\",\"type\":\"Line\"},{\"attributes\":{},\"id\":\"130068\",\"type\":\"Selection\"},{\"attributes\":{\"items\":[{\"id\":\"128093\"},{\"id\":\"128113\"},{\"id\":\"128135\"}],\"location\":\"top_left\"},\"id\":\"128092\",\"type\":\"Legend\"},{\"attributes\":{\"source\":{\"id\":\"128075\"}},\"id\":\"128079\",\"type\":\"CDSView\"},{\"attributes\":{\"bottom_units\":\"screen\",\"fill_alpha\":0.5,\"fill_color\":\"lightgrey\",\"left_units\":\"screen\",\"level\":\"overlay\",\"line_alpha\":1.0,\"line_color\":\"black\",\"line_dash\":[4,4],\"line_width\":2,\"render_mode\":\"css\",\"right_units\":\"screen\",\"top_units\":\"screen\"},\"id\":\"128052\",\"type\":\"BoxAnnotation\"}],\"root_ids\":[\"128027\"]},\"title\":\"Bokeh Application\",\"version\":\"2.0.1\"}};\n",
       "  var render_items = [{\"docid\":\"7db9b75c-6ae1-45af-8886-241a13dfab81\",\"root_ids\":[\"128027\"],\"roots\":{\"128027\":\"05c40abb-c559-4bfb-8e4f-7030a265659a\"}}];\n",
       "  root.Bokeh.embed.embed_items_notebook(docs_json, render_items);\n",
       "\n",
       "  }\n",
       "  if (root.Bokeh !== undefined) {\n",
       "    embed_document(root);\n",
       "  } else {\n",
       "    var attempts = 0;\n",
       "    var timer = setInterval(function(root) {\n",
       "      if (root.Bokeh !== undefined) {\n",
       "        clearInterval(timer);\n",
       "        embed_document(root);\n",
       "      } else {\n",
       "        attempts++;\n",
       "        if (attempts > 100) {\n",
       "          clearInterval(timer);\n",
       "          console.log(\"Bokeh: ERROR: Unable to run BokehJS code because BokehJS library is missing\");\n",
       "        }\n",
       "      }\n",
       "    }, 10, root)\n",
       "  }\n",
       "})(window);"
      ],
      "application/vnd.bokehjs_exec.v0+json": ""
     },
     "metadata": {
      "application/vnd.bokehjs_exec.v0+json": {
       "id": "128027"
      }
     },
     "output_type": "display_data"
    }
   ],
   "source": [
    "start = 16\n",
    "step = 4\n",
    "ind = 0\n",
    "results = []\n",
    "one_more = False\n",
    "while start + ind*step <= 28:\n",
    "    boundary = start + ind*step\n",
    "    res = least_squares(fit_leastsq_z, guesses, args=(select_region(df, 'Lombardia')[:boundary],), bounds=np.transpose(np.array(ranges)))\n",
    "    plot_with_errors_sample_z(res, params, initial_conditions, df, 'Lombardia', extrapolate=2, boundary=boundary, plot_infectious=True)\n",
    "    ind += 1"
   ]
  },
  {
   "cell_type": "markdown",
   "metadata": {},
   "source": [
    "Just like SEIR-QD, the predictions of cases aren't so great, although the predictions of fatalaties (which matters more and has less data bias) is reasonably accurate. The model also produces prediction that around 2/3 of the cases are asymptomatic (or at least not tested). This corresponds roughly to some recent studies, such as the 50-75% number reported after testing an entire town of 3,300 in Italy (https://www.repubblica.it/salute/medicina-e-ricerca/2020/03/16/news/coronavirus_studio_il_50-75_dei_casi_a_vo_sono_asintomatici_e_molto_contagiosi-251474302/?ref=RHPPTP-BH-I251454518-C12-P3-S2.4-T1) and similar results in Iceland (https://www.government.is/news/article/2020/03/15/Large-scale-testing-of-general-population-in-Iceland-underway/)."
   ]
  },
  {
   "cell_type": "code",
   "execution_count": null,
   "metadata": {},
   "outputs": [],
   "source": []
  }
 ],
 "metadata": {
  "kernelspec": {
   "display_name": "Python 3",
   "language": "python",
   "name": "python3"
  },
  "language_info": {
   "codemirror_mode": {
    "name": "ipython",
    "version": 3
   },
   "file_extension": ".py",
   "mimetype": "text/x-python",
   "name": "python",
   "nbconvert_exporter": "python",
   "pygments_lexer": "ipython3",
   "version": "3.6.8"
  }
 },
 "nbformat": 4,
 "nbformat_minor": 4
}
